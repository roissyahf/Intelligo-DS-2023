{
 "cells": [
  {
   "cell_type": "code",
   "execution_count": 1,
   "metadata": {
    "_cell_guid": "b1076dfc-b9ad-4769-8c92-a6c4dae69d19",
    "_uuid": "8f2839f25d086af736a60e9eeb907d3b93b6e0e5",
    "execution": {
     "iopub.execute_input": "2023-09-30T13:22:42.804874Z",
     "iopub.status.busy": "2023-09-30T13:22:42.804617Z",
     "iopub.status.idle": "2023-09-30T13:22:44.464417Z",
     "shell.execute_reply": "2023-09-30T13:22:44.463474Z",
     "shell.execute_reply.started": "2023-09-30T13:22:42.804850Z"
    }
   },
   "outputs": [
    {
     "name": "stderr",
     "output_type": "stream",
     "text": [
      "/opt/conda/lib/python3.10/site-packages/scipy/__init__.py:146: UserWarning: A NumPy version >=1.16.5 and <1.23.0 is required for this version of SciPy (detected version 1.23.5\n",
      "  warnings.warn(f\"A NumPy version >={np_minversion} and <{np_maxversion}\"\n"
     ]
    },
    {
     "name": "stdout",
     "output_type": "stream",
     "text": [
      "/kaggle/input/private-preliminary-data-intelligo/sample_submission.csv\n",
      "/kaggle/input/private-preliminary-data-intelligo/test_order_id.csv\n",
      "/kaggle/input/private-preliminary-data-intelligo/test/df_Orders.csv\n",
      "/kaggle/input/private-preliminary-data-intelligo/test/df_Customers.csv\n",
      "/kaggle/input/private-preliminary-data-intelligo/test/df_Products.csv\n",
      "/kaggle/input/private-preliminary-data-intelligo/test/df_Payments.csv\n",
      "/kaggle/input/private-preliminary-data-intelligo/test/df_OrderItems.csv\n",
      "/kaggle/input/private-preliminary-data-intelligo/train/df_Orders.csv\n",
      "/kaggle/input/private-preliminary-data-intelligo/train/df_Customers.csv\n",
      "/kaggle/input/private-preliminary-data-intelligo/train/df_Products.csv\n",
      "/kaggle/input/private-preliminary-data-intelligo/train/df_Payments.csv\n",
      "/kaggle/input/private-preliminary-data-intelligo/train/df_OrderItems.csv\n"
     ]
    }
   ],
   "source": [
    "import numpy as np \n",
    "import pandas as pd\n",
    "from functools import reduce\n",
    "import seaborn as sns\n",
    "import matplotlib.pyplot as plt\n",
    "\n",
    "import os\n",
    "for dirname, _, filenames in os.walk('/kaggle/input'):\n",
    "    for filename in filenames:\n",
    "        print(os.path.join(dirname, filename))"
   ]
  },
  {
   "cell_type": "code",
   "execution_count": 2,
   "metadata": {
    "execution": {
     "iopub.execute_input": "2023-09-30T13:22:53.880771Z",
     "iopub.status.busy": "2023-09-30T13:22:53.880347Z",
     "iopub.status.idle": "2023-09-30T13:22:54.998612Z",
     "shell.execute_reply": "2023-09-30T13:22:54.997597Z",
     "shell.execute_reply.started": "2023-09-30T13:22:53.880742Z"
    }
   },
   "outputs": [],
   "source": [
    "# read multiple csv files\n",
    "orders_train = pd.read_csv('/kaggle/input/private-preliminary-data-intelligo/train/df_Orders.csv')\n",
    "customers_train = pd.read_csv('/kaggle/input/private-preliminary-data-intelligo/train/df_Customers.csv')\n",
    "products_train = pd.read_csv('/kaggle/input/private-preliminary-data-intelligo/train/df_Products.csv')\n",
    "payments_train = pd.read_csv('/kaggle/input/private-preliminary-data-intelligo/train/df_Payments.csv')\n",
    "orderitems_train = pd.read_csv('/kaggle/input/private-preliminary-data-intelligo/train/df_OrderItems.csv')\n",
    "\n",
    "orders_test = pd.read_csv('/kaggle/input/private-preliminary-data-intelligo/test/df_Orders.csv')\n",
    "customers_test = pd.read_csv('/kaggle/input/private-preliminary-data-intelligo/test/df_Customers.csv')\n",
    "products_test = pd.read_csv('/kaggle/input/private-preliminary-data-intelligo/test/df_Products.csv')\n",
    "payments_test = pd.read_csv('/kaggle/input/private-preliminary-data-intelligo/test/df_Payments.csv')\n",
    "orderitems_test = pd.read_csv('/kaggle/input/private-preliminary-data-intelligo/test/df_OrderItems.csv')"
   ]
  },
  {
   "cell_type": "markdown",
   "metadata": {},
   "source": [
    "# Data Exploration"
   ]
  },
  {
   "cell_type": "markdown",
   "metadata": {},
   "source": [
    "### Orders"
   ]
  },
  {
   "cell_type": "code",
   "execution_count": 3,
   "metadata": {
    "execution": {
     "iopub.execute_input": "2023-09-28T14:32:21.513251Z",
     "iopub.status.busy": "2023-09-28T14:32:21.512841Z",
     "iopub.status.idle": "2023-09-28T14:32:21.532212Z",
     "shell.execute_reply": "2023-09-28T14:32:21.531226Z",
     "shell.execute_reply.started": "2023-09-28T14:32:21.513224Z"
    }
   },
   "outputs": [
    {
     "data": {
      "text/html": [
       "<div>\n",
       "<style scoped>\n",
       "    .dataframe tbody tr th:only-of-type {\n",
       "        vertical-align: middle;\n",
       "    }\n",
       "\n",
       "    .dataframe tbody tr th {\n",
       "        vertical-align: top;\n",
       "    }\n",
       "\n",
       "    .dataframe thead th {\n",
       "        text-align: right;\n",
       "    }\n",
       "</style>\n",
       "<table border=\"1\" class=\"dataframe\">\n",
       "  <thead>\n",
       "    <tr style=\"text-align: right;\">\n",
       "      <th></th>\n",
       "      <th>order_id</th>\n",
       "      <th>customer_id</th>\n",
       "      <th>order_status</th>\n",
       "      <th>order_purchase_timestamp</th>\n",
       "      <th>order_approved_at</th>\n",
       "      <th>order_delivered_timestamp</th>\n",
       "      <th>order_estimated_delivery_date</th>\n",
       "    </tr>\n",
       "  </thead>\n",
       "  <tbody>\n",
       "    <tr>\n",
       "      <th>0</th>\n",
       "      <td>Axfy13Hk4PIk</td>\n",
       "      <td>hCT0x9JiGXBQ</td>\n",
       "      <td>delivered</td>\n",
       "      <td>2017-10-22 18:57:54</td>\n",
       "      <td>2017-10-22 19:14:13</td>\n",
       "      <td>2017-10-26 22:19:52</td>\n",
       "      <td>2017-11-09</td>\n",
       "    </tr>\n",
       "    <tr>\n",
       "      <th>1</th>\n",
       "      <td>v6px92oS8cLG</td>\n",
       "      <td>PxA7fv9spyhx</td>\n",
       "      <td>delivered</td>\n",
       "      <td>2018-06-20 21:40:31</td>\n",
       "      <td>2018-06-20 22:20:20</td>\n",
       "      <td>2018-07-03 22:51:22</td>\n",
       "      <td>2018-07-24</td>\n",
       "    </tr>\n",
       "    <tr>\n",
       "      <th>2</th>\n",
       "      <td>Ulpf9skrhjfm</td>\n",
       "      <td>g3nXeJkGI0Qw</td>\n",
       "      <td>delivered</td>\n",
       "      <td>2018-02-16 16:19:31</td>\n",
       "      <td>2018-02-17 16:15:35</td>\n",
       "      <td>2018-02-27 01:29:50</td>\n",
       "      <td>2018-03-08</td>\n",
       "    </tr>\n",
       "    <tr>\n",
       "      <th>3</th>\n",
       "      <td>bwJVWupf2keN</td>\n",
       "      <td>EOEsCQ6QlpIg</td>\n",
       "      <td>delivered</td>\n",
       "      <td>2018-08-18 18:04:29</td>\n",
       "      <td>2018-08-18 18:15:16</td>\n",
       "      <td>2018-08-27 20:03:51</td>\n",
       "      <td>2018-09-19</td>\n",
       "    </tr>\n",
       "    <tr>\n",
       "      <th>4</th>\n",
       "      <td>Dd0QnrMk9Cj5</td>\n",
       "      <td>mVz5LO2Vd6cL</td>\n",
       "      <td>delivered</td>\n",
       "      <td>2017-12-22 16:44:04</td>\n",
       "      <td>2017-12-22 17:31:31</td>\n",
       "      <td>2018-01-05 19:22:49</td>\n",
       "      <td>2018-01-18</td>\n",
       "    </tr>\n",
       "  </tbody>\n",
       "</table>\n",
       "</div>"
      ],
      "text/plain": [
       "       order_id   customer_id order_status order_purchase_timestamp  \\\n",
       "0  Axfy13Hk4PIk  hCT0x9JiGXBQ    delivered      2017-10-22 18:57:54   \n",
       "1  v6px92oS8cLG  PxA7fv9spyhx    delivered      2018-06-20 21:40:31   \n",
       "2  Ulpf9skrhjfm  g3nXeJkGI0Qw    delivered      2018-02-16 16:19:31   \n",
       "3  bwJVWupf2keN  EOEsCQ6QlpIg    delivered      2018-08-18 18:04:29   \n",
       "4  Dd0QnrMk9Cj5  mVz5LO2Vd6cL    delivered      2017-12-22 16:44:04   \n",
       "\n",
       "     order_approved_at order_delivered_timestamp order_estimated_delivery_date  \n",
       "0  2017-10-22 19:14:13       2017-10-26 22:19:52                    2017-11-09  \n",
       "1  2018-06-20 22:20:20       2018-07-03 22:51:22                    2018-07-24  \n",
       "2  2018-02-17 16:15:35       2018-02-27 01:29:50                    2018-03-08  \n",
       "3  2018-08-18 18:15:16       2018-08-27 20:03:51                    2018-09-19  \n",
       "4  2017-12-22 17:31:31       2018-01-05 19:22:49                    2018-01-18  "
      ]
     },
     "execution_count": 3,
     "metadata": {},
     "output_type": "execute_result"
    }
   ],
   "source": [
    "orders_train.head()"
   ]
  },
  {
   "cell_type": "code",
   "execution_count": 4,
   "metadata": {
    "execution": {
     "iopub.execute_input": "2023-09-28T14:32:24.228128Z",
     "iopub.status.busy": "2023-09-28T14:32:24.227583Z",
     "iopub.status.idle": "2023-09-28T14:32:24.238441Z",
     "shell.execute_reply": "2023-09-28T14:32:24.236593Z",
     "shell.execute_reply.started": "2023-09-28T14:32:24.228096Z"
    }
   },
   "outputs": [
    {
     "data": {
      "text/html": [
       "<div>\n",
       "<style scoped>\n",
       "    .dataframe tbody tr th:only-of-type {\n",
       "        vertical-align: middle;\n",
       "    }\n",
       "\n",
       "    .dataframe tbody tr th {\n",
       "        vertical-align: top;\n",
       "    }\n",
       "\n",
       "    .dataframe thead th {\n",
       "        text-align: right;\n",
       "    }\n",
       "</style>\n",
       "<table border=\"1\" class=\"dataframe\">\n",
       "  <thead>\n",
       "    <tr style=\"text-align: right;\">\n",
       "      <th></th>\n",
       "      <th>order_id</th>\n",
       "      <th>customer_id</th>\n",
       "      <th>order_purchase_timestamp</th>\n",
       "      <th>order_approved_at</th>\n",
       "    </tr>\n",
       "  </thead>\n",
       "  <tbody>\n",
       "    <tr>\n",
       "      <th>0</th>\n",
       "      <td>u6rPMRAYIGig</td>\n",
       "      <td>I74lXDOfoqsp</td>\n",
       "      <td>2017-11-18 12:29:57</td>\n",
       "      <td>2017-11-18 12:46:08</td>\n",
       "    </tr>\n",
       "    <tr>\n",
       "      <th>1</th>\n",
       "      <td>ohY8f4FEbX19</td>\n",
       "      <td>47TuLHF2s7X5</td>\n",
       "      <td>2018-06-02 17:13:12</td>\n",
       "      <td>2018-06-02 20:12:23</td>\n",
       "    </tr>\n",
       "    <tr>\n",
       "      <th>2</th>\n",
       "      <td>I28liQek73i2</td>\n",
       "      <td>dQ0dqI8Qwlj8</td>\n",
       "      <td>2018-01-08 11:01:30</td>\n",
       "      <td>2018-01-09 07:24:03</td>\n",
       "    </tr>\n",
       "    <tr>\n",
       "      <th>3</th>\n",
       "      <td>bBG1T89mlY8W</td>\n",
       "      <td>iQCmWhNkIczb</td>\n",
       "      <td>2017-03-10 10:24:46</td>\n",
       "      <td>2017-03-10 10:24:46</td>\n",
       "    </tr>\n",
       "    <tr>\n",
       "      <th>4</th>\n",
       "      <td>CYxJJSQS8Lbo</td>\n",
       "      <td>Dp2g6JH8tO5Z</td>\n",
       "      <td>2017-12-02 10:04:07</td>\n",
       "      <td>2017-12-05 04:13:30</td>\n",
       "    </tr>\n",
       "  </tbody>\n",
       "</table>\n",
       "</div>"
      ],
      "text/plain": [
       "       order_id   customer_id order_purchase_timestamp    order_approved_at\n",
       "0  u6rPMRAYIGig  I74lXDOfoqsp      2017-11-18 12:29:57  2017-11-18 12:46:08\n",
       "1  ohY8f4FEbX19  47TuLHF2s7X5      2018-06-02 17:13:12  2018-06-02 20:12:23\n",
       "2  I28liQek73i2  dQ0dqI8Qwlj8      2018-01-08 11:01:30  2018-01-09 07:24:03\n",
       "3  bBG1T89mlY8W  iQCmWhNkIczb      2017-03-10 10:24:46  2017-03-10 10:24:46\n",
       "4  CYxJJSQS8Lbo  Dp2g6JH8tO5Z      2017-12-02 10:04:07  2017-12-05 04:13:30"
      ]
     },
     "execution_count": 4,
     "metadata": {},
     "output_type": "execute_result"
    }
   ],
   "source": [
    "orders_test.head()"
   ]
  },
  {
   "cell_type": "code",
   "execution_count": 3,
   "metadata": {
    "execution": {
     "iopub.execute_input": "2023-09-29T05:02:52.812790Z",
     "iopub.status.busy": "2023-09-29T05:02:52.811542Z",
     "iopub.status.idle": "2023-09-29T05:02:52.818907Z",
     "shell.execute_reply": "2023-09-29T05:02:52.817725Z",
     "shell.execute_reply.started": "2023-09-29T05:02:52.812735Z"
    }
   },
   "outputs": [
    {
     "name": "stdout",
     "output_type": "stream",
     "text": [
      "(89316, 7) (38279, 4)\n"
     ]
    }
   ],
   "source": [
    "print(orders_train.shape, orders_test.shape)"
   ]
  },
  {
   "cell_type": "markdown",
   "metadata": {},
   "source": [
    "### Customers"
   ]
  },
  {
   "cell_type": "code",
   "execution_count": 5,
   "metadata": {
    "execution": {
     "iopub.execute_input": "2023-09-28T14:32:27.934990Z",
     "iopub.status.busy": "2023-09-28T14:32:27.934558Z",
     "iopub.status.idle": "2023-09-28T14:32:27.946022Z",
     "shell.execute_reply": "2023-09-28T14:32:27.944215Z",
     "shell.execute_reply.started": "2023-09-28T14:32:27.934956Z"
    }
   },
   "outputs": [
    {
     "data": {
      "text/html": [
       "<div>\n",
       "<style scoped>\n",
       "    .dataframe tbody tr th:only-of-type {\n",
       "        vertical-align: middle;\n",
       "    }\n",
       "\n",
       "    .dataframe tbody tr th {\n",
       "        vertical-align: top;\n",
       "    }\n",
       "\n",
       "    .dataframe thead th {\n",
       "        text-align: right;\n",
       "    }\n",
       "</style>\n",
       "<table border=\"1\" class=\"dataframe\">\n",
       "  <thead>\n",
       "    <tr style=\"text-align: right;\">\n",
       "      <th></th>\n",
       "      <th>customer_id</th>\n",
       "      <th>customer_zip_code_prefix</th>\n",
       "      <th>customer_city</th>\n",
       "      <th>customer_state</th>\n",
       "    </tr>\n",
       "  </thead>\n",
       "  <tbody>\n",
       "    <tr>\n",
       "      <th>0</th>\n",
       "      <td>hCT0x9JiGXBQ</td>\n",
       "      <td>58125</td>\n",
       "      <td>varzea paulista</td>\n",
       "      <td>SP</td>\n",
       "    </tr>\n",
       "    <tr>\n",
       "      <th>1</th>\n",
       "      <td>PxA7fv9spyhx</td>\n",
       "      <td>3112</td>\n",
       "      <td>armacao dos buzios</td>\n",
       "      <td>RJ</td>\n",
       "    </tr>\n",
       "    <tr>\n",
       "      <th>2</th>\n",
       "      <td>g3nXeJkGI0Qw</td>\n",
       "      <td>4119</td>\n",
       "      <td>jandira</td>\n",
       "      <td>SP</td>\n",
       "    </tr>\n",
       "    <tr>\n",
       "      <th>3</th>\n",
       "      <td>EOEsCQ6QlpIg</td>\n",
       "      <td>18212</td>\n",
       "      <td>uberlandia</td>\n",
       "      <td>MG</td>\n",
       "    </tr>\n",
       "    <tr>\n",
       "      <th>4</th>\n",
       "      <td>mVz5LO2Vd6cL</td>\n",
       "      <td>88868</td>\n",
       "      <td>ilhabela</td>\n",
       "      <td>SP</td>\n",
       "    </tr>\n",
       "  </tbody>\n",
       "</table>\n",
       "</div>"
      ],
      "text/plain": [
       "    customer_id  customer_zip_code_prefix       customer_city customer_state\n",
       "0  hCT0x9JiGXBQ                     58125     varzea paulista             SP\n",
       "1  PxA7fv9spyhx                      3112  armacao dos buzios             RJ\n",
       "2  g3nXeJkGI0Qw                      4119             jandira             SP\n",
       "3  EOEsCQ6QlpIg                     18212          uberlandia             MG\n",
       "4  mVz5LO2Vd6cL                     88868            ilhabela             SP"
      ]
     },
     "execution_count": 5,
     "metadata": {},
     "output_type": "execute_result"
    }
   ],
   "source": [
    "customers_train.head()"
   ]
  },
  {
   "cell_type": "code",
   "execution_count": 6,
   "metadata": {
    "execution": {
     "iopub.execute_input": "2023-09-28T14:32:37.881891Z",
     "iopub.status.busy": "2023-09-28T14:32:37.881468Z",
     "iopub.status.idle": "2023-09-28T14:32:37.893065Z",
     "shell.execute_reply": "2023-09-28T14:32:37.891796Z",
     "shell.execute_reply.started": "2023-09-28T14:32:37.881861Z"
    }
   },
   "outputs": [
    {
     "data": {
      "text/html": [
       "<div>\n",
       "<style scoped>\n",
       "    .dataframe tbody tr th:only-of-type {\n",
       "        vertical-align: middle;\n",
       "    }\n",
       "\n",
       "    .dataframe tbody tr th {\n",
       "        vertical-align: top;\n",
       "    }\n",
       "\n",
       "    .dataframe thead th {\n",
       "        text-align: right;\n",
       "    }\n",
       "</style>\n",
       "<table border=\"1\" class=\"dataframe\">\n",
       "  <thead>\n",
       "    <tr style=\"text-align: right;\">\n",
       "      <th></th>\n",
       "      <th>customer_id</th>\n",
       "      <th>customer_zip_code_prefix</th>\n",
       "      <th>customer_city</th>\n",
       "      <th>customer_state</th>\n",
       "    </tr>\n",
       "  </thead>\n",
       "  <tbody>\n",
       "    <tr>\n",
       "      <th>0</th>\n",
       "      <td>I74lXDOfoqsp</td>\n",
       "      <td>6020</td>\n",
       "      <td>goiania</td>\n",
       "      <td>GO</td>\n",
       "    </tr>\n",
       "    <tr>\n",
       "      <th>1</th>\n",
       "      <td>47TuLHF2s7X5</td>\n",
       "      <td>23020</td>\n",
       "      <td>viamao</td>\n",
       "      <td>RS</td>\n",
       "    </tr>\n",
       "    <tr>\n",
       "      <th>2</th>\n",
       "      <td>dQ0dqI8Qwlj8</td>\n",
       "      <td>75094</td>\n",
       "      <td>campinas</td>\n",
       "      <td>SP</td>\n",
       "    </tr>\n",
       "    <tr>\n",
       "      <th>3</th>\n",
       "      <td>iQCmWhNkIczb</td>\n",
       "      <td>89284</td>\n",
       "      <td>santana de parnaiba</td>\n",
       "      <td>SP</td>\n",
       "    </tr>\n",
       "    <tr>\n",
       "      <th>4</th>\n",
       "      <td>Dp2g6JH8tO5Z</td>\n",
       "      <td>39810</td>\n",
       "      <td>aripuana</td>\n",
       "      <td>MT</td>\n",
       "    </tr>\n",
       "  </tbody>\n",
       "</table>\n",
       "</div>"
      ],
      "text/plain": [
       "    customer_id  customer_zip_code_prefix        customer_city customer_state\n",
       "0  I74lXDOfoqsp                      6020              goiania             GO\n",
       "1  47TuLHF2s7X5                     23020               viamao             RS\n",
       "2  dQ0dqI8Qwlj8                     75094             campinas             SP\n",
       "3  iQCmWhNkIczb                     89284  santana de parnaiba             SP\n",
       "4  Dp2g6JH8tO5Z                     39810             aripuana             MT"
      ]
     },
     "execution_count": 6,
     "metadata": {},
     "output_type": "execute_result"
    }
   ],
   "source": [
    "customers_test.head()"
   ]
  },
  {
   "cell_type": "code",
   "execution_count": 20,
   "metadata": {
    "execution": {
     "iopub.execute_input": "2023-09-28T14:35:41.595945Z",
     "iopub.status.busy": "2023-09-28T14:35:41.595603Z",
     "iopub.status.idle": "2023-09-28T14:35:41.601315Z",
     "shell.execute_reply": "2023-09-28T14:35:41.600027Z",
     "shell.execute_reply.started": "2023-09-28T14:35:41.595917Z"
    }
   },
   "outputs": [
    {
     "name": "stdout",
     "output_type": "stream",
     "text": [
      "(89316, 4) (38279, 4)\n"
     ]
    }
   ],
   "source": [
    "print(customers_train.shape, customers_test.shape)"
   ]
  },
  {
   "cell_type": "markdown",
   "metadata": {},
   "source": [
    "### Products"
   ]
  },
  {
   "cell_type": "code",
   "execution_count": 7,
   "metadata": {
    "execution": {
     "iopub.execute_input": "2023-09-28T14:32:41.425976Z",
     "iopub.status.busy": "2023-09-28T14:32:41.425459Z",
     "iopub.status.idle": "2023-09-28T14:32:41.441820Z",
     "shell.execute_reply": "2023-09-28T14:32:41.439905Z",
     "shell.execute_reply.started": "2023-09-28T14:32:41.425942Z"
    }
   },
   "outputs": [
    {
     "data": {
      "text/html": [
       "<div>\n",
       "<style scoped>\n",
       "    .dataframe tbody tr th:only-of-type {\n",
       "        vertical-align: middle;\n",
       "    }\n",
       "\n",
       "    .dataframe tbody tr th {\n",
       "        vertical-align: top;\n",
       "    }\n",
       "\n",
       "    .dataframe thead th {\n",
       "        text-align: right;\n",
       "    }\n",
       "</style>\n",
       "<table border=\"1\" class=\"dataframe\">\n",
       "  <thead>\n",
       "    <tr style=\"text-align: right;\">\n",
       "      <th></th>\n",
       "      <th>product_id</th>\n",
       "      <th>product_category_name</th>\n",
       "      <th>product_weight_g</th>\n",
       "      <th>product_length_cm</th>\n",
       "      <th>product_height_cm</th>\n",
       "      <th>product_width_cm</th>\n",
       "    </tr>\n",
       "  </thead>\n",
       "  <tbody>\n",
       "    <tr>\n",
       "      <th>0</th>\n",
       "      <td>90K0C1fIyQUf</td>\n",
       "      <td>toys</td>\n",
       "      <td>491.0</td>\n",
       "      <td>19.0</td>\n",
       "      <td>12.0</td>\n",
       "      <td>16.0</td>\n",
       "    </tr>\n",
       "    <tr>\n",
       "      <th>1</th>\n",
       "      <td>qejhpMGGVcsl</td>\n",
       "      <td>watches_gifts</td>\n",
       "      <td>440.0</td>\n",
       "      <td>18.0</td>\n",
       "      <td>14.0</td>\n",
       "      <td>17.0</td>\n",
       "    </tr>\n",
       "    <tr>\n",
       "      <th>2</th>\n",
       "      <td>qUS5d2pEAyxJ</td>\n",
       "      <td>costruction_tools_garden</td>\n",
       "      <td>2200.0</td>\n",
       "      <td>16.0</td>\n",
       "      <td>16.0</td>\n",
       "      <td>16.0</td>\n",
       "    </tr>\n",
       "    <tr>\n",
       "      <th>3</th>\n",
       "      <td>639iGvMyv0De</td>\n",
       "      <td>toys</td>\n",
       "      <td>1450.0</td>\n",
       "      <td>68.0</td>\n",
       "      <td>3.0</td>\n",
       "      <td>48.0</td>\n",
       "    </tr>\n",
       "    <tr>\n",
       "      <th>4</th>\n",
       "      <td>1lycYGcsic2F</td>\n",
       "      <td>toys</td>\n",
       "      <td>300.0</td>\n",
       "      <td>17.0</td>\n",
       "      <td>4.0</td>\n",
       "      <td>12.0</td>\n",
       "    </tr>\n",
       "  </tbody>\n",
       "</table>\n",
       "</div>"
      ],
      "text/plain": [
       "     product_id     product_category_name  product_weight_g  \\\n",
       "0  90K0C1fIyQUf                      toys             491.0   \n",
       "1  qejhpMGGVcsl             watches_gifts             440.0   \n",
       "2  qUS5d2pEAyxJ  costruction_tools_garden            2200.0   \n",
       "3  639iGvMyv0De                      toys            1450.0   \n",
       "4  1lycYGcsic2F                      toys             300.0   \n",
       "\n",
       "   product_length_cm  product_height_cm  product_width_cm  \n",
       "0               19.0               12.0              16.0  \n",
       "1               18.0               14.0              17.0  \n",
       "2               16.0               16.0              16.0  \n",
       "3               68.0                3.0              48.0  \n",
       "4               17.0                4.0              12.0  "
      ]
     },
     "execution_count": 7,
     "metadata": {},
     "output_type": "execute_result"
    }
   ],
   "source": [
    "products_train.head()"
   ]
  },
  {
   "cell_type": "code",
   "execution_count": 8,
   "metadata": {
    "execution": {
     "iopub.execute_input": "2023-09-28T14:32:44.289726Z",
     "iopub.status.busy": "2023-09-28T14:32:44.289355Z",
     "iopub.status.idle": "2023-09-28T14:32:44.306855Z",
     "shell.execute_reply": "2023-09-28T14:32:44.305371Z",
     "shell.execute_reply.started": "2023-09-28T14:32:44.289698Z"
    }
   },
   "outputs": [
    {
     "data": {
      "text/html": [
       "<div>\n",
       "<style scoped>\n",
       "    .dataframe tbody tr th:only-of-type {\n",
       "        vertical-align: middle;\n",
       "    }\n",
       "\n",
       "    .dataframe tbody tr th {\n",
       "        vertical-align: top;\n",
       "    }\n",
       "\n",
       "    .dataframe thead th {\n",
       "        text-align: right;\n",
       "    }\n",
       "</style>\n",
       "<table border=\"1\" class=\"dataframe\">\n",
       "  <thead>\n",
       "    <tr style=\"text-align: right;\">\n",
       "      <th></th>\n",
       "      <th>product_id</th>\n",
       "      <th>product_category_name</th>\n",
       "      <th>product_weight_g</th>\n",
       "      <th>product_length_cm</th>\n",
       "      <th>product_height_cm</th>\n",
       "      <th>product_width_cm</th>\n",
       "    </tr>\n",
       "  </thead>\n",
       "  <tbody>\n",
       "    <tr>\n",
       "      <th>0</th>\n",
       "      <td>1slxdgbgWFax</td>\n",
       "      <td>toys</td>\n",
       "      <td>50.0</td>\n",
       "      <td>16.0</td>\n",
       "      <td>5.0</td>\n",
       "      <td>11.0</td>\n",
       "    </tr>\n",
       "    <tr>\n",
       "      <th>1</th>\n",
       "      <td>77PgsiElQLeB</td>\n",
       "      <td>electronics</td>\n",
       "      <td>200.0</td>\n",
       "      <td>21.0</td>\n",
       "      <td>7.0</td>\n",
       "      <td>14.0</td>\n",
       "    </tr>\n",
       "    <tr>\n",
       "      <th>2</th>\n",
       "      <td>QVlD26X1y7NI</td>\n",
       "      <td>furniture_decor</td>\n",
       "      <td>1000.0</td>\n",
       "      <td>100.0</td>\n",
       "      <td>5.0</td>\n",
       "      <td>20.0</td>\n",
       "    </tr>\n",
       "    <tr>\n",
       "      <th>3</th>\n",
       "      <td>yWlFGkKYfrpa</td>\n",
       "      <td>toys</td>\n",
       "      <td>8950.0</td>\n",
       "      <td>40.0</td>\n",
       "      <td>30.0</td>\n",
       "      <td>40.0</td>\n",
       "    </tr>\n",
       "    <tr>\n",
       "      <th>4</th>\n",
       "      <td>h6MCbrwh5kiC</td>\n",
       "      <td>toys</td>\n",
       "      <td>2301.0</td>\n",
       "      <td>32.0</td>\n",
       "      <td>35.0</td>\n",
       "      <td>34.0</td>\n",
       "    </tr>\n",
       "  </tbody>\n",
       "</table>\n",
       "</div>"
      ],
      "text/plain": [
       "     product_id product_category_name  product_weight_g  product_length_cm  \\\n",
       "0  1slxdgbgWFax                  toys              50.0               16.0   \n",
       "1  77PgsiElQLeB           electronics             200.0               21.0   \n",
       "2  QVlD26X1y7NI       furniture_decor            1000.0              100.0   \n",
       "3  yWlFGkKYfrpa                  toys            8950.0               40.0   \n",
       "4  h6MCbrwh5kiC                  toys            2301.0               32.0   \n",
       "\n",
       "   product_height_cm  product_width_cm  \n",
       "0                5.0              11.0  \n",
       "1                7.0              14.0  \n",
       "2                5.0              20.0  \n",
       "3               30.0              40.0  \n",
       "4               35.0              34.0  "
      ]
     },
     "execution_count": 8,
     "metadata": {},
     "output_type": "execute_result"
    }
   ],
   "source": [
    "products_test.head()"
   ]
  },
  {
   "cell_type": "code",
   "execution_count": 21,
   "metadata": {
    "execution": {
     "iopub.execute_input": "2023-09-28T14:35:45.111411Z",
     "iopub.status.busy": "2023-09-28T14:35:45.111013Z",
     "iopub.status.idle": "2023-09-28T14:35:45.117023Z",
     "shell.execute_reply": "2023-09-28T14:35:45.115988Z",
     "shell.execute_reply.started": "2023-09-28T14:35:45.111381Z"
    }
   },
   "outputs": [
    {
     "name": "stdout",
     "output_type": "stream",
     "text": [
      "(89316, 6) (38279, 6)\n"
     ]
    }
   ],
   "source": [
    "print(products_train.shape, products_test.shape)"
   ]
  },
  {
   "cell_type": "markdown",
   "metadata": {},
   "source": [
    "### Payments "
   ]
  },
  {
   "cell_type": "code",
   "execution_count": 9,
   "metadata": {
    "execution": {
     "iopub.execute_input": "2023-09-28T14:32:47.998205Z",
     "iopub.status.busy": "2023-09-28T14:32:47.997875Z",
     "iopub.status.idle": "2023-09-28T14:32:48.009646Z",
     "shell.execute_reply": "2023-09-28T14:32:48.008631Z",
     "shell.execute_reply.started": "2023-09-28T14:32:47.998179Z"
    }
   },
   "outputs": [
    {
     "data": {
      "text/html": [
       "<div>\n",
       "<style scoped>\n",
       "    .dataframe tbody tr th:only-of-type {\n",
       "        vertical-align: middle;\n",
       "    }\n",
       "\n",
       "    .dataframe tbody tr th {\n",
       "        vertical-align: top;\n",
       "    }\n",
       "\n",
       "    .dataframe thead th {\n",
       "        text-align: right;\n",
       "    }\n",
       "</style>\n",
       "<table border=\"1\" class=\"dataframe\">\n",
       "  <thead>\n",
       "    <tr style=\"text-align: right;\">\n",
       "      <th></th>\n",
       "      <th>order_id</th>\n",
       "      <th>payment_sequential</th>\n",
       "      <th>payment_type</th>\n",
       "      <th>payment_installments</th>\n",
       "      <th>payment_value</th>\n",
       "    </tr>\n",
       "  </thead>\n",
       "  <tbody>\n",
       "    <tr>\n",
       "      <th>0</th>\n",
       "      <td>Axfy13Hk4PIk</td>\n",
       "      <td>1</td>\n",
       "      <td>credit_card</td>\n",
       "      <td>1</td>\n",
       "      <td>259.14</td>\n",
       "    </tr>\n",
       "    <tr>\n",
       "      <th>1</th>\n",
       "      <td>v6px92oS8cLG</td>\n",
       "      <td>1</td>\n",
       "      <td>credit_card</td>\n",
       "      <td>8</td>\n",
       "      <td>382.39</td>\n",
       "    </tr>\n",
       "    <tr>\n",
       "      <th>2</th>\n",
       "      <td>Ulpf9skrhjfm</td>\n",
       "      <td>1</td>\n",
       "      <td>credit_card</td>\n",
       "      <td>4</td>\n",
       "      <td>249.25</td>\n",
       "    </tr>\n",
       "    <tr>\n",
       "      <th>3</th>\n",
       "      <td>bwJVWupf2keN</td>\n",
       "      <td>1</td>\n",
       "      <td>credit_card</td>\n",
       "      <td>2</td>\n",
       "      <td>27.79</td>\n",
       "    </tr>\n",
       "    <tr>\n",
       "      <th>4</th>\n",
       "      <td>Dd0QnrMk9Cj5</td>\n",
       "      <td>1</td>\n",
       "      <td>credit_card</td>\n",
       "      <td>1</td>\n",
       "      <td>76.15</td>\n",
       "    </tr>\n",
       "  </tbody>\n",
       "</table>\n",
       "</div>"
      ],
      "text/plain": [
       "       order_id  payment_sequential payment_type  payment_installments  \\\n",
       "0  Axfy13Hk4PIk                   1  credit_card                     1   \n",
       "1  v6px92oS8cLG                   1  credit_card                     8   \n",
       "2  Ulpf9skrhjfm                   1  credit_card                     4   \n",
       "3  bwJVWupf2keN                   1  credit_card                     2   \n",
       "4  Dd0QnrMk9Cj5                   1  credit_card                     1   \n",
       "\n",
       "   payment_value  \n",
       "0         259.14  \n",
       "1         382.39  \n",
       "2         249.25  \n",
       "3          27.79  \n",
       "4          76.15  "
      ]
     },
     "execution_count": 9,
     "metadata": {},
     "output_type": "execute_result"
    }
   ],
   "source": [
    "payments_train.head()"
   ]
  },
  {
   "cell_type": "code",
   "execution_count": 10,
   "metadata": {
    "execution": {
     "iopub.execute_input": "2023-09-28T14:32:50.489802Z",
     "iopub.status.busy": "2023-09-28T14:32:50.489449Z",
     "iopub.status.idle": "2023-09-28T14:32:50.503486Z",
     "shell.execute_reply": "2023-09-28T14:32:50.502157Z",
     "shell.execute_reply.started": "2023-09-28T14:32:50.489775Z"
    }
   },
   "outputs": [
    {
     "data": {
      "text/html": [
       "<div>\n",
       "<style scoped>\n",
       "    .dataframe tbody tr th:only-of-type {\n",
       "        vertical-align: middle;\n",
       "    }\n",
       "\n",
       "    .dataframe tbody tr th {\n",
       "        vertical-align: top;\n",
       "    }\n",
       "\n",
       "    .dataframe thead th {\n",
       "        text-align: right;\n",
       "    }\n",
       "</style>\n",
       "<table border=\"1\" class=\"dataframe\">\n",
       "  <thead>\n",
       "    <tr style=\"text-align: right;\">\n",
       "      <th></th>\n",
       "      <th>order_id</th>\n",
       "      <th>payment_sequential</th>\n",
       "      <th>payment_type</th>\n",
       "      <th>payment_installments</th>\n",
       "      <th>payment_value</th>\n",
       "    </tr>\n",
       "  </thead>\n",
       "  <tbody>\n",
       "    <tr>\n",
       "      <th>0</th>\n",
       "      <td>u6rPMRAYIGig</td>\n",
       "      <td>1</td>\n",
       "      <td>credit_card</td>\n",
       "      <td>2</td>\n",
       "      <td>155.77</td>\n",
       "    </tr>\n",
       "    <tr>\n",
       "      <th>1</th>\n",
       "      <td>ohY8f4FEbX19</td>\n",
       "      <td>1</td>\n",
       "      <td>credit_card</td>\n",
       "      <td>1</td>\n",
       "      <td>4.07</td>\n",
       "    </tr>\n",
       "    <tr>\n",
       "      <th>2</th>\n",
       "      <td>I28liQek73i2</td>\n",
       "      <td>1</td>\n",
       "      <td>wallet</td>\n",
       "      <td>1</td>\n",
       "      <td>381.59</td>\n",
       "    </tr>\n",
       "    <tr>\n",
       "      <th>3</th>\n",
       "      <td>bBG1T89mlY8W</td>\n",
       "      <td>1</td>\n",
       "      <td>credit_card</td>\n",
       "      <td>3</td>\n",
       "      <td>14.76</td>\n",
       "    </tr>\n",
       "    <tr>\n",
       "      <th>4</th>\n",
       "      <td>CYxJJSQS8Lbo</td>\n",
       "      <td>1</td>\n",
       "      <td>wallet</td>\n",
       "      <td>1</td>\n",
       "      <td>284.09</td>\n",
       "    </tr>\n",
       "  </tbody>\n",
       "</table>\n",
       "</div>"
      ],
      "text/plain": [
       "       order_id  payment_sequential payment_type  payment_installments  \\\n",
       "0  u6rPMRAYIGig                   1  credit_card                     2   \n",
       "1  ohY8f4FEbX19                   1  credit_card                     1   \n",
       "2  I28liQek73i2                   1       wallet                     1   \n",
       "3  bBG1T89mlY8W                   1  credit_card                     3   \n",
       "4  CYxJJSQS8Lbo                   1       wallet                     1   \n",
       "\n",
       "   payment_value  \n",
       "0         155.77  \n",
       "1           4.07  \n",
       "2         381.59  \n",
       "3          14.76  \n",
       "4         284.09  "
      ]
     },
     "execution_count": 10,
     "metadata": {},
     "output_type": "execute_result"
    }
   ],
   "source": [
    "payments_test.head()"
   ]
  },
  {
   "cell_type": "code",
   "execution_count": 22,
   "metadata": {
    "execution": {
     "iopub.execute_input": "2023-09-28T14:35:48.266266Z",
     "iopub.status.busy": "2023-09-28T14:35:48.265906Z",
     "iopub.status.idle": "2023-09-28T14:35:48.273692Z",
     "shell.execute_reply": "2023-09-28T14:35:48.271811Z",
     "shell.execute_reply.started": "2023-09-28T14:35:48.266237Z"
    }
   },
   "outputs": [
    {
     "name": "stdout",
     "output_type": "stream",
     "text": [
      "(89316, 5) (38279, 5)\n"
     ]
    }
   ],
   "source": [
    "print(payments_train.shape, payments_test.shape)"
   ]
  },
  {
   "cell_type": "markdown",
   "metadata": {},
   "source": [
    "### Order items"
   ]
  },
  {
   "cell_type": "code",
   "execution_count": 11,
   "metadata": {
    "execution": {
     "iopub.execute_input": "2023-09-28T14:32:53.544652Z",
     "iopub.status.busy": "2023-09-28T14:32:53.544253Z",
     "iopub.status.idle": "2023-09-28T14:32:53.560005Z",
     "shell.execute_reply": "2023-09-28T14:32:53.558915Z",
     "shell.execute_reply.started": "2023-09-28T14:32:53.544624Z"
    }
   },
   "outputs": [
    {
     "data": {
      "text/html": [
       "<div>\n",
       "<style scoped>\n",
       "    .dataframe tbody tr th:only-of-type {\n",
       "        vertical-align: middle;\n",
       "    }\n",
       "\n",
       "    .dataframe tbody tr th {\n",
       "        vertical-align: top;\n",
       "    }\n",
       "\n",
       "    .dataframe thead th {\n",
       "        text-align: right;\n",
       "    }\n",
       "</style>\n",
       "<table border=\"1\" class=\"dataframe\">\n",
       "  <thead>\n",
       "    <tr style=\"text-align: right;\">\n",
       "      <th></th>\n",
       "      <th>order_id</th>\n",
       "      <th>product_id</th>\n",
       "      <th>seller_id</th>\n",
       "      <th>price</th>\n",
       "      <th>shipping_charges</th>\n",
       "    </tr>\n",
       "  </thead>\n",
       "  <tbody>\n",
       "    <tr>\n",
       "      <th>0</th>\n",
       "      <td>Axfy13Hk4PIk</td>\n",
       "      <td>90K0C1fIyQUf</td>\n",
       "      <td>ZWM05J9LcBSF</td>\n",
       "      <td>223.51</td>\n",
       "      <td>84.65</td>\n",
       "    </tr>\n",
       "    <tr>\n",
       "      <th>1</th>\n",
       "      <td>v6px92oS8cLG</td>\n",
       "      <td>qejhpMGGVcsl</td>\n",
       "      <td>IjlpYfhUbRQs</td>\n",
       "      <td>170.80</td>\n",
       "      <td>23.79</td>\n",
       "    </tr>\n",
       "    <tr>\n",
       "      <th>2</th>\n",
       "      <td>Ulpf9skrhjfm</td>\n",
       "      <td>qUS5d2pEAyxJ</td>\n",
       "      <td>77p2EYxcM9MD</td>\n",
       "      <td>64.40</td>\n",
       "      <td>17.38</td>\n",
       "    </tr>\n",
       "    <tr>\n",
       "      <th>3</th>\n",
       "      <td>bwJVWupf2keN</td>\n",
       "      <td>639iGvMyv0De</td>\n",
       "      <td>jWzS0ayv9TGf</td>\n",
       "      <td>264.50</td>\n",
       "      <td>30.72</td>\n",
       "    </tr>\n",
       "    <tr>\n",
       "      <th>4</th>\n",
       "      <td>Dd0QnrMk9Cj5</td>\n",
       "      <td>1lycYGcsic2F</td>\n",
       "      <td>l1pYW6GBnPMr</td>\n",
       "      <td>779.90</td>\n",
       "      <td>30.66</td>\n",
       "    </tr>\n",
       "  </tbody>\n",
       "</table>\n",
       "</div>"
      ],
      "text/plain": [
       "       order_id    product_id     seller_id   price  shipping_charges\n",
       "0  Axfy13Hk4PIk  90K0C1fIyQUf  ZWM05J9LcBSF  223.51             84.65\n",
       "1  v6px92oS8cLG  qejhpMGGVcsl  IjlpYfhUbRQs  170.80             23.79\n",
       "2  Ulpf9skrhjfm  qUS5d2pEAyxJ  77p2EYxcM9MD   64.40             17.38\n",
       "3  bwJVWupf2keN  639iGvMyv0De  jWzS0ayv9TGf  264.50             30.72\n",
       "4  Dd0QnrMk9Cj5  1lycYGcsic2F  l1pYW6GBnPMr  779.90             30.66"
      ]
     },
     "execution_count": 11,
     "metadata": {},
     "output_type": "execute_result"
    }
   ],
   "source": [
    "orderitems_train.head()"
   ]
  },
  {
   "cell_type": "code",
   "execution_count": 12,
   "metadata": {
    "execution": {
     "iopub.execute_input": "2023-09-28T14:32:56.431438Z",
     "iopub.status.busy": "2023-09-28T14:32:56.431026Z",
     "iopub.status.idle": "2023-09-28T14:32:56.444890Z",
     "shell.execute_reply": "2023-09-28T14:32:56.443787Z",
     "shell.execute_reply.started": "2023-09-28T14:32:56.431403Z"
    }
   },
   "outputs": [
    {
     "data": {
      "text/html": [
       "<div>\n",
       "<style scoped>\n",
       "    .dataframe tbody tr th:only-of-type {\n",
       "        vertical-align: middle;\n",
       "    }\n",
       "\n",
       "    .dataframe tbody tr th {\n",
       "        vertical-align: top;\n",
       "    }\n",
       "\n",
       "    .dataframe thead th {\n",
       "        text-align: right;\n",
       "    }\n",
       "</style>\n",
       "<table border=\"1\" class=\"dataframe\">\n",
       "  <thead>\n",
       "    <tr style=\"text-align: right;\">\n",
       "      <th></th>\n",
       "      <th>order_id</th>\n",
       "      <th>product_id</th>\n",
       "      <th>seller_id</th>\n",
       "      <th>price</th>\n",
       "      <th>shipping_charges</th>\n",
       "    </tr>\n",
       "  </thead>\n",
       "  <tbody>\n",
       "    <tr>\n",
       "      <th>0</th>\n",
       "      <td>u6rPMRAYIGig</td>\n",
       "      <td>1slxdgbgWFax</td>\n",
       "      <td>3jwvL6ihC45G</td>\n",
       "      <td>24.10</td>\n",
       "      <td>20.90</td>\n",
       "    </tr>\n",
       "    <tr>\n",
       "      <th>1</th>\n",
       "      <td>ohY8f4FEbX19</td>\n",
       "      <td>77PgsiElQLeB</td>\n",
       "      <td>GlLj704QXlDB</td>\n",
       "      <td>42.89</td>\n",
       "      <td>12.28</td>\n",
       "    </tr>\n",
       "    <tr>\n",
       "      <th>2</th>\n",
       "      <td>I28liQek73i2</td>\n",
       "      <td>QVlD26X1y7NI</td>\n",
       "      <td>V3iKL8r9W9NR</td>\n",
       "      <td>50.21</td>\n",
       "      <td>67.11</td>\n",
       "    </tr>\n",
       "    <tr>\n",
       "      <th>3</th>\n",
       "      <td>bBG1T89mlY8W</td>\n",
       "      <td>yWlFGkKYfrpa</td>\n",
       "      <td>RNBdBKsXebna</td>\n",
       "      <td>89.10</td>\n",
       "      <td>62.05</td>\n",
       "    </tr>\n",
       "    <tr>\n",
       "      <th>4</th>\n",
       "      <td>CYxJJSQS8Lbo</td>\n",
       "      <td>h6MCbrwh5kiC</td>\n",
       "      <td>5Ja2lH0N2OZt</td>\n",
       "      <td>2139.99</td>\n",
       "      <td>9.41</td>\n",
       "    </tr>\n",
       "  </tbody>\n",
       "</table>\n",
       "</div>"
      ],
      "text/plain": [
       "       order_id    product_id     seller_id    price  shipping_charges\n",
       "0  u6rPMRAYIGig  1slxdgbgWFax  3jwvL6ihC45G    24.10             20.90\n",
       "1  ohY8f4FEbX19  77PgsiElQLeB  GlLj704QXlDB    42.89             12.28\n",
       "2  I28liQek73i2  QVlD26X1y7NI  V3iKL8r9W9NR    50.21             67.11\n",
       "3  bBG1T89mlY8W  yWlFGkKYfrpa  RNBdBKsXebna    89.10             62.05\n",
       "4  CYxJJSQS8Lbo  h6MCbrwh5kiC  5Ja2lH0N2OZt  2139.99              9.41"
      ]
     },
     "execution_count": 12,
     "metadata": {},
     "output_type": "execute_result"
    }
   ],
   "source": [
    "orderitems_test.head()"
   ]
  },
  {
   "cell_type": "code",
   "execution_count": 23,
   "metadata": {
    "execution": {
     "iopub.execute_input": "2023-09-28T14:35:51.570346Z",
     "iopub.status.busy": "2023-09-28T14:35:51.569936Z",
     "iopub.status.idle": "2023-09-28T14:35:51.575976Z",
     "shell.execute_reply": "2023-09-28T14:35:51.574759Z",
     "shell.execute_reply.started": "2023-09-28T14:35:51.570316Z"
    }
   },
   "outputs": [
    {
     "name": "stdout",
     "output_type": "stream",
     "text": [
      "(89316, 5) (38279, 5)\n"
     ]
    }
   ],
   "source": [
    "print(orderitems_train.shape, orderitems_test.shape)"
   ]
  },
  {
   "cell_type": "markdown",
   "metadata": {},
   "source": [
    "### Concat all df in train folder"
   ]
  },
  {
   "cell_type": "code",
   "execution_count": 3,
   "metadata": {
    "execution": {
     "iopub.execute_input": "2023-09-30T13:23:49.693881Z",
     "iopub.status.busy": "2023-09-30T13:23:49.693558Z",
     "iopub.status.idle": "2023-09-30T13:23:49.733181Z",
     "shell.execute_reply": "2023-09-30T13:23:49.732188Z",
     "shell.execute_reply.started": "2023-09-30T13:23:49.693854Z"
    }
   },
   "outputs": [
    {
     "data": {
      "text/plain": [
       "(89316, 27)"
      ]
     },
     "execution_count": 3,
     "metadata": {},
     "output_type": "execute_result"
    }
   ],
   "source": [
    "combined = pd.concat([orders_train, customers_train, payments_train,\n",
    "                     orderitems_train, products_train],\n",
    "                     axis=1, join=\"inner\")\n",
    "combined.shape"
   ]
  },
  {
   "cell_type": "code",
   "execution_count": 4,
   "metadata": {
    "execution": {
     "iopub.execute_input": "2023-09-30T13:24:10.699809Z",
     "iopub.status.busy": "2023-09-30T13:24:10.699345Z",
     "iopub.status.idle": "2023-09-30T13:24:10.718159Z",
     "shell.execute_reply": "2023-09-30T13:24:10.717124Z",
     "shell.execute_reply.started": "2023-09-30T13:24:10.699766Z"
    }
   },
   "outputs": [
    {
     "data": {
      "text/plain": [
       "array([False, False, False, False, False, False, False,  True, False,\n",
       "       False, False,  True, False, False, False, False,  True, False,\n",
       "       False, False, False,  True, False, False, False, False, False])"
      ]
     },
     "execution_count": 4,
     "metadata": {},
     "output_type": "execute_result"
    }
   ],
   "source": [
    "combined.columns.duplicated()"
   ]
  },
  {
   "cell_type": "code",
   "execution_count": 5,
   "metadata": {
    "execution": {
     "iopub.execute_input": "2023-09-30T13:24:14.721896Z",
     "iopub.status.busy": "2023-09-30T13:24:14.721563Z",
     "iopub.status.idle": "2023-09-30T13:24:14.763398Z",
     "shell.execute_reply": "2023-09-30T13:24:14.762462Z",
     "shell.execute_reply.started": "2023-09-30T13:24:14.721869Z"
    }
   },
   "outputs": [],
   "source": [
    "# drop duplicate columns in combined\n",
    "combined = combined.loc[:,~combined.columns.duplicated(keep='last')]"
   ]
  },
  {
   "cell_type": "code",
   "execution_count": 6,
   "metadata": {
    "execution": {
     "iopub.execute_input": "2023-09-30T07:09:21.869036Z",
     "iopub.status.busy": "2023-09-30T07:09:21.868624Z",
     "iopub.status.idle": "2023-09-30T07:09:21.958024Z",
     "shell.execute_reply": "2023-09-30T07:09:21.956727Z",
     "shell.execute_reply.started": "2023-09-30T07:09:21.869005Z"
    }
   },
   "outputs": [
    {
     "name": "stdout",
     "output_type": "stream",
     "text": [
      "<class 'pandas.core.frame.DataFrame'>\n",
      "RangeIndex: 89316 entries, 0 to 89315\n",
      "Data columns (total 23 columns):\n",
      " #   Column                         Non-Null Count  Dtype  \n",
      "---  ------                         --------------  -----  \n",
      " 0   order_status                   89316 non-null  object \n",
      " 1   order_purchase_timestamp       89316 non-null  object \n",
      " 2   order_approved_at              89307 non-null  object \n",
      " 3   order_delivered_timestamp      87427 non-null  object \n",
      " 4   order_estimated_delivery_date  89316 non-null  object \n",
      " 5   customer_id                    89316 non-null  object \n",
      " 6   customer_zip_code_prefix       89316 non-null  int64  \n",
      " 7   customer_city                  89316 non-null  object \n",
      " 8   customer_state                 89316 non-null  object \n",
      " 9   payment_sequential             89316 non-null  int64  \n",
      " 10  payment_type                   89316 non-null  object \n",
      " 11  payment_installments           89316 non-null  int64  \n",
      " 12  payment_value                  89316 non-null  float64\n",
      " 13  order_id                       89316 non-null  object \n",
      " 14  seller_id                      89316 non-null  object \n",
      " 15  price                          89316 non-null  float64\n",
      " 16  shipping_charges               89316 non-null  float64\n",
      " 17  product_id                     89316 non-null  object \n",
      " 18  product_category_name          89008 non-null  object \n",
      " 19  product_weight_g               89301 non-null  float64\n",
      " 20  product_length_cm              89301 non-null  float64\n",
      " 21  product_height_cm              89301 non-null  float64\n",
      " 22  product_width_cm               89301 non-null  float64\n",
      "dtypes: float64(7), int64(3), object(13)\n",
      "memory usage: 15.7+ MB\n"
     ]
    }
   ],
   "source": [
    "combined.info()"
   ]
  },
  {
   "cell_type": "markdown",
   "metadata": {},
   "source": [
    "### Concat all df in test folder"
   ]
  },
  {
   "cell_type": "code",
   "execution_count": 6,
   "metadata": {
    "execution": {
     "iopub.execute_input": "2023-09-30T13:24:25.785455Z",
     "iopub.status.busy": "2023-09-30T13:24:25.784771Z",
     "iopub.status.idle": "2023-09-30T13:24:25.798546Z",
     "shell.execute_reply": "2023-09-30T13:24:25.797497Z",
     "shell.execute_reply.started": "2023-09-30T13:24:25.785422Z"
    }
   },
   "outputs": [
    {
     "data": {
      "text/plain": [
       "(38279, 24)"
      ]
     },
     "execution_count": 6,
     "metadata": {},
     "output_type": "execute_result"
    }
   ],
   "source": [
    "df_test = pd.concat([orders_test, customers_test, payments_test,\n",
    "                     orderitems_test, products_test],\n",
    "                     axis=1, join=\"inner\")\n",
    "df_test.shape"
   ]
  },
  {
   "cell_type": "code",
   "execution_count": 7,
   "metadata": {
    "execution": {
     "iopub.execute_input": "2023-09-30T13:24:30.009256Z",
     "iopub.status.busy": "2023-09-30T13:24:30.008809Z",
     "iopub.status.idle": "2023-09-30T13:24:30.017196Z",
     "shell.execute_reply": "2023-09-30T13:24:30.016067Z",
     "shell.execute_reply.started": "2023-09-30T13:24:30.009222Z"
    }
   },
   "outputs": [
    {
     "data": {
      "text/plain": [
       "array([False, False, False, False,  True, False, False, False,  True,\n",
       "       False, False, False, False,  True, False, False, False, False,\n",
       "        True, False, False, False, False, False])"
      ]
     },
     "execution_count": 7,
     "metadata": {},
     "output_type": "execute_result"
    }
   ],
   "source": [
    "df_test.columns.duplicated()"
   ]
  },
  {
   "cell_type": "code",
   "execution_count": 8,
   "metadata": {
    "execution": {
     "iopub.execute_input": "2023-09-30T13:24:37.551477Z",
     "iopub.status.busy": "2023-09-30T13:24:37.551142Z",
     "iopub.status.idle": "2023-09-30T13:24:37.565622Z",
     "shell.execute_reply": "2023-09-30T13:24:37.564682Z",
     "shell.execute_reply.started": "2023-09-30T13:24:37.551451Z"
    }
   },
   "outputs": [],
   "source": [
    "# drop duplicate columns in df_test\n",
    "df_test = df_test.loc[:,~df_test.columns.duplicated(keep='last')]"
   ]
  },
  {
   "cell_type": "code",
   "execution_count": 7,
   "metadata": {
    "execution": {
     "iopub.execute_input": "2023-09-30T07:22:09.387028Z",
     "iopub.status.busy": "2023-09-30T07:22:09.386712Z",
     "iopub.status.idle": "2023-09-30T07:22:09.432648Z",
     "shell.execute_reply": "2023-09-30T07:22:09.430620Z",
     "shell.execute_reply.started": "2023-09-30T07:22:09.386993Z"
    }
   },
   "outputs": [
    {
     "name": "stdout",
     "output_type": "stream",
     "text": [
      "<class 'pandas.core.frame.DataFrame'>\n",
      "RangeIndex: 38279 entries, 0 to 38278\n",
      "Data columns (total 20 columns):\n",
      " #   Column                    Non-Null Count  Dtype  \n",
      "---  ------                    --------------  -----  \n",
      " 0   order_purchase_timestamp  38279 non-null  object \n",
      " 1   order_approved_at         38272 non-null  object \n",
      " 2   customer_id               38279 non-null  object \n",
      " 3   customer_zip_code_prefix  38279 non-null  int64  \n",
      " 4   customer_city             38279 non-null  object \n",
      " 5   customer_state            38279 non-null  object \n",
      " 6   payment_sequential        38279 non-null  int64  \n",
      " 7   payment_type              38279 non-null  object \n",
      " 8   payment_installments      38279 non-null  int64  \n",
      " 9   payment_value             38279 non-null  float64\n",
      " 10  order_id                  38279 non-null  object \n",
      " 11  seller_id                 38279 non-null  object \n",
      " 12  price                     38279 non-null  float64\n",
      " 13  shipping_charges          38279 non-null  float64\n",
      " 14  product_id                38279 non-null  object \n",
      " 15  product_category_name     38111 non-null  object \n",
      " 16  product_weight_g          38269 non-null  float64\n",
      " 17  product_length_cm         38269 non-null  float64\n",
      " 18  product_height_cm         38269 non-null  float64\n",
      " 19  product_width_cm          38269 non-null  float64\n",
      "dtypes: float64(7), int64(3), object(10)\n",
      "memory usage: 5.8+ MB\n"
     ]
    }
   ],
   "source": [
    "df_test.info()"
   ]
  },
  {
   "cell_type": "markdown",
   "metadata": {},
   "source": [
    "# Data Train Cleaning"
   ]
  },
  {
   "cell_type": "code",
   "execution_count": 9,
   "metadata": {
    "execution": {
     "iopub.execute_input": "2023-09-30T13:24:52.225615Z",
     "iopub.status.busy": "2023-09-30T13:24:52.225278Z",
     "iopub.status.idle": "2023-09-30T13:24:52.401836Z",
     "shell.execute_reply": "2023-09-30T13:24:52.400894Z",
     "shell.execute_reply.started": "2023-09-30T13:24:52.225587Z"
    }
   },
   "outputs": [
    {
     "data": {
      "text/html": [
       "<div>\n",
       "<style scoped>\n",
       "    .dataframe tbody tr th:only-of-type {\n",
       "        vertical-align: middle;\n",
       "    }\n",
       "\n",
       "    .dataframe tbody tr th {\n",
       "        vertical-align: top;\n",
       "    }\n",
       "\n",
       "    .dataframe thead th {\n",
       "        text-align: right;\n",
       "    }\n",
       "</style>\n",
       "<table border=\"1\" class=\"dataframe\">\n",
       "  <thead>\n",
       "    <tr style=\"text-align: right;\">\n",
       "      <th></th>\n",
       "      <th>Total</th>\n",
       "      <th>Percent</th>\n",
       "    </tr>\n",
       "  </thead>\n",
       "  <tbody>\n",
       "    <tr>\n",
       "      <th>order_delivered_timestamp</th>\n",
       "      <td>1889</td>\n",
       "      <td>0.021150</td>\n",
       "    </tr>\n",
       "    <tr>\n",
       "      <th>product_category_name</th>\n",
       "      <td>308</td>\n",
       "      <td>0.003448</td>\n",
       "    </tr>\n",
       "    <tr>\n",
       "      <th>product_width_cm</th>\n",
       "      <td>15</td>\n",
       "      <td>0.000168</td>\n",
       "    </tr>\n",
       "    <tr>\n",
       "      <th>product_height_cm</th>\n",
       "      <td>15</td>\n",
       "      <td>0.000168</td>\n",
       "    </tr>\n",
       "    <tr>\n",
       "      <th>product_length_cm</th>\n",
       "      <td>15</td>\n",
       "      <td>0.000168</td>\n",
       "    </tr>\n",
       "    <tr>\n",
       "      <th>product_weight_g</th>\n",
       "      <td>15</td>\n",
       "      <td>0.000168</td>\n",
       "    </tr>\n",
       "    <tr>\n",
       "      <th>order_approved_at</th>\n",
       "      <td>9</td>\n",
       "      <td>0.000101</td>\n",
       "    </tr>\n",
       "    <tr>\n",
       "      <th>order_id</th>\n",
       "      <td>0</td>\n",
       "      <td>0.000000</td>\n",
       "    </tr>\n",
       "    <tr>\n",
       "      <th>product_id</th>\n",
       "      <td>0</td>\n",
       "      <td>0.000000</td>\n",
       "    </tr>\n",
       "    <tr>\n",
       "      <th>shipping_charges</th>\n",
       "      <td>0</td>\n",
       "      <td>0.000000</td>\n",
       "    </tr>\n",
       "    <tr>\n",
       "      <th>price</th>\n",
       "      <td>0</td>\n",
       "      <td>0.000000</td>\n",
       "    </tr>\n",
       "    <tr>\n",
       "      <th>seller_id</th>\n",
       "      <td>0</td>\n",
       "      <td>0.000000</td>\n",
       "    </tr>\n",
       "    <tr>\n",
       "      <th>order_status</th>\n",
       "      <td>0</td>\n",
       "      <td>0.000000</td>\n",
       "    </tr>\n",
       "    <tr>\n",
       "      <th>payment_value</th>\n",
       "      <td>0</td>\n",
       "      <td>0.000000</td>\n",
       "    </tr>\n",
       "    <tr>\n",
       "      <th>order_purchase_timestamp</th>\n",
       "      <td>0</td>\n",
       "      <td>0.000000</td>\n",
       "    </tr>\n",
       "    <tr>\n",
       "      <th>payment_type</th>\n",
       "      <td>0</td>\n",
       "      <td>0.000000</td>\n",
       "    </tr>\n",
       "    <tr>\n",
       "      <th>payment_sequential</th>\n",
       "      <td>0</td>\n",
       "      <td>0.000000</td>\n",
       "    </tr>\n",
       "    <tr>\n",
       "      <th>customer_state</th>\n",
       "      <td>0</td>\n",
       "      <td>0.000000</td>\n",
       "    </tr>\n",
       "    <tr>\n",
       "      <th>customer_city</th>\n",
       "      <td>0</td>\n",
       "      <td>0.000000</td>\n",
       "    </tr>\n",
       "    <tr>\n",
       "      <th>customer_zip_code_prefix</th>\n",
       "      <td>0</td>\n",
       "      <td>0.000000</td>\n",
       "    </tr>\n",
       "    <tr>\n",
       "      <th>customer_id</th>\n",
       "      <td>0</td>\n",
       "      <td>0.000000</td>\n",
       "    </tr>\n",
       "    <tr>\n",
       "      <th>order_estimated_delivery_date</th>\n",
       "      <td>0</td>\n",
       "      <td>0.000000</td>\n",
       "    </tr>\n",
       "    <tr>\n",
       "      <th>payment_installments</th>\n",
       "      <td>0</td>\n",
       "      <td>0.000000</td>\n",
       "    </tr>\n",
       "  </tbody>\n",
       "</table>\n",
       "</div>"
      ],
      "text/plain": [
       "                               Total   Percent\n",
       "order_delivered_timestamp       1889  0.021150\n",
       "product_category_name            308  0.003448\n",
       "product_width_cm                  15  0.000168\n",
       "product_height_cm                 15  0.000168\n",
       "product_length_cm                 15  0.000168\n",
       "product_weight_g                  15  0.000168\n",
       "order_approved_at                  9  0.000101\n",
       "order_id                           0  0.000000\n",
       "product_id                         0  0.000000\n",
       "shipping_charges                   0  0.000000\n",
       "price                              0  0.000000\n",
       "seller_id                          0  0.000000\n",
       "order_status                       0  0.000000\n",
       "payment_value                      0  0.000000\n",
       "order_purchase_timestamp           0  0.000000\n",
       "payment_type                       0  0.000000\n",
       "payment_sequential                 0  0.000000\n",
       "customer_state                     0  0.000000\n",
       "customer_city                      0  0.000000\n",
       "customer_zip_code_prefix           0  0.000000\n",
       "customer_id                        0  0.000000\n",
       "order_estimated_delivery_date      0  0.000000\n",
       "payment_installments               0  0.000000"
      ]
     },
     "execution_count": 9,
     "metadata": {},
     "output_type": "execute_result"
    }
   ],
   "source": [
    "total_missing = combined.isnull().sum().sort_values(ascending=False)\n",
    "percentage = (combined.isnull().sum()/combined.isnull().count()).sort_values(ascending=False)\n",
    "missing_data = pd.concat([total_missing, percentage], axis=1, keys=['Total', 'Percent', 'dtypes'])\n",
    "missing_data"
   ]
  },
  {
   "cell_type": "code",
   "execution_count": 10,
   "metadata": {
    "execution": {
     "iopub.execute_input": "2023-09-30T13:25:14.797090Z",
     "iopub.status.busy": "2023-09-30T13:25:14.796729Z",
     "iopub.status.idle": "2023-09-30T13:25:14.903467Z",
     "shell.execute_reply": "2023-09-30T13:25:14.902542Z",
     "shell.execute_reply.started": "2023-09-30T13:25:14.797061Z"
    }
   },
   "outputs": [
    {
     "data": {
      "text/plain": [
       "(89316, 23)"
      ]
     },
     "execution_count": 10,
     "metadata": {},
     "output_type": "execute_result"
    }
   ],
   "source": [
    "# handling missing values\n",
    "\n",
    "# we have 1889 missing value in order_delivered_timestamp and 9 missing value in order_approved_at\n",
    "# let's conduct interpolation\n",
    "combined['order_delivered_timestamp'] = combined['order_delivered_timestamp'].interpolate(method='pad')\n",
    "combined['order_approved_at'] = combined['order_approved_at'].interpolate(method='pad')\n",
    "\n",
    "# what about the 'product_category_name'? let's perform mode imputation\n",
    "combined['product_category_name'] = combined['product_category_name'].fillna(combined['product_category_name'].mode()[0])\n",
    "\n",
    "# median imputation for: 'product_weight_g', 'product_length_cm', 'product_height_cm', 'product_width_cm'\n",
    "# List of numerical columns with missing value\n",
    "missval_num = combined[['product_weight_g', 'product_length_cm', 'product_height_cm', 'product_width_cm']]\n",
    "# Fill missing values with median for each numerical column\n",
    "for col in missval_num:\n",
    "    median_value = combined[col].median()  # Calculate the median\n",
    "    combined[col].fillna(median_value, inplace=True)\n",
    "\n",
    "combined.shape"
   ]
  },
  {
   "cell_type": "code",
   "execution_count": 11,
   "metadata": {
    "execution": {
     "iopub.execute_input": "2023-09-30T13:25:21.873601Z",
     "iopub.status.busy": "2023-09-30T13:25:21.872718Z",
     "iopub.status.idle": "2023-09-30T13:25:21.937008Z",
     "shell.execute_reply": "2023-09-30T13:25:21.935904Z",
     "shell.execute_reply.started": "2023-09-30T13:25:21.873552Z"
    }
   },
   "outputs": [
    {
     "data": {
      "text/plain": [
       "order_status                     0\n",
       "order_purchase_timestamp         0\n",
       "order_approved_at                0\n",
       "order_delivered_timestamp        0\n",
       "order_estimated_delivery_date    0\n",
       "customer_id                      0\n",
       "customer_zip_code_prefix         0\n",
       "customer_city                    0\n",
       "customer_state                   0\n",
       "payment_sequential               0\n",
       "payment_type                     0\n",
       "payment_installments             0\n",
       "payment_value                    0\n",
       "order_id                         0\n",
       "seller_id                        0\n",
       "price                            0\n",
       "shipping_charges                 0\n",
       "product_id                       0\n",
       "product_category_name            0\n",
       "product_weight_g                 0\n",
       "product_length_cm                0\n",
       "product_height_cm                0\n",
       "product_width_cm                 0\n",
       "dtype: int64"
      ]
     },
     "execution_count": 11,
     "metadata": {},
     "output_type": "execute_result"
    }
   ],
   "source": [
    "combined.isnull().sum()"
   ]
  },
  {
   "cell_type": "markdown",
   "metadata": {},
   "source": [
    "# Create Label: is_late"
   ]
  },
  {
   "cell_type": "code",
   "execution_count": 12,
   "metadata": {
    "execution": {
     "iopub.execute_input": "2023-09-30T13:25:28.910810Z",
     "iopub.status.busy": "2023-09-30T13:25:28.910408Z",
     "iopub.status.idle": "2023-09-30T13:25:28.928500Z",
     "shell.execute_reply": "2023-09-30T13:25:28.927695Z",
     "shell.execute_reply.started": "2023-09-30T13:25:28.910772Z"
    }
   },
   "outputs": [
    {
     "data": {
      "text/plain": [
       "order_status\n",
       "delivered      87428\n",
       "shipped          936\n",
       "canceled         409\n",
       "processing       273\n",
       "invoiced         266\n",
       "unavailable        2\n",
       "approved           2\n",
       "Name: count, dtype: int64"
      ]
     },
     "execution_count": 12,
     "metadata": {},
     "output_type": "execute_result"
    }
   ],
   "source": [
    "combined.order_status.value_counts()"
   ]
  },
  {
   "cell_type": "code",
   "execution_count": 13,
   "metadata": {
    "execution": {
     "iopub.execute_input": "2023-09-30T13:25:33.300344Z",
     "iopub.status.busy": "2023-09-30T13:25:33.300024Z",
     "iopub.status.idle": "2023-09-30T13:25:33.344437Z",
     "shell.execute_reply": "2023-09-30T13:25:33.343510Z",
     "shell.execute_reply.started": "2023-09-30T13:25:33.300318Z"
    }
   },
   "outputs": [],
   "source": [
    "# filter rows with order_status = delivered\n",
    "combined = combined[combined.order_status == 'delivered']"
   ]
  },
  {
   "cell_type": "code",
   "execution_count": 13,
   "metadata": {
    "execution": {
     "iopub.execute_input": "2023-09-30T07:23:01.338014Z",
     "iopub.status.busy": "2023-09-30T07:23:01.337659Z",
     "iopub.status.idle": "2023-09-30T07:23:01.344546Z",
     "shell.execute_reply": "2023-09-30T07:23:01.343697Z",
     "shell.execute_reply.started": "2023-09-30T07:23:01.337987Z"
    }
   },
   "outputs": [
    {
     "data": {
      "text/plain": [
       "(87428, 23)"
      ]
     },
     "execution_count": 13,
     "metadata": {},
     "output_type": "execute_result"
    }
   ],
   "source": [
    "combined.shape"
   ]
  },
  {
   "cell_type": "code",
   "execution_count": 14,
   "metadata": {
    "execution": {
     "iopub.execute_input": "2023-09-30T13:26:02.183765Z",
     "iopub.status.busy": "2023-09-30T13:26:02.183418Z",
     "iopub.status.idle": "2023-09-30T13:26:02.263877Z",
     "shell.execute_reply": "2023-09-30T13:26:02.262984Z",
     "shell.execute_reply.started": "2023-09-30T13:26:02.183735Z"
    }
   },
   "outputs": [],
   "source": [
    "combined['order_estimated_delivery_date'] = pd.to_datetime(combined['order_estimated_delivery_date'], format='%Y-%m-%d')\n",
    "\n",
    "# only take date from order_delivered_timestamp\n",
    "combined['order_delivered_date'] = pd.to_datetime(combined['order_delivered_timestamp']).dt.date\n",
    "combined['order_delivered_date'] = pd.to_datetime(combined['order_delivered_date'], format='%Y-%m-%d')"
   ]
  },
  {
   "cell_type": "code",
   "execution_count": null,
   "metadata": {},
   "outputs": [],
   "source": [
    "# the days when customers are waiting their order to be approved by sellers\n",
    "#combined['waiting_seller_to_approve'] = (combined['order_approved_at'].dt.date - combined['order_purchase_timestamp'].dt.date).dt.days\n",
    "\n",
    "# !total days spent from placing order until it delivered to customer location\n",
    "#combined['purchase_to_arrived_actual'] = (combined['order_delivered_timestamp'].dt.date - combined['order_purchase_timestamp'].dt.date).dt.days\n",
    "\n",
    "# total days spent from seller process the order, send the package to courier, package on the way, until it arrives at customer location\n",
    "#combined['package_otw'] = (combined['order_delivered_timestamp'].dt.date - combined['order_approved_at'].dt.date).dt.days\n",
    "\n",
    "# !duration of estimated shipping from purchasing date until estimated delivery date\n",
    "#combined['purchase_to_arrived_estimation'] = (combined['order_estimated_delivery_date'].dt.date - combined['order_purchase_timestamp'].dt.date).dt.days"
   ]
  },
  {
   "cell_type": "code",
   "execution_count": 15,
   "metadata": {
    "execution": {
     "iopub.execute_input": "2023-09-30T13:26:12.705285Z",
     "iopub.status.busy": "2023-09-30T13:26:12.704960Z",
     "iopub.status.idle": "2023-09-30T13:26:12.710103Z",
     "shell.execute_reply": "2023-09-30T13:26:12.709141Z",
     "shell.execute_reply.started": "2023-09-30T13:26:12.705259Z"
    }
   },
   "outputs": [],
   "source": [
    "# calculate days spend between 2 given date\n",
    "\n",
    "def numOfDays(date1, date2):\n",
    "    return reduce(lambda x, y: (y-x).dt.days, [date1, date2])"
   ]
  },
  {
   "cell_type": "code",
   "execution_count": 16,
   "metadata": {
    "execution": {
     "iopub.execute_input": "2023-09-30T13:26:17.419686Z",
     "iopub.status.busy": "2023-09-30T13:26:17.419379Z",
     "iopub.status.idle": "2023-09-30T13:26:17.430126Z",
     "shell.execute_reply": "2023-09-30T13:26:17.429116Z",
     "shell.execute_reply.started": "2023-09-30T13:26:17.419659Z"
    }
   },
   "outputs": [],
   "source": [
    "combined['arrived_days'] = numOfDays(combined['order_delivered_date'], combined['order_estimated_delivery_date'])"
   ]
  },
  {
   "cell_type": "code",
   "execution_count": 17,
   "metadata": {
    "execution": {
     "iopub.execute_input": "2023-09-30T13:26:23.041438Z",
     "iopub.status.busy": "2023-09-30T13:26:23.041074Z",
     "iopub.status.idle": "2023-09-30T13:26:23.074911Z",
     "shell.execute_reply": "2023-09-30T13:26:23.073977Z",
     "shell.execute_reply.started": "2023-09-30T13:26:23.041410Z"
    }
   },
   "outputs": [],
   "source": [
    "# create new label\n",
    "# combined['is_late_string'] = combined['arrived_days'].apply(lambda x : 'OnTime/Early' if x >=0 else 'Late')\n",
    "combined['is_late'] = combined['arrived_days'].apply(lambda x : 0 if x >=0 else 1)"
   ]
  },
  {
   "cell_type": "code",
   "execution_count": 18,
   "metadata": {
    "execution": {
     "iopub.execute_input": "2023-09-30T13:26:29.242585Z",
     "iopub.status.busy": "2023-09-30T13:26:29.242257Z",
     "iopub.status.idle": "2023-09-30T13:26:29.250428Z",
     "shell.execute_reply": "2023-09-30T13:26:29.249432Z",
     "shell.execute_reply.started": "2023-09-30T13:26:29.242552Z"
    }
   },
   "outputs": [
    {
     "data": {
      "text/plain": [
       "is_late\n",
       "0    81822\n",
       "1     5606\n",
       "Name: count, dtype: int64"
      ]
     },
     "execution_count": 18,
     "metadata": {},
     "output_type": "execute_result"
    }
   ],
   "source": [
    "combined['is_late'].value_counts()"
   ]
  },
  {
   "cell_type": "code",
   "execution_count": 19,
   "metadata": {
    "execution": {
     "iopub.execute_input": "2023-09-30T13:26:35.046220Z",
     "iopub.status.busy": "2023-09-30T13:26:35.045822Z",
     "iopub.status.idle": "2023-09-30T13:26:35.084020Z",
     "shell.execute_reply": "2023-09-30T13:26:35.083094Z",
     "shell.execute_reply.started": "2023-09-30T13:26:35.046188Z"
    }
   },
   "outputs": [],
   "source": [
    "# drop unused columns\n",
    "combined = combined.drop(columns=['order_delivered_timestamp',\n",
    "       'order_estimated_delivery_date', 'arrived_days',\n",
    "    'order_status', 'order_delivered_date'], axis=1)"
   ]
  },
  {
   "cell_type": "markdown",
   "metadata": {},
   "source": [
    "### Concat combined and df_test"
   ]
  },
  {
   "cell_type": "code",
   "execution_count": 28,
   "metadata": {
    "execution": {
     "iopub.execute_input": "2023-09-30T06:32:45.197490Z",
     "iopub.status.busy": "2023-09-30T06:32:45.197139Z",
     "iopub.status.idle": "2023-09-30T06:32:45.256215Z",
     "shell.execute_reply": "2023-09-30T06:32:45.255286Z",
     "shell.execute_reply.started": "2023-09-30T06:32:45.197447Z"
    }
   },
   "outputs": [
    {
     "name": "stdout",
     "output_type": "stream",
     "text": [
      "<class 'pandas.core.frame.DataFrame'>\n",
      "Index: 87428 entries, 0 to 89315\n",
      "Data columns (total 21 columns):\n",
      " #   Column                    Non-Null Count  Dtype  \n",
      "---  ------                    --------------  -----  \n",
      " 0   order_purchase_timestamp  87428 non-null  object \n",
      " 1   order_approved_at         87428 non-null  object \n",
      " 2   customer_id               87428 non-null  object \n",
      " 3   customer_zip_code_prefix  87428 non-null  int64  \n",
      " 4   customer_city             87428 non-null  object \n",
      " 5   customer_state            87428 non-null  object \n",
      " 6   payment_sequential        87428 non-null  int64  \n",
      " 7   payment_type              87428 non-null  object \n",
      " 8   payment_installments      87428 non-null  int64  \n",
      " 9   payment_value             87428 non-null  float64\n",
      " 10  order_id                  87428 non-null  object \n",
      " 11  seller_id                 87428 non-null  object \n",
      " 12  price                     87428 non-null  float64\n",
      " 13  shipping_charges          87428 non-null  float64\n",
      " 14  product_id                87428 non-null  object \n",
      " 15  product_category_name     87428 non-null  object \n",
      " 16  product_weight_g          87428 non-null  float64\n",
      " 17  product_length_cm         87428 non-null  float64\n",
      " 18  product_height_cm         87428 non-null  float64\n",
      " 19  product_width_cm          87428 non-null  float64\n",
      " 20  is_late                   87428 non-null  int64  \n",
      "dtypes: float64(7), int64(4), object(10)\n",
      "memory usage: 14.7+ MB\n"
     ]
    }
   ],
   "source": [
    "combined.info()"
   ]
  },
  {
   "cell_type": "code",
   "execution_count": 29,
   "metadata": {
    "execution": {
     "iopub.execute_input": "2023-09-30T06:32:50.028709Z",
     "iopub.status.busy": "2023-09-30T06:32:50.027427Z",
     "iopub.status.idle": "2023-09-30T06:32:50.059255Z",
     "shell.execute_reply": "2023-09-30T06:32:50.058525Z",
     "shell.execute_reply.started": "2023-09-30T06:32:50.028673Z"
    }
   },
   "outputs": [
    {
     "name": "stdout",
     "output_type": "stream",
     "text": [
      "<class 'pandas.core.frame.DataFrame'>\n",
      "RangeIndex: 38279 entries, 0 to 38278\n",
      "Data columns (total 20 columns):\n",
      " #   Column                    Non-Null Count  Dtype  \n",
      "---  ------                    --------------  -----  \n",
      " 0   order_purchase_timestamp  38279 non-null  object \n",
      " 1   order_approved_at         38272 non-null  object \n",
      " 2   customer_id               38279 non-null  object \n",
      " 3   customer_zip_code_prefix  38279 non-null  int64  \n",
      " 4   customer_city             38279 non-null  object \n",
      " 5   customer_state            38279 non-null  object \n",
      " 6   payment_sequential        38279 non-null  int64  \n",
      " 7   payment_type              38279 non-null  object \n",
      " 8   payment_installments      38279 non-null  int64  \n",
      " 9   payment_value             38279 non-null  float64\n",
      " 10  order_id                  38279 non-null  object \n",
      " 11  seller_id                 38279 non-null  object \n",
      " 12  price                     38279 non-null  float64\n",
      " 13  shipping_charges          38279 non-null  float64\n",
      " 14  product_id                38279 non-null  object \n",
      " 15  product_category_name     38111 non-null  object \n",
      " 16  product_weight_g          38269 non-null  float64\n",
      " 17  product_length_cm         38269 non-null  float64\n",
      " 18  product_height_cm         38269 non-null  float64\n",
      " 19  product_width_cm          38269 non-null  float64\n",
      "dtypes: float64(7), int64(3), object(10)\n",
      "memory usage: 5.8+ MB\n"
     ]
    }
   ],
   "source": [
    "df_test.info()"
   ]
  },
  {
   "cell_type": "code",
   "execution_count": 20,
   "metadata": {
    "execution": {
     "iopub.execute_input": "2023-09-30T13:26:54.946612Z",
     "iopub.status.busy": "2023-09-30T13:26:54.946294Z",
     "iopub.status.idle": "2023-09-30T13:26:55.094393Z",
     "shell.execute_reply": "2023-09-30T13:26:55.093457Z",
     "shell.execute_reply.started": "2023-09-30T13:26:54.946583Z"
    }
   },
   "outputs": [
    {
     "name": "stdout",
     "output_type": "stream",
     "text": [
      "shape of all data: (125707, 20)\n"
     ]
    }
   ],
   "source": [
    "# check the len of df_train and df_test\n",
    "ntrain = combined.shape[0]\n",
    "ntest = df_test.shape[0]\n",
    "\n",
    "# take is_late from combined\n",
    "y_train = combined['is_late'].values\n",
    "\n",
    "# concat combined and df_test\n",
    "all_data = pd.concat((combined, df_test)).reset_index(drop=True)\n",
    "all_data.drop(['is_late'], axis=1, inplace=True)\n",
    "print('shape of all data:', all_data.shape)"
   ]
  },
  {
   "cell_type": "code",
   "execution_count": 31,
   "metadata": {
    "execution": {
     "iopub.execute_input": "2023-09-30T06:35:58.145421Z",
     "iopub.status.busy": "2023-09-30T06:35:58.144362Z",
     "iopub.status.idle": "2023-09-30T06:35:59.853512Z",
     "shell.execute_reply": "2023-09-30T06:35:59.852376Z",
     "shell.execute_reply.started": "2023-09-30T06:35:58.145386Z"
    }
   },
   "outputs": [],
   "source": [
    "all_data.to_csv('train_test_no_label.csv', index=False)"
   ]
  },
  {
   "cell_type": "markdown",
   "metadata": {},
   "source": [
    "# Data Preprocessing"
   ]
  },
  {
   "cell_type": "code",
   "execution_count": 21,
   "metadata": {
    "execution": {
     "iopub.execute_input": "2023-09-30T13:27:01.406719Z",
     "iopub.status.busy": "2023-09-30T13:27:01.406399Z",
     "iopub.status.idle": "2023-09-30T13:27:01.584432Z",
     "shell.execute_reply": "2023-09-30T13:27:01.583431Z",
     "shell.execute_reply.started": "2023-09-30T13:27:01.406692Z"
    }
   },
   "outputs": [
    {
     "data": {
      "text/html": [
       "<div>\n",
       "<style scoped>\n",
       "    .dataframe tbody tr th:only-of-type {\n",
       "        vertical-align: middle;\n",
       "    }\n",
       "\n",
       "    .dataframe tbody tr th {\n",
       "        vertical-align: top;\n",
       "    }\n",
       "\n",
       "    .dataframe thead th {\n",
       "        text-align: right;\n",
       "    }\n",
       "</style>\n",
       "<table border=\"1\" class=\"dataframe\">\n",
       "  <thead>\n",
       "    <tr style=\"text-align: right;\">\n",
       "      <th></th>\n",
       "      <th>Total</th>\n",
       "      <th>Percent</th>\n",
       "    </tr>\n",
       "  </thead>\n",
       "  <tbody>\n",
       "    <tr>\n",
       "      <th>product_category_name</th>\n",
       "      <td>168</td>\n",
       "      <td>0.001336</td>\n",
       "    </tr>\n",
       "    <tr>\n",
       "      <th>product_width_cm</th>\n",
       "      <td>10</td>\n",
       "      <td>0.000080</td>\n",
       "    </tr>\n",
       "    <tr>\n",
       "      <th>product_height_cm</th>\n",
       "      <td>10</td>\n",
       "      <td>0.000080</td>\n",
       "    </tr>\n",
       "    <tr>\n",
       "      <th>product_length_cm</th>\n",
       "      <td>10</td>\n",
       "      <td>0.000080</td>\n",
       "    </tr>\n",
       "    <tr>\n",
       "      <th>product_weight_g</th>\n",
       "      <td>10</td>\n",
       "      <td>0.000080</td>\n",
       "    </tr>\n",
       "    <tr>\n",
       "      <th>order_approved_at</th>\n",
       "      <td>7</td>\n",
       "      <td>0.000056</td>\n",
       "    </tr>\n",
       "    <tr>\n",
       "      <th>product_id</th>\n",
       "      <td>0</td>\n",
       "      <td>0.000000</td>\n",
       "    </tr>\n",
       "    <tr>\n",
       "      <th>shipping_charges</th>\n",
       "      <td>0</td>\n",
       "      <td>0.000000</td>\n",
       "    </tr>\n",
       "    <tr>\n",
       "      <th>price</th>\n",
       "      <td>0</td>\n",
       "      <td>0.000000</td>\n",
       "    </tr>\n",
       "    <tr>\n",
       "      <th>seller_id</th>\n",
       "      <td>0</td>\n",
       "      <td>0.000000</td>\n",
       "    </tr>\n",
       "    <tr>\n",
       "      <th>order_purchase_timestamp</th>\n",
       "      <td>0</td>\n",
       "      <td>0.000000</td>\n",
       "    </tr>\n",
       "    <tr>\n",
       "      <th>payment_value</th>\n",
       "      <td>0</td>\n",
       "      <td>0.000000</td>\n",
       "    </tr>\n",
       "    <tr>\n",
       "      <th>payment_installments</th>\n",
       "      <td>0</td>\n",
       "      <td>0.000000</td>\n",
       "    </tr>\n",
       "    <tr>\n",
       "      <th>payment_type</th>\n",
       "      <td>0</td>\n",
       "      <td>0.000000</td>\n",
       "    </tr>\n",
       "    <tr>\n",
       "      <th>payment_sequential</th>\n",
       "      <td>0</td>\n",
       "      <td>0.000000</td>\n",
       "    </tr>\n",
       "    <tr>\n",
       "      <th>customer_state</th>\n",
       "      <td>0</td>\n",
       "      <td>0.000000</td>\n",
       "    </tr>\n",
       "    <tr>\n",
       "      <th>customer_city</th>\n",
       "      <td>0</td>\n",
       "      <td>0.000000</td>\n",
       "    </tr>\n",
       "    <tr>\n",
       "      <th>customer_zip_code_prefix</th>\n",
       "      <td>0</td>\n",
       "      <td>0.000000</td>\n",
       "    </tr>\n",
       "    <tr>\n",
       "      <th>customer_id</th>\n",
       "      <td>0</td>\n",
       "      <td>0.000000</td>\n",
       "    </tr>\n",
       "    <tr>\n",
       "      <th>order_id</th>\n",
       "      <td>0</td>\n",
       "      <td>0.000000</td>\n",
       "    </tr>\n",
       "  </tbody>\n",
       "</table>\n",
       "</div>"
      ],
      "text/plain": [
       "                          Total   Percent\n",
       "product_category_name       168  0.001336\n",
       "product_width_cm             10  0.000080\n",
       "product_height_cm            10  0.000080\n",
       "product_length_cm            10  0.000080\n",
       "product_weight_g             10  0.000080\n",
       "order_approved_at             7  0.000056\n",
       "product_id                    0  0.000000\n",
       "shipping_charges              0  0.000000\n",
       "price                         0  0.000000\n",
       "seller_id                     0  0.000000\n",
       "order_purchase_timestamp      0  0.000000\n",
       "payment_value                 0  0.000000\n",
       "payment_installments          0  0.000000\n",
       "payment_type                  0  0.000000\n",
       "payment_sequential            0  0.000000\n",
       "customer_state                0  0.000000\n",
       "customer_city                 0  0.000000\n",
       "customer_zip_code_prefix      0  0.000000\n",
       "customer_id                   0  0.000000\n",
       "order_id                      0  0.000000"
      ]
     },
     "execution_count": 21,
     "metadata": {},
     "output_type": "execute_result"
    }
   ],
   "source": [
    "total_missing_all_data = all_data.isnull().sum().sort_values(ascending=False)\n",
    "percentage_all_data = (all_data.isnull().sum()/all_data.isnull().count()).sort_values(ascending=False)\n",
    "missing_all_data = pd.concat([total_missing_all_data, percentage_all_data], axis=1, keys=['Total', 'Percent'])\n",
    "missing_all_data"
   ]
  },
  {
   "cell_type": "code",
   "execution_count": 22,
   "metadata": {
    "execution": {
     "iopub.execute_input": "2023-09-30T13:28:40.879627Z",
     "iopub.status.busy": "2023-09-30T13:28:40.879234Z",
     "iopub.status.idle": "2023-09-30T13:28:40.949836Z",
     "shell.execute_reply": "2023-09-30T13:28:40.948795Z",
     "shell.execute_reply.started": "2023-09-30T13:28:40.879590Z"
    }
   },
   "outputs": [],
   "source": [
    "# interpolation of missing date in order_approved_at\n",
    "all_data['order_approved_at'] = all_data['order_approved_at'].interpolate(method='pad')\n",
    "\n",
    "# mode imputation in product_category_name\n",
    "all_data['product_category_name'] = all_data['product_category_name'].fillna(all_data['product_category_name'].mode()[0])\n",
    "\n",
    "# median imputation in numerical columns\n",
    "missing_num = all_data[['product_weight_g', 'product_length_cm',\n",
    "                        'product_height_cm', 'product_width_cm']]\n",
    "\n",
    "for col in missing_num:\n",
    "    median_value = all_data[col].median()  # Calculate the median\n",
    "    all_data[col].fillna(median_value, inplace=True)"
   ]
  },
  {
   "cell_type": "code",
   "execution_count": 23,
   "metadata": {
    "execution": {
     "iopub.execute_input": "2023-09-30T13:28:47.889028Z",
     "iopub.status.busy": "2023-09-30T13:28:47.888686Z",
     "iopub.status.idle": "2023-09-30T13:28:47.954902Z",
     "shell.execute_reply": "2023-09-30T13:28:47.953996Z",
     "shell.execute_reply.started": "2023-09-30T13:28:47.889001Z"
    }
   },
   "outputs": [
    {
     "data": {
      "text/plain": [
       "order_purchase_timestamp    0\n",
       "order_approved_at           0\n",
       "customer_id                 0\n",
       "customer_zip_code_prefix    0\n",
       "customer_city               0\n",
       "customer_state              0\n",
       "payment_sequential          0\n",
       "payment_type                0\n",
       "payment_installments        0\n",
       "payment_value               0\n",
       "order_id                    0\n",
       "seller_id                   0\n",
       "price                       0\n",
       "shipping_charges            0\n",
       "product_id                  0\n",
       "product_category_name       0\n",
       "product_weight_g            0\n",
       "product_length_cm           0\n",
       "product_height_cm           0\n",
       "product_width_cm            0\n",
       "dtype: int64"
      ]
     },
     "execution_count": 23,
     "metadata": {},
     "output_type": "execute_result"
    }
   ],
   "source": [
    "all_data.isnull().sum()"
   ]
  },
  {
   "cell_type": "markdown",
   "metadata": {},
   "source": [
    "# EDA"
   ]
  },
  {
   "cell_type": "code",
   "execution_count": 25,
   "metadata": {
    "execution": {
     "iopub.execute_input": "2023-09-30T13:35:49.116382Z",
     "iopub.status.busy": "2023-09-30T13:35:49.116050Z",
     "iopub.status.idle": "2023-09-30T13:35:49.135455Z",
     "shell.execute_reply": "2023-09-30T13:35:49.134441Z",
     "shell.execute_reply.started": "2023-09-30T13:35:49.116357Z"
    }
   },
   "outputs": [
    {
     "data": {
      "text/html": [
       "<div>\n",
       "<style scoped>\n",
       "    .dataframe tbody tr th:only-of-type {\n",
       "        vertical-align: middle;\n",
       "    }\n",
       "\n",
       "    .dataframe tbody tr th {\n",
       "        vertical-align: top;\n",
       "    }\n",
       "\n",
       "    .dataframe thead th {\n",
       "        text-align: right;\n",
       "    }\n",
       "</style>\n",
       "<table border=\"1\" class=\"dataframe\">\n",
       "  <thead>\n",
       "    <tr style=\"text-align: right;\">\n",
       "      <th></th>\n",
       "      <th>order_purchase_timestamp</th>\n",
       "      <th>order_approved_at</th>\n",
       "      <th>customer_id</th>\n",
       "      <th>customer_zip_code_prefix</th>\n",
       "      <th>customer_city</th>\n",
       "      <th>customer_state</th>\n",
       "      <th>payment_sequential</th>\n",
       "      <th>payment_type</th>\n",
       "      <th>payment_installments</th>\n",
       "      <th>payment_value</th>\n",
       "      <th>order_id</th>\n",
       "      <th>seller_id</th>\n",
       "      <th>price</th>\n",
       "      <th>shipping_charges</th>\n",
       "      <th>product_id</th>\n",
       "      <th>product_category_name</th>\n",
       "      <th>product_weight_g</th>\n",
       "      <th>product_length_cm</th>\n",
       "      <th>product_height_cm</th>\n",
       "      <th>product_width_cm</th>\n",
       "    </tr>\n",
       "  </thead>\n",
       "  <tbody>\n",
       "    <tr>\n",
       "      <th>0</th>\n",
       "      <td>2017-10-22 18:57:54</td>\n",
       "      <td>2017-10-22 19:14:13</td>\n",
       "      <td>hCT0x9JiGXBQ</td>\n",
       "      <td>58125</td>\n",
       "      <td>varzea paulista</td>\n",
       "      <td>SP</td>\n",
       "      <td>1</td>\n",
       "      <td>credit_card</td>\n",
       "      <td>1</td>\n",
       "      <td>259.14</td>\n",
       "      <td>Axfy13Hk4PIk</td>\n",
       "      <td>ZWM05J9LcBSF</td>\n",
       "      <td>223.51</td>\n",
       "      <td>84.65</td>\n",
       "      <td>90K0C1fIyQUf</td>\n",
       "      <td>toys</td>\n",
       "      <td>491.0</td>\n",
       "      <td>19.0</td>\n",
       "      <td>12.0</td>\n",
       "      <td>16.0</td>\n",
       "    </tr>\n",
       "    <tr>\n",
       "      <th>1</th>\n",
       "      <td>2018-06-20 21:40:31</td>\n",
       "      <td>2018-06-20 22:20:20</td>\n",
       "      <td>PxA7fv9spyhx</td>\n",
       "      <td>3112</td>\n",
       "      <td>armacao dos buzios</td>\n",
       "      <td>RJ</td>\n",
       "      <td>1</td>\n",
       "      <td>credit_card</td>\n",
       "      <td>8</td>\n",
       "      <td>382.39</td>\n",
       "      <td>v6px92oS8cLG</td>\n",
       "      <td>IjlpYfhUbRQs</td>\n",
       "      <td>170.80</td>\n",
       "      <td>23.79</td>\n",
       "      <td>qejhpMGGVcsl</td>\n",
       "      <td>watches_gifts</td>\n",
       "      <td>440.0</td>\n",
       "      <td>18.0</td>\n",
       "      <td>14.0</td>\n",
       "      <td>17.0</td>\n",
       "    </tr>\n",
       "    <tr>\n",
       "      <th>2</th>\n",
       "      <td>2018-02-16 16:19:31</td>\n",
       "      <td>2018-02-17 16:15:35</td>\n",
       "      <td>g3nXeJkGI0Qw</td>\n",
       "      <td>4119</td>\n",
       "      <td>jandira</td>\n",
       "      <td>SP</td>\n",
       "      <td>1</td>\n",
       "      <td>credit_card</td>\n",
       "      <td>4</td>\n",
       "      <td>249.25</td>\n",
       "      <td>Ulpf9skrhjfm</td>\n",
       "      <td>77p2EYxcM9MD</td>\n",
       "      <td>64.40</td>\n",
       "      <td>17.38</td>\n",
       "      <td>qUS5d2pEAyxJ</td>\n",
       "      <td>costruction_tools_garden</td>\n",
       "      <td>2200.0</td>\n",
       "      <td>16.0</td>\n",
       "      <td>16.0</td>\n",
       "      <td>16.0</td>\n",
       "    </tr>\n",
       "    <tr>\n",
       "      <th>3</th>\n",
       "      <td>2018-08-18 18:04:29</td>\n",
       "      <td>2018-08-18 18:15:16</td>\n",
       "      <td>EOEsCQ6QlpIg</td>\n",
       "      <td>18212</td>\n",
       "      <td>uberlandia</td>\n",
       "      <td>MG</td>\n",
       "      <td>1</td>\n",
       "      <td>credit_card</td>\n",
       "      <td>2</td>\n",
       "      <td>27.79</td>\n",
       "      <td>bwJVWupf2keN</td>\n",
       "      <td>jWzS0ayv9TGf</td>\n",
       "      <td>264.50</td>\n",
       "      <td>30.72</td>\n",
       "      <td>639iGvMyv0De</td>\n",
       "      <td>toys</td>\n",
       "      <td>1450.0</td>\n",
       "      <td>68.0</td>\n",
       "      <td>3.0</td>\n",
       "      <td>48.0</td>\n",
       "    </tr>\n",
       "    <tr>\n",
       "      <th>4</th>\n",
       "      <td>2017-12-22 16:44:04</td>\n",
       "      <td>2017-12-22 17:31:31</td>\n",
       "      <td>mVz5LO2Vd6cL</td>\n",
       "      <td>88868</td>\n",
       "      <td>ilhabela</td>\n",
       "      <td>SP</td>\n",
       "      <td>1</td>\n",
       "      <td>credit_card</td>\n",
       "      <td>1</td>\n",
       "      <td>76.15</td>\n",
       "      <td>Dd0QnrMk9Cj5</td>\n",
       "      <td>l1pYW6GBnPMr</td>\n",
       "      <td>779.90</td>\n",
       "      <td>30.66</td>\n",
       "      <td>1lycYGcsic2F</td>\n",
       "      <td>toys</td>\n",
       "      <td>300.0</td>\n",
       "      <td>17.0</td>\n",
       "      <td>4.0</td>\n",
       "      <td>12.0</td>\n",
       "    </tr>\n",
       "  </tbody>\n",
       "</table>\n",
       "</div>"
      ],
      "text/plain": [
       "  order_purchase_timestamp    order_approved_at   customer_id  \\\n",
       "0      2017-10-22 18:57:54  2017-10-22 19:14:13  hCT0x9JiGXBQ   \n",
       "1      2018-06-20 21:40:31  2018-06-20 22:20:20  PxA7fv9spyhx   \n",
       "2      2018-02-16 16:19:31  2018-02-17 16:15:35  g3nXeJkGI0Qw   \n",
       "3      2018-08-18 18:04:29  2018-08-18 18:15:16  EOEsCQ6QlpIg   \n",
       "4      2017-12-22 16:44:04  2017-12-22 17:31:31  mVz5LO2Vd6cL   \n",
       "\n",
       "   customer_zip_code_prefix       customer_city customer_state  \\\n",
       "0                     58125     varzea paulista             SP   \n",
       "1                      3112  armacao dos buzios             RJ   \n",
       "2                      4119             jandira             SP   \n",
       "3                     18212          uberlandia             MG   \n",
       "4                     88868            ilhabela             SP   \n",
       "\n",
       "   payment_sequential payment_type  payment_installments  payment_value  \\\n",
       "0                   1  credit_card                     1         259.14   \n",
       "1                   1  credit_card                     8         382.39   \n",
       "2                   1  credit_card                     4         249.25   \n",
       "3                   1  credit_card                     2          27.79   \n",
       "4                   1  credit_card                     1          76.15   \n",
       "\n",
       "       order_id     seller_id   price  shipping_charges    product_id  \\\n",
       "0  Axfy13Hk4PIk  ZWM05J9LcBSF  223.51             84.65  90K0C1fIyQUf   \n",
       "1  v6px92oS8cLG  IjlpYfhUbRQs  170.80             23.79  qejhpMGGVcsl   \n",
       "2  Ulpf9skrhjfm  77p2EYxcM9MD   64.40             17.38  qUS5d2pEAyxJ   \n",
       "3  bwJVWupf2keN  jWzS0ayv9TGf  264.50             30.72  639iGvMyv0De   \n",
       "4  Dd0QnrMk9Cj5  l1pYW6GBnPMr  779.90             30.66  1lycYGcsic2F   \n",
       "\n",
       "      product_category_name  product_weight_g  product_length_cm  \\\n",
       "0                      toys             491.0               19.0   \n",
       "1             watches_gifts             440.0               18.0   \n",
       "2  costruction_tools_garden            2200.0               16.0   \n",
       "3                      toys            1450.0               68.0   \n",
       "4                      toys             300.0               17.0   \n",
       "\n",
       "   product_height_cm  product_width_cm  \n",
       "0               12.0              16.0  \n",
       "1               14.0              17.0  \n",
       "2               16.0              16.0  \n",
       "3                3.0              48.0  \n",
       "4                4.0              12.0  "
      ]
     },
     "execution_count": 25,
     "metadata": {},
     "output_type": "execute_result"
    }
   ],
   "source": [
    "all_data.head()"
   ]
  },
  {
   "cell_type": "code",
   "execution_count": 36,
   "metadata": {
    "execution": {
     "iopub.execute_input": "2023-09-30T06:47:47.180520Z",
     "iopub.status.busy": "2023-09-30T06:47:47.180174Z",
     "iopub.status.idle": "2023-09-30T06:47:49.591438Z",
     "shell.execute_reply": "2023-09-30T06:47:49.590674Z",
     "shell.execute_reply.started": "2023-09-30T06:47:47.180494Z"
    }
   },
   "outputs": [
    {
     "name": "stderr",
     "output_type": "stream",
     "text": [
      "/tmp/ipykernel_32/4062946936.py:7: UserWarning: The figure layout has changed to tight\n",
      "  plt.tight_layout()\n",
      "/tmp/ipykernel_32/4062946936.py:7: UserWarning: The figure layout has changed to tight\n",
      "  plt.tight_layout()\n",
      "/tmp/ipykernel_32/4062946936.py:7: UserWarning: The figure layout has changed to tight\n",
      "  plt.tight_layout()\n",
      "/tmp/ipykernel_32/4062946936.py:7: UserWarning: The figure layout has changed to tight\n",
      "  plt.tight_layout()\n",
      "/tmp/ipykernel_32/4062946936.py:7: UserWarning: The figure layout has changed to tight\n",
      "  plt.tight_layout()\n",
      "/tmp/ipykernel_32/4062946936.py:7: UserWarning: The figure layout has changed to tight\n",
      "  plt.tight_layout()\n",
      "/tmp/ipykernel_32/4062946936.py:7: UserWarning: The figure layout has changed to tight\n",
      "  plt.tight_layout()\n",
      "/tmp/ipykernel_32/4062946936.py:7: UserWarning: The figure layout has changed to tight\n",
      "  plt.tight_layout()\n",
      "/tmp/ipykernel_32/4062946936.py:7: UserWarning: The figure layout has changed to tight\n",
      "  plt.tight_layout()\n"
     ]
    },
    {
     "data": {
      "image/png": "[encoded data removed]",
      "text/plain": [
       "<Figure size 1200x900 with 10 Axes>"
      ]
     },
     "metadata": {},
     "output_type": "display_data"
    }
   ],
   "source": [
    "num = all_data.select_dtypes(include=['float64', 'int64']).columns # numerical features\n",
    "\n",
    "plt.figure(figsize=(12,9))\n",
    "for i in range(0,len(num)):\n",
    "    plt.subplot(5,int(len(num)/3),i+1)\n",
    "    sns.boxplot(data=all_data, x=all_data[num[i]])\n",
    "    plt.tight_layout()"
   ]
  },
  {
   "cell_type": "code",
   "execution_count": 37,
   "metadata": {
    "execution": {
     "iopub.execute_input": "2023-09-30T06:48:29.605299Z",
     "iopub.status.busy": "2023-09-30T06:48:29.604941Z",
     "iopub.status.idle": "2023-09-30T06:48:30.230626Z",
     "shell.execute_reply": "2023-09-30T06:48:30.229549Z",
     "shell.execute_reply.started": "2023-09-30T06:48:29.605270Z"
    }
   },
   "outputs": [
    {
     "data": {
      "image/png": "[encoded data removed]",
      "text/plain": [
       "<Figure size 2000x1500 with 2 Axes>"
      ]
     },
     "metadata": {},
     "output_type": "display_data"
    }
   ],
   "source": [
    "# some categorical features\n",
    "cat = all_data[['customer_state', 'payment_type']]\n",
    "\n",
    "fig = plt.figure(figsize=(20,15))\n",
    "for index,col in enumerate(cat):\n",
    "    plt.subplot(5,3,index+1)\n",
    "    sns.countplot(x=col, data=all_data)\n",
    "fig.tight_layout(pad=1.0)"
   ]
  },
  {
   "cell_type": "code",
   "execution_count": 24,
   "metadata": {
    "execution": {
     "iopub.execute_input": "2023-09-30T13:29:28.635374Z",
     "iopub.status.busy": "2023-09-30T13:29:28.634709Z",
     "iopub.status.idle": "2023-09-30T13:29:28.682876Z",
     "shell.execute_reply": "2023-09-30T13:29:28.681986Z",
     "shell.execute_reply.started": "2023-09-30T13:29:28.635343Z"
    }
   },
   "outputs": [
    {
     "name": "stdout",
     "output_type": "stream",
     "text": [
      "payment_type\n",
      "credit_card    92700\n",
      "wallet         24371\n",
      "voucher         6880\n",
      "debit_card      1756\n",
      "Name: count, dtype: int64\n",
      "==============================\n",
      "customer_state\n",
      "SP    53289\n",
      "RJ    16328\n",
      "MG    14550\n",
      "RS     7038\n",
      "PR     6356\n",
      "SC     4566\n",
      "BA     4289\n",
      "DF     2599\n",
      "GO     2556\n",
      "ES     2529\n",
      "PE     2050\n",
      "CE     1573\n",
      "MT     1170\n",
      "PA     1160\n",
      "MA      905\n",
      "MS      892\n",
      "PB      675\n",
      "PI      592\n",
      "RN      590\n",
      "AL      467\n",
      "SE      419\n",
      "TO      351\n",
      "RO      333\n",
      "AM      190\n",
      "AC      104\n",
      "AP       87\n",
      "RR       49\n",
      "Name: count, dtype: int64\n",
      "==============================\n",
      "nunique customer state: 27\n",
      "==============================\n",
      "nunique customer zip state: 14920\n",
      "==============================\n",
      "nunique customer city: 4093\n",
      "==============================\n",
      "nunique product category name: 70\n"
     ]
    }
   ],
   "source": [
    "print(all_data.payment_type.value_counts())\n",
    "print('==='*10)\n",
    "print(all_data.customer_state.value_counts())\n",
    "print('==='*10)\n",
    "print('nunique customer state:', all_data.customer_state.nunique())\n",
    "print('==='*10)\n",
    "print('nunique customer zip state:', all_data.customer_zip_code_prefix.nunique())\n",
    "print('==='*10)\n",
    "# here's why above plot can't show proper countplot in customer_city and product_category_name, because you have too many unique value\n",
    "print('nunique customer city:', all_data['customer_city'].nunique())\n",
    "print('==='*10)\n",
    "print('nunique product category name:', all_data.product_category_name.nunique())"
   ]
  },
  {
   "cell_type": "code",
   "execution_count": 26,
   "metadata": {
    "execution": {
     "iopub.execute_input": "2023-09-30T13:52:40.078614Z",
     "iopub.status.busy": "2023-09-30T13:52:40.078293Z",
     "iopub.status.idle": "2023-09-30T13:52:40.151988Z",
     "shell.execute_reply": "2023-09-30T13:52:40.150960Z",
     "shell.execute_reply.started": "2023-09-30T13:52:40.078588Z"
    }
   },
   "outputs": [
    {
     "name": "stdout",
     "output_type": "stream",
     "text": [
      "product_id      32497\n",
      "customer_id    125707\n",
      "seller_id        3034\n",
      "order_id       125707\n",
      "dtype: int64\n"
     ]
    }
   ],
   "source": [
    "# check total unique value in product, customer, seller, and order id\n",
    "id_all = all_data[['product_id', 'customer_id', 'seller_id', 'order_id']]\n",
    "print(id_all.nunique())\n",
    "\n",
    "# i think customer_id, product_id, order_id doesn't correlated to shipping late as they're just unique id to distinguish customer, product, and order\n",
    "# seller_id could potentially cause shipping late, but it's just my hypothesis"
   ]
  },
  {
   "cell_type": "code",
   "execution_count": 27,
   "metadata": {
    "execution": {
     "iopub.execute_input": "2023-09-30T13:52:46.392462Z",
     "iopub.status.busy": "2023-09-30T13:52:46.392142Z",
     "iopub.status.idle": "2023-09-30T13:52:46.412629Z",
     "shell.execute_reply": "2023-09-30T13:52:46.411767Z",
     "shell.execute_reply.started": "2023-09-30T13:52:46.392435Z"
    }
   },
   "outputs": [],
   "source": [
    "# DATA PREPROCESSING\n",
    "# handling id: just drop all id\n",
    "# customer_zip_code_prefix, customer_city: drop them. we already have customer_state that represent destination\n",
    "\n",
    "all_data = all_data.drop(columns=['product_id', 'customer_id',\n",
    "                                  'order_id', 'seller_id',\n",
    "                                 'customer_zip_code_prefix',\n",
    "                                'customer_city'], axis=1)"
   ]
  },
  {
   "cell_type": "markdown",
   "metadata": {},
   "source": [
    "# Feature Engineering"
   ]
  },
  {
   "cell_type": "code",
   "execution_count": 28,
   "metadata": {
    "execution": {
     "iopub.execute_input": "2023-09-30T13:54:35.085787Z",
     "iopub.status.busy": "2023-09-30T13:54:35.085278Z",
     "iopub.status.idle": "2023-09-30T13:54:35.165771Z",
     "shell.execute_reply": "2023-09-30T13:54:35.164715Z",
     "shell.execute_reply.started": "2023-09-30T13:54:35.085747Z"
    }
   },
   "outputs": [
    {
     "name": "stdout",
     "output_type": "stream",
     "text": [
      "<class 'pandas.core.frame.DataFrame'>\n",
      "RangeIndex: 125707 entries, 0 to 125706\n",
      "Data columns (total 14 columns):\n",
      " #   Column                    Non-Null Count   Dtype  \n",
      "---  ------                    --------------   -----  \n",
      " 0   order_purchase_timestamp  125707 non-null  object \n",
      " 1   order_approved_at         125707 non-null  object \n",
      " 2   customer_state            125707 non-null  object \n",
      " 3   payment_sequential        125707 non-null  int64  \n",
      " 4   payment_type              125707 non-null  object \n",
      " 5   payment_installments      125707 non-null  int64  \n",
      " 6   payment_value             125707 non-null  float64\n",
      " 7   price                     125707 non-null  float64\n",
      " 8   shipping_charges          125707 non-null  float64\n",
      " 9   product_category_name     125707 non-null  object \n",
      " 10  product_weight_g          125707 non-null  float64\n",
      " 11  product_length_cm         125707 non-null  float64\n",
      " 12  product_height_cm         125707 non-null  float64\n",
      " 13  product_width_cm          125707 non-null  float64\n",
      "dtypes: float64(7), int64(2), object(5)\n",
      "memory usage: 13.4+ MB\n"
     ]
    }
   ],
   "source": [
    "all_data.info()"
   ]
  },
  {
   "cell_type": "code",
   "execution_count": 44,
   "metadata": {
    "execution": {
     "iopub.execute_input": "2023-09-30T06:55:32.426715Z",
     "iopub.status.busy": "2023-09-30T06:55:32.426340Z",
     "iopub.status.idle": "2023-09-30T06:55:32.444145Z",
     "shell.execute_reply": "2023-09-30T06:55:32.443148Z",
     "shell.execute_reply.started": "2023-09-30T06:55:32.426687Z"
    }
   },
   "outputs": [
    {
     "data": {
      "text/html": [
       "<div>\n",
       "<style scoped>\n",
       "    .dataframe tbody tr th:only-of-type {\n",
       "        vertical-align: middle;\n",
       "    }\n",
       "\n",
       "    .dataframe tbody tr th {\n",
       "        vertical-align: top;\n",
       "    }\n",
       "\n",
       "    .dataframe thead th {\n",
       "        text-align: right;\n",
       "    }\n",
       "</style>\n",
       "<table border=\"1\" class=\"dataframe\">\n",
       "  <thead>\n",
       "    <tr style=\"text-align: right;\">\n",
       "      <th></th>\n",
       "      <th>order_purchase_timestamp</th>\n",
       "      <th>order_approved_at</th>\n",
       "      <th>customer_state</th>\n",
       "      <th>payment_sequential</th>\n",
       "      <th>payment_type</th>\n",
       "      <th>payment_installments</th>\n",
       "      <th>payment_value</th>\n",
       "      <th>price</th>\n",
       "      <th>shipping_charges</th>\n",
       "      <th>product_category_name</th>\n",
       "      <th>product_weight_g</th>\n",
       "      <th>product_length_cm</th>\n",
       "      <th>product_height_cm</th>\n",
       "      <th>product_width_cm</th>\n",
       "    </tr>\n",
       "  </thead>\n",
       "  <tbody>\n",
       "    <tr>\n",
       "      <th>0</th>\n",
       "      <td>2017-10-22 18:57:54</td>\n",
       "      <td>2017-10-22 19:14:13</td>\n",
       "      <td>SP</td>\n",
       "      <td>1</td>\n",
       "      <td>credit_card</td>\n",
       "      <td>1</td>\n",
       "      <td>259.14</td>\n",
       "      <td>223.51</td>\n",
       "      <td>84.65</td>\n",
       "      <td>None</td>\n",
       "      <td>491.0</td>\n",
       "      <td>19.0</td>\n",
       "      <td>12.0</td>\n",
       "      <td>16.0</td>\n",
       "    </tr>\n",
       "    <tr>\n",
       "      <th>1</th>\n",
       "      <td>2018-06-20 21:40:31</td>\n",
       "      <td>2018-06-20 22:20:20</td>\n",
       "      <td>RJ</td>\n",
       "      <td>1</td>\n",
       "      <td>credit_card</td>\n",
       "      <td>8</td>\n",
       "      <td>382.39</td>\n",
       "      <td>170.80</td>\n",
       "      <td>23.79</td>\n",
       "      <td>None</td>\n",
       "      <td>440.0</td>\n",
       "      <td>18.0</td>\n",
       "      <td>14.0</td>\n",
       "      <td>17.0</td>\n",
       "    </tr>\n",
       "    <tr>\n",
       "      <th>2</th>\n",
       "      <td>2018-02-16 16:19:31</td>\n",
       "      <td>2018-02-17 16:15:35</td>\n",
       "      <td>SP</td>\n",
       "      <td>1</td>\n",
       "      <td>credit_card</td>\n",
       "      <td>4</td>\n",
       "      <td>249.25</td>\n",
       "      <td>64.40</td>\n",
       "      <td>17.38</td>\n",
       "      <td>None</td>\n",
       "      <td>2200.0</td>\n",
       "      <td>16.0</td>\n",
       "      <td>16.0</td>\n",
       "      <td>16.0</td>\n",
       "    </tr>\n",
       "    <tr>\n",
       "      <th>3</th>\n",
       "      <td>2018-08-18 18:04:29</td>\n",
       "      <td>2018-08-18 18:15:16</td>\n",
       "      <td>MG</td>\n",
       "      <td>1</td>\n",
       "      <td>credit_card</td>\n",
       "      <td>2</td>\n",
       "      <td>27.79</td>\n",
       "      <td>264.50</td>\n",
       "      <td>30.72</td>\n",
       "      <td>None</td>\n",
       "      <td>1450.0</td>\n",
       "      <td>68.0</td>\n",
       "      <td>3.0</td>\n",
       "      <td>48.0</td>\n",
       "    </tr>\n",
       "    <tr>\n",
       "      <th>4</th>\n",
       "      <td>2017-12-22 16:44:04</td>\n",
       "      <td>2017-12-22 17:31:31</td>\n",
       "      <td>SP</td>\n",
       "      <td>1</td>\n",
       "      <td>credit_card</td>\n",
       "      <td>1</td>\n",
       "      <td>76.15</td>\n",
       "      <td>779.90</td>\n",
       "      <td>30.66</td>\n",
       "      <td>None</td>\n",
       "      <td>300.0</td>\n",
       "      <td>17.0</td>\n",
       "      <td>4.0</td>\n",
       "      <td>12.0</td>\n",
       "    </tr>\n",
       "  </tbody>\n",
       "</table>\n",
       "</div>"
      ],
      "text/plain": [
       "  order_purchase_timestamp    order_approved_at customer_state  \\\n",
       "0      2017-10-22 18:57:54  2017-10-22 19:14:13             SP   \n",
       "1      2018-06-20 21:40:31  2018-06-20 22:20:20             RJ   \n",
       "2      2018-02-16 16:19:31  2018-02-17 16:15:35             SP   \n",
       "3      2018-08-18 18:04:29  2018-08-18 18:15:16             MG   \n",
       "4      2017-12-22 16:44:04  2017-12-22 17:31:31             SP   \n",
       "\n",
       "   payment_sequential payment_type  payment_installments  payment_value  \\\n",
       "0                   1  credit_card                     1         259.14   \n",
       "1                   1  credit_card                     8         382.39   \n",
       "2                   1  credit_card                     4         249.25   \n",
       "3                   1  credit_card                     2          27.79   \n",
       "4                   1  credit_card                     1          76.15   \n",
       "\n",
       "    price  shipping_charges product_category_name  product_weight_g  \\\n",
       "0  223.51             84.65                  None             491.0   \n",
       "1  170.80             23.79                  None             440.0   \n",
       "2   64.40             17.38                  None            2200.0   \n",
       "3  264.50             30.72                  None            1450.0   \n",
       "4  779.90             30.66                  None             300.0   \n",
       "\n",
       "   product_length_cm  product_height_cm  product_width_cm  \n",
       "0               19.0               12.0              16.0  \n",
       "1               18.0               14.0              17.0  \n",
       "2               16.0               16.0              16.0  \n",
       "3               68.0                3.0              48.0  \n",
       "4               17.0                4.0              12.0  "
      ]
     },
     "execution_count": 44,
     "metadata": {},
     "output_type": "execute_result"
    }
   ],
   "source": [
    "all_data.head()"
   ]
  },
  {
   "cell_type": "code",
   "execution_count": 29,
   "metadata": {
    "execution": {
     "iopub.execute_input": "2023-09-30T13:54:44.291288Z",
     "iopub.status.busy": "2023-09-30T13:54:44.290878Z",
     "iopub.status.idle": "2023-09-30T13:54:44.332977Z",
     "shell.execute_reply": "2023-09-30T13:54:44.331899Z",
     "shell.execute_reply.started": "2023-09-30T13:54:44.291261Z"
    }
   },
   "outputs": [],
   "source": [
    "# create new feature: product_volume\n",
    "all_data['product_volume'] = all_data.product_length_cm * all_data.product_height_cm * all_data.product_width_cm\n",
    "\n",
    "# drop these 3 columns\n",
    "all_data = all_data.drop(columns=['product_length_cm', 'product_height_cm', 'product_width_cm'], axis=1)\n",
    "\n",
    "# create new feature: money_spend\n",
    "all_data['money_spend'] = all_data.price + all_data.shipping_charges\n",
    "\n",
    "# drop 2 columns\n",
    "all_data = all_data.drop(columns=['price', 'shipping_charges'], axis=1)"
   ]
  },
  {
   "cell_type": "markdown",
   "metadata": {},
   "source": [
    "### simplify product_category_name"
   ]
  },
  {
   "cell_type": "code",
   "execution_count": 26,
   "metadata": {
    "execution": {
     "iopub.execute_input": "2023-09-30T07:24:41.618430Z",
     "iopub.status.busy": "2023-09-30T07:24:41.618069Z",
     "iopub.status.idle": "2023-09-30T07:24:41.630829Z",
     "shell.execute_reply": "2023-09-30T07:24:41.629012Z",
     "shell.execute_reply.started": "2023-09-30T07:24:41.618405Z"
    }
   },
   "outputs": [
    {
     "data": {
      "text/plain": [
       "array(['toys', 'watches_gifts', 'costruction_tools_garden',\n",
       "       'bed_bath_table', 'auto', 'health_beauty', 'cool_stuff',\n",
       "       'garden_tools', 'furniture_decor', 'fashion_shoes',\n",
       "       'sports_leisure', 'baby', 'housewares',\n",
       "       'construction_tools_construction', 'electronics',\n",
       "       'home_appliances', 'audio', 'consoles_games', 'stationery',\n",
       "       'furniture_living_room', 'computers_accessories', 'perfumery',\n",
       "       'kitchen_dining_laundry_garden_furniture',\n",
       "       'fashion_bags_accessories', 'market_place', 'telephony',\n",
       "       'home_construction', 'office_furniture',\n",
       "       'industry_commerce_and_business', 'food_drink', 'drinks',\n",
       "       'agro_industry_and_commerce', 'signaling_and_security', 'food',\n",
       "       'pet_shop', 'luggage_accessories', 'home_appliances_2',\n",
       "       'small_appliances', 'tablets_printing_image',\n",
       "       'construction_tools_lights', 'musical_instruments', 'home_confort',\n",
       "       'air_conditioning', 'construction_tools_safety',\n",
       "       'costruction_tools_tools', 'books_technical',\n",
       "       'books_general_interest', 'books_imported', 'computers',\n",
       "       'cine_photo', 'music', 'fashion_male_clothing', 'fashion_sport',\n",
       "       'fixed_telephony', 'fashion_underwear_beach', 'furniture_bedroom',\n",
       "       'art', 'christmas_supplies', 'dvds_blu_ray', 'flowers',\n",
       "       'la_cuisine', 'furniture_mattress_and_upholstery',\n",
       "       'small_appliances_home_oven_and_coffee', 'home_comfort_2',\n",
       "       'arts_and_craftmanship', 'party_supplies',\n",
       "       'fashion_childrens_clothes', 'fashio_female_clothing',\n",
       "       'security_and_services', 'diapers_and_hygiene'], dtype=object)"
      ]
     },
     "execution_count": 26,
     "metadata": {},
     "output_type": "execute_result"
    }
   ],
   "source": [
    "all_data['product_category_name'].unique() #nunqie = 70"
   ]
  },
  {
   "cell_type": "code",
   "execution_count": 30,
   "metadata": {
    "execution": {
     "iopub.execute_input": "2023-09-30T13:54:50.679281Z",
     "iopub.status.busy": "2023-09-30T13:54:50.678947Z",
     "iopub.status.idle": "2023-09-30T13:54:50.686822Z",
     "shell.execute_reply": "2023-09-30T13:54:50.685763Z",
     "shell.execute_reply.started": "2023-09-30T13:54:50.679256Z"
    }
   },
   "outputs": [],
   "source": [
    "def classify_product_cat(x):\n",
    "    \n",
    "    if x in ['office_furniture', 'furniture_decor', 'furniture_living_room', 'kitchen_dining_laundry_garden_furniture', 'bed_bath_table', 'home_comfort', 'home_comfort_2', 'home_construction', 'garden_tools', 'furniture_bedroom', 'furniture_mattress_and_upholstery']:\n",
    "        return 'Furniture'\n",
    "    \n",
    "    elif x in ['auto', 'computers_accessories', 'musical_instruments', 'consoles_games', 'watches_gifts', 'air_conditioning', 'telephony', 'electronics', 'fixed_telephony', 'tablets_printing_image', 'computers', 'small_appliances_home_oven_and_coffee', 'small_appliances', 'audio', 'signaling_and_security', 'security_and_services']:\n",
    "        return 'Electronics'\n",
    "    \n",
    "    elif x in ['fashio_female_clothing', 'fashion_male_clothing', 'fashion_bags_accessories', 'fashion_shoes', 'fashion_sport', 'fashion_underwear_beach', 'fashion_childrens_clothes', 'baby', 'cool_stuff', ]:\n",
    "        return 'Fashion'\n",
    "    \n",
    "    elif x in ['housewares', 'home_confort', 'home_appliances', 'home_appliances_2', 'flowers', 'costruction_tools_garden', 'garden_tools', 'construction_tools_lights', 'costruction_tools_tools', 'luggage_accessories', 'la_cuisine', 'pet_shop', 'market_place']:\n",
    "        return 'Home & Garden'\n",
    "    \n",
    "    elif x in ['sports_leisure', 'toys', 'cds_dvds_musicals', 'music', 'dvds_blu_ray', 'cine_photo', 'party_supplies', 'christmas_supplies', 'arts_and_craftmanship', 'art']:\n",
    "        return 'Entertainment'\n",
    "    \n",
    "    elif x in ['health_beauty', 'perfumery', 'diapers_and_hygiene']:\n",
    "        return 'Beauty & Health'\n",
    "    \n",
    "    elif x in ['food_drink', 'drinks', 'food']:\n",
    "        return 'Food & Drinks'\n",
    "    \n",
    "    elif x in ['books_general_interest', 'books_technical', 'books_imported', 'stationery']:\n",
    "        return 'Books & Stationery'\n",
    "    \n",
    "    elif x in ['construction_tools_construction', 'construction_tools_safety', 'industry_commerce_and_business', 'agro_industry_and_commerce']:\n",
    "        return 'Industry & Construction'"
   ]
  },
  {
   "cell_type": "code",
   "execution_count": 31,
   "metadata": {
    "execution": {
     "iopub.execute_input": "2023-09-30T13:55:03.054068Z",
     "iopub.status.busy": "2023-09-30T13:55:03.053518Z",
     "iopub.status.idle": "2023-09-30T13:55:03.210868Z",
     "shell.execute_reply": "2023-09-30T13:55:03.209894Z",
     "shell.execute_reply.started": "2023-09-30T13:55:03.054023Z"
    }
   },
   "outputs": [],
   "source": [
    "all_data['product_category_name'] = all_data.product_category_name.apply(classify_product_cat)"
   ]
  },
  {
   "cell_type": "code",
   "execution_count": 29,
   "metadata": {
    "execution": {
     "iopub.execute_input": "2023-09-30T07:25:00.739891Z",
     "iopub.status.busy": "2023-09-30T07:25:00.739530Z",
     "iopub.status.idle": "2023-09-30T07:25:00.755292Z",
     "shell.execute_reply": "2023-09-30T07:25:00.753833Z",
     "shell.execute_reply.started": "2023-09-30T07:25:00.739863Z"
    }
   },
   "outputs": [
    {
     "data": {
      "text/plain": [
       "product_category_name\n",
       "Entertainment              97496\n",
       "Electronics                 8439\n",
       "Furniture                   7835\n",
       "Beauty & Health             4240\n",
       "Home & Garden               3512\n",
       "Fashion                     2593\n",
       "Books & Stationery           895\n",
       "Industry & Construction      463\n",
       "Food & Drinks                234\n",
       "Name: count, dtype: int64"
      ]
     },
     "execution_count": 29,
     "metadata": {},
     "output_type": "execute_result"
    }
   ],
   "source": [
    "all_data['product_category_name'].value_counts()"
   ]
  },
  {
   "cell_type": "markdown",
   "metadata": {},
   "source": [
    "### extract new features from datetime64"
   ]
  },
  {
   "cell_type": "code",
   "execution_count": 34,
   "metadata": {
    "execution": {
     "iopub.execute_input": "2023-09-30T13:56:44.579369Z",
     "iopub.status.busy": "2023-09-30T13:56:44.579041Z",
     "iopub.status.idle": "2023-09-30T13:56:44.584861Z",
     "shell.execute_reply": "2023-09-30T13:56:44.583691Z",
     "shell.execute_reply.started": "2023-09-30T13:56:44.579343Z"
    }
   },
   "outputs": [],
   "source": [
    "from sklearn.preprocessing import FunctionTransformer\n",
    "\n",
    "def sin_transformer(period):\n",
    "    return FunctionTransformer(lambda x: np.sin(x / period * 2 * np.pi))\n",
    "\n",
    "def cos_transformer(period):\n",
    "    return FunctionTransformer(lambda x: np.cos(x / period * 2 * np.pi))"
   ]
  },
  {
   "cell_type": "code",
   "execution_count": 35,
   "metadata": {
    "execution": {
     "iopub.execute_input": "2023-09-30T13:56:48.836846Z",
     "iopub.status.busy": "2023-09-30T13:56:48.836498Z",
     "iopub.status.idle": "2023-09-30T13:56:48.928066Z",
     "shell.execute_reply": "2023-09-30T13:56:48.927172Z",
     "shell.execute_reply.started": "2023-09-30T13:56:48.836819Z"
    }
   },
   "outputs": [],
   "source": [
    "to_datetime = all_data.loc[:, ('order_purchase_timestamp', 'order_approved_at')]\n",
    "\n",
    "# convert object to datetime\n",
    "for col in to_datetime:\n",
    "    all_data[col] = pd.to_datetime(all_data[col], format='%Y-%m-%d %H:%M:%S')"
   ]
  },
  {
   "cell_type": "markdown",
   "metadata": {},
   "source": [
    "### Failed"
   ]
  },
  {
   "cell_type": "code",
   "execution_count": null,
   "metadata": {},
   "outputs": [],
   "source": [
    "def numOfDays(date1, date2):\n",
    "    return reduce(lambda x, y: (y-x).dt.days, [date1, date2])"
   ]
  },
  {
   "cell_type": "code",
   "execution_count": 32,
   "metadata": {
    "execution": {
     "iopub.execute_input": "2023-09-30T07:56:24.133864Z",
     "iopub.status.busy": "2023-09-30T07:56:24.133522Z",
     "iopub.status.idle": "2023-09-30T07:56:24.143416Z",
     "shell.execute_reply": "2023-09-30T07:56:24.142156Z",
     "shell.execute_reply.started": "2023-09-30T07:56:24.133839Z"
    }
   },
   "outputs": [],
   "source": [
    "# create new column: waiting_time\n",
    "all_data['waiting_time'] = numOfDays(all_data['order_purchase_timestamp'], all_data['order_approved_at'])"
   ]
  },
  {
   "cell_type": "code",
   "execution_count": 35,
   "metadata": {
    "execution": {
     "iopub.execute_input": "2023-09-30T07:57:54.916501Z",
     "iopub.status.busy": "2023-09-30T07:57:54.916175Z",
     "iopub.status.idle": "2023-09-30T07:57:54.925151Z",
     "shell.execute_reply": "2023-09-30T07:57:54.923918Z",
     "shell.execute_reply.started": "2023-09-30T07:57:54.916475Z"
    }
   },
   "outputs": [
    {
     "data": {
      "text/plain": [
       "<bound method IndexOpsMixin.nunique of 0         0\n",
       "1         0\n",
       "2         0\n",
       "3         0\n",
       "4         0\n",
       "         ..\n",
       "125702    0\n",
       "125703    0\n",
       "125704    0\n",
       "125705    0\n",
       "125706    0\n",
       "Name: waiting_time, Length: 125707, dtype: int64>"
      ]
     },
     "execution_count": 35,
     "metadata": {},
     "output_type": "execute_result"
    }
   ],
   "source": [
    "all_data['waiting_time'].nunique"
   ]
  },
  {
   "cell_type": "code",
   "execution_count": null,
   "metadata": {},
   "outputs": [],
   "source": [
    "all_data = all_data.drop(columns='waiting_time', axis=1)"
   ]
  },
  {
   "cell_type": "markdown",
   "metadata": {},
   "source": [
    "**Don't know why, all waiting_time is 0. is it because all orders are processed in the same days?. Right after the customer purchase it, on the same day the seller approved it?. Is it make sense?.**"
   ]
  },
  {
   "cell_type": "markdown",
   "metadata": {},
   "source": [
    "### order_purchase_timestamp"
   ]
  },
  {
   "cell_type": "code",
   "execution_count": 36,
   "metadata": {
    "execution": {
     "iopub.execute_input": "2023-09-30T13:57:07.228033Z",
     "iopub.status.busy": "2023-09-30T13:57:07.227693Z",
     "iopub.status.idle": "2023-09-30T13:57:07.287634Z",
     "shell.execute_reply": "2023-09-30T13:57:07.286753Z",
     "shell.execute_reply.started": "2023-09-30T13:57:07.228005Z"
    }
   },
   "outputs": [],
   "source": [
    "# extract month and day from order_purchase_timestamp\n",
    "all_data['order_purchase_month'] = all_data[\"order_purchase_timestamp\"].dt.month\n",
    "all_data['order_purchase_day'] = all_data[\"order_purchase_timestamp\"].dt.day\n",
    "\n",
    "# sin cos transformation of order_purchase_month\n",
    "all_data[\"order_purchase_month_sin\"] = sin_transformer(12).fit_transform(all_data[\"order_purchase_month\"])\n",
    "all_data[\"order_purchase_month_cos\"] = cos_transformer(12).fit_transform(all_data[\"order_purchase_month\"])\n",
    "\n",
    "# sin cos transformation of order_purchase_day\n",
    "all_data[\"order_purchase_day_sin\"] = sin_transformer(365).fit_transform(all_data[\"order_purchase_day\"])\n",
    "all_data[\"order_purchase_day_cos\"] = cos_transformer(365).fit_transform(all_data[\"order_purchase_day\"])\n",
    "\n",
    "all_data = all_data.drop(columns=['order_purchase_month', 'order_purchase_day'], axis=1)"
   ]
  },
  {
   "cell_type": "code",
   "execution_count": 37,
   "metadata": {
    "execution": {
     "iopub.execute_input": "2023-09-30T13:57:37.468784Z",
     "iopub.status.busy": "2023-09-30T13:57:37.468288Z",
     "iopub.status.idle": "2023-09-30T13:57:37.546891Z",
     "shell.execute_reply": "2023-09-30T13:57:37.545879Z",
     "shell.execute_reply.started": "2023-09-30T13:57:37.468757Z"
    }
   },
   "outputs": [],
   "source": [
    "# extract hour and minute from order_purchase_timestamp\n",
    "all_data['order_purchase_hour'] = all_data[\"order_purchase_timestamp\"].dt.hour\n",
    "all_data['order_purchase_minute'] = all_data[\"order_purchase_timestamp\"].dt.minute\n",
    "\n",
    "# Convert hour and minute into radian\n",
    "all_data['order_purchase_radian_hour'] = 2 * np.pi * all_data['order_purchase_hour'] / 24\n",
    "all_data['order_purchase_radian_minute'] = 2 * np.pi * all_data['order_purchase_minute'] / 60\n",
    "\n",
    "# Sin cos transformation of radian hour and minute\n",
    "all_data['order_purchase_hour_sin'] = np.sin(all_data['order_purchase_radian_hour'] )\n",
    "all_data['order_purchase_hour_cos'] = np.cos(all_data['order_purchase_radian_hour'] )\n",
    "all_data['order_purchase_minute_sin'] = np.sin(all_data['order_purchase_radian_minute'])\n",
    "all_data['order_purchase_minute_cos'] = np.cos(all_data['order_purchase_radian_minute'])\n",
    "\n",
    "all_data = all_data.drop(columns=['order_purchase_hour', 'order_purchase_minute',\n",
    "                      'order_purchase_radian_hour', 'order_purchase_radian_minute'\n",
    "                      ], axis=1)"
   ]
  },
  {
   "cell_type": "markdown",
   "metadata": {},
   "source": [
    "### order_approved_at"
   ]
  },
  {
   "cell_type": "code",
   "execution_count": 38,
   "metadata": {
    "execution": {
     "iopub.execute_input": "2023-09-30T13:59:12.410258Z",
     "iopub.status.busy": "2023-09-30T13:59:12.409888Z",
     "iopub.status.idle": "2023-09-30T13:59:12.469129Z",
     "shell.execute_reply": "2023-09-30T13:59:12.467525Z",
     "shell.execute_reply.started": "2023-09-30T13:59:12.410230Z"
    }
   },
   "outputs": [],
   "source": [
    "# extract month and day from order_approved_at\n",
    "all_data['order_approved_month'] = all_data[\"order_approved_at\"].dt.month\n",
    "all_data['order_approved_day'] = all_data[\"order_approved_at\"].dt.day\n",
    "\n",
    "# sin cos transformation of order_approved_month\n",
    "all_data[\"order_approved_month_sin\"] = sin_transformer(12).fit_transform(all_data[\"order_approved_month\"])\n",
    "all_data[\"order_approved_month_cos\"] = cos_transformer(12).fit_transform(all_data[\"order_approved_month\"])\n",
    "\n",
    "# sin cos transformation of order_approved_day\n",
    "all_data[\"order_approved_day_sin\"] = sin_transformer(365).fit_transform(all_data[\"order_approved_day\"])\n",
    "all_data[\"order_approved_day_cos\"] = cos_transformer(365).fit_transform(all_data[\"order_approved_day\"])\n",
    "\n",
    "all_data = all_data.drop(columns=['order_approved_month', 'order_approved_day'], axis=1)"
   ]
  },
  {
   "cell_type": "code",
   "execution_count": 39,
   "metadata": {
    "execution": {
     "iopub.execute_input": "2023-09-30T13:59:20.963977Z",
     "iopub.status.busy": "2023-09-30T13:59:20.963613Z",
     "iopub.status.idle": "2023-09-30T13:59:21.019983Z",
     "shell.execute_reply": "2023-09-30T13:59:21.019052Z",
     "shell.execute_reply.started": "2023-09-30T13:59:20.963914Z"
    }
   },
   "outputs": [],
   "source": [
    "# extract hour and minute from order_purchase_timestamp\n",
    "all_data['order_approved_hour'] = all_data[\"order_approved_at\"].dt.hour\n",
    "all_data['order_approved_minute'] = all_data[\"order_approved_at\"].dt.minute\n",
    "\n",
    "# Convert hour and minute into radian\n",
    "all_data['order_approved_radian_hour'] = 2 * np.pi * all_data['order_approved_hour'] / 24\n",
    "all_data['order_approved_radian_minute'] = 2 * np.pi * all_data['order_approved_minute'] / 60\n",
    "\n",
    "# Sin and cos transformation of radian hour and minute \n",
    "all_data['order_approved_hour_sin'] = np.sin(all_data['order_approved_radian_hour'] )\n",
    "all_data['order_approved_hour_cos'] = np.cos(all_data['order_approved_radian_hour'] )\n",
    "all_data['order_approved_minute_sin'] = np.sin(all_data['order_approved_radian_minute'])\n",
    "all_data['order_approved_minute_cos'] = np.cos(all_data['order_approved_radian_minute'])\n",
    "\n",
    "all_data = all_data.drop(columns=['order_approved_hour', 'order_approved_minute',\n",
    "                      'order_approved_radian_hour', 'order_approved_radian_minute'\n",
    "                      ], axis=1)"
   ]
  },
  {
   "cell_type": "code",
   "execution_count": 40,
   "metadata": {
    "execution": {
     "iopub.execute_input": "2023-09-30T08:06:52.655786Z",
     "iopub.status.busy": "2023-09-30T08:06:52.655378Z",
     "iopub.status.idle": "2023-09-30T08:06:52.685646Z",
     "shell.execute_reply": "2023-09-30T08:06:52.684515Z",
     "shell.execute_reply.started": "2023-09-30T08:06:52.655754Z"
    }
   },
   "outputs": [
    {
     "name": "stdout",
     "output_type": "stream",
     "text": [
      "<class 'pandas.core.frame.DataFrame'>\n",
      "RangeIndex: 125707 entries, 0 to 125706\n",
      "Data columns (total 28 columns):\n",
      " #   Column                     Non-Null Count   Dtype         \n",
      "---  ------                     --------------   -----         \n",
      " 0   order_purchase_timestamp   125707 non-null  datetime64[ns]\n",
      " 1   order_approved_at          125707 non-null  datetime64[ns]\n",
      " 2   customer_state             125707 non-null  object        \n",
      " 3   payment_sequential         125707 non-null  int64         \n",
      " 4   payment_type               125707 non-null  object        \n",
      " 5   payment_installments       125707 non-null  int64         \n",
      " 6   payment_value              125707 non-null  float64       \n",
      " 7   product_category_name      125707 non-null  object        \n",
      " 8   product_weight_g           125707 non-null  float64       \n",
      " 9   product_volume             125707 non-null  float64       \n",
      " 10  money_spend                125707 non-null  float64       \n",
      " 11  waiting_time               125707 non-null  int64         \n",
      " 12  order_purchase_month_sin   125707 non-null  float64       \n",
      " 13  order_purchase_month_cos   125707 non-null  float64       \n",
      " 14  order_purchase_day_sin     125707 non-null  float64       \n",
      " 15  order_purchase_day_cos     125707 non-null  float64       \n",
      " 16  order_purchase_hour_sin    125707 non-null  float64       \n",
      " 17  order_purchase_hour_cos    125707 non-null  float64       \n",
      " 18  order_purchase_minute_sin  125707 non-null  float64       \n",
      " 19  order_purchase_minute_cos  125707 non-null  float64       \n",
      " 20  order_approved_month_sin   125707 non-null  float64       \n",
      " 21  order_approved_month_cos   125707 non-null  float64       \n",
      " 22  order_approved_day_sin     125707 non-null  float64       \n",
      " 23  order_approved_day_cos     125707 non-null  float64       \n",
      " 24  order_approved_hour_sin    125707 non-null  float64       \n",
      " 25  order_approved_hour_cos    125707 non-null  float64       \n",
      " 26  order_approved_minute_sin  125707 non-null  float64       \n",
      " 27  order_approved_minute_cos  125707 non-null  float64       \n",
      "dtypes: datetime64[ns](2), float64(20), int64(3), object(3)\n",
      "memory usage: 26.9+ MB\n"
     ]
    }
   ],
   "source": [
    "all_data.info()"
   ]
  },
  {
   "cell_type": "code",
   "execution_count": 40,
   "metadata": {
    "execution": {
     "iopub.execute_input": "2023-09-30T13:59:34.235727Z",
     "iopub.status.busy": "2023-09-30T13:59:34.235354Z",
     "iopub.status.idle": "2023-09-30T13:59:34.254747Z",
     "shell.execute_reply": "2023-09-30T13:59:34.253721Z",
     "shell.execute_reply.started": "2023-09-30T13:59:34.235697Z"
    }
   },
   "outputs": [],
   "source": [
    "all_data = all_data.drop(columns=['order_purchase_timestamp', 'order_approved_at'], axis=1)"
   ]
  },
  {
   "cell_type": "markdown",
   "metadata": {},
   "source": [
    "## Handling categorical features before modeling"
   ]
  },
  {
   "cell_type": "code",
   "execution_count": 41,
   "metadata": {
    "execution": {
     "iopub.execute_input": "2023-09-30T13:59:48.843035Z",
     "iopub.status.busy": "2023-09-30T13:59:48.842681Z",
     "iopub.status.idle": "2023-09-30T13:59:48.918671Z",
     "shell.execute_reply": "2023-09-30T13:59:48.917789Z",
     "shell.execute_reply.started": "2023-09-30T13:59:48.843006Z"
    }
   },
   "outputs": [],
   "source": [
    "# now how to encode customer_state, product_category_name, payment_type?\n",
    "# let's use label encoder\n",
    "from sklearn.preprocessing import LabelEncoder\n",
    "\n",
    "to_encode = all_data[['customer_state', 'product_category_name', 'payment_type']]\n",
    "\n",
    "# Initialize LabelEncoder\n",
    "label_encoder = LabelEncoder()\n",
    "\n",
    "# Encode each categorical column\n",
    "for col in to_encode:\n",
    "    all_data[col] = label_encoder.fit_transform(all_data[col])"
   ]
  },
  {
   "cell_type": "code",
   "execution_count": 42,
   "metadata": {
    "execution": {
     "iopub.execute_input": "2023-09-30T13:59:57.525861Z",
     "iopub.status.busy": "2023-09-30T13:59:57.525541Z",
     "iopub.status.idle": "2023-09-30T13:59:57.551833Z",
     "shell.execute_reply": "2023-09-30T13:59:57.550869Z",
     "shell.execute_reply.started": "2023-09-30T13:59:57.525836Z"
    }
   },
   "outputs": [
    {
     "data": {
      "text/html": [
       "<div>\n",
       "<style scoped>\n",
       "    .dataframe tbody tr th:only-of-type {\n",
       "        vertical-align: middle;\n",
       "    }\n",
       "\n",
       "    .dataframe tbody tr th {\n",
       "        vertical-align: top;\n",
       "    }\n",
       "\n",
       "    .dataframe thead th {\n",
       "        text-align: right;\n",
       "    }\n",
       "</style>\n",
       "<table border=\"1\" class=\"dataframe\">\n",
       "  <thead>\n",
       "    <tr style=\"text-align: right;\">\n",
       "      <th></th>\n",
       "      <th>customer_state</th>\n",
       "      <th>payment_sequential</th>\n",
       "      <th>payment_type</th>\n",
       "      <th>payment_installments</th>\n",
       "      <th>payment_value</th>\n",
       "      <th>product_category_name</th>\n",
       "      <th>product_weight_g</th>\n",
       "      <th>product_volume</th>\n",
       "      <th>money_spend</th>\n",
       "      <th>order_purchase_month_sin</th>\n",
       "      <th>...</th>\n",
       "      <th>order_purchase_minute_sin</th>\n",
       "      <th>order_purchase_minute_cos</th>\n",
       "      <th>order_approved_month_sin</th>\n",
       "      <th>order_approved_month_cos</th>\n",
       "      <th>order_approved_day_sin</th>\n",
       "      <th>order_approved_day_cos</th>\n",
       "      <th>order_approved_hour_sin</th>\n",
       "      <th>order_approved_hour_cos</th>\n",
       "      <th>order_approved_minute_sin</th>\n",
       "      <th>order_approved_minute_cos</th>\n",
       "    </tr>\n",
       "  </thead>\n",
       "  <tbody>\n",
       "    <tr>\n",
       "      <th>0</th>\n",
       "      <td>25</td>\n",
       "      <td>1</td>\n",
       "      <td>0</td>\n",
       "      <td>1</td>\n",
       "      <td>259.14</td>\n",
       "      <td>3</td>\n",
       "      <td>491.0</td>\n",
       "      <td>3648.0</td>\n",
       "      <td>308.16</td>\n",
       "      <td>-8.660254e-01</td>\n",
       "      <td>...</td>\n",
       "      <td>-0.309017</td>\n",
       "      <td>0.951057</td>\n",
       "      <td>-8.660254e-01</td>\n",
       "      <td>0.5</td>\n",
       "      <td>0.369725</td>\n",
       "      <td>0.929141</td>\n",
       "      <td>-0.965926</td>\n",
       "      <td>2.588190e-01</td>\n",
       "      <td>0.994522</td>\n",
       "      <td>1.045285e-01</td>\n",
       "    </tr>\n",
       "    <tr>\n",
       "      <th>1</th>\n",
       "      <td>18</td>\n",
       "      <td>1</td>\n",
       "      <td>0</td>\n",
       "      <td>8</td>\n",
       "      <td>382.39</td>\n",
       "      <td>2</td>\n",
       "      <td>440.0</td>\n",
       "      <td>4284.0</td>\n",
       "      <td>194.59</td>\n",
       "      <td>1.224647e-16</td>\n",
       "      <td>...</td>\n",
       "      <td>-0.866025</td>\n",
       "      <td>-0.500000</td>\n",
       "      <td>1.224647e-16</td>\n",
       "      <td>-1.0</td>\n",
       "      <td>0.337523</td>\n",
       "      <td>0.941317</td>\n",
       "      <td>-0.500000</td>\n",
       "      <td>8.660254e-01</td>\n",
       "      <td>0.866025</td>\n",
       "      <td>-5.000000e-01</td>\n",
       "    </tr>\n",
       "    <tr>\n",
       "      <th>2</th>\n",
       "      <td>25</td>\n",
       "      <td>1</td>\n",
       "      <td>0</td>\n",
       "      <td>4</td>\n",
       "      <td>249.25</td>\n",
       "      <td>7</td>\n",
       "      <td>2200.0</td>\n",
       "      <td>4096.0</td>\n",
       "      <td>81.78</td>\n",
       "      <td>8.660254e-01</td>\n",
       "      <td>...</td>\n",
       "      <td>0.913545</td>\n",
       "      <td>-0.406737</td>\n",
       "      <td>8.660254e-01</td>\n",
       "      <td>0.5</td>\n",
       "      <td>0.288482</td>\n",
       "      <td>0.957485</td>\n",
       "      <td>-0.866025</td>\n",
       "      <td>-5.000000e-01</td>\n",
       "      <td>1.000000</td>\n",
       "      <td>2.832769e-16</td>\n",
       "    </tr>\n",
       "    <tr>\n",
       "      <th>3</th>\n",
       "      <td>10</td>\n",
       "      <td>1</td>\n",
       "      <td>0</td>\n",
       "      <td>2</td>\n",
       "      <td>27.79</td>\n",
       "      <td>3</td>\n",
       "      <td>1450.0</td>\n",
       "      <td>9792.0</td>\n",
       "      <td>295.22</td>\n",
       "      <td>-8.660254e-01</td>\n",
       "      <td>...</td>\n",
       "      <td>0.406737</td>\n",
       "      <td>0.913545</td>\n",
       "      <td>-8.660254e-01</td>\n",
       "      <td>-0.5</td>\n",
       "      <td>0.304921</td>\n",
       "      <td>0.952378</td>\n",
       "      <td>-1.000000</td>\n",
       "      <td>-1.836970e-16</td>\n",
       "      <td>1.000000</td>\n",
       "      <td>2.832769e-16</td>\n",
       "    </tr>\n",
       "    <tr>\n",
       "      <th>4</th>\n",
       "      <td>25</td>\n",
       "      <td>1</td>\n",
       "      <td>0</td>\n",
       "      <td>1</td>\n",
       "      <td>76.15</td>\n",
       "      <td>3</td>\n",
       "      <td>300.0</td>\n",
       "      <td>816.0</td>\n",
       "      <td>810.56</td>\n",
       "      <td>-2.449294e-16</td>\n",
       "      <td>...</td>\n",
       "      <td>-0.994522</td>\n",
       "      <td>-0.104528</td>\n",
       "      <td>-2.449294e-16</td>\n",
       "      <td>1.0</td>\n",
       "      <td>0.369725</td>\n",
       "      <td>0.929141</td>\n",
       "      <td>-0.965926</td>\n",
       "      <td>-2.588190e-01</td>\n",
       "      <td>-0.104528</td>\n",
       "      <td>-9.945219e-01</td>\n",
       "    </tr>\n",
       "  </tbody>\n",
       "</table>\n",
       "<p>5 rows × 25 columns</p>\n",
       "</div>"
      ],
      "text/plain": [
       "   customer_state  payment_sequential  payment_type  payment_installments  \\\n",
       "0              25                   1             0                     1   \n",
       "1              18                   1             0                     8   \n",
       "2              25                   1             0                     4   \n",
       "3              10                   1             0                     2   \n",
       "4              25                   1             0                     1   \n",
       "\n",
       "   payment_value  product_category_name  product_weight_g  product_volume  \\\n",
       "0         259.14                      3             491.0          3648.0   \n",
       "1         382.39                      2             440.0          4284.0   \n",
       "2         249.25                      7            2200.0          4096.0   \n",
       "3          27.79                      3            1450.0          9792.0   \n",
       "4          76.15                      3             300.0           816.0   \n",
       "\n",
       "   money_spend  order_purchase_month_sin  ...  order_purchase_minute_sin  \\\n",
       "0       308.16             -8.660254e-01  ...                  -0.309017   \n",
       "1       194.59              1.224647e-16  ...                  -0.866025   \n",
       "2        81.78              8.660254e-01  ...                   0.913545   \n",
       "3       295.22             -8.660254e-01  ...                   0.406737   \n",
       "4       810.56             -2.449294e-16  ...                  -0.994522   \n",
       "\n",
       "   order_purchase_minute_cos  order_approved_month_sin  \\\n",
       "0                   0.951057             -8.660254e-01   \n",
       "1                  -0.500000              1.224647e-16   \n",
       "2                  -0.406737              8.660254e-01   \n",
       "3                   0.913545             -8.660254e-01   \n",
       "4                  -0.104528             -2.449294e-16   \n",
       "\n",
       "   order_approved_month_cos  order_approved_day_sin  order_approved_day_cos  \\\n",
       "0                       0.5                0.369725                0.929141   \n",
       "1                      -1.0                0.337523                0.941317   \n",
       "2                       0.5                0.288482                0.957485   \n",
       "3                      -0.5                0.304921                0.952378   \n",
       "4                       1.0                0.369725                0.929141   \n",
       "\n",
       "   order_approved_hour_sin  order_approved_hour_cos  \\\n",
       "0                -0.965926             2.588190e-01   \n",
       "1                -0.500000             8.660254e-01   \n",
       "2                -0.866025            -5.000000e-01   \n",
       "3                -1.000000            -1.836970e-16   \n",
       "4                -0.965926            -2.588190e-01   \n",
       "\n",
       "   order_approved_minute_sin  order_approved_minute_cos  \n",
       "0                   0.994522               1.045285e-01  \n",
       "1                   0.866025              -5.000000e-01  \n",
       "2                   1.000000               2.832769e-16  \n",
       "3                   1.000000               2.832769e-16  \n",
       "4                  -0.104528              -9.945219e-01  \n",
       "\n",
       "[5 rows x 25 columns]"
      ]
     },
     "execution_count": 42,
     "metadata": {},
     "output_type": "execute_result"
    }
   ],
   "source": [
    "all_data.head()"
   ]
  },
  {
   "cell_type": "markdown",
   "metadata": {},
   "source": [
    "### Split features and label"
   ]
  },
  {
   "cell_type": "code",
   "execution_count": 43,
   "metadata": {
    "execution": {
     "iopub.execute_input": "2023-09-30T14:00:08.826092Z",
     "iopub.status.busy": "2023-09-30T14:00:08.825599Z",
     "iopub.status.idle": "2023-09-30T14:00:08.833431Z",
     "shell.execute_reply": "2023-09-30T14:00:08.832473Z",
     "shell.execute_reply.started": "2023-09-30T14:00:08.826053Z"
    }
   },
   "outputs": [
    {
     "name": "stdout",
     "output_type": "stream",
     "text": [
      "(87428, 25) (87428,)\n"
     ]
    }
   ],
   "source": [
    "# split train and test\n",
    "train = all_data[:ntrain]\n",
    "test = all_data[ntrain:]\n",
    "\n",
    "# split X and y in train\n",
    "X, y = train, y_train\n",
    "\n",
    "print(X.shape, y.shape)"
   ]
  },
  {
   "cell_type": "markdown",
   "metadata": {},
   "source": [
    "# Feature Selection"
   ]
  },
  {
   "cell_type": "code",
   "execution_count": null,
   "metadata": {},
   "outputs": [],
   "source": [
    "from sklearn.feature_selection import mutual_info_classif, SelectKBest\n",
    "\n",
    "fs = SelectKBest(mutual_info_classif, k= 'all')\n",
    "fs.fit(X, y)\n",
    "x_train_fs = fs.transform(X)\n",
    "# x_test_fs = fs.transform(x_test)"
   ]
  },
  {
   "cell_type": "code",
   "execution_count": null,
   "metadata": {},
   "outputs": [],
   "source": [
    "# Get the indices sorted by most important to least important\n",
    "plt.figure(figsize=[15, 8])\n",
    "indices = np.argsort(fs.scores_)[::-1]\n",
    "\n",
    "# To get your top 10 feature names\n",
    "features = []\n",
    "for i in range(15):\n",
    "    features.append(fs.feature_names_in_[indices[i]])\n",
    "\n",
    "# Now plot\n",
    "sns.barplot(x = fs.scores_[indices[range(15)]], y = features)"
   ]
  },
  {
   "cell_type": "markdown",
   "metadata": {},
   "source": [
    "## Min Max Scaling"
   ]
  },
  {
   "cell_type": "code",
   "execution_count": 44,
   "metadata": {
    "execution": {
     "iopub.execute_input": "2023-09-30T14:00:16.091851Z",
     "iopub.status.busy": "2023-09-30T14:00:16.091471Z",
     "iopub.status.idle": "2023-09-30T14:00:16.127910Z",
     "shell.execute_reply": "2023-09-30T14:00:16.126831Z",
     "shell.execute_reply.started": "2023-09-30T14:00:16.091823Z"
    }
   },
   "outputs": [
    {
     "data": {
      "text/plain": [
       "array([[0.96153846, 0.        , 0.        , ..., 0.62940952, 0.99726095,\n",
       "        0.55226423],\n",
       "       [0.69230769, 0.        , 0.        , ..., 0.9330127 , 0.9330127 ,\n",
       "        0.25      ],\n",
       "       [0.96153846, 0.        , 0.        , ..., 0.25      , 1.        ,\n",
       "        0.5       ],\n",
       "       ...,\n",
       "       [0.96153846, 0.        , 0.        , ..., 0.01703709, 0.9330127 ,\n",
       "        0.25      ],\n",
       "       [0.96153846, 0.        , 0.66666667, ..., 0.25      , 0.79389263,\n",
       "        0.0954915 ],\n",
       "       [0.23076923, 0.        , 0.        , ..., 0.9330127 , 0.95677273,\n",
       "        0.29663168]])"
      ]
     },
     "execution_count": 44,
     "metadata": {},
     "output_type": "execute_result"
    }
   ],
   "source": [
    "from sklearn.preprocessing import MinMaxScaler\n",
    "\n",
    "scaler = MinMaxScaler()\n",
    "scaler.fit(X)\n",
    "scaler.transform(X)"
   ]
  },
  {
   "cell_type": "markdown",
   "metadata": {
    "execution": {
     "iopub.execute_input": "2023-09-29T08:29:31.068950Z",
     "iopub.status.busy": "2023-09-29T08:29:31.067734Z",
     "iopub.status.idle": "2023-09-29T08:29:31.073611Z",
     "shell.execute_reply": "2023-09-29T08:29:31.072542Z",
     "shell.execute_reply.started": "2023-09-29T08:29:31.068899Z"
    }
   },
   "source": [
    "### Handling imbalanced label"
   ]
  },
  {
   "cell_type": "code",
   "execution_count": 47,
   "metadata": {
    "execution": {
     "iopub.execute_input": "2023-09-30T08:12:24.828536Z",
     "iopub.status.busy": "2023-09-30T08:12:24.828003Z",
     "iopub.status.idle": "2023-09-30T08:12:25.812670Z",
     "shell.execute_reply": "2023-09-30T08:12:25.811817Z",
     "shell.execute_reply.started": "2023-09-30T08:12:24.828496Z"
    }
   },
   "outputs": [],
   "source": [
    "#from imblearn.over_sampling import SMOTE\n",
    "\n",
    "#smote = SMOTE(random_state= 42)\n",
    "#x_train_resampled, y_train_resampled = smote.fit_resample(X, y)"
   ]
  },
  {
   "cell_type": "code",
   "execution_count": 48,
   "metadata": {
    "execution": {
     "iopub.execute_input": "2023-09-30T08:12:46.637856Z",
     "iopub.status.busy": "2023-09-30T08:12:46.637359Z",
     "iopub.status.idle": "2023-09-30T08:12:46.646081Z",
     "shell.execute_reply": "2023-09-30T08:12:46.644233Z",
     "shell.execute_reply.started": "2023-09-30T08:12:46.637818Z"
    }
   },
   "outputs": [
    {
     "name": "stdout",
     "output_type": "stream",
     "text": [
      "(163644, 26) (163644,)\n"
     ]
    }
   ],
   "source": [
    "#print(x_train_resampled.shape, y_train_resampled.shape)"
   ]
  },
  {
   "cell_type": "markdown",
   "metadata": {},
   "source": [
    "### Utilizing KFold-cross cv"
   ]
  },
  {
   "cell_type": "code",
   "execution_count": 45,
   "metadata": {
    "execution": {
     "iopub.execute_input": "2023-09-30T14:00:38.750638Z",
     "iopub.status.busy": "2023-09-30T14:00:38.750315Z",
     "iopub.status.idle": "2023-09-30T14:00:42.979712Z",
     "shell.execute_reply": "2023-09-30T14:00:42.978694Z",
     "shell.execute_reply.started": "2023-09-30T14:00:38.750612Z"
    }
   },
   "outputs": [],
   "source": [
    "from sklearn.model_selection import cross_val_score, KFold, StratifiedKFold, GridSearchCV\n",
    "\n",
    "from sklearn.naive_bayes import MultinomialNB, GaussianNB \n",
    "\n",
    "from sklearn.metrics import roc_auc_score, classification_report, accuracy_score\n",
    "from sklearn.metrics import precision_score, f1_score\n",
    "from sklearn.pipeline import Pipeline\n",
    "\n",
    "from sklearn.tree import DecisionTreeClassifier \n",
    "from sklearn.ensemble import RandomForestClassifier \n",
    "from sklearn.svm import SVC\n",
    "from xgboost import XGBClassifier\n",
    "from lightgbm import LGBMClassifier"
   ]
  },
  {
   "cell_type": "code",
   "execution_count": 46,
   "metadata": {
    "execution": {
     "iopub.execute_input": "2023-09-30T14:00:57.663800Z",
     "iopub.status.busy": "2023-09-30T14:00:57.663266Z",
     "iopub.status.idle": "2023-09-30T14:01:43.382549Z",
     "shell.execute_reply": "2023-09-30T14:01:43.381840Z",
     "shell.execute_reply.started": "2023-09-30T14:00:57.663762Z"
    }
   },
   "outputs": [
    {
     "name": "stdout",
     "output_type": "stream",
     "text": [
      "accuracy for each fold: [0.9402379  0.93949445 0.93800755 0.93891907 0.94000572]\n",
      "Mean accuracy: 0.9393329397780246\n"
     ]
    }
   ],
   "source": [
    "# MODEL 1: XGBClassifier\n",
    "\n",
    "xgb = XGBClassifier()\n",
    "xgb_scores = cross_val_score(xgb, X, y, cv=5, scoring='accuracy')\n",
    "\n",
    "# Print the accuracy for each fold\n",
    "print(\"accuracy for each fold:\", xgb_scores)\n",
    "\n",
    "# Calculate the mean accuracy across all folds\n",
    "mean_acc_xgb = np.mean(xgb_scores)\n",
    "\n",
    "# Print the mean accuracy\n",
    "print(\"Mean accuracy:\", mean_acc_xgb)"
   ]
  },
  {
   "cell_type": "code",
   "execution_count": 47,
   "metadata": {
    "execution": {
     "iopub.execute_input": "2023-09-30T14:01:55.723906Z",
     "iopub.status.busy": "2023-09-30T14:01:55.723577Z",
     "iopub.status.idle": "2023-09-30T14:03:11.433634Z",
     "shell.execute_reply": "2023-09-30T14:03:11.432622Z",
     "shell.execute_reply.started": "2023-09-30T14:01:55.723879Z"
    }
   },
   "outputs": [
    {
     "name": "stdout",
     "output_type": "stream",
     "text": [
      "accuracy for each fold: [0.94772961 0.94732929 0.94698616 0.94766943 0.94829854]\n",
      "Mean accuracy: 0.947602607434205\n"
     ]
    }
   ],
   "source": [
    "# MODEL 2: Random Forest\n",
    "\n",
    "rfc = RandomForestClassifier ()\n",
    "rfc_scores = cross_val_score(rfc, X, y, cv=5, scoring='accuracy')\n",
    "\n",
    "# Print the accuracy for each fold\n",
    "print(\"accuracy for each fold:\", rfc_scores)\n",
    "\n",
    "# Calculate the mean accuracy across all folds\n",
    "mean_acc_rfc = np.mean(rfc_scores)\n",
    "\n",
    "# Print the mean accuracy\n",
    "print(\"Mean accuracy:\", mean_acc_rfc)"
   ]
  },
  {
   "cell_type": "markdown",
   "metadata": {},
   "source": [
    "### Hold-out CV"
   ]
  },
  {
   "cell_type": "code",
   "execution_count": 48,
   "metadata": {
    "execution": {
     "iopub.execute_input": "2023-09-30T14:03:38.291453Z",
     "iopub.status.busy": "2023-09-30T14:03:38.291140Z",
     "iopub.status.idle": "2023-09-30T14:03:38.327576Z",
     "shell.execute_reply": "2023-09-30T14:03:38.326581Z",
     "shell.execute_reply.started": "2023-09-30T14:03:38.291428Z"
    }
   },
   "outputs": [
    {
     "name": "stdout",
     "output_type": "stream",
     "text": [
      "(61199, 25) (61199,) (26229, 25) (26229,)\n"
     ]
    }
   ],
   "source": [
    "# training_portion = .8\n",
    "# train_size = int(len(combined) * training_portion)\n",
    "\n",
    "# split X into train and validation set\n",
    "# the weakness of splitting data using this method is we can't shuffle it\n",
    "# X_train = x_train_resampled[:train_size]\n",
    "# X_val = x_train_resampled[train_size:]\n",
    "\n",
    "# in case of label could be categorical\n",
    "# y_train = y_train_resampled[:train_size]\n",
    "# y_val = y_train_resampled[train_size:]\n",
    "\n",
    "from sklearn.model_selection import train_test_split\n",
    "\n",
    "X_train, X_val, y_train, y_val = train_test_split(X, y, test_size=0.30, random_state=42)\n",
    "\n",
    "print(X_train.shape, y_train.shape, X_val.shape, y_val.shape)"
   ]
  },
  {
   "cell_type": "code",
   "execution_count": 49,
   "metadata": {
    "execution": {
     "iopub.execute_input": "2023-09-30T14:03:49.181011Z",
     "iopub.status.busy": "2023-09-30T14:03:49.180508Z",
     "iopub.status.idle": "2023-09-30T14:03:58.773149Z",
     "shell.execute_reply": "2023-09-30T14:03:58.771955Z",
     "shell.execute_reply.started": "2023-09-30T14:03:49.180920Z"
    }
   },
   "outputs": [
    {
     "name": "stdout",
     "output_type": "stream",
     "text": [
      "XGB Train Accuracy : 95.1437114985539% \n",
      "XGB Validation Accuracy  : 93.92656982729041% \n",
      "              precision    recall  f1-score   support\n",
      "\n",
      "           0       1.00      0.94      0.97     26051\n",
      "           1       0.08      0.72      0.14       178\n",
      "\n",
      "    accuracy                           0.94     26229\n",
      "   macro avg       0.54      0.83      0.55     26229\n",
      "weighted avg       0.99      0.94      0.96     26229\n",
      "\n"
     ]
    }
   ],
   "source": [
    "# let's say i'm satiesfied with xgb model\n",
    "xgb.fit(X_train, y_train)\n",
    "\n",
    "valid_predict_xgb = xgb.predict(X_val)\n",
    "\n",
    "train_acc = xgb.score(X_train, y_train)*100\n",
    "valid_acc_xgb = accuracy_score(valid_predict_xgb, y_val)*100\n",
    "\n",
    "print(\"XGB Train Accuracy : {}% \".format(train_acc))\n",
    "print(\"XGB Validation Accuracy  : {}% \".format(valid_acc_xgb))\n",
    "print(classification_report(valid_predict_xgb, y_val))"
   ]
  },
  {
   "cell_type": "code",
   "execution_count": 50,
   "metadata": {
    "execution": {
     "iopub.execute_input": "2023-09-30T14:04:07.964794Z",
     "iopub.status.busy": "2023-09-30T14:04:07.963844Z",
     "iopub.status.idle": "2023-09-30T14:04:22.269688Z",
     "shell.execute_reply": "2023-09-30T14:04:22.268774Z",
     "shell.execute_reply.started": "2023-09-30T14:04:07.964751Z"
    }
   },
   "outputs": [
    {
     "name": "stdout",
     "output_type": "stream",
     "text": [
      "RFC Train Accuracy : 99.99182993186163% \n",
      "RFC Validation Accuracy  : 94.73483548743758% \n",
      "              precision    recall  f1-score   support\n",
      "\n",
      "           0       1.00      0.95      0.97     25929\n",
      "           1       0.18      0.98      0.30       300\n",
      "\n",
      "    accuracy                           0.95     26229\n",
      "   macro avg       0.59      0.97      0.64     26229\n",
      "weighted avg       0.99      0.95      0.96     26229\n",
      "\n"
     ]
    }
   ],
   "source": [
    "# let's say i'm satiesfied with rfc model\n",
    "rfc.fit(X_train, y_train)\n",
    "\n",
    "valid_predict_rfc = rfc.predict(X_val)\n",
    "\n",
    "train_acc = rfc.score(X_train, y_train)*100\n",
    "valid_acc_rfc = accuracy_score(valid_predict_rfc, y_val)*100\n",
    "\n",
    "print(\"RFC Train Accuracy : {}% \".format(train_acc))\n",
    "print(\"RFC Validation Accuracy  : {}% \".format(valid_acc_rfc))\n",
    "print(classification_report(valid_predict_rfc, y_val))"
   ]
  },
  {
   "cell_type": "code",
   "execution_count": 84,
   "metadata": {
    "execution": {
     "iopub.execute_input": "2023-09-29T16:35:20.587448Z",
     "iopub.status.busy": "2023-09-29T16:35:20.587027Z",
     "iopub.status.idle": "2023-09-29T16:35:20.720747Z",
     "shell.execute_reply": "2023-09-29T16:35:20.719726Z",
     "shell.execute_reply.started": "2023-09-29T16:35:20.587420Z"
    }
   },
   "outputs": [],
   "source": [
    "# export model\n",
    "import pickle\n",
    "filename = 'rfc_99998_97368_no_hyper.sav'\n",
    "pickle.dump(rfc, open(filename, 'wb'))"
   ]
  },
  {
   "cell_type": "code",
   "execution_count": null,
   "metadata": {},
   "outputs": [],
   "source": [
    "loaded_rfc = pickle.load(open(filename, 'rb'))"
   ]
  },
  {
   "cell_type": "markdown",
   "metadata": {},
   "source": [
    "# Feature Importance"
   ]
  },
  {
   "cell_type": "code",
   "execution_count": 51,
   "metadata": {
    "execution": {
     "iopub.execute_input": "2023-09-30T14:04:40.519729Z",
     "iopub.status.busy": "2023-09-30T14:04:40.519407Z",
     "iopub.status.idle": "2023-09-30T14:04:41.026763Z",
     "shell.execute_reply": "2023-09-30T14:04:41.025819Z",
     "shell.execute_reply.started": "2023-09-30T14:04:40.519702Z"
    }
   },
   "outputs": [
    {
     "name": "stdout",
     "output_type": "stream",
     "text": [
      "                      Feature  Importance\n",
      "8                 money_spend    0.082177\n",
      "4               payment_value    0.081273\n",
      "7              product_volume    0.076970\n",
      "6            product_weight_g    0.071294\n",
      "15  order_purchase_minute_sin    0.059311\n",
      "16  order_purchase_minute_cos    0.058514\n",
      "0              customer_state    0.057114\n",
      "24  order_approved_minute_cos    0.048736\n",
      "23  order_approved_minute_sin    0.047368\n",
      "14    order_purchase_hour_cos    0.040324\n",
      "13    order_purchase_hour_sin    0.038939\n",
      "21    order_approved_hour_sin    0.037802\n",
      "22    order_approved_hour_cos    0.036912\n",
      "12     order_purchase_day_cos    0.034646\n",
      "20     order_approved_day_cos    0.034398\n",
      "11     order_purchase_day_sin    0.034044\n",
      "19     order_approved_day_sin    0.033877\n",
      "3        payment_installments    0.030383\n",
      "5       product_category_name    0.021563\n",
      "17   order_approved_month_sin    0.017028\n",
      "9    order_purchase_month_sin    0.015717\n",
      "10   order_purchase_month_cos    0.013756\n",
      "18   order_approved_month_cos    0.013439\n",
      "2                payment_type    0.009782\n",
      "1          payment_sequential    0.004634\n"
     ]
    },
    {
     "data": {
      "image/png": "[encoded data removed]",
      "text/plain": [
       "<Figure size 1000x600 with 1 Axes>"
      ]
     },
     "metadata": {},
     "output_type": "display_data"
    }
   ],
   "source": [
    "# Get feature importances from the model\n",
    "feature_importances = rfc.feature_importances_\n",
    "\n",
    "# Create a DataFrame to store feature names and their importances\n",
    "feature_importance_df = pd.DataFrame({'Feature': X.columns, 'Importance': feature_importances})\n",
    "\n",
    "# Sort the DataFrame by importance in descending order\n",
    "feature_importance_df = feature_importance_df.sort_values(by='Importance', ascending=False)\n",
    "\n",
    "# Print or display the feature importance\n",
    "print(feature_importance_df)\n",
    "\n",
    "# Plot the feature importance\n",
    "plt.figure(figsize=(10, 6))\n",
    "plt.barh(feature_importance_df['Feature'], feature_importance_df['Importance'])\n",
    "plt.xlabel('Importance')\n",
    "plt.ylabel('Feature')\n",
    "plt.title('Feature Importance of Random Forest Classifier')\n",
    "plt.show()"
   ]
  },
  {
   "cell_type": "markdown",
   "metadata": {},
   "source": [
    "# Hyperparameter Tuning: Random Forest"
   ]
  },
  {
   "cell_type": "code",
   "execution_count": 52,
   "metadata": {
    "execution": {
     "iopub.execute_input": "2023-09-30T14:06:29.363964Z",
     "iopub.status.busy": "2023-09-30T14:06:29.363579Z",
     "iopub.status.idle": "2023-09-30T14:24:02.777018Z",
     "shell.execute_reply": "2023-09-30T14:24:02.775945Z",
     "shell.execute_reply.started": "2023-09-30T14:06:29.363914Z"
    }
   },
   "outputs": [
    {
     "name": "stdout",
     "output_type": "stream",
     "text": [
      "Fitting 5 folds for each of 1 candidates, totalling 5 fits\n",
      "[CV 1/5; 1/1] START max_depth=7, max_features=0.32680267803171864, min_impurity_decrease=0.5262113943657555, min_samples_leaf=8, min_samples_split=7, n_estimators=51\n",
      "[CV 1/5; 1/1] END max_depth=7, max_features=0.32680267803171864, min_impurity_decrease=0.5262113943657555, min_samples_leaf=8, min_samples_split=7, n_estimators=51;, score=0.936 total time=   1.1s\n",
      "[CV 2/5; 1/1] START max_depth=7, max_features=0.32680267803171864, min_impurity_decrease=0.5262113943657555, min_samples_leaf=8, min_samples_split=7, n_estimators=51\n",
      "[CV 2/5; 1/1] END max_depth=7, max_features=0.32680267803171864, min_impurity_decrease=0.5262113943657555, min_samples_leaf=8, min_samples_split=7, n_estimators=51;, score=0.936 total time=   1.1s\n",
      "[CV 3/5; 1/1] START max_depth=7, max_features=0.32680267803171864, min_impurity_decrease=0.5262113943657555, min_samples_leaf=8, min_samples_split=7, n_estimators=51\n",
      "[CV 3/5; 1/1] END max_depth=7, max_features=0.32680267803171864, min_impurity_decrease=0.5262113943657555, min_samples_leaf=8, min_samples_split=7, n_estimators=51;, score=0.936 total time=   1.1s\n",
      "[CV 4/5; 1/1] START max_depth=7, max_features=0.32680267803171864, min_impurity_decrease=0.5262113943657555, min_samples_leaf=8, min_samples_split=7, n_estimators=51\n",
      "[CV 4/5; 1/1] END max_depth=7, max_features=0.32680267803171864, min_impurity_decrease=0.5262113943657555, min_samples_leaf=8, min_samples_split=7, n_estimators=51;, score=0.936 total time=   1.1s\n",
      "[CV 5/5; 1/1] START max_depth=7, max_features=0.32680267803171864, min_impurity_decrease=0.5262113943657555, min_samples_leaf=8, min_samples_split=7, n_estimators=51\n",
      "[CV 5/5; 1/1] END max_depth=7, max_features=0.32680267803171864, min_impurity_decrease=0.5262113943657555, min_samples_leaf=8, min_samples_split=7, n_estimators=51;, score=0.936 total time=   1.1s\n",
      "Fitting 5 folds for each of 1 candidates, totalling 5 fits\n",
      "[CV 1/5; 1/1] START max_depth=5, max_features=0.3768377199506976, min_impurity_decrease=0.7042959706449722, min_samples_leaf=3, min_samples_split=3, n_estimators=39\n",
      "[CV 1/5; 1/1] END max_depth=5, max_features=0.3768377199506976, min_impurity_decrease=0.7042959706449722, min_samples_leaf=3, min_samples_split=3, n_estimators=39;, score=0.936 total time=   0.9s\n",
      "[CV 2/5; 1/1] START max_depth=5, max_features=0.3768377199506976, min_impurity_decrease=0.7042959706449722, min_samples_leaf=3, min_samples_split=3, n_estimators=39\n",
      "[CV 2/5; 1/1] END max_depth=5, max_features=0.3768377199506976, min_impurity_decrease=0.7042959706449722, min_samples_leaf=3, min_samples_split=3, n_estimators=39;, score=0.936 total time=   0.9s\n",
      "[CV 3/5; 1/1] START max_depth=5, max_features=0.3768377199506976, min_impurity_decrease=0.7042959706449722, min_samples_leaf=3, min_samples_split=3, n_estimators=39\n",
      "[CV 3/5; 1/1] END max_depth=5, max_features=0.3768377199506976, min_impurity_decrease=0.7042959706449722, min_samples_leaf=3, min_samples_split=3, n_estimators=39;, score=0.936 total time=   0.9s\n",
      "[CV 4/5; 1/1] START max_depth=5, max_features=0.3768377199506976, min_impurity_decrease=0.7042959706449722, min_samples_leaf=3, min_samples_split=3, n_estimators=39\n",
      "[CV 4/5; 1/1] END max_depth=5, max_features=0.3768377199506976, min_impurity_decrease=0.7042959706449722, min_samples_leaf=3, min_samples_split=3, n_estimators=39;, score=0.936 total time=   0.9s\n",
      "[CV 5/5; 1/1] START max_depth=5, max_features=0.3768377199506976, min_impurity_decrease=0.7042959706449722, min_samples_leaf=3, min_samples_split=3, n_estimators=39\n",
      "[CV 5/5; 1/1] END max_depth=5, max_features=0.3768377199506976, min_impurity_decrease=0.7042959706449722, min_samples_leaf=3, min_samples_split=3, n_estimators=39;, score=0.936 total time=   0.9s\n",
      "Fitting 5 folds for each of 1 candidates, totalling 5 fits\n",
      "[CV 1/5; 1/1] START max_depth=4, max_features=0.8012067200815828, min_impurity_decrease=0.5013028879594607, min_samples_leaf=3, min_samples_split=7, n_estimators=37\n",
      "[CV 1/5; 1/1] END max_depth=4, max_features=0.8012067200815828, min_impurity_decrease=0.5013028879594607, min_samples_leaf=3, min_samples_split=7, n_estimators=37;, score=0.936 total time=   1.5s\n",
      "[CV 2/5; 1/1] START max_depth=4, max_features=0.8012067200815828, min_impurity_decrease=0.5013028879594607, min_samples_leaf=3, min_samples_split=7, n_estimators=37\n",
      "[CV 2/5; 1/1] END max_depth=4, max_features=0.8012067200815828, min_impurity_decrease=0.5013028879594607, min_samples_leaf=3, min_samples_split=7, n_estimators=37;, score=0.936 total time=   1.5s\n",
      "[CV 3/5; 1/1] START max_depth=4, max_features=0.8012067200815828, min_impurity_decrease=0.5013028879594607, min_samples_leaf=3, min_samples_split=7, n_estimators=37\n",
      "[CV 3/5; 1/1] END max_depth=4, max_features=0.8012067200815828, min_impurity_decrease=0.5013028879594607, min_samples_leaf=3, min_samples_split=7, n_estimators=37;, score=0.936 total time=   1.5s\n",
      "[CV 4/5; 1/1] START max_depth=4, max_features=0.8012067200815828, min_impurity_decrease=0.5013028879594607, min_samples_leaf=3, min_samples_split=7, n_estimators=37\n",
      "[CV 4/5; 1/1] END max_depth=4, max_features=0.8012067200815828, min_impurity_decrease=0.5013028879594607, min_samples_leaf=3, min_samples_split=7, n_estimators=37;, score=0.936 total time=   1.5s\n",
      "[CV 5/5; 1/1] START max_depth=4, max_features=0.8012067200815828, min_impurity_decrease=0.5013028879594607, min_samples_leaf=3, min_samples_split=7, n_estimators=37\n",
      "[CV 5/5; 1/1] END max_depth=4, max_features=0.8012067200815828, min_impurity_decrease=0.5013028879594607, min_samples_leaf=3, min_samples_split=7, n_estimators=37;, score=0.936 total time=   1.5s\n",
      "Fitting 5 folds for each of 1 candidates, totalling 5 fits\n",
      "[CV 1/5; 1/1] START max_depth=2, max_features=0.10058148645441656, min_impurity_decrease=0.7378974583581024, min_samples_leaf=2, min_samples_split=9, n_estimators=65\n",
      "[CV 1/5; 1/1] END max_depth=2, max_features=0.10058148645441656, min_impurity_decrease=0.7378974583581024, min_samples_leaf=2, min_samples_split=9, n_estimators=65;, score=0.936 total time=   0.8s\n",
      "[CV 2/5; 1/1] START max_depth=2, max_features=0.10058148645441656, min_impurity_decrease=0.7378974583581024, min_samples_leaf=2, min_samples_split=9, n_estimators=65\n",
      "[CV 2/5; 1/1] END max_depth=2, max_features=0.10058148645441656, min_impurity_decrease=0.7378974583581024, min_samples_leaf=2, min_samples_split=9, n_estimators=65;, score=0.936 total time=   0.8s\n",
      "[CV 3/5; 1/1] START max_depth=2, max_features=0.10058148645441656, min_impurity_decrease=0.7378974583581024, min_samples_leaf=2, min_samples_split=9, n_estimators=65\n",
      "[CV 3/5; 1/1] END max_depth=2, max_features=0.10058148645441656, min_impurity_decrease=0.7378974583581024, min_samples_leaf=2, min_samples_split=9, n_estimators=65;, score=0.936 total time=   0.8s\n",
      "[CV 4/5; 1/1] START max_depth=2, max_features=0.10058148645441656, min_impurity_decrease=0.7378974583581024, min_samples_leaf=2, min_samples_split=9, n_estimators=65\n",
      "[CV 4/5; 1/1] END max_depth=2, max_features=0.10058148645441656, min_impurity_decrease=0.7378974583581024, min_samples_leaf=2, min_samples_split=9, n_estimators=65;, score=0.936 total time=   0.8s\n",
      "[CV 5/5; 1/1] START max_depth=2, max_features=0.10058148645441656, min_impurity_decrease=0.7378974583581024, min_samples_leaf=2, min_samples_split=9, n_estimators=65\n",
      "[CV 5/5; 1/1] END max_depth=2, max_features=0.10058148645441656, min_impurity_decrease=0.7378974583581024, min_samples_leaf=2, min_samples_split=9, n_estimators=65;, score=0.936 total time=   0.8s\n",
      "Fitting 5 folds for each of 1 candidates, totalling 5 fits\n",
      "[CV 1/5; 1/1] START max_depth=18, max_features=0.5121411825211843, min_impurity_decrease=0.9212832064519684, min_samples_leaf=8, min_samples_split=6, n_estimators=158\n",
      "[CV 1/5; 1/1] END max_depth=18, max_features=0.5121411825211843, min_impurity_decrease=0.9212832064519684, min_samples_leaf=8, min_samples_split=6, n_estimators=158;, score=0.936 total time=   4.4s\n",
      "[CV 2/5; 1/1] START max_depth=18, max_features=0.5121411825211843, min_impurity_decrease=0.9212832064519684, min_samples_leaf=8, min_samples_split=6, n_estimators=158\n",
      "[CV 2/5; 1/1] END max_depth=18, max_features=0.5121411825211843, min_impurity_decrease=0.9212832064519684, min_samples_leaf=8, min_samples_split=6, n_estimators=158;, score=0.936 total time=   5.0s\n",
      "[CV 3/5; 1/1] START max_depth=18, max_features=0.5121411825211843, min_impurity_decrease=0.9212832064519684, min_samples_leaf=8, min_samples_split=6, n_estimators=158\n",
      "[CV 3/5; 1/1] END max_depth=18, max_features=0.5121411825211843, min_impurity_decrease=0.9212832064519684, min_samples_leaf=8, min_samples_split=6, n_estimators=158;, score=0.936 total time=   4.3s\n",
      "[CV 4/5; 1/1] START max_depth=18, max_features=0.5121411825211843, min_impurity_decrease=0.9212832064519684, min_samples_leaf=8, min_samples_split=6, n_estimators=158\n",
      "[CV 4/5; 1/1] END max_depth=18, max_features=0.5121411825211843, min_impurity_decrease=0.9212832064519684, min_samples_leaf=8, min_samples_split=6, n_estimators=158;, score=0.936 total time=   4.3s\n",
      "[CV 5/5; 1/1] START max_depth=18, max_features=0.5121411825211843, min_impurity_decrease=0.9212832064519684, min_samples_leaf=8, min_samples_split=6, n_estimators=158\n",
      "[CV 5/5; 1/1] END max_depth=18, max_features=0.5121411825211843, min_impurity_decrease=0.9212832064519684, min_samples_leaf=8, min_samples_split=6, n_estimators=158;, score=0.936 total time=   4.4s\n",
      "Fitting 5 folds for each of 1 candidates, totalling 5 fits\n",
      "[CV 1/5; 1/1] START max_depth=7, max_features=0.9588905669655183, min_impurity_decrease=0.4516995817806574, min_samples_leaf=5, min_samples_split=8, n_estimators=14\n",
      "[CV 1/5; 1/1] END max_depth=7, max_features=0.9588905669655183, min_impurity_decrease=0.4516995817806574, min_samples_leaf=5, min_samples_split=8, n_estimators=14;, score=0.936 total time=   0.6s\n",
      "[CV 2/5; 1/1] START max_depth=7, max_features=0.9588905669655183, min_impurity_decrease=0.4516995817806574, min_samples_leaf=5, min_samples_split=8, n_estimators=14\n",
      "[CV 2/5; 1/1] END max_depth=7, max_features=0.9588905669655183, min_impurity_decrease=0.4516995817806574, min_samples_leaf=5, min_samples_split=8, n_estimators=14;, score=0.936 total time=   0.6s\n",
      "[CV 3/5; 1/1] START max_depth=7, max_features=0.9588905669655183, min_impurity_decrease=0.4516995817806574, min_samples_leaf=5, min_samples_split=8, n_estimators=14\n",
      "[CV 3/5; 1/1] END max_depth=7, max_features=0.9588905669655183, min_impurity_decrease=0.4516995817806574, min_samples_leaf=5, min_samples_split=8, n_estimators=14;, score=0.936 total time=   0.7s\n",
      "[CV 4/5; 1/1] START max_depth=7, max_features=0.9588905669655183, min_impurity_decrease=0.4516995817806574, min_samples_leaf=5, min_samples_split=8, n_estimators=14\n",
      "[CV 4/5; 1/1] END max_depth=7, max_features=0.9588905669655183, min_impurity_decrease=0.4516995817806574, min_samples_leaf=5, min_samples_split=8, n_estimators=14;, score=0.936 total time=   0.6s\n",
      "[CV 5/5; 1/1] START max_depth=7, max_features=0.9588905669655183, min_impurity_decrease=0.4516995817806574, min_samples_leaf=5, min_samples_split=8, n_estimators=14\n",
      "[CV 5/5; 1/1] END max_depth=7, max_features=0.9588905669655183, min_impurity_decrease=0.4516995817806574, min_samples_leaf=5, min_samples_split=8, n_estimators=14;, score=0.936 total time=   0.6s\n",
      "Fitting 5 folds for each of 1 candidates, totalling 5 fits\n",
      "[CV 1/5; 1/1] START max_depth=12, max_features=0.17698450564428708, min_impurity_decrease=0.22676772489245983, min_samples_leaf=7, min_samples_split=3, n_estimators=72\n",
      "[CV 1/5; 1/1] END max_depth=12, max_features=0.17698450564428708, min_impurity_decrease=0.22676772489245983, min_samples_leaf=7, min_samples_split=3, n_estimators=72;, score=0.936 total time=   1.1s\n",
      "[CV 2/5; 1/1] START max_depth=12, max_features=0.17698450564428708, min_impurity_decrease=0.22676772489245983, min_samples_leaf=7, min_samples_split=3, n_estimators=72\n",
      "[CV 2/5; 1/1] END max_depth=12, max_features=0.17698450564428708, min_impurity_decrease=0.22676772489245983, min_samples_leaf=7, min_samples_split=3, n_estimators=72;, score=0.936 total time=   1.1s\n",
      "[CV 3/5; 1/1] START max_depth=12, max_features=0.17698450564428708, min_impurity_decrease=0.22676772489245983, min_samples_leaf=7, min_samples_split=3, n_estimators=72\n",
      "[CV 3/5; 1/1] END max_depth=12, max_features=0.17698450564428708, min_impurity_decrease=0.22676772489245983, min_samples_leaf=7, min_samples_split=3, n_estimators=72;, score=0.936 total time=   1.1s\n",
      "[CV 4/5; 1/1] START max_depth=12, max_features=0.17698450564428708, min_impurity_decrease=0.22676772489245983, min_samples_leaf=7, min_samples_split=3, n_estimators=72\n",
      "[CV 4/5; 1/1] END max_depth=12, max_features=0.17698450564428708, min_impurity_decrease=0.22676772489245983, min_samples_leaf=7, min_samples_split=3, n_estimators=72;, score=0.936 total time=   1.1s\n",
      "[CV 5/5; 1/1] START max_depth=12, max_features=0.17698450564428708, min_impurity_decrease=0.22676772489245983, min_samples_leaf=7, min_samples_split=3, n_estimators=72\n",
      "[CV 5/5; 1/1] END max_depth=12, max_features=0.17698450564428708, min_impurity_decrease=0.22676772489245983, min_samples_leaf=7, min_samples_split=3, n_estimators=72;, score=0.936 total time=   1.1s\n",
      "Fitting 5 folds for each of 1 candidates, totalling 5 fits\n",
      "[CV 1/5; 1/1] START max_depth=4, max_features=0.5693522155530634, min_impurity_decrease=0.6198758783270379, min_samples_leaf=3, min_samples_split=4, n_estimators=145\n",
      "[CV 1/5; 1/1] END max_depth=4, max_features=0.5693522155530634, min_impurity_decrease=0.6198758783270379, min_samples_leaf=3, min_samples_split=4, n_estimators=145;, score=0.936 total time=   4.4s\n",
      "[CV 2/5; 1/1] START max_depth=4, max_features=0.5693522155530634, min_impurity_decrease=0.6198758783270379, min_samples_leaf=3, min_samples_split=4, n_estimators=145\n",
      "[CV 2/5; 1/1] END max_depth=4, max_features=0.5693522155530634, min_impurity_decrease=0.6198758783270379, min_samples_leaf=3, min_samples_split=4, n_estimators=145;, score=0.936 total time=   5.1s\n",
      "[CV 3/5; 1/1] START max_depth=4, max_features=0.5693522155530634, min_impurity_decrease=0.6198758783270379, min_samples_leaf=3, min_samples_split=4, n_estimators=145\n",
      "[CV 3/5; 1/1] END max_depth=4, max_features=0.5693522155530634, min_impurity_decrease=0.6198758783270379, min_samples_leaf=3, min_samples_split=4, n_estimators=145;, score=0.936 total time=   4.4s\n",
      "[CV 4/5; 1/1] START max_depth=4, max_features=0.5693522155530634, min_impurity_decrease=0.6198758783270379, min_samples_leaf=3, min_samples_split=4, n_estimators=145\n",
      "[CV 4/5; 1/1] END max_depth=4, max_features=0.5693522155530634, min_impurity_decrease=0.6198758783270379, min_samples_leaf=3, min_samples_split=4, n_estimators=145;, score=0.936 total time=   4.5s\n",
      "[CV 5/5; 1/1] START max_depth=4, max_features=0.5693522155530634, min_impurity_decrease=0.6198758783270379, min_samples_leaf=3, min_samples_split=4, n_estimators=145\n",
      "[CV 5/5; 1/1] END max_depth=4, max_features=0.5693522155530634, min_impurity_decrease=0.6198758783270379, min_samples_leaf=3, min_samples_split=4, n_estimators=145;, score=0.936 total time=   4.7s\n",
      "Fitting 5 folds for each of 1 candidates, totalling 5 fits\n",
      "[CV 1/5; 1/1] START max_depth=8, max_features=0.3406937387155642, min_impurity_decrease=0.7481899782593953, min_samples_leaf=3, min_samples_split=7, n_estimators=54\n",
      "[CV 1/5; 1/1] END max_depth=8, max_features=0.3406937387155642, min_impurity_decrease=0.7481899782593953, min_samples_leaf=3, min_samples_split=7, n_estimators=54;, score=0.936 total time=   1.1s\n",
      "[CV 2/5; 1/1] START max_depth=8, max_features=0.3406937387155642, min_impurity_decrease=0.7481899782593953, min_samples_leaf=3, min_samples_split=7, n_estimators=54\n",
      "[CV 2/5; 1/1] END max_depth=8, max_features=0.3406937387155642, min_impurity_decrease=0.7481899782593953, min_samples_leaf=3, min_samples_split=7, n_estimators=54;, score=0.936 total time=   1.1s\n",
      "[CV 3/5; 1/1] START max_depth=8, max_features=0.3406937387155642, min_impurity_decrease=0.7481899782593953, min_samples_leaf=3, min_samples_split=7, n_estimators=54\n",
      "[CV 3/5; 1/1] END max_depth=8, max_features=0.3406937387155642, min_impurity_decrease=0.7481899782593953, min_samples_leaf=3, min_samples_split=7, n_estimators=54;, score=0.936 total time=   1.1s\n",
      "[CV 4/5; 1/1] START max_depth=8, max_features=0.3406937387155642, min_impurity_decrease=0.7481899782593953, min_samples_leaf=3, min_samples_split=7, n_estimators=54\n",
      "[CV 4/5; 1/1] END max_depth=8, max_features=0.3406937387155642, min_impurity_decrease=0.7481899782593953, min_samples_leaf=3, min_samples_split=7, n_estimators=54;, score=0.936 total time=   1.1s\n",
      "[CV 5/5; 1/1] START max_depth=8, max_features=0.3406937387155642, min_impurity_decrease=0.7481899782593953, min_samples_leaf=3, min_samples_split=7, n_estimators=54\n",
      "[CV 5/5; 1/1] END max_depth=8, max_features=0.3406937387155642, min_impurity_decrease=0.7481899782593953, min_samples_leaf=3, min_samples_split=7, n_estimators=54;, score=0.936 total time=   1.2s\n",
      "Fitting 5 folds for each of 1 candidates, totalling 5 fits\n",
      "[CV 1/5; 1/1] START max_depth=17, max_features=0.4575875656846148, min_impurity_decrease=0.7690661853675659, min_samples_leaf=4, min_samples_split=7, n_estimators=62\n",
      "[CV 1/5; 1/1] END max_depth=17, max_features=0.4575875656846148, min_impurity_decrease=0.7690661853675659, min_samples_leaf=4, min_samples_split=7, n_estimators=62;, score=0.936 total time=   1.7s\n",
      "[CV 2/5; 1/1] START max_depth=17, max_features=0.4575875656846148, min_impurity_decrease=0.7690661853675659, min_samples_leaf=4, min_samples_split=7, n_estimators=62\n",
      "[CV 2/5; 1/1] END max_depth=17, max_features=0.4575875656846148, min_impurity_decrease=0.7690661853675659, min_samples_leaf=4, min_samples_split=7, n_estimators=62;, score=0.936 total time=   1.6s\n",
      "[CV 3/5; 1/1] START max_depth=17, max_features=0.4575875656846148, min_impurity_decrease=0.7690661853675659, min_samples_leaf=4, min_samples_split=7, n_estimators=62\n",
      "[CV 3/5; 1/1] END max_depth=17, max_features=0.4575875656846148, min_impurity_decrease=0.7690661853675659, min_samples_leaf=4, min_samples_split=7, n_estimators=62;, score=0.936 total time=   1.6s\n",
      "[CV 4/5; 1/1] START max_depth=17, max_features=0.4575875656846148, min_impurity_decrease=0.7690661853675659, min_samples_leaf=4, min_samples_split=7, n_estimators=62\n",
      "[CV 4/5; 1/1] END max_depth=17, max_features=0.4575875656846148, min_impurity_decrease=0.7690661853675659, min_samples_leaf=4, min_samples_split=7, n_estimators=62;, score=0.936 total time=   1.7s\n",
      "[CV 5/5; 1/1] START max_depth=17, max_features=0.4575875656846148, min_impurity_decrease=0.7690661853675659, min_samples_leaf=4, min_samples_split=7, n_estimators=62\n",
      "[CV 5/5; 1/1] END max_depth=17, max_features=0.4575875656846148, min_impurity_decrease=0.7690661853675659, min_samples_leaf=4, min_samples_split=7, n_estimators=62;, score=0.936 total time=   1.7s\n",
      "Fitting 5 folds for each of 1 candidates, totalling 5 fits\n",
      "[CV 1/5; 1/1] START max_depth=12, max_features=0.39374356824022694, min_impurity_decrease=0.04332257279036834, min_samples_leaf=10, min_samples_split=8, n_estimators=36\n",
      "[CV 1/5; 1/1] END max_depth=12, max_features=0.39374356824022694, min_impurity_decrease=0.04332257279036834, min_samples_leaf=10, min_samples_split=8, n_estimators=36;, score=0.936 total time=   1.1s\n",
      "[CV 2/5; 1/1] START max_depth=12, max_features=0.39374356824022694, min_impurity_decrease=0.04332257279036834, min_samples_leaf=10, min_samples_split=8, n_estimators=36\n",
      "[CV 2/5; 1/1] END max_depth=12, max_features=0.39374356824022694, min_impurity_decrease=0.04332257279036834, min_samples_leaf=10, min_samples_split=8, n_estimators=36;, score=0.936 total time=   0.8s\n",
      "[CV 3/5; 1/1] START max_depth=12, max_features=0.39374356824022694, min_impurity_decrease=0.04332257279036834, min_samples_leaf=10, min_samples_split=8, n_estimators=36\n",
      "[CV 3/5; 1/1] END max_depth=12, max_features=0.39374356824022694, min_impurity_decrease=0.04332257279036834, min_samples_leaf=10, min_samples_split=8, n_estimators=36;, score=0.936 total time=   0.9s\n",
      "[CV 4/5; 1/1] START max_depth=12, max_features=0.39374356824022694, min_impurity_decrease=0.04332257279036834, min_samples_leaf=10, min_samples_split=8, n_estimators=36\n",
      "[CV 4/5; 1/1] END max_depth=12, max_features=0.39374356824022694, min_impurity_decrease=0.04332257279036834, min_samples_leaf=10, min_samples_split=8, n_estimators=36;, score=0.936 total time=   0.8s\n",
      "[CV 5/5; 1/1] START max_depth=12, max_features=0.39374356824022694, min_impurity_decrease=0.04332257279036834, min_samples_leaf=10, min_samples_split=8, n_estimators=36\n",
      "[CV 5/5; 1/1] END max_depth=12, max_features=0.39374356824022694, min_impurity_decrease=0.04332257279036834, min_samples_leaf=10, min_samples_split=8, n_estimators=36;, score=0.936 total time=   0.8s\n",
      "Fitting 5 folds for each of 1 candidates, totalling 5 fits\n",
      "[CV 1/5; 1/1] START max_depth=11, max_features=0.7834646947675868, min_impurity_decrease=0.23062494552438334, min_samples_leaf=3, min_samples_split=5, n_estimators=195\n",
      "[CV 1/5; 1/1] END max_depth=11, max_features=0.7834646947675868, min_impurity_decrease=0.23062494552438334, min_samples_leaf=3, min_samples_split=5, n_estimators=195;, score=0.936 total time=   7.4s\n",
      "[CV 2/5; 1/1] START max_depth=11, max_features=0.7834646947675868, min_impurity_decrease=0.23062494552438334, min_samples_leaf=3, min_samples_split=5, n_estimators=195\n",
      "[CV 2/5; 1/1] END max_depth=11, max_features=0.7834646947675868, min_impurity_decrease=0.23062494552438334, min_samples_leaf=3, min_samples_split=5, n_estimators=195;, score=0.936 total time=   7.5s\n",
      "[CV 3/5; 1/1] START max_depth=11, max_features=0.7834646947675868, min_impurity_decrease=0.23062494552438334, min_samples_leaf=3, min_samples_split=5, n_estimators=195\n",
      "[CV 3/5; 1/1] END max_depth=11, max_features=0.7834646947675868, min_impurity_decrease=0.23062494552438334, min_samples_leaf=3, min_samples_split=5, n_estimators=195;, score=0.936 total time=   7.4s\n",
      "[CV 4/5; 1/1] START max_depth=11, max_features=0.7834646947675868, min_impurity_decrease=0.23062494552438334, min_samples_leaf=3, min_samples_split=5, n_estimators=195\n",
      "[CV 4/5; 1/1] END max_depth=11, max_features=0.7834646947675868, min_impurity_decrease=0.23062494552438334, min_samples_leaf=3, min_samples_split=5, n_estimators=195;, score=0.936 total time=   8.1s\n",
      "[CV 5/5; 1/1] START max_depth=11, max_features=0.7834646947675868, min_impurity_decrease=0.23062494552438334, min_samples_leaf=3, min_samples_split=5, n_estimators=195\n",
      "[CV 5/5; 1/1] END max_depth=11, max_features=0.7834646947675868, min_impurity_decrease=0.23062494552438334, min_samples_leaf=3, min_samples_split=5, n_estimators=195;, score=0.936 total time=   7.4s\n",
      "Fitting 5 folds for each of 1 candidates, totalling 5 fits\n",
      "[CV 1/5; 1/1] START max_depth=2, max_features=0.6208728525038045, min_impurity_decrease=0.7247045861090822, min_samples_leaf=4, min_samples_split=7, n_estimators=26\n",
      "[CV 1/5; 1/1] END max_depth=2, max_features=0.6208728525038045, min_impurity_decrease=0.7247045861090822, min_samples_leaf=4, min_samples_split=7, n_estimators=26;, score=0.936 total time=   0.9s\n",
      "[CV 2/5; 1/1] START max_depth=2, max_features=0.6208728525038045, min_impurity_decrease=0.7247045861090822, min_samples_leaf=4, min_samples_split=7, n_estimators=26\n",
      "[CV 2/5; 1/1] END max_depth=2, max_features=0.6208728525038045, min_impurity_decrease=0.7247045861090822, min_samples_leaf=4, min_samples_split=7, n_estimators=26;, score=0.936 total time=   0.9s\n",
      "[CV 3/5; 1/1] START max_depth=2, max_features=0.6208728525038045, min_impurity_decrease=0.7247045861090822, min_samples_leaf=4, min_samples_split=7, n_estimators=26\n",
      "[CV 3/5; 1/1] END max_depth=2, max_features=0.6208728525038045, min_impurity_decrease=0.7247045861090822, min_samples_leaf=4, min_samples_split=7, n_estimators=26;, score=0.936 total time=   0.9s\n",
      "[CV 4/5; 1/1] START max_depth=2, max_features=0.6208728525038045, min_impurity_decrease=0.7247045861090822, min_samples_leaf=4, min_samples_split=7, n_estimators=26\n",
      "[CV 4/5; 1/1] END max_depth=2, max_features=0.6208728525038045, min_impurity_decrease=0.7247045861090822, min_samples_leaf=4, min_samples_split=7, n_estimators=26;, score=0.936 total time=   0.8s\n",
      "[CV 5/5; 1/1] START max_depth=2, max_features=0.6208728525038045, min_impurity_decrease=0.7247045861090822, min_samples_leaf=4, min_samples_split=7, n_estimators=26\n",
      "[CV 5/5; 1/1] END max_depth=2, max_features=0.6208728525038045, min_impurity_decrease=0.7247045861090822, min_samples_leaf=4, min_samples_split=7, n_estimators=26;, score=0.936 total time=   0.8s\n",
      "Fitting 5 folds for each of 1 candidates, totalling 5 fits\n",
      "[CV 1/5; 1/1] START max_depth=17, max_features=0.12619115856562257, min_impurity_decrease=0.5850085097908697, min_samples_leaf=5, min_samples_split=8, n_estimators=109\n",
      "[CV 1/5; 1/1] END max_depth=17, max_features=0.12619115856562257, min_impurity_decrease=0.5850085097908697, min_samples_leaf=5, min_samples_split=8, n_estimators=109;, score=0.936 total time=   1.5s\n",
      "[CV 2/5; 1/1] START max_depth=17, max_features=0.12619115856562257, min_impurity_decrease=0.5850085097908697, min_samples_leaf=5, min_samples_split=8, n_estimators=109\n",
      "[CV 2/5; 1/1] END max_depth=17, max_features=0.12619115856562257, min_impurity_decrease=0.5850085097908697, min_samples_leaf=5, min_samples_split=8, n_estimators=109;, score=0.936 total time=   1.4s\n",
      "[CV 3/5; 1/1] START max_depth=17, max_features=0.12619115856562257, min_impurity_decrease=0.5850085097908697, min_samples_leaf=5, min_samples_split=8, n_estimators=109\n",
      "[CV 3/5; 1/1] END max_depth=17, max_features=0.12619115856562257, min_impurity_decrease=0.5850085097908697, min_samples_leaf=5, min_samples_split=8, n_estimators=109;, score=0.936 total time=   1.4s\n",
      "[CV 4/5; 1/1] START max_depth=17, max_features=0.12619115856562257, min_impurity_decrease=0.5850085097908697, min_samples_leaf=5, min_samples_split=8, n_estimators=109\n",
      "[CV 4/5; 1/1] END max_depth=17, max_features=0.12619115856562257, min_impurity_decrease=0.5850085097908697, min_samples_leaf=5, min_samples_split=8, n_estimators=109;, score=0.936 total time=   1.4s\n",
      "[CV 5/5; 1/1] START max_depth=17, max_features=0.12619115856562257, min_impurity_decrease=0.5850085097908697, min_samples_leaf=5, min_samples_split=8, n_estimators=109\n",
      "[CV 5/5; 1/1] END max_depth=17, max_features=0.12619115856562257, min_impurity_decrease=0.5850085097908697, min_samples_leaf=5, min_samples_split=8, n_estimators=109;, score=0.936 total time=   1.4s\n",
      "Fitting 5 folds for each of 1 candidates, totalling 5 fits\n",
      "[CV 1/5; 1/1] START max_depth=8, max_features=0.49443625185114415, min_impurity_decrease=0.2871933143357274, min_samples_leaf=9, min_samples_split=7, n_estimators=40\n",
      "[CV 1/5; 1/1] END max_depth=8, max_features=0.49443625185114415, min_impurity_decrease=0.2871933143357274, min_samples_leaf=9, min_samples_split=7, n_estimators=40;, score=0.936 total time=   1.1s\n",
      "[CV 2/5; 1/1] START max_depth=8, max_features=0.49443625185114415, min_impurity_decrease=0.2871933143357274, min_samples_leaf=9, min_samples_split=7, n_estimators=40\n",
      "[CV 2/5; 1/1] END max_depth=8, max_features=0.49443625185114415, min_impurity_decrease=0.2871933143357274, min_samples_leaf=9, min_samples_split=7, n_estimators=40;, score=0.936 total time=   1.2s\n",
      "[CV 3/5; 1/1] START max_depth=8, max_features=0.49443625185114415, min_impurity_decrease=0.2871933143357274, min_samples_leaf=9, min_samples_split=7, n_estimators=40\n",
      "[CV 3/5; 1/1] END max_depth=8, max_features=0.49443625185114415, min_impurity_decrease=0.2871933143357274, min_samples_leaf=9, min_samples_split=7, n_estimators=40;, score=0.936 total time=   1.1s\n",
      "[CV 4/5; 1/1] START max_depth=8, max_features=0.49443625185114415, min_impurity_decrease=0.2871933143357274, min_samples_leaf=9, min_samples_split=7, n_estimators=40\n",
      "[CV 4/5; 1/1] END max_depth=8, max_features=0.49443625185114415, min_impurity_decrease=0.2871933143357274, min_samples_leaf=9, min_samples_split=7, n_estimators=40;, score=0.936 total time=   1.1s\n",
      "[CV 5/5; 1/1] START max_depth=8, max_features=0.49443625185114415, min_impurity_decrease=0.2871933143357274, min_samples_leaf=9, min_samples_split=7, n_estimators=40\n",
      "[CV 5/5; 1/1] END max_depth=8, max_features=0.49443625185114415, min_impurity_decrease=0.2871933143357274, min_samples_leaf=9, min_samples_split=7, n_estimators=40;, score=0.936 total time=   1.5s\n",
      "Fitting 5 folds for each of 1 candidates, totalling 5 fits\n",
      "[CV 1/5; 1/1] START max_depth=12, max_features=0.4126049816543943, min_impurity_decrease=0.7987771331100753, min_samples_leaf=5, min_samples_split=7, n_estimators=58\n",
      "[CV 1/5; 1/1] END max_depth=12, max_features=0.4126049816543943, min_impurity_decrease=0.7987771331100753, min_samples_leaf=5, min_samples_split=7, n_estimators=58;, score=0.936 total time=   1.5s\n",
      "[CV 2/5; 1/1] START max_depth=12, max_features=0.4126049816543943, min_impurity_decrease=0.7987771331100753, min_samples_leaf=5, min_samples_split=7, n_estimators=58\n",
      "[CV 2/5; 1/1] END max_depth=12, max_features=0.4126049816543943, min_impurity_decrease=0.7987771331100753, min_samples_leaf=5, min_samples_split=7, n_estimators=58;, score=0.936 total time=   1.4s\n",
      "[CV 3/5; 1/1] START max_depth=12, max_features=0.4126049816543943, min_impurity_decrease=0.7987771331100753, min_samples_leaf=5, min_samples_split=7, n_estimators=58\n",
      "[CV 3/5; 1/1] END max_depth=12, max_features=0.4126049816543943, min_impurity_decrease=0.7987771331100753, min_samples_leaf=5, min_samples_split=7, n_estimators=58;, score=0.936 total time=   1.4s\n",
      "[CV 4/5; 1/1] START max_depth=12, max_features=0.4126049816543943, min_impurity_decrease=0.7987771331100753, min_samples_leaf=5, min_samples_split=7, n_estimators=58\n",
      "[CV 4/5; 1/1] END max_depth=12, max_features=0.4126049816543943, min_impurity_decrease=0.7987771331100753, min_samples_leaf=5, min_samples_split=7, n_estimators=58;, score=0.936 total time=   1.4s\n",
      "[CV 5/5; 1/1] START max_depth=12, max_features=0.4126049816543943, min_impurity_decrease=0.7987771331100753, min_samples_leaf=5, min_samples_split=7, n_estimators=58\n",
      "[CV 5/5; 1/1] END max_depth=12, max_features=0.4126049816543943, min_impurity_decrease=0.7987771331100753, min_samples_leaf=5, min_samples_split=7, n_estimators=58;, score=0.936 total time=   1.4s\n",
      "Fitting 5 folds for each of 1 candidates, totalling 5 fits\n",
      "[CV 1/5; 1/1] START max_depth=20, max_features=1.0, min_impurity_decrease=1.0, min_samples_leaf=10, min_samples_split=2, n_estimators=200\n",
      "[CV 1/5; 1/1] END max_depth=20, max_features=1.0, min_impurity_decrease=1.0, min_samples_leaf=10, min_samples_split=2, n_estimators=200;, score=0.936 total time=   9.5s\n",
      "[CV 2/5; 1/1] START max_depth=20, max_features=1.0, min_impurity_decrease=1.0, min_samples_leaf=10, min_samples_split=2, n_estimators=200\n",
      "[CV 2/5; 1/1] END max_depth=20, max_features=1.0, min_impurity_decrease=1.0, min_samples_leaf=10, min_samples_split=2, n_estimators=200;, score=0.936 total time=   9.4s\n",
      "[CV 3/5; 1/1] START max_depth=20, max_features=1.0, min_impurity_decrease=1.0, min_samples_leaf=10, min_samples_split=2, n_estimators=200\n",
      "[CV 3/5; 1/1] END max_depth=20, max_features=1.0, min_impurity_decrease=1.0, min_samples_leaf=10, min_samples_split=2, n_estimators=200;, score=0.936 total time=  10.0s\n",
      "[CV 4/5; 1/1] START max_depth=20, max_features=1.0, min_impurity_decrease=1.0, min_samples_leaf=10, min_samples_split=2, n_estimators=200\n",
      "[CV 4/5; 1/1] END max_depth=20, max_features=1.0, min_impurity_decrease=1.0, min_samples_leaf=10, min_samples_split=2, n_estimators=200;, score=0.936 total time=   9.4s\n",
      "[CV 5/5; 1/1] START max_depth=20, max_features=1.0, min_impurity_decrease=1.0, min_samples_leaf=10, min_samples_split=2, n_estimators=200\n",
      "[CV 5/5; 1/1] END max_depth=20, max_features=1.0, min_impurity_decrease=1.0, min_samples_leaf=10, min_samples_split=2, n_estimators=200;, score=0.936 total time=   9.5s\n",
      "Fitting 5 folds for each of 1 candidates, totalling 5 fits\n",
      "[CV 1/5; 1/1] START max_depth=20, max_features=1.0, min_impurity_decrease=0.0, min_samples_leaf=1, min_samples_split=10, n_estimators=200\n",
      "[CV 1/5; 1/1] END max_depth=20, max_features=1.0, min_impurity_decrease=0.0, min_samples_leaf=1, min_samples_split=10, n_estimators=200;, score=0.942 total time= 2.2min\n",
      "[CV 2/5; 1/1] START max_depth=20, max_features=1.0, min_impurity_decrease=0.0, min_samples_leaf=1, min_samples_split=10, n_estimators=200\n",
      "[CV 2/5; 1/1] END max_depth=20, max_features=1.0, min_impurity_decrease=0.0, min_samples_leaf=1, min_samples_split=10, n_estimators=200;, score=0.942 total time= 2.2min\n",
      "[CV 3/5; 1/1] START max_depth=20, max_features=1.0, min_impurity_decrease=0.0, min_samples_leaf=1, min_samples_split=10, n_estimators=200\n",
      "[CV 3/5; 1/1] END max_depth=20, max_features=1.0, min_impurity_decrease=0.0, min_samples_leaf=1, min_samples_split=10, n_estimators=200;, score=0.942 total time= 2.2min\n",
      "[CV 4/5; 1/1] START max_depth=20, max_features=1.0, min_impurity_decrease=0.0, min_samples_leaf=1, min_samples_split=10, n_estimators=200\n",
      "[CV 4/5; 1/1] END max_depth=20, max_features=1.0, min_impurity_decrease=0.0, min_samples_leaf=1, min_samples_split=10, n_estimators=200;, score=0.942 total time= 2.2min\n",
      "[CV 5/5; 1/1] START max_depth=20, max_features=1.0, min_impurity_decrease=0.0, min_samples_leaf=1, min_samples_split=10, n_estimators=200\n",
      "[CV 5/5; 1/1] END max_depth=20, max_features=1.0, min_impurity_decrease=0.0, min_samples_leaf=1, min_samples_split=10, n_estimators=200;, score=0.943 total time= 2.2min\n",
      "Fitting 5 folds for each of 1 candidates, totalling 5 fits\n",
      "[CV 1/5; 1/1] START max_depth=9, max_features=0.11010054627692954, min_impurity_decrease=0.9561232612007811, min_samples_leaf=9, min_samples_split=10, n_estimators=21\n",
      "[CV 1/5; 1/1] END max_depth=9, max_features=0.11010054627692954, min_impurity_decrease=0.9561232612007811, min_samples_leaf=9, min_samples_split=10, n_estimators=21;, score=0.936 total time=   0.3s\n",
      "[CV 2/5; 1/1] START max_depth=9, max_features=0.11010054627692954, min_impurity_decrease=0.9561232612007811, min_samples_leaf=9, min_samples_split=10, n_estimators=21\n",
      "[CV 2/5; 1/1] END max_depth=9, max_features=0.11010054627692954, min_impurity_decrease=0.9561232612007811, min_samples_leaf=9, min_samples_split=10, n_estimators=21;, score=0.936 total time=   0.3s\n",
      "[CV 3/5; 1/1] START max_depth=9, max_features=0.11010054627692954, min_impurity_decrease=0.9561232612007811, min_samples_leaf=9, min_samples_split=10, n_estimators=21\n",
      "[CV 3/5; 1/1] END max_depth=9, max_features=0.11010054627692954, min_impurity_decrease=0.9561232612007811, min_samples_leaf=9, min_samples_split=10, n_estimators=21;, score=0.936 total time=   0.3s\n",
      "[CV 4/5; 1/1] START max_depth=9, max_features=0.11010054627692954, min_impurity_decrease=0.9561232612007811, min_samples_leaf=9, min_samples_split=10, n_estimators=21\n",
      "[CV 4/5; 1/1] END max_depth=9, max_features=0.11010054627692954, min_impurity_decrease=0.9561232612007811, min_samples_leaf=9, min_samples_split=10, n_estimators=21;, score=0.936 total time=   0.3s\n",
      "[CV 5/5; 1/1] START max_depth=9, max_features=0.11010054627692954, min_impurity_decrease=0.9561232612007811, min_samples_leaf=9, min_samples_split=10, n_estimators=21\n",
      "[CV 5/5; 1/1] END max_depth=9, max_features=0.11010054627692954, min_impurity_decrease=0.9561232612007811, min_samples_leaf=9, min_samples_split=10, n_estimators=21;, score=0.936 total time=   0.2s\n",
      "Fitting 5 folds for each of 1 candidates, totalling 5 fits\n",
      "[CV 1/5; 1/1] START max_depth=4, max_features=0.19836446058891385, min_impurity_decrease=0.6912009293591191, min_samples_leaf=5, min_samples_split=8, n_estimators=200\n",
      "[CV 1/5; 1/1] END max_depth=4, max_features=0.19836446058891385, min_impurity_decrease=0.6912009293591191, min_samples_leaf=5, min_samples_split=8, n_estimators=200;, score=0.936 total time=   3.0s\n",
      "[CV 2/5; 1/1] START max_depth=4, max_features=0.19836446058891385, min_impurity_decrease=0.6912009293591191, min_samples_leaf=5, min_samples_split=8, n_estimators=200\n",
      "[CV 2/5; 1/1] END max_depth=4, max_features=0.19836446058891385, min_impurity_decrease=0.6912009293591191, min_samples_leaf=5, min_samples_split=8, n_estimators=200;, score=0.936 total time=   2.9s\n",
      "[CV 3/5; 1/1] START max_depth=4, max_features=0.19836446058891385, min_impurity_decrease=0.6912009293591191, min_samples_leaf=5, min_samples_split=8, n_estimators=200\n",
      "[CV 3/5; 1/1] END max_depth=4, max_features=0.19836446058891385, min_impurity_decrease=0.6912009293591191, min_samples_leaf=5, min_samples_split=8, n_estimators=200;, score=0.936 total time=   3.1s\n",
      "[CV 4/5; 1/1] START max_depth=4, max_features=0.19836446058891385, min_impurity_decrease=0.6912009293591191, min_samples_leaf=5, min_samples_split=8, n_estimators=200\n",
      "[CV 4/5; 1/1] END max_depth=4, max_features=0.19836446058891385, min_impurity_decrease=0.6912009293591191, min_samples_leaf=5, min_samples_split=8, n_estimators=200;, score=0.936 total time=   3.6s\n",
      "[CV 5/5; 1/1] START max_depth=4, max_features=0.19836446058891385, min_impurity_decrease=0.6912009293591191, min_samples_leaf=5, min_samples_split=8, n_estimators=200\n",
      "[CV 5/5; 1/1] END max_depth=4, max_features=0.19836446058891385, min_impurity_decrease=0.6912009293591191, min_samples_leaf=5, min_samples_split=8, n_estimators=200;, score=0.936 total time=   3.0s\n",
      "Random Forest Classifier took 1053.33 seconds,  candidates checked: 20, best CV score: 0.942 ± 0.001\n",
      "Best parameters:\n",
      "OrderedDict([('max_depth', 20),\n",
      "             ('max_features', 1.0),\n",
      "             ('min_impurity_decrease', 0.0),\n",
      "             ('min_samples_leaf', 1),\n",
      "             ('min_samples_split', 10),\n",
      "             ('n_estimators', 200)])\n",
      "\n"
     ]
    }
   ],
   "source": [
    "from time import time\n",
    "import pprint\n",
    "from sklearn.metrics import make_scorer\n",
    "from skopt.space import Real, Integer\n",
    "from skopt.utils import use_named_args\n",
    "from skopt import BayesSearchCV\n",
    "\n",
    "# A wrapper for measuring time and performances of different optimizers\n",
    "def report_perf(optimizer, X, y, title, callbacks=None):\n",
    "    start = time()\n",
    "    if callbacks:\n",
    "        optimizer.fit(X, y, callback=callbacks)\n",
    "    else:\n",
    "        optimizer.fit(X, y)\n",
    "    best_score = optimizer.best_score_\n",
    "    best_score_std = optimizer.cv_results_['std_test_score'][optimizer.best_index_]\n",
    "    best_params = optimizer.best_params_\n",
    "    print((title + \" took %.2f seconds,  candidates checked: %d, best CV score: %.3f \"\n",
    "           +u\"\\u00B1\"+\" %.3f\") % (time() - start,\n",
    "                                  len(optimizer.cv_results_['params']),\n",
    "                                  best_score,\n",
    "                                  best_score_std))\n",
    "    print('Best parameters:')\n",
    "    pprint.pprint(best_params)\n",
    "    print()\n",
    "    return best_params\n",
    "\n",
    "# Setting the search space\n",
    "search_spaces = {\n",
    "    'n_estimators': Integer(10, 200),\n",
    "    'max_depth': Integer(1, 20),\n",
    "    'min_samples_split': Integer(2, 10),\n",
    "    'min_samples_leaf': Integer(1, 10),\n",
    "    'max_features': Real(0.1, 1.0),\n",
    "    'min_impurity_decrease': Real(0.0, 1.0)\n",
    "}\n",
    "\n",
    "# Create a RandomForestClassifier\n",
    "rf_classifier = RandomForestClassifier(random_state=42)\n",
    "\n",
    "# Create BayesSearchCV object\n",
    "opt = BayesSearchCV(\n",
    "    rf_classifier, \n",
    "    search_spaces,\n",
    "    scoring='accuracy',\n",
    "    cv=5,\n",
    "    n_jobs=1,\n",
    "    n_iter=20,\n",
    "    return_train_score=False,\n",
    "    refit=True,\n",
    "    verbose=100\n",
    ")\n",
    "\n",
    "# Report the best parameters\n",
    "best_params = report_perf(opt, X, y, 'Random Forest Classifier')"
   ]
  },
  {
   "cell_type": "code",
   "execution_count": 53,
   "metadata": {
    "execution": {
     "iopub.execute_input": "2023-09-30T14:25:39.614052Z",
     "iopub.status.busy": "2023-09-30T14:25:39.613676Z",
     "iopub.status.idle": "2023-09-30T14:27:34.367005Z",
     "shell.execute_reply": "2023-09-30T14:27:34.365878Z",
     "shell.execute_reply.started": "2023-09-30T14:25:39.614015Z"
    }
   },
   "outputs": [
    {
     "name": "stdout",
     "output_type": "stream",
     "text": [
      "RFC Tuning Train Accuracy : 96.46072648245885% \n",
      "RFC Tuning Validation Accuracy  : 94.22776316291129% \n",
      "              precision    recall  f1-score   support\n",
      "\n",
      "           0       1.00      0.94      0.97     26028\n",
      "           1       0.11      0.89      0.19       201\n",
      "\n",
      "    accuracy                           0.94     26229\n",
      "   macro avg       0.55      0.92      0.58     26229\n",
      "weighted avg       0.99      0.94      0.96     26229\n",
      "\n"
     ]
    }
   ],
   "source": [
    "# Use the best hyperparameters to create the final model\n",
    "final_model = RandomForestClassifier(random_state=42,\n",
    "    n_estimators=200,\n",
    "    max_depth=20,\n",
    "    max_features=1.0,\n",
    "    min_impurity_decrease=0.0,\n",
    "    min_samples_split=10,\n",
    "    min_samples_leaf=1)\n",
    "\n",
    "# Fit the final model to the training data\n",
    "final_model.fit(X_train, y_train)\n",
    "\n",
    "# predict in validation set\n",
    "valid_predict_final = final_model.predict(X_val)\n",
    "\n",
    "train_acc_final = final_model.score(X_train, y_train)*100\n",
    "valid_acc_final = accuracy_score(valid_predict_final, y_val)*100\n",
    "\n",
    "print(\"RFC Tuning Train Accuracy : {}% \".format(train_acc_final))\n",
    "print(\"RFC Tuning Validation Accuracy  : {}% \".format(valid_acc_final))\n",
    "print(classification_report(valid_predict_final, y_val))"
   ]
  },
  {
   "cell_type": "markdown",
   "metadata": {},
   "source": [
    "# Submission"
   ]
  },
  {
   "cell_type": "code",
   "execution_count": 54,
   "metadata": {
    "execution": {
     "iopub.execute_input": "2023-09-30T14:32:38.156557Z",
     "iopub.status.busy": "2023-09-30T14:32:38.156221Z",
     "iopub.status.idle": "2023-09-30T14:32:39.358540Z",
     "shell.execute_reply": "2023-09-30T14:32:39.357423Z",
     "shell.execute_reply.started": "2023-09-30T14:32:38.156523Z"
    }
   },
   "outputs": [],
   "source": [
    "model_predict = final_model.predict(test)"
   ]
  },
  {
   "cell_type": "code",
   "execution_count": 55,
   "metadata": {
    "execution": {
     "iopub.execute_input": "2023-09-30T14:32:47.155981Z",
     "iopub.status.busy": "2023-09-30T14:32:47.155624Z",
     "iopub.status.idle": "2023-09-30T14:32:47.163381Z",
     "shell.execute_reply": "2023-09-30T14:32:47.162239Z",
     "shell.execute_reply.started": "2023-09-30T14:32:47.155927Z"
    }
   },
   "outputs": [
    {
     "data": {
      "text/plain": [
       "array([0, 0, 0, ..., 0, 0, 0])"
      ]
     },
     "execution_count": 55,
     "metadata": {},
     "output_type": "execute_result"
    }
   ],
   "source": [
    "model_predict"
   ]
  },
  {
   "cell_type": "code",
   "execution_count": 57,
   "metadata": {
    "execution": {
     "iopub.execute_input": "2023-09-30T14:33:28.267483Z",
     "iopub.status.busy": "2023-09-30T14:33:28.267143Z",
     "iopub.status.idle": "2023-09-30T14:33:28.293625Z",
     "shell.execute_reply": "2023-09-30T14:33:28.292378Z",
     "shell.execute_reply.started": "2023-09-30T14:33:28.267455Z"
    }
   },
   "outputs": [
    {
     "data": {
      "text/html": [
       "<div>\n",
       "<style scoped>\n",
       "    .dataframe tbody tr th:only-of-type {\n",
       "        vertical-align: middle;\n",
       "    }\n",
       "\n",
       "    .dataframe tbody tr th {\n",
       "        vertical-align: top;\n",
       "    }\n",
       "\n",
       "    .dataframe thead th {\n",
       "        text-align: right;\n",
       "    }\n",
       "</style>\n",
       "<table border=\"1\" class=\"dataframe\">\n",
       "  <thead>\n",
       "    <tr style=\"text-align: right;\">\n",
       "      <th></th>\n",
       "      <th>order_purchase_timestamp</th>\n",
       "      <th>order_approved_at</th>\n",
       "      <th>customer_id</th>\n",
       "      <th>customer_zip_code_prefix</th>\n",
       "      <th>customer_city</th>\n",
       "      <th>customer_state</th>\n",
       "      <th>payment_sequential</th>\n",
       "      <th>payment_type</th>\n",
       "      <th>payment_installments</th>\n",
       "      <th>payment_value</th>\n",
       "      <th>...</th>\n",
       "      <th>seller_id</th>\n",
       "      <th>price</th>\n",
       "      <th>shipping_charges</th>\n",
       "      <th>product_id</th>\n",
       "      <th>product_category_name</th>\n",
       "      <th>product_weight_g</th>\n",
       "      <th>product_length_cm</th>\n",
       "      <th>product_height_cm</th>\n",
       "      <th>product_width_cm</th>\n",
       "      <th>is_late</th>\n",
       "    </tr>\n",
       "  </thead>\n",
       "  <tbody>\n",
       "    <tr>\n",
       "      <th>0</th>\n",
       "      <td>2017-11-18 12:29:57</td>\n",
       "      <td>2017-11-18 12:46:08</td>\n",
       "      <td>I74lXDOfoqsp</td>\n",
       "      <td>6020</td>\n",
       "      <td>goiania</td>\n",
       "      <td>GO</td>\n",
       "      <td>1</td>\n",
       "      <td>credit_card</td>\n",
       "      <td>2</td>\n",
       "      <td>155.77</td>\n",
       "      <td>...</td>\n",
       "      <td>3jwvL6ihC45G</td>\n",
       "      <td>24.10</td>\n",
       "      <td>20.90</td>\n",
       "      <td>1slxdgbgWFax</td>\n",
       "      <td>toys</td>\n",
       "      <td>50.0</td>\n",
       "      <td>16.0</td>\n",
       "      <td>5.0</td>\n",
       "      <td>11.0</td>\n",
       "      <td>0</td>\n",
       "    </tr>\n",
       "    <tr>\n",
       "      <th>1</th>\n",
       "      <td>2018-06-02 17:13:12</td>\n",
       "      <td>2018-06-02 20:12:23</td>\n",
       "      <td>47TuLHF2s7X5</td>\n",
       "      <td>23020</td>\n",
       "      <td>viamao</td>\n",
       "      <td>RS</td>\n",
       "      <td>1</td>\n",
       "      <td>credit_card</td>\n",
       "      <td>1</td>\n",
       "      <td>4.07</td>\n",
       "      <td>...</td>\n",
       "      <td>GlLj704QXlDB</td>\n",
       "      <td>42.89</td>\n",
       "      <td>12.28</td>\n",
       "      <td>77PgsiElQLeB</td>\n",
       "      <td>electronics</td>\n",
       "      <td>200.0</td>\n",
       "      <td>21.0</td>\n",
       "      <td>7.0</td>\n",
       "      <td>14.0</td>\n",
       "      <td>0</td>\n",
       "    </tr>\n",
       "    <tr>\n",
       "      <th>2</th>\n",
       "      <td>2018-01-08 11:01:30</td>\n",
       "      <td>2018-01-09 07:24:03</td>\n",
       "      <td>dQ0dqI8Qwlj8</td>\n",
       "      <td>75094</td>\n",
       "      <td>campinas</td>\n",
       "      <td>SP</td>\n",
       "      <td>1</td>\n",
       "      <td>wallet</td>\n",
       "      <td>1</td>\n",
       "      <td>381.59</td>\n",
       "      <td>...</td>\n",
       "      <td>V3iKL8r9W9NR</td>\n",
       "      <td>50.21</td>\n",
       "      <td>67.11</td>\n",
       "      <td>QVlD26X1y7NI</td>\n",
       "      <td>furniture_decor</td>\n",
       "      <td>1000.0</td>\n",
       "      <td>100.0</td>\n",
       "      <td>5.0</td>\n",
       "      <td>20.0</td>\n",
       "      <td>0</td>\n",
       "    </tr>\n",
       "    <tr>\n",
       "      <th>3</th>\n",
       "      <td>2017-03-10 10:24:46</td>\n",
       "      <td>2017-03-10 10:24:46</td>\n",
       "      <td>iQCmWhNkIczb</td>\n",
       "      <td>89284</td>\n",
       "      <td>santana de parnaiba</td>\n",
       "      <td>SP</td>\n",
       "      <td>1</td>\n",
       "      <td>credit_card</td>\n",
       "      <td>3</td>\n",
       "      <td>14.76</td>\n",
       "      <td>...</td>\n",
       "      <td>RNBdBKsXebna</td>\n",
       "      <td>89.10</td>\n",
       "      <td>62.05</td>\n",
       "      <td>yWlFGkKYfrpa</td>\n",
       "      <td>toys</td>\n",
       "      <td>8950.0</td>\n",
       "      <td>40.0</td>\n",
       "      <td>30.0</td>\n",
       "      <td>40.0</td>\n",
       "      <td>0</td>\n",
       "    </tr>\n",
       "    <tr>\n",
       "      <th>4</th>\n",
       "      <td>2017-12-02 10:04:07</td>\n",
       "      <td>2017-12-05 04:13:30</td>\n",
       "      <td>Dp2g6JH8tO5Z</td>\n",
       "      <td>39810</td>\n",
       "      <td>aripuana</td>\n",
       "      <td>MT</td>\n",
       "      <td>1</td>\n",
       "      <td>wallet</td>\n",
       "      <td>1</td>\n",
       "      <td>284.09</td>\n",
       "      <td>...</td>\n",
       "      <td>5Ja2lH0N2OZt</td>\n",
       "      <td>2139.99</td>\n",
       "      <td>9.41</td>\n",
       "      <td>h6MCbrwh5kiC</td>\n",
       "      <td>toys</td>\n",
       "      <td>2301.0</td>\n",
       "      <td>32.0</td>\n",
       "      <td>35.0</td>\n",
       "      <td>34.0</td>\n",
       "      <td>0</td>\n",
       "    </tr>\n",
       "  </tbody>\n",
       "</table>\n",
       "<p>5 rows × 21 columns</p>\n",
       "</div>"
      ],
      "text/plain": [
       "  order_purchase_timestamp    order_approved_at   customer_id  \\\n",
       "0      2017-11-18 12:29:57  2017-11-18 12:46:08  I74lXDOfoqsp   \n",
       "1      2018-06-02 17:13:12  2018-06-02 20:12:23  47TuLHF2s7X5   \n",
       "2      2018-01-08 11:01:30  2018-01-09 07:24:03  dQ0dqI8Qwlj8   \n",
       "3      2017-03-10 10:24:46  2017-03-10 10:24:46  iQCmWhNkIczb   \n",
       "4      2017-12-02 10:04:07  2017-12-05 04:13:30  Dp2g6JH8tO5Z   \n",
       "\n",
       "   customer_zip_code_prefix        customer_city customer_state  \\\n",
       "0                      6020              goiania             GO   \n",
       "1                     23020               viamao             RS   \n",
       "2                     75094             campinas             SP   \n",
       "3                     89284  santana de parnaiba             SP   \n",
       "4                     39810             aripuana             MT   \n",
       "\n",
       "   payment_sequential payment_type  payment_installments  payment_value  ...  \\\n",
       "0                   1  credit_card                     2         155.77  ...   \n",
       "1                   1  credit_card                     1           4.07  ...   \n",
       "2                   1       wallet                     1         381.59  ...   \n",
       "3                   1  credit_card                     3          14.76  ...   \n",
       "4                   1       wallet                     1         284.09  ...   \n",
       "\n",
       "      seller_id    price  shipping_charges    product_id  \\\n",
       "0  3jwvL6ihC45G    24.10             20.90  1slxdgbgWFax   \n",
       "1  GlLj704QXlDB    42.89             12.28  77PgsiElQLeB   \n",
       "2  V3iKL8r9W9NR    50.21             67.11  QVlD26X1y7NI   \n",
       "3  RNBdBKsXebna    89.10             62.05  yWlFGkKYfrpa   \n",
       "4  5Ja2lH0N2OZt  2139.99              9.41  h6MCbrwh5kiC   \n",
       "\n",
       "  product_category_name product_weight_g  product_length_cm  \\\n",
       "0                  toys             50.0               16.0   \n",
       "1           electronics            200.0               21.0   \n",
       "2       furniture_decor           1000.0              100.0   \n",
       "3                  toys           8950.0               40.0   \n",
       "4                  toys           2301.0               32.0   \n",
       "\n",
       "   product_height_cm  product_width_cm  is_late  \n",
       "0                5.0              11.0        0  \n",
       "1                7.0              14.0        0  \n",
       "2                5.0              20.0        0  \n",
       "3               30.0              40.0        0  \n",
       "4               35.0              34.0        0  \n",
       "\n",
       "[5 rows x 21 columns]"
      ]
     },
     "execution_count": 57,
     "metadata": {},
     "output_type": "execute_result"
    }
   ],
   "source": [
    "df_test['is_late'] = pd.DataFrame(model_predict)\n",
    "df_test.head()"
   ]
  },
  {
   "cell_type": "code",
   "execution_count": 61,
   "metadata": {
    "execution": {
     "iopub.execute_input": "2023-09-30T14:35:23.214393Z",
     "iopub.status.busy": "2023-09-30T14:35:23.214058Z",
     "iopub.status.idle": "2023-09-30T14:35:23.220438Z",
     "shell.execute_reply": "2023-09-30T14:35:23.219526Z",
     "shell.execute_reply.started": "2023-09-30T14:35:23.214365Z"
    }
   },
   "outputs": [
    {
     "data": {
      "text/plain": [
       "Index(['order_purchase_timestamp', 'order_approved_at', 'customer_id',\n",
       "       'customer_zip_code_prefix', 'customer_city', 'customer_state',\n",
       "       'payment_sequential', 'payment_type', 'payment_installments',\n",
       "       'payment_value', 'order_id', 'seller_id', 'price', 'shipping_charges',\n",
       "       'product_id', 'product_category_name', 'product_weight_g',\n",
       "       'product_length_cm', 'product_height_cm', 'product_width_cm',\n",
       "       'is_late'],\n",
       "      dtype='object')"
      ]
     },
     "execution_count": 61,
     "metadata": {},
     "output_type": "execute_result"
    }
   ],
   "source": [
    "df_test.columns"
   ]
  },
  {
   "cell_type": "code",
   "execution_count": 64,
   "metadata": {
    "execution": {
     "iopub.execute_input": "2023-09-30T14:38:37.209706Z",
     "iopub.status.busy": "2023-09-30T14:38:37.209347Z",
     "iopub.status.idle": "2023-09-30T14:38:37.215342Z",
     "shell.execute_reply": "2023-09-30T14:38:37.214509Z",
     "shell.execute_reply.started": "2023-09-30T14:38:37.209676Z"
    }
   },
   "outputs": [
    {
     "data": {
      "text/plain": [
       "(38279, 21)"
      ]
     },
     "execution_count": 64,
     "metadata": {},
     "output_type": "execute_result"
    }
   ],
   "source": [
    "df_test.shape"
   ]
  },
  {
   "cell_type": "code",
   "execution_count": 58,
   "metadata": {
    "execution": {
     "iopub.execute_input": "2023-09-30T14:33:36.899832Z",
     "iopub.status.busy": "2023-09-30T14:33:36.899504Z",
     "iopub.status.idle": "2023-09-30T14:33:36.907260Z",
     "shell.execute_reply": "2023-09-30T14:33:36.906341Z",
     "shell.execute_reply.started": "2023-09-30T14:33:36.899806Z"
    }
   },
   "outputs": [
    {
     "data": {
      "text/plain": [
       "is_late\n",
       "0    37976\n",
       "1      303\n",
       "Name: count, dtype: int64"
      ]
     },
     "execution_count": 58,
     "metadata": {},
     "output_type": "execute_result"
    }
   ],
   "source": [
    "df_test['is_late'].value_counts()"
   ]
  },
  {
   "cell_type": "code",
   "execution_count": 65,
   "metadata": {
    "execution": {
     "iopub.execute_input": "2023-09-30T14:47:07.237010Z",
     "iopub.status.busy": "2023-09-30T14:47:07.235905Z",
     "iopub.status.idle": "2023-09-30T14:47:07.244806Z",
     "shell.execute_reply": "2023-09-30T14:47:07.243956Z",
     "shell.execute_reply.started": "2023-09-30T14:47:07.236967Z"
    }
   },
   "outputs": [
    {
     "data": {
      "text/plain": [
       "0        u6rPMRAYIGig\n",
       "1        ohY8f4FEbX19\n",
       "2        I28liQek73i2\n",
       "3        bBG1T89mlY8W\n",
       "4        CYxJJSQS8Lbo\n",
       "             ...     \n",
       "38274    QKBW3XKevmfn\n",
       "38275    Tjiw9bj8HtLr\n",
       "38276    mCPofb7A1aTq\n",
       "38277    scVuqN10zbgb\n",
       "38278    oLKXX8tqU6eQ\n",
       "Name: order_id, Length: 38279, dtype: object"
      ]
     },
     "execution_count": 65,
     "metadata": {},
     "output_type": "execute_result"
    }
   ],
   "source": [
    "df_test['order_id']"
   ]
  },
  {
   "cell_type": "code",
   "execution_count": 60,
   "metadata": {
    "execution": {
     "iopub.execute_input": "2023-09-30T14:34:17.042615Z",
     "iopub.status.busy": "2023-09-30T14:34:17.042276Z",
     "iopub.status.idle": "2023-09-30T14:34:17.075443Z",
     "shell.execute_reply": "2023-09-30T14:34:17.074340Z",
     "shell.execute_reply.started": "2023-09-30T14:34:17.042587Z"
    }
   },
   "outputs": [
    {
     "data": {
      "text/html": [
       "<div>\n",
       "<style scoped>\n",
       "    .dataframe tbody tr th:only-of-type {\n",
       "        vertical-align: middle;\n",
       "    }\n",
       "\n",
       "    .dataframe tbody tr th {\n",
       "        vertical-align: top;\n",
       "    }\n",
       "\n",
       "    .dataframe thead th {\n",
       "        text-align: right;\n",
       "    }\n",
       "</style>\n",
       "<table border=\"1\" class=\"dataframe\">\n",
       "  <thead>\n",
       "    <tr style=\"text-align: right;\">\n",
       "      <th></th>\n",
       "      <th>order_id</th>\n",
       "      <th>is_late</th>\n",
       "    </tr>\n",
       "  </thead>\n",
       "  <tbody>\n",
       "    <tr>\n",
       "      <th>0</th>\n",
       "      <td>u6rPMRAYIGig</td>\n",
       "      <td>0</td>\n",
       "    </tr>\n",
       "    <tr>\n",
       "      <th>1</th>\n",
       "      <td>ohY8f4FEbX19</td>\n",
       "      <td>0</td>\n",
       "    </tr>\n",
       "    <tr>\n",
       "      <th>2</th>\n",
       "      <td>I28liQek73i2</td>\n",
       "      <td>0</td>\n",
       "    </tr>\n",
       "    <tr>\n",
       "      <th>3</th>\n",
       "      <td>bBG1T89mlY8W</td>\n",
       "      <td>0</td>\n",
       "    </tr>\n",
       "    <tr>\n",
       "      <th>4</th>\n",
       "      <td>CYxJJSQS8Lbo</td>\n",
       "      <td>0</td>\n",
       "    </tr>\n",
       "    <tr>\n",
       "      <th>5</th>\n",
       "      <td>kUkQCFPtDvrC</td>\n",
       "      <td>0</td>\n",
       "    </tr>\n",
       "    <tr>\n",
       "      <th>6</th>\n",
       "      <td>eV98svHRmPNG</td>\n",
       "      <td>0</td>\n",
       "    </tr>\n",
       "    <tr>\n",
       "      <th>7</th>\n",
       "      <td>b2tsoISX5lnP</td>\n",
       "      <td>0</td>\n",
       "    </tr>\n",
       "    <tr>\n",
       "      <th>8</th>\n",
       "      <td>O0D3th8M88nF</td>\n",
       "      <td>0</td>\n",
       "    </tr>\n",
       "    <tr>\n",
       "      <th>9</th>\n",
       "      <td>yBTGlSf8GGMV</td>\n",
       "      <td>0</td>\n",
       "    </tr>\n",
       "    <tr>\n",
       "      <th>10</th>\n",
       "      <td>OoHJ0WBqlxln</td>\n",
       "      <td>0</td>\n",
       "    </tr>\n",
       "    <tr>\n",
       "      <th>11</th>\n",
       "      <td>qvrK7ROfp1w6</td>\n",
       "      <td>0</td>\n",
       "    </tr>\n",
       "    <tr>\n",
       "      <th>12</th>\n",
       "      <td>uNUwbkr3jhfD</td>\n",
       "      <td>0</td>\n",
       "    </tr>\n",
       "    <tr>\n",
       "      <th>13</th>\n",
       "      <td>j4hiZpWSGa1T</td>\n",
       "      <td>0</td>\n",
       "    </tr>\n",
       "    <tr>\n",
       "      <th>14</th>\n",
       "      <td>6J3ZtW3UMsR9</td>\n",
       "      <td>0</td>\n",
       "    </tr>\n",
       "    <tr>\n",
       "      <th>15</th>\n",
       "      <td>CKtqZeTFa6Ov</td>\n",
       "      <td>0</td>\n",
       "    </tr>\n",
       "    <tr>\n",
       "      <th>16</th>\n",
       "      <td>e7xeH7PfGWFM</td>\n",
       "      <td>0</td>\n",
       "    </tr>\n",
       "    <tr>\n",
       "      <th>17</th>\n",
       "      <td>y7ICBanZzdHp</td>\n",
       "      <td>1</td>\n",
       "    </tr>\n",
       "    <tr>\n",
       "      <th>18</th>\n",
       "      <td>bZFqy2PEMhhc</td>\n",
       "      <td>0</td>\n",
       "    </tr>\n",
       "    <tr>\n",
       "      <th>19</th>\n",
       "      <td>ub5scd3uMflH</td>\n",
       "      <td>0</td>\n",
       "    </tr>\n",
       "  </tbody>\n",
       "</table>\n",
       "</div>"
      ],
      "text/plain": [
       "        order_id  is_late\n",
       "0   u6rPMRAYIGig        0\n",
       "1   ohY8f4FEbX19        0\n",
       "2   I28liQek73i2        0\n",
       "3   bBG1T89mlY8W        0\n",
       "4   CYxJJSQS8Lbo        0\n",
       "5   kUkQCFPtDvrC        0\n",
       "6   eV98svHRmPNG        0\n",
       "7   b2tsoISX5lnP        0\n",
       "8   O0D3th8M88nF        0\n",
       "9   yBTGlSf8GGMV        0\n",
       "10  OoHJ0WBqlxln        0\n",
       "11  qvrK7ROfp1w6        0\n",
       "12  uNUwbkr3jhfD        0\n",
       "13  j4hiZpWSGa1T        0\n",
       "14  6J3ZtW3UMsR9        0\n",
       "15  CKtqZeTFa6Ov        0\n",
       "16  e7xeH7PfGWFM        0\n",
       "17  y7ICBanZzdHp        1\n",
       "18  bZFqy2PEMhhc        0\n",
       "19  ub5scd3uMflH        0"
      ]
     },
     "execution_count": 60,
     "metadata": {},
     "output_type": "execute_result"
    }
   ],
   "source": [
    "order_id = df_test['order_id']\n",
    "is_late = df_test.iloc[:,-1]\n",
    "\n",
    "submission = pd.DataFrame(list(zip(order_id, is_late)),\n",
    "               columns =['order_id', 'is_late'])\n",
    "\n",
    "submission.head(20)"
   ]
  },
  {
   "cell_type": "code",
   "execution_count": 62,
   "metadata": {
    "execution": {
     "iopub.execute_input": "2023-09-30T14:35:46.262438Z",
     "iopub.status.busy": "2023-09-30T14:35:46.262103Z",
     "iopub.status.idle": "2023-09-30T14:35:46.314068Z",
     "shell.execute_reply": "2023-09-30T14:35:46.313190Z",
     "shell.execute_reply.started": "2023-09-30T14:35:46.262410Z"
    }
   },
   "outputs": [],
   "source": [
    "submission.to_csv('model_day_2.csv', index=False)"
   ]
  }
 ],
 "metadata": {
  "kernelspec": {
   "display_name": "Python 3 (ipykernel)",
   "language": "python",
   "name": "python3"
  },
  "language_info": {
   "codemirror_mode": {
    "name": "ipython",
    "version": 3
   },
   "file_extension": ".py",
   "mimetype": "text/x-python",
   "name": "python",
   "nbconvert_exporter": "python",
   "pygments_lexer": "ipython3",
   "version": "3.10.9"
  }
 },
 "nbformat": 4,
 "nbformat_minor": 4
}
