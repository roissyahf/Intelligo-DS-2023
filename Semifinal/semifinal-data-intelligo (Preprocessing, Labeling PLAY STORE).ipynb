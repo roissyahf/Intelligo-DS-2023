{
 "cells": [
  {
   "cell_type": "code",
   "execution_count": 1,
   "metadata": {
    "_cell_guid": "b1076dfc-b9ad-4769-8c92-a6c4dae69d19",
    "_uuid": "8f2839f25d086af736a60e9eeb907d3b93b6e0e5",
    "execution": {
     "iopub.execute_input": "2023-10-06T03:19:46.871664Z",
     "iopub.status.busy": "2023-10-06T03:19:46.871132Z",
     "iopub.status.idle": "2023-10-06T03:19:47.249838Z",
     "shell.execute_reply": "2023-10-06T03:19:47.248820Z",
     "shell.execute_reply.started": "2023-10-06T03:19:46.871631Z"
    }
   },
   "outputs": [
    {
     "name": "stdout",
     "output_type": "stream",
     "text": [
      "/kaggle/input/play-store-jasa-pengiriman/RAW DATA SCRAPING/scrapped_Shopee_XpressRELEVANT.csv\n",
      "/kaggle/input/play-store-jasa-pengiriman/RAW DATA SCRAPING/scrapped_jnt_cargo_NESWEST.csv\n",
      "/kaggle/input/play-store-jasa-pengiriman/RAW DATA SCRAPING/scrapped_POS_Indo_RELEVANT.csv\n",
      "/kaggle/input/play-store-jasa-pengiriman/RAW DATA SCRAPING/scrapped_Ninja_MOST_RELEVANT.csv\n",
      "/kaggle/input/play-store-jasa-pengiriman/RAW DATA SCRAPING/scrapped_jne_NESWEST.csv\n",
      "/kaggle/input/play-store-jasa-pengiriman/RAW DATA SCRAPING/scrapped_SICEPAT_MOST_RELEVANT.csv\n",
      "/kaggle/input/play-store-jasa-pengiriman/RAW DATA SCRAPING/tiki_scraping.csv\n",
      "/kaggle/input/play-store-jasa-pengiriman/RAW DATA SCRAPING/scrapped_Sentral_cargo_MOST_RELEVANT.csv\n",
      "/kaggle/input/play-store-jasa-pengiriman/RAW DATA SCRAPING/anteraja_scraping.csv\n",
      "/kaggle/input/df-final-play-store/df_final_play_store.csv\n"
     ]
    }
   ],
   "source": [
    "import numpy as np \n",
    "import pandas as pd \n",
    "\n",
    "import os\n",
    "for dirname, _, filenames in os.walk('/kaggle/input'):\n",
    "    for filename in filenames:\n",
    "        print(os.path.join(dirname, filename))"
   ]
  },
  {
   "cell_type": "code",
   "execution_count": 2,
   "metadata": {
    "execution": {
     "iopub.execute_input": "2023-10-06T03:19:51.670608Z",
     "iopub.status.busy": "2023-10-06T03:19:51.669981Z",
     "iopub.status.idle": "2023-10-06T03:19:53.265357Z",
     "shell.execute_reply": "2023-10-06T03:19:53.264229Z",
     "shell.execute_reply.started": "2023-10-06T03:19:51.670570Z"
    }
   },
   "outputs": [
    {
     "name": "stderr",
     "output_type": "stream",
     "text": [
      "/opt/conda/lib/python3.10/site-packages/scipy/__init__.py:146: UserWarning: A NumPy version >=1.16.5 and <1.23.0 is required for this version of SciPy (detected version 1.23.5\n",
      "  warnings.warn(f\"A NumPy version >={np_minversion} and <{np_maxversion}\"\n"
     ]
    }
   ],
   "source": [
    "import matplotlib.pyplot as plt\n",
    "import seaborn as sns\n",
    "import plotly.express as px"
   ]
  },
  {
   "cell_type": "code",
   "execution_count": 3,
   "metadata": {
    "execution": {
     "iopub.execute_input": "2023-10-05T14:20:18.035072Z",
     "iopub.status.busy": "2023-10-05T14:20:18.034222Z",
     "iopub.status.idle": "2023-10-05T14:20:18.243825Z",
     "shell.execute_reply": "2023-10-05T14:20:18.242283Z",
     "shell.execute_reply.started": "2023-10-05T14:20:18.035003Z"
    }
   },
   "outputs": [],
   "source": [
    "shopee_xpress = pd.read_csv('/kaggle/input/play-store-jasa-pengiriman/RAW DATA SCRAPING/scrapped_Shopee_XpressRELEVANT.csv')\n",
    "jnt_cargo = pd.read_csv('/kaggle/input/play-store-jasa-pengiriman/RAW DATA SCRAPING/scrapped_jnt_cargo_NESWEST.csv')\n",
    "pos_indo = pd.read_csv('/kaggle/input/play-store-jasa-pengiriman/RAW DATA SCRAPING/scrapped_POS_Indo_RELEVANT.csv')\n",
    "ninja = pd.read_csv('/kaggle/input/play-store-jasa-pengiriman/RAW DATA SCRAPING/scrapped_Ninja_MOST_RELEVANT.csv')\n",
    "jne = pd.read_csv('/kaggle/input/play-store-jasa-pengiriman/RAW DATA SCRAPING/scrapped_jne_NESWEST.csv')\n",
    "sicepat = pd.read_csv('/kaggle/input/play-store-jasa-pengiriman/RAW DATA SCRAPING/scrapped_SICEPAT_MOST_RELEVANT.csv')\n",
    "sentral_cargo = pd.read_csv('/kaggle/input/play-store-jasa-pengiriman/RAW DATA SCRAPING/scrapped_Sentral_cargo_MOST_RELEVANT.csv')\n",
    "tiki = pd.read_csv('/kaggle/input/play-store-jasa-pengiriman/RAW DATA SCRAPING/tiki_scraping.csv')\n",
    "anteraja = pd.read_csv('/kaggle/input/play-store-jasa-pengiriman/RAW DATA SCRAPING/anteraja_scraping.csv')"
   ]
  },
  {
   "cell_type": "code",
   "execution_count": 7,
   "metadata": {
    "execution": {
     "iopub.execute_input": "2023-10-05T14:22:22.629950Z",
     "iopub.status.busy": "2023-10-05T14:22:22.629564Z",
     "iopub.status.idle": "2023-10-05T14:22:22.689374Z",
     "shell.execute_reply": "2023-10-05T14:22:22.687920Z",
     "shell.execute_reply.started": "2023-10-05T14:22:22.629924Z"
    }
   },
   "outputs": [
    {
     "name": "stdout",
     "output_type": "stream",
     "text": [
      "this file has shape: (1000, 11)\n",
      "this file has shape: (972, 11)\n",
      "this file has shape: (5955, 11)\n",
      "this file has shape: (335, 11)\n",
      "this file has shape: (398, 11)\n",
      "this file has shape: (24, 11)\n",
      "this file has shape: (353, 11)\n",
      "this file has shape: (4019, 11)\n",
      "this file has shape: (1000, 11)\n"
     ]
    }
   ],
   "source": [
    "csv_files = [shopee_xpress, jnt_cargo, pos_indo, ninja, jne, sicepat, sentral_cargo, tiki, anteraja]\n",
    "\n",
    "for file in csv_files:\n",
    "    #f\"This {file} has shape {file.shape}\"\n",
    "    print('this file has shape:', file.shape)"
   ]
  },
  {
   "cell_type": "markdown",
   "metadata": {},
   "source": [
    "### Check dataset columns"
   ]
  },
  {
   "cell_type": "code",
   "execution_count": 9,
   "metadata": {
    "execution": {
     "iopub.execute_input": "2023-10-05T14:23:59.031573Z",
     "iopub.status.busy": "2023-10-05T14:23:59.031095Z",
     "iopub.status.idle": "2023-10-05T14:23:59.119158Z",
     "shell.execute_reply": "2023-10-05T14:23:59.117143Z",
     "shell.execute_reply.started": "2023-10-05T14:23:59.031526Z"
    }
   },
   "outputs": [
    {
     "name": "stdout",
     "output_type": "stream",
     "text": [
      "<class 'pandas.core.frame.DataFrame'>\n",
      "RangeIndex: 1000 entries, 0 to 999\n",
      "Data columns (total 11 columns):\n",
      " #   Column                Non-Null Count  Dtype  \n",
      "---  ------                --------------  -----  \n",
      " 0   reviewId              1000 non-null   object \n",
      " 1   userName              1000 non-null   object \n",
      " 2   userImage             1000 non-null   object \n",
      " 3   content               1000 non-null   object \n",
      " 4   score                 1000 non-null   int64  \n",
      " 5   thumbsUpCount         1000 non-null   int64  \n",
      " 6   reviewCreatedVersion  826 non-null    object \n",
      " 7   at                    1000 non-null   object \n",
      " 8   replyContent          0 non-null      float64\n",
      " 9   repliedAt             0 non-null      float64\n",
      " 10  appVersion            826 non-null    object \n",
      "dtypes: float64(2), int64(2), object(7)\n",
      "memory usage: 86.1+ KB\n",
      "None\n",
      "**************************************************\n",
      "<class 'pandas.core.frame.DataFrame'>\n",
      "RangeIndex: 972 entries, 0 to 971\n",
      "Data columns (total 11 columns):\n",
      " #   Column                Non-Null Count  Dtype  \n",
      "---  ------                --------------  -----  \n",
      " 0   reviewId              972 non-null    object \n",
      " 1   userName              972 non-null    object \n",
      " 2   userImage             972 non-null    object \n",
      " 3   content               972 non-null    object \n",
      " 4   score                 972 non-null    int64  \n",
      " 5   thumbsUpCount         972 non-null    int64  \n",
      " 6   reviewCreatedVersion  708 non-null    object \n",
      " 7   at                    972 non-null    object \n",
      " 8   replyContent          0 non-null      float64\n",
      " 9   repliedAt             0 non-null      float64\n",
      " 10  appVersion            708 non-null    object \n",
      "dtypes: float64(2), int64(2), object(7)\n",
      "memory usage: 83.7+ KB\n",
      "None\n",
      "**************************************************\n",
      "<class 'pandas.core.frame.DataFrame'>\n",
      "RangeIndex: 5955 entries, 0 to 5954\n",
      "Data columns (total 11 columns):\n",
      " #   Column                Non-Null Count  Dtype \n",
      "---  ------                --------------  ----- \n",
      " 0   reviewId              5955 non-null   object\n",
      " 1   userName              5955 non-null   object\n",
      " 2   userImage             5955 non-null   object\n",
      " 3   content               5955 non-null   object\n",
      " 4   score                 5955 non-null   int64 \n",
      " 5   thumbsUpCount         5955 non-null   int64 \n",
      " 6   reviewCreatedVersion  5106 non-null   object\n",
      " 7   at                    5955 non-null   object\n",
      " 8   replyContent          212 non-null    object\n",
      " 9   repliedAt             212 non-null    object\n",
      " 10  appVersion            5106 non-null   object\n",
      "dtypes: int64(2), object(9)\n",
      "memory usage: 511.9+ KB\n",
      "None\n",
      "**************************************************\n",
      "<class 'pandas.core.frame.DataFrame'>\n",
      "RangeIndex: 335 entries, 0 to 334\n",
      "Data columns (total 11 columns):\n",
      " #   Column                Non-Null Count  Dtype \n",
      "---  ------                --------------  ----- \n",
      " 0   reviewId              335 non-null    object\n",
      " 1   userName              335 non-null    object\n",
      " 2   userImage             335 non-null    object\n",
      " 3   content               335 non-null    object\n",
      " 4   score                 335 non-null    int64 \n",
      " 5   thumbsUpCount         335 non-null    int64 \n",
      " 6   reviewCreatedVersion  269 non-null    object\n",
      " 7   at                    335 non-null    object\n",
      " 8   replyContent          26 non-null     object\n",
      " 9   repliedAt             26 non-null     object\n",
      " 10  appVersion            269 non-null    object\n",
      "dtypes: int64(2), object(9)\n",
      "memory usage: 28.9+ KB\n",
      "None\n",
      "**************************************************\n",
      "<class 'pandas.core.frame.DataFrame'>\n",
      "RangeIndex: 398 entries, 0 to 397\n",
      "Data columns (total 11 columns):\n",
      " #   Column                Non-Null Count  Dtype \n",
      "---  ------                --------------  ----- \n",
      " 0   reviewId              398 non-null    object\n",
      " 1   userName              398 non-null    object\n",
      " 2   userImage             398 non-null    object\n",
      " 3   content               398 non-null    object\n",
      " 4   score                 398 non-null    int64 \n",
      " 5   thumbsUpCount         398 non-null    int64 \n",
      " 6   reviewCreatedVersion  252 non-null    object\n",
      " 7   at                    398 non-null    object\n",
      " 8   replyContent          2 non-null      object\n",
      " 9   repliedAt             2 non-null      object\n",
      " 10  appVersion            252 non-null    object\n",
      "dtypes: int64(2), object(9)\n",
      "memory usage: 34.3+ KB\n",
      "None\n",
      "**************************************************\n",
      "<class 'pandas.core.frame.DataFrame'>\n",
      "RangeIndex: 24 entries, 0 to 23\n",
      "Data columns (total 11 columns):\n",
      " #   Column                Non-Null Count  Dtype \n",
      "---  ------                --------------  ----- \n",
      " 0   reviewId              24 non-null     object\n",
      " 1   userName              24 non-null     object\n",
      " 2   userImage             24 non-null     object\n",
      " 3   content               24 non-null     object\n",
      " 4   score                 24 non-null     int64 \n",
      " 5   thumbsUpCount         24 non-null     int64 \n",
      " 6   reviewCreatedVersion  22 non-null     object\n",
      " 7   at                    24 non-null     object\n",
      " 8   replyContent          9 non-null      object\n",
      " 9   repliedAt             9 non-null      object\n",
      " 10  appVersion            22 non-null     object\n",
      "dtypes: int64(2), object(9)\n",
      "memory usage: 2.2+ KB\n",
      "None\n",
      "**************************************************\n",
      "<class 'pandas.core.frame.DataFrame'>\n",
      "RangeIndex: 353 entries, 0 to 352\n",
      "Data columns (total 11 columns):\n",
      " #   Column                Non-Null Count  Dtype  \n",
      "---  ------                --------------  -----  \n",
      " 0   reviewId              353 non-null    object \n",
      " 1   userName              353 non-null    object \n",
      " 2   userImage             353 non-null    object \n",
      " 3   content               353 non-null    object \n",
      " 4   score                 353 non-null    int64  \n",
      " 5   thumbsUpCount         353 non-null    int64  \n",
      " 6   reviewCreatedVersion  289 non-null    object \n",
      " 7   at                    353 non-null    object \n",
      " 8   replyContent          0 non-null      float64\n",
      " 9   repliedAt             0 non-null      float64\n",
      " 10  appVersion            289 non-null    object \n",
      "dtypes: float64(2), int64(2), object(7)\n",
      "memory usage: 30.5+ KB\n",
      "None\n",
      "**************************************************\n",
      "<class 'pandas.core.frame.DataFrame'>\n",
      "RangeIndex: 4019 entries, 0 to 4018\n",
      "Data columns (total 11 columns):\n",
      " #   Column                Non-Null Count  Dtype \n",
      "---  ------                --------------  ----- \n",
      " 0   reviewId              4019 non-null   object\n",
      " 1   userName              4019 non-null   object\n",
      " 2   userImage             4019 non-null   object\n",
      " 3   content               4019 non-null   object\n",
      " 4   score                 4019 non-null   int64 \n",
      " 5   thumbsUpCount         4019 non-null   int64 \n",
      " 6   reviewCreatedVersion  3411 non-null   object\n",
      " 7   at                    4019 non-null   object\n",
      " 8   replyContent          402 non-null    object\n",
      " 9   repliedAt             402 non-null    object\n",
      " 10  appVersion            3411 non-null   object\n",
      "dtypes: int64(2), object(9)\n",
      "memory usage: 345.5+ KB\n",
      "None\n",
      "**************************************************\n",
      "<class 'pandas.core.frame.DataFrame'>\n",
      "RangeIndex: 1000 entries, 0 to 999\n",
      "Data columns (total 11 columns):\n",
      " #   Column                Non-Null Count  Dtype \n",
      "---  ------                --------------  ----- \n",
      " 0   reviewId              1000 non-null   object\n",
      " 1   userName              1000 non-null   object\n",
      " 2   userImage             1000 non-null   object\n",
      " 3   content               1000 non-null   object\n",
      " 4   score                 1000 non-null   int64 \n",
      " 5   thumbsUpCount         1000 non-null   int64 \n",
      " 6   reviewCreatedVersion  715 non-null    object\n",
      " 7   at                    1000 non-null   object\n",
      " 8   replyContent          373 non-null    object\n",
      " 9   repliedAt             373 non-null    object\n",
      " 10  appVersion            715 non-null    object\n",
      "dtypes: int64(2), object(9)\n",
      "memory usage: 86.1+ KB\n",
      "None\n",
      "**************************************************\n"
     ]
    }
   ],
   "source": [
    "for file in csv_files:\n",
    "    print(file.info())\n",
    "    print(\"*****\"*10)"
   ]
  },
  {
   "cell_type": "markdown",
   "metadata": {},
   "source": [
    "### Shopee xpress (understand the dataset better)"
   ]
  },
  {
   "cell_type": "code",
   "execution_count": 10,
   "metadata": {
    "execution": {
     "iopub.execute_input": "2023-10-05T14:25:13.323217Z",
     "iopub.status.busy": "2023-10-05T14:25:13.322761Z",
     "iopub.status.idle": "2023-10-05T14:25:13.339033Z",
     "shell.execute_reply": "2023-10-05T14:25:13.337951Z",
     "shell.execute_reply.started": "2023-10-05T14:25:13.323183Z"
    }
   },
   "outputs": [
    {
     "data": {
      "text/html": [
       "<div>\n",
       "<style scoped>\n",
       "    .dataframe tbody tr th:only-of-type {\n",
       "        vertical-align: middle;\n",
       "    }\n",
       "\n",
       "    .dataframe tbody tr th {\n",
       "        vertical-align: top;\n",
       "    }\n",
       "\n",
       "    .dataframe thead th {\n",
       "        text-align: right;\n",
       "    }\n",
       "</style>\n",
       "<table border=\"1\" class=\"dataframe\">\n",
       "  <thead>\n",
       "    <tr style=\"text-align: right;\">\n",
       "      <th></th>\n",
       "      <th>reviewId</th>\n",
       "      <th>userName</th>\n",
       "      <th>userImage</th>\n",
       "      <th>content</th>\n",
       "      <th>score</th>\n",
       "      <th>thumbsUpCount</th>\n",
       "      <th>reviewCreatedVersion</th>\n",
       "      <th>at</th>\n",
       "      <th>replyContent</th>\n",
       "      <th>repliedAt</th>\n",
       "      <th>appVersion</th>\n",
       "    </tr>\n",
       "  </thead>\n",
       "  <tbody>\n",
       "    <tr>\n",
       "      <th>0</th>\n",
       "      <td>2f32ba1f-31e8-405e-8b66-5f5e25812954</td>\n",
       "      <td>Junaidi</td>\n",
       "      <td>https://play-lh.googleusercontent.com/a/ACg8oc...</td>\n",
       "      <td>Saya sangat kecewa dengan para pelanggan spx e...</td>\n",
       "      <td>5</td>\n",
       "      <td>0</td>\n",
       "      <td>4.0.4</td>\n",
       "      <td>2023-10-01 12:53:22</td>\n",
       "      <td>NaN</td>\n",
       "      <td>NaN</td>\n",
       "      <td>4.0.4</td>\n",
       "    </tr>\n",
       "    <tr>\n",
       "      <th>1</th>\n",
       "      <td>3f4baab6-1292-423a-8cdd-6fe0b7c70790</td>\n",
       "      <td>Fabian Alden game and tutorial</td>\n",
       "      <td>https://play-lh.googleusercontent.com/a-/ALV-U...</td>\n",
       "      <td>Bintang satu dulu tunggu barang sampai moga ku...</td>\n",
       "      <td>1</td>\n",
       "      <td>0</td>\n",
       "      <td>4.0.4</td>\n",
       "      <td>2023-10-01 07:49:17</td>\n",
       "      <td>NaN</td>\n",
       "      <td>NaN</td>\n",
       "      <td>4.0.4</td>\n",
       "    </tr>\n",
       "    <tr>\n",
       "      <th>2</th>\n",
       "      <td>54a891dd-1507-4fe2-94cd-bdfb44ab2fed</td>\n",
       "      <td>Evan Junior</td>\n",
       "      <td>https://play-lh.googleusercontent.com/a/ACg8oc...</td>\n",
       "      <td>Keeren</td>\n",
       "      <td>5</td>\n",
       "      <td>0</td>\n",
       "      <td>NaN</td>\n",
       "      <td>2023-10-01 05:28:13</td>\n",
       "      <td>NaN</td>\n",
       "      <td>NaN</td>\n",
       "      <td>NaN</td>\n",
       "    </tr>\n",
       "    <tr>\n",
       "      <th>3</th>\n",
       "      <td>7073a22c-6371-4261-82ae-010f592d55bd</td>\n",
       "      <td>Adnan Patoni</td>\n",
       "      <td>https://play-lh.googleusercontent.com/a/ACg8oc...</td>\n",
       "      <td>bagus sekarang sudah lumayan ada peningkatan o...</td>\n",
       "      <td>5</td>\n",
       "      <td>0</td>\n",
       "      <td>1.1.7</td>\n",
       "      <td>2023-10-01 02:54:07</td>\n",
       "      <td>NaN</td>\n",
       "      <td>NaN</td>\n",
       "      <td>1.1.7</td>\n",
       "    </tr>\n",
       "    <tr>\n",
       "      <th>4</th>\n",
       "      <td>21e4731b-870d-4383-abd0-89ed5369991c</td>\n",
       "      <td>Nofrizal Chand</td>\n",
       "      <td>https://play-lh.googleusercontent.com/a-/ALV-U...</td>\n",
       "      <td>🙏👍🙏👍🙏👍👍👍👍</td>\n",
       "      <td>5</td>\n",
       "      <td>0</td>\n",
       "      <td>4.0.4</td>\n",
       "      <td>2023-10-01 01:35:01</td>\n",
       "      <td>NaN</td>\n",
       "      <td>NaN</td>\n",
       "      <td>4.0.4</td>\n",
       "    </tr>\n",
       "  </tbody>\n",
       "</table>\n",
       "</div>"
      ],
      "text/plain": [
       "                               reviewId                        userName  \\\n",
       "0  2f32ba1f-31e8-405e-8b66-5f5e25812954                         Junaidi   \n",
       "1  3f4baab6-1292-423a-8cdd-6fe0b7c70790  Fabian Alden game and tutorial   \n",
       "2  54a891dd-1507-4fe2-94cd-bdfb44ab2fed                     Evan Junior   \n",
       "3  7073a22c-6371-4261-82ae-010f592d55bd                    Adnan Patoni   \n",
       "4  21e4731b-870d-4383-abd0-89ed5369991c                  Nofrizal Chand   \n",
       "\n",
       "                                           userImage  \\\n",
       "0  https://play-lh.googleusercontent.com/a/ACg8oc...   \n",
       "1  https://play-lh.googleusercontent.com/a-/ALV-U...   \n",
       "2  https://play-lh.googleusercontent.com/a/ACg8oc...   \n",
       "3  https://play-lh.googleusercontent.com/a/ACg8oc...   \n",
       "4  https://play-lh.googleusercontent.com/a-/ALV-U...   \n",
       "\n",
       "                                             content  score  thumbsUpCount  \\\n",
       "0  Saya sangat kecewa dengan para pelanggan spx e...      5              0   \n",
       "1  Bintang satu dulu tunggu barang sampai moga ku...      1              0   \n",
       "2                                             Keeren      5              0   \n",
       "3  bagus sekarang sudah lumayan ada peningkatan o...      5              0   \n",
       "4                                          🙏👍🙏👍🙏👍👍👍👍      5              0   \n",
       "\n",
       "  reviewCreatedVersion                   at  replyContent  repliedAt  \\\n",
       "0                4.0.4  2023-10-01 12:53:22           NaN        NaN   \n",
       "1                4.0.4  2023-10-01 07:49:17           NaN        NaN   \n",
       "2                  NaN  2023-10-01 05:28:13           NaN        NaN   \n",
       "3                1.1.7  2023-10-01 02:54:07           NaN        NaN   \n",
       "4                4.0.4  2023-10-01 01:35:01           NaN        NaN   \n",
       "\n",
       "  appVersion  \n",
       "0      4.0.4  \n",
       "1      4.0.4  \n",
       "2        NaN  \n",
       "3      1.1.7  \n",
       "4      4.0.4  "
      ]
     },
     "execution_count": 10,
     "metadata": {},
     "output_type": "execute_result"
    }
   ],
   "source": [
    "shopee_xpress.head()"
   ]
  },
  {
   "cell_type": "code",
   "execution_count": 11,
   "metadata": {
    "execution": {
     "iopub.execute_input": "2023-10-05T14:26:03.411021Z",
     "iopub.status.busy": "2023-10-05T14:26:03.410617Z",
     "iopub.status.idle": "2023-10-05T14:26:03.420263Z",
     "shell.execute_reply": "2023-10-05T14:26:03.419025Z",
     "shell.execute_reply.started": "2023-10-05T14:26:03.410990Z"
    }
   },
   "outputs": [
    {
     "data": {
      "text/plain": [
       "score\n",
       "1    644\n",
       "5    280\n",
       "4     35\n",
       "2     26\n",
       "3     15\n",
       "Name: count, dtype: int64"
      ]
     },
     "execution_count": 11,
     "metadata": {},
     "output_type": "execute_result"
    }
   ],
   "source": [
    "shopee_xpress['score'].value_counts()"
   ]
  },
  {
   "cell_type": "code",
   "execution_count": 13,
   "metadata": {
    "execution": {
     "iopub.execute_input": "2023-10-05T14:32:00.948942Z",
     "iopub.status.busy": "2023-10-05T14:32:00.948575Z",
     "iopub.status.idle": "2023-10-05T14:32:00.959273Z",
     "shell.execute_reply": "2023-10-05T14:32:00.957621Z",
     "shell.execute_reply.started": "2023-10-05T14:32:00.948916Z"
    }
   },
   "outputs": [
    {
     "data": {
      "text/plain": [
       "reviewId                   0\n",
       "userName                   0\n",
       "userImage                  0\n",
       "content                    0\n",
       "score                      0\n",
       "thumbsUpCount              0\n",
       "reviewCreatedVersion     174\n",
       "at                         0\n",
       "replyContent            1000\n",
       "repliedAt               1000\n",
       "appVersion               174\n",
       "jenis_ekspedisi            0\n",
       "dtype: int64"
      ]
     },
     "execution_count": 13,
     "metadata": {},
     "output_type": "execute_result"
    }
   ],
   "source": [
    "shopee_xpress.isnull().sum()"
   ]
  },
  {
   "cell_type": "code",
   "execution_count": 34,
   "metadata": {
    "execution": {
     "iopub.execute_input": "2023-10-05T15:00:42.705719Z",
     "iopub.status.busy": "2023-10-05T15:00:42.704184Z",
     "iopub.status.idle": "2023-10-05T15:00:42.724548Z",
     "shell.execute_reply": "2023-10-05T15:00:42.723332Z",
     "shell.execute_reply.started": "2023-10-05T15:00:42.705666Z"
    }
   },
   "outputs": [
    {
     "data": {
      "text/plain": [
       "0"
      ]
     },
     "execution_count": 34,
     "metadata": {},
     "output_type": "execute_result"
    }
   ],
   "source": [
    "shopee_xpress.duplicated().sum()"
   ]
  },
  {
   "cell_type": "code",
   "execution_count": 12,
   "metadata": {
    "execution": {
     "iopub.execute_input": "2023-10-05T14:30:30.716221Z",
     "iopub.status.busy": "2023-10-05T14:30:30.715837Z",
     "iopub.status.idle": "2023-10-05T14:30:30.732807Z",
     "shell.execute_reply": "2023-10-05T14:30:30.731648Z",
     "shell.execute_reply.started": "2023-10-05T14:30:30.716192Z"
    }
   },
   "outputs": [
    {
     "data": {
      "text/html": [
       "<div>\n",
       "<style scoped>\n",
       "    .dataframe tbody tr th:only-of-type {\n",
       "        vertical-align: middle;\n",
       "    }\n",
       "\n",
       "    .dataframe tbody tr th {\n",
       "        vertical-align: top;\n",
       "    }\n",
       "\n",
       "    .dataframe thead th {\n",
       "        text-align: right;\n",
       "    }\n",
       "</style>\n",
       "<table border=\"1\" class=\"dataframe\">\n",
       "  <thead>\n",
       "    <tr style=\"text-align: right;\">\n",
       "      <th></th>\n",
       "      <th>reviewId</th>\n",
       "      <th>userName</th>\n",
       "      <th>userImage</th>\n",
       "      <th>content</th>\n",
       "      <th>score</th>\n",
       "      <th>thumbsUpCount</th>\n",
       "      <th>reviewCreatedVersion</th>\n",
       "      <th>at</th>\n",
       "      <th>replyContent</th>\n",
       "      <th>repliedAt</th>\n",
       "      <th>appVersion</th>\n",
       "      <th>jenis_ekspedisi</th>\n",
       "    </tr>\n",
       "  </thead>\n",
       "  <tbody>\n",
       "    <tr>\n",
       "      <th>0</th>\n",
       "      <td>2f32ba1f-31e8-405e-8b66-5f5e25812954</td>\n",
       "      <td>Junaidi</td>\n",
       "      <td>https://play-lh.googleusercontent.com/a/ACg8oc...</td>\n",
       "      <td>Saya sangat kecewa dengan para pelanggan spx e...</td>\n",
       "      <td>5</td>\n",
       "      <td>0</td>\n",
       "      <td>4.0.4</td>\n",
       "      <td>2023-10-01 12:53:22</td>\n",
       "      <td>NaN</td>\n",
       "      <td>NaN</td>\n",
       "      <td>4.0.4</td>\n",
       "      <td>shopee_express</td>\n",
       "    </tr>\n",
       "    <tr>\n",
       "      <th>1</th>\n",
       "      <td>3f4baab6-1292-423a-8cdd-6fe0b7c70790</td>\n",
       "      <td>Fabian Alden game and tutorial</td>\n",
       "      <td>https://play-lh.googleusercontent.com/a-/ALV-U...</td>\n",
       "      <td>Bintang satu dulu tunggu barang sampai moga ku...</td>\n",
       "      <td>1</td>\n",
       "      <td>0</td>\n",
       "      <td>4.0.4</td>\n",
       "      <td>2023-10-01 07:49:17</td>\n",
       "      <td>NaN</td>\n",
       "      <td>NaN</td>\n",
       "      <td>4.0.4</td>\n",
       "      <td>shopee_express</td>\n",
       "    </tr>\n",
       "    <tr>\n",
       "      <th>2</th>\n",
       "      <td>54a891dd-1507-4fe2-94cd-bdfb44ab2fed</td>\n",
       "      <td>Evan Junior</td>\n",
       "      <td>https://play-lh.googleusercontent.com/a/ACg8oc...</td>\n",
       "      <td>Keeren</td>\n",
       "      <td>5</td>\n",
       "      <td>0</td>\n",
       "      <td>NaN</td>\n",
       "      <td>2023-10-01 05:28:13</td>\n",
       "      <td>NaN</td>\n",
       "      <td>NaN</td>\n",
       "      <td>NaN</td>\n",
       "      <td>shopee_express</td>\n",
       "    </tr>\n",
       "    <tr>\n",
       "      <th>3</th>\n",
       "      <td>7073a22c-6371-4261-82ae-010f592d55bd</td>\n",
       "      <td>Adnan Patoni</td>\n",
       "      <td>https://play-lh.googleusercontent.com/a/ACg8oc...</td>\n",
       "      <td>bagus sekarang sudah lumayan ada peningkatan o...</td>\n",
       "      <td>5</td>\n",
       "      <td>0</td>\n",
       "      <td>1.1.7</td>\n",
       "      <td>2023-10-01 02:54:07</td>\n",
       "      <td>NaN</td>\n",
       "      <td>NaN</td>\n",
       "      <td>1.1.7</td>\n",
       "      <td>shopee_express</td>\n",
       "    </tr>\n",
       "    <tr>\n",
       "      <th>4</th>\n",
       "      <td>21e4731b-870d-4383-abd0-89ed5369991c</td>\n",
       "      <td>Nofrizal Chand</td>\n",
       "      <td>https://play-lh.googleusercontent.com/a-/ALV-U...</td>\n",
       "      <td>🙏👍🙏👍🙏👍👍👍👍</td>\n",
       "      <td>5</td>\n",
       "      <td>0</td>\n",
       "      <td>4.0.4</td>\n",
       "      <td>2023-10-01 01:35:01</td>\n",
       "      <td>NaN</td>\n",
       "      <td>NaN</td>\n",
       "      <td>4.0.4</td>\n",
       "      <td>shopee_express</td>\n",
       "    </tr>\n",
       "  </tbody>\n",
       "</table>\n",
       "</div>"
      ],
      "text/plain": [
       "                               reviewId                        userName  \\\n",
       "0  2f32ba1f-31e8-405e-8b66-5f5e25812954                         Junaidi   \n",
       "1  3f4baab6-1292-423a-8cdd-6fe0b7c70790  Fabian Alden game and tutorial   \n",
       "2  54a891dd-1507-4fe2-94cd-bdfb44ab2fed                     Evan Junior   \n",
       "3  7073a22c-6371-4261-82ae-010f592d55bd                    Adnan Patoni   \n",
       "4  21e4731b-870d-4383-abd0-89ed5369991c                  Nofrizal Chand   \n",
       "\n",
       "                                           userImage  \\\n",
       "0  https://play-lh.googleusercontent.com/a/ACg8oc...   \n",
       "1  https://play-lh.googleusercontent.com/a-/ALV-U...   \n",
       "2  https://play-lh.googleusercontent.com/a/ACg8oc...   \n",
       "3  https://play-lh.googleusercontent.com/a/ACg8oc...   \n",
       "4  https://play-lh.googleusercontent.com/a-/ALV-U...   \n",
       "\n",
       "                                             content  score  thumbsUpCount  \\\n",
       "0  Saya sangat kecewa dengan para pelanggan spx e...      5              0   \n",
       "1  Bintang satu dulu tunggu barang sampai moga ku...      1              0   \n",
       "2                                             Keeren      5              0   \n",
       "3  bagus sekarang sudah lumayan ada peningkatan o...      5              0   \n",
       "4                                          🙏👍🙏👍🙏👍👍👍👍      5              0   \n",
       "\n",
       "  reviewCreatedVersion                   at  replyContent  repliedAt  \\\n",
       "0                4.0.4  2023-10-01 12:53:22           NaN        NaN   \n",
       "1                4.0.4  2023-10-01 07:49:17           NaN        NaN   \n",
       "2                  NaN  2023-10-01 05:28:13           NaN        NaN   \n",
       "3                1.1.7  2023-10-01 02:54:07           NaN        NaN   \n",
       "4                4.0.4  2023-10-01 01:35:01           NaN        NaN   \n",
       "\n",
       "  appVersion jenis_ekspedisi  \n",
       "0      4.0.4  shopee_express  \n",
       "1      4.0.4  shopee_express  \n",
       "2        NaN  shopee_express  \n",
       "3      1.1.7  shopee_express  \n",
       "4      4.0.4  shopee_express  "
      ]
     },
     "execution_count": 12,
     "metadata": {},
     "output_type": "execute_result"
    }
   ],
   "source": [
    "# Add a new column 'jenis_ekspedisi' according to the csv file origin\n",
    "shopee_xpress['jenis_ekspedisi'] = 'shopee-express'\n",
    "shopee_xpress.head()"
   ]
  },
  {
   "cell_type": "code",
   "execution_count": 15,
   "metadata": {
    "execution": {
     "iopub.execute_input": "2023-10-05T14:32:31.578892Z",
     "iopub.status.busy": "2023-10-05T14:32:31.578569Z",
     "iopub.status.idle": "2023-10-05T14:32:31.598666Z",
     "shell.execute_reply": "2023-10-05T14:32:31.597387Z",
     "shell.execute_reply.started": "2023-10-05T14:32:31.578868Z"
    }
   },
   "outputs": [
    {
     "data": {
      "text/html": [
       "<div>\n",
       "<style scoped>\n",
       "    .dataframe tbody tr th:only-of-type {\n",
       "        vertical-align: middle;\n",
       "    }\n",
       "\n",
       "    .dataframe tbody tr th {\n",
       "        vertical-align: top;\n",
       "    }\n",
       "\n",
       "    .dataframe thead th {\n",
       "        text-align: right;\n",
       "    }\n",
       "</style>\n",
       "<table border=\"1\" class=\"dataframe\">\n",
       "  <thead>\n",
       "    <tr style=\"text-align: right;\">\n",
       "      <th></th>\n",
       "      <th>content</th>\n",
       "      <th>score</th>\n",
       "      <th>jenis_ekspedisi</th>\n",
       "    </tr>\n",
       "  </thead>\n",
       "  <tbody>\n",
       "    <tr>\n",
       "      <th>0</th>\n",
       "      <td>Saya sangat kecewa dengan para pelanggan spx e...</td>\n",
       "      <td>5</td>\n",
       "      <td>shopee_express</td>\n",
       "    </tr>\n",
       "    <tr>\n",
       "      <th>1</th>\n",
       "      <td>Bintang satu dulu tunggu barang sampai moga ku...</td>\n",
       "      <td>1</td>\n",
       "      <td>shopee_express</td>\n",
       "    </tr>\n",
       "    <tr>\n",
       "      <th>2</th>\n",
       "      <td>Keeren</td>\n",
       "      <td>5</td>\n",
       "      <td>shopee_express</td>\n",
       "    </tr>\n",
       "    <tr>\n",
       "      <th>3</th>\n",
       "      <td>bagus sekarang sudah lumayan ada peningkatan o...</td>\n",
       "      <td>5</td>\n",
       "      <td>shopee_express</td>\n",
       "    </tr>\n",
       "    <tr>\n",
       "      <th>4</th>\n",
       "      <td>🙏👍🙏👍🙏👍👍👍👍</td>\n",
       "      <td>5</td>\n",
       "      <td>shopee_express</td>\n",
       "    </tr>\n",
       "    <tr>\n",
       "      <th>...</th>\n",
       "      <td>...</td>\n",
       "      <td>...</td>\n",
       "      <td>...</td>\n",
       "    </tr>\n",
       "    <tr>\n",
       "      <th>995</th>\n",
       "      <td>Aplikasi macam apa ini pengirimannya kayak apa...</td>\n",
       "      <td>1</td>\n",
       "      <td>shopee_express</td>\n",
       "    </tr>\n",
       "    <tr>\n",
       "      <th>996</th>\n",
       "      <td>bagus</td>\n",
       "      <td>5</td>\n",
       "      <td>shopee_express</td>\n",
       "    </tr>\n",
       "    <tr>\n",
       "      <th>997</th>\n",
       "      <td>Sumpah shoppe skrang lama bet,kecewa</td>\n",
       "      <td>1</td>\n",
       "      <td>shopee_express</td>\n",
       "    </tr>\n",
       "    <tr>\n",
       "      <th>998</th>\n",
       "      <td>Baik Overall good sangat membantu, cuma app te...</td>\n",
       "      <td>5</td>\n",
       "      <td>shopee_express</td>\n",
       "    </tr>\n",
       "    <tr>\n",
       "      <th>999</th>\n",
       "      <td>Bagus</td>\n",
       "      <td>4</td>\n",
       "      <td>shopee_express</td>\n",
       "    </tr>\n",
       "  </tbody>\n",
       "</table>\n",
       "<p>1000 rows × 3 columns</p>\n",
       "</div>"
      ],
      "text/plain": [
       "                                               content  score jenis_ekspedisi\n",
       "0    Saya sangat kecewa dengan para pelanggan spx e...      5  shopee_express\n",
       "1    Bintang satu dulu tunggu barang sampai moga ku...      1  shopee_express\n",
       "2                                               Keeren      5  shopee_express\n",
       "3    bagus sekarang sudah lumayan ada peningkatan o...      5  shopee_express\n",
       "4                                            🙏👍🙏👍🙏👍👍👍👍      5  shopee_express\n",
       "..                                                 ...    ...             ...\n",
       "995  Aplikasi macam apa ini pengirimannya kayak apa...      1  shopee_express\n",
       "996                                              bagus      5  shopee_express\n",
       "997               Sumpah shoppe skrang lama bet,kecewa      1  shopee_express\n",
       "998  Baik Overall good sangat membantu, cuma app te...      5  shopee_express\n",
       "999                                              Bagus      4  shopee_express\n",
       "\n",
       "[1000 rows x 3 columns]"
      ]
     },
     "execution_count": 15,
     "metadata": {},
     "output_type": "execute_result"
    }
   ],
   "source": [
    "# only take important columns in the shopee_xpress df\n",
    "selected_shopee_xpress = shopee_xpress[['content', 'score', 'jenis_ekspedisi']]\n",
    "selected_shopee_xpress"
   ]
  },
  {
   "cell_type": "markdown",
   "metadata": {},
   "source": [
    "### Add 'jenis_ekspedisi' in each csv"
   ]
  },
  {
   "cell_type": "code",
   "execution_count": 17,
   "metadata": {
    "execution": {
     "iopub.execute_input": "2023-10-05T14:45:41.656553Z",
     "iopub.status.busy": "2023-10-05T14:45:41.656206Z",
     "iopub.status.idle": "2023-10-05T14:45:41.667562Z",
     "shell.execute_reply": "2023-10-05T14:45:41.665966Z",
     "shell.execute_reply.started": "2023-10-05T14:45:41.656525Z"
    }
   },
   "outputs": [],
   "source": [
    "shopee_xpress['jenis_ekspedisi'] = 'shopee-express'\n",
    "jnt_cargo['jenis_ekspedisi'] = 'jnt'\n",
    "pos_indo['jenis_ekspedisi'] = 'pt-pos-indonesia'\n",
    "ninja['jenis_ekspedisi'] = 'ninja Xpress'\n",
    "jne['jenis_ekspedisi'] = 'jne'\n",
    "sicepat['jenis_ekspedisi'] = 'sicepat'\n",
    "#sentral_cargo['jenis_ekspedisi'] = 'sentral_kargo'\n",
    "tiki['jenis_ekspedisi'] = 'tiki'\n",
    "anteraja['jenis_ekspedisi'] = 'anteraja'"
   ]
  },
  {
   "cell_type": "markdown",
   "metadata": {},
   "source": [
    "### Only take important columns"
   ]
  },
  {
   "cell_type": "code",
   "execution_count": 18,
   "metadata": {
    "execution": {
     "iopub.execute_input": "2023-10-05T14:45:44.976314Z",
     "iopub.status.busy": "2023-10-05T14:45:44.975927Z",
     "iopub.status.idle": "2023-10-05T14:45:44.992118Z",
     "shell.execute_reply": "2023-10-05T14:45:44.990818Z",
     "shell.execute_reply.started": "2023-10-05T14:45:44.976287Z"
    }
   },
   "outputs": [],
   "source": [
    "selected_shopee_xpress = shopee_xpress[['content', 'score', 'jenis_ekspedisi']]\n",
    "selected_jnt_cargo = jnt_cargo[['content', 'score', 'jenis_ekspedisi']]\n",
    "selected_pos_indo = pos_indo[['content', 'score', 'jenis_ekspedisi']]\n",
    "selected_ninja = ninja[['content', 'score', 'jenis_ekspedisi']]\n",
    "selected_jne = jne[['content', 'score', 'jenis_ekspedisi']]\n",
    "selected_sicepat = sicepat[['content', 'score', 'jenis_ekspedisi']]\n",
    "selected_tiki = tiki[['content', 'score', 'jenis_ekspedisi']]\n",
    "selected_anteraja = anteraja[['content', 'score', 'jenis_ekspedisi']]"
   ]
  },
  {
   "cell_type": "code",
   "execution_count": 19,
   "metadata": {
    "execution": {
     "iopub.execute_input": "2023-10-05T14:48:50.597085Z",
     "iopub.status.busy": "2023-10-05T14:48:50.596625Z",
     "iopub.status.idle": "2023-10-05T14:48:50.612094Z",
     "shell.execute_reply": "2023-10-05T14:48:50.610857Z",
     "shell.execute_reply.started": "2023-10-05T14:48:50.597052Z"
    }
   },
   "outputs": [
    {
     "name": "stdout",
     "output_type": "stream",
     "text": [
      "<class 'pandas.core.frame.DataFrame'>\n",
      "RangeIndex: 1000 entries, 0 to 999\n",
      "Data columns (total 3 columns):\n",
      " #   Column           Non-Null Count  Dtype \n",
      "---  ------           --------------  ----- \n",
      " 0   content          1000 non-null   object\n",
      " 1   score            1000 non-null   int64 \n",
      " 2   jenis_ekspedisi  1000 non-null   object\n",
      "dtypes: int64(1), object(2)\n",
      "memory usage: 23.6+ KB\n"
     ]
    }
   ],
   "source": [
    "selected_shopee_xpress.info()"
   ]
  },
  {
   "cell_type": "markdown",
   "metadata": {},
   "source": [
    "### Concat dataset"
   ]
  },
  {
   "cell_type": "code",
   "execution_count": 21,
   "metadata": {
    "execution": {
     "iopub.execute_input": "2023-10-05T14:51:54.661208Z",
     "iopub.status.busy": "2023-10-05T14:51:54.660846Z",
     "iopub.status.idle": "2023-10-05T14:51:54.674423Z",
     "shell.execute_reply": "2023-10-05T14:51:54.673039Z",
     "shell.execute_reply.started": "2023-10-05T14:51:54.661177Z"
    }
   },
   "outputs": [
    {
     "data": {
      "text/html": [
       "<div>\n",
       "<style scoped>\n",
       "    .dataframe tbody tr th:only-of-type {\n",
       "        vertical-align: middle;\n",
       "    }\n",
       "\n",
       "    .dataframe tbody tr th {\n",
       "        vertical-align: top;\n",
       "    }\n",
       "\n",
       "    .dataframe thead th {\n",
       "        text-align: right;\n",
       "    }\n",
       "</style>\n",
       "<table border=\"1\" class=\"dataframe\">\n",
       "  <thead>\n",
       "    <tr style=\"text-align: right;\">\n",
       "      <th></th>\n",
       "      <th>content</th>\n",
       "      <th>score</th>\n",
       "      <th>jenis_ekspedisi</th>\n",
       "    </tr>\n",
       "  </thead>\n",
       "  <tbody>\n",
       "    <tr>\n",
       "      <th>0</th>\n",
       "      <td>Saya sangat kecewa dengan para pelanggan spx e...</td>\n",
       "      <td>5</td>\n",
       "      <td>shopee-express</td>\n",
       "    </tr>\n",
       "    <tr>\n",
       "      <th>1</th>\n",
       "      <td>Bintang satu dulu tunggu barang sampai moga ku...</td>\n",
       "      <td>1</td>\n",
       "      <td>shopee-express</td>\n",
       "    </tr>\n",
       "    <tr>\n",
       "      <th>2</th>\n",
       "      <td>Keeren</td>\n",
       "      <td>5</td>\n",
       "      <td>shopee-express</td>\n",
       "    </tr>\n",
       "    <tr>\n",
       "      <th>3</th>\n",
       "      <td>bagus sekarang sudah lumayan ada peningkatan o...</td>\n",
       "      <td>5</td>\n",
       "      <td>shopee-express</td>\n",
       "    </tr>\n",
       "    <tr>\n",
       "      <th>4</th>\n",
       "      <td>🙏👍🙏👍🙏👍👍👍👍</td>\n",
       "      <td>5</td>\n",
       "      <td>shopee-express</td>\n",
       "    </tr>\n",
       "  </tbody>\n",
       "</table>\n",
       "</div>"
      ],
      "text/plain": [
       "                                             content  score jenis_ekspedisi\n",
       "0  Saya sangat kecewa dengan para pelanggan spx e...      5  shopee-express\n",
       "1  Bintang satu dulu tunggu barang sampai moga ku...      1  shopee-express\n",
       "2                                             Keeren      5  shopee-express\n",
       "3  bagus sekarang sudah lumayan ada peningkatan o...      5  shopee-express\n",
       "4                                          🙏👍🙏👍🙏👍👍👍👍      5  shopee-express"
      ]
     },
     "execution_count": 21,
     "metadata": {},
     "output_type": "execute_result"
    }
   ],
   "source": [
    "# Concatenate all csv files\n",
    "df_final_play_store = pd.concat([selected_shopee_xpress,\n",
    "                                selected_jnt_cargo,\n",
    "                                selected_pos_indo,\n",
    "                                selected_ninja,\n",
    "                                selected_jne,\n",
    "                                selected_sicepat,\n",
    "                                selected_tiki,\n",
    "                                selected_anteraja], ignore_index=True)\n",
    "\n",
    "# Display the concatenated DataFrame\n",
    "df_final_play_store.head()"
   ]
  },
  {
   "cell_type": "code",
   "execution_count": 22,
   "metadata": {
    "execution": {
     "iopub.execute_input": "2023-10-05T14:52:16.916637Z",
     "iopub.status.busy": "2023-10-05T14:52:16.916241Z",
     "iopub.status.idle": "2023-10-05T14:52:16.928755Z",
     "shell.execute_reply": "2023-10-05T14:52:16.927687Z",
     "shell.execute_reply.started": "2023-10-05T14:52:16.916609Z"
    }
   },
   "outputs": [
    {
     "data": {
      "text/html": [
       "<div>\n",
       "<style scoped>\n",
       "    .dataframe tbody tr th:only-of-type {\n",
       "        vertical-align: middle;\n",
       "    }\n",
       "\n",
       "    .dataframe tbody tr th {\n",
       "        vertical-align: top;\n",
       "    }\n",
       "\n",
       "    .dataframe thead th {\n",
       "        text-align: right;\n",
       "    }\n",
       "</style>\n",
       "<table border=\"1\" class=\"dataframe\">\n",
       "  <thead>\n",
       "    <tr style=\"text-align: right;\">\n",
       "      <th></th>\n",
       "      <th>content</th>\n",
       "      <th>score</th>\n",
       "      <th>jenis_ekspedisi</th>\n",
       "      <th>media_scraping</th>\n",
       "    </tr>\n",
       "  </thead>\n",
       "  <tbody>\n",
       "    <tr>\n",
       "      <th>0</th>\n",
       "      <td>Saya sangat kecewa dengan para pelanggan spx e...</td>\n",
       "      <td>5</td>\n",
       "      <td>shopee-express</td>\n",
       "      <td>google-play-store</td>\n",
       "    </tr>\n",
       "    <tr>\n",
       "      <th>1</th>\n",
       "      <td>Bintang satu dulu tunggu barang sampai moga ku...</td>\n",
       "      <td>1</td>\n",
       "      <td>shopee-express</td>\n",
       "      <td>google-play-store</td>\n",
       "    </tr>\n",
       "    <tr>\n",
       "      <th>2</th>\n",
       "      <td>Keeren</td>\n",
       "      <td>5</td>\n",
       "      <td>shopee-express</td>\n",
       "      <td>google-play-store</td>\n",
       "    </tr>\n",
       "    <tr>\n",
       "      <th>3</th>\n",
       "      <td>bagus sekarang sudah lumayan ada peningkatan o...</td>\n",
       "      <td>5</td>\n",
       "      <td>shopee-express</td>\n",
       "      <td>google-play-store</td>\n",
       "    </tr>\n",
       "    <tr>\n",
       "      <th>4</th>\n",
       "      <td>🙏👍🙏👍🙏👍👍👍👍</td>\n",
       "      <td>5</td>\n",
       "      <td>shopee-express</td>\n",
       "      <td>google-play-store</td>\n",
       "    </tr>\n",
       "  </tbody>\n",
       "</table>\n",
       "</div>"
      ],
      "text/plain": [
       "                                             content  score jenis_ekspedisi  \\\n",
       "0  Saya sangat kecewa dengan para pelanggan spx e...      5  shopee-express   \n",
       "1  Bintang satu dulu tunggu barang sampai moga ku...      1  shopee-express   \n",
       "2                                             Keeren      5  shopee-express   \n",
       "3  bagus sekarang sudah lumayan ada peningkatan o...      5  shopee-express   \n",
       "4                                          🙏👍🙏👍🙏👍👍👍👍      5  shopee-express   \n",
       "\n",
       "      media_scraping  \n",
       "0  google-play-store  \n",
       "1  google-play-store  \n",
       "2  google-play-store  \n",
       "3  google-play-store  \n",
       "4  google-play-store  "
      ]
     },
     "execution_count": 22,
     "metadata": {},
     "output_type": "execute_result"
    }
   ],
   "source": [
    "# Add 'media_scraping'\n",
    "df_final_play_store['media_scraping'] = 'google-play-store'\n",
    "df_final_play_store.head()"
   ]
  },
  {
   "cell_type": "code",
   "execution_count": 24,
   "metadata": {
    "execution": {
     "iopub.execute_input": "2023-10-05T14:52:40.474423Z",
     "iopub.status.busy": "2023-10-05T14:52:40.474071Z",
     "iopub.status.idle": "2023-10-05T14:52:40.489814Z",
     "shell.execute_reply": "2023-10-05T14:52:40.488652Z",
     "shell.execute_reply.started": "2023-10-05T14:52:40.474396Z"
    }
   },
   "outputs": [
    {
     "name": "stdout",
     "output_type": "stream",
     "text": [
      "<class 'pandas.core.frame.DataFrame'>\n",
      "RangeIndex: 13703 entries, 0 to 13702\n",
      "Data columns (total 4 columns):\n",
      " #   Column           Non-Null Count  Dtype \n",
      "---  ------           --------------  ----- \n",
      " 0   content          13703 non-null  object\n",
      " 1   score            13703 non-null  int64 \n",
      " 2   jenis_ekspedisi  13703 non-null  object\n",
      " 3   media_scraping   13703 non-null  object\n",
      "dtypes: int64(1), object(3)\n",
      "memory usage: 428.3+ KB\n"
     ]
    }
   ],
   "source": [
    "df_final_play_store.info()"
   ]
  },
  {
   "cell_type": "code",
   "execution_count": 23,
   "metadata": {
    "execution": {
     "iopub.execute_input": "2023-10-05T14:52:28.057610Z",
     "iopub.status.busy": "2023-10-05T14:52:28.056224Z",
     "iopub.status.idle": "2023-10-05T14:52:28.065873Z",
     "shell.execute_reply": "2023-10-05T14:52:28.064705Z",
     "shell.execute_reply.started": "2023-10-05T14:52:28.057558Z"
    }
   },
   "outputs": [
    {
     "data": {
      "text/plain": [
       "(13703, 4)"
      ]
     },
     "execution_count": 23,
     "metadata": {},
     "output_type": "execute_result"
    }
   ],
   "source": [
    "df_final_play_store.shape"
   ]
  },
  {
   "cell_type": "code",
   "execution_count": 25,
   "metadata": {
    "execution": {
     "iopub.execute_input": "2023-10-05T14:52:50.929346Z",
     "iopub.status.busy": "2023-10-05T14:52:50.928943Z",
     "iopub.status.idle": "2023-10-05T14:52:50.941747Z",
     "shell.execute_reply": "2023-10-05T14:52:50.940568Z",
     "shell.execute_reply.started": "2023-10-05T14:52:50.929316Z"
    }
   },
   "outputs": [
    {
     "data": {
      "text/plain": [
       "content            0\n",
       "score              0\n",
       "jenis_ekspedisi    0\n",
       "media_scraping     0\n",
       "dtype: int64"
      ]
     },
     "execution_count": 25,
     "metadata": {},
     "output_type": "execute_result"
    }
   ],
   "source": [
    "df_final_play_store.isnull().sum()"
   ]
  },
  {
   "cell_type": "code",
   "execution_count": 26,
   "metadata": {
    "execution": {
     "iopub.execute_input": "2023-10-05T14:53:04.273959Z",
     "iopub.status.busy": "2023-10-05T14:53:04.273526Z",
     "iopub.status.idle": "2023-10-05T14:53:04.295533Z",
     "shell.execute_reply": "2023-10-05T14:53:04.294710Z",
     "shell.execute_reply.started": "2023-10-05T14:53:04.273929Z"
    }
   },
   "outputs": [
    {
     "data": {
      "text/plain": [
       "1840"
      ]
     },
     "execution_count": 26,
     "metadata": {},
     "output_type": "execute_result"
    }
   ],
   "source": [
    "df_final_play_store.duplicated().sum()"
   ]
  },
  {
   "cell_type": "code",
   "execution_count": 29,
   "metadata": {
    "execution": {
     "iopub.execute_input": "2023-10-05T14:53:59.888022Z",
     "iopub.status.busy": "2023-10-05T14:53:59.887570Z",
     "iopub.status.idle": "2023-10-05T14:53:59.904557Z",
     "shell.execute_reply": "2023-10-05T14:53:59.903362Z",
     "shell.execute_reply.started": "2023-10-05T14:53:59.887989Z"
    }
   },
   "outputs": [],
   "source": [
    "# drop duplicate rows\n",
    "df_final_play_store = df_final_play_store.drop_duplicates()"
   ]
  },
  {
   "cell_type": "code",
   "execution_count": 30,
   "metadata": {
    "execution": {
     "iopub.execute_input": "2023-10-05T14:54:02.324910Z",
     "iopub.status.busy": "2023-10-05T14:54:02.324492Z",
     "iopub.status.idle": "2023-10-05T14:54:02.334416Z",
     "shell.execute_reply": "2023-10-05T14:54:02.333033Z",
     "shell.execute_reply.started": "2023-10-05T14:54:02.324881Z"
    }
   },
   "outputs": [
    {
     "data": {
      "text/plain": [
       "(11863, 4)"
      ]
     },
     "execution_count": 30,
     "metadata": {},
     "output_type": "execute_result"
    }
   ],
   "source": [
    "df_final_play_store.shape"
   ]
  },
  {
   "cell_type": "markdown",
   "metadata": {},
   "source": [
    "### Explore df_final_play_store"
   ]
  },
  {
   "cell_type": "code",
   "execution_count": 44,
   "metadata": {
    "execution": {
     "iopub.execute_input": "2023-10-05T15:13:11.700994Z",
     "iopub.status.busy": "2023-10-05T15:13:11.700550Z",
     "iopub.status.idle": "2023-10-05T15:13:11.711772Z",
     "shell.execute_reply": "2023-10-05T15:13:11.710315Z",
     "shell.execute_reply.started": "2023-10-05T15:13:11.700963Z"
    }
   },
   "outputs": [
    {
     "name": "stdout",
     "output_type": "stream",
     "text": [
      "score\n",
      "1    5462\n",
      "5    5158\n",
      "4     426\n",
      "3     420\n",
      "2     397\n",
      "Name: count, dtype: int64\n",
      "***************************************************************************\n",
      "jenis_ekspedisi\n",
      "pt-pos-indonesia    5068\n",
      "tiki                3180\n",
      "anteraja             998\n",
      "jnt                  960\n",
      "shopee-express       906\n",
      "jne                  398\n",
      "ninja Xpress         330\n",
      "sicepat               23\n",
      "Name: count, dtype: int64\n"
     ]
    }
   ],
   "source": [
    "# how many observation in each score\n",
    "print(df_final_play_store['score'].value_counts())\n",
    "print('*****'*15)\n",
    "\n",
    "# how many observation in each content\n",
    "print(df_final_play_store['jenis_ekspedisi'].value_counts())"
   ]
  },
  {
   "cell_type": "code",
   "execution_count": 45,
   "metadata": {
    "execution": {
     "iopub.execute_input": "2023-10-05T15:15:28.026161Z",
     "iopub.status.busy": "2023-10-05T15:15:28.025704Z",
     "iopub.status.idle": "2023-10-05T15:15:28.046989Z",
     "shell.execute_reply": "2023-10-05T15:15:28.045686Z",
     "shell.execute_reply.started": "2023-10-05T15:15:28.026097Z"
    }
   },
   "outputs": [
    {
     "data": {
      "text/html": [
       "<div>\n",
       "<style scoped>\n",
       "    .dataframe tbody tr th:only-of-type {\n",
       "        vertical-align: middle;\n",
       "    }\n",
       "\n",
       "    .dataframe tbody tr th {\n",
       "        vertical-align: top;\n",
       "    }\n",
       "\n",
       "    .dataframe thead th {\n",
       "        text-align: right;\n",
       "    }\n",
       "</style>\n",
       "<table border=\"1\" class=\"dataframe\">\n",
       "  <thead>\n",
       "    <tr style=\"text-align: right;\">\n",
       "      <th></th>\n",
       "      <th>content</th>\n",
       "      <th>score</th>\n",
       "      <th>jenis_ekspedisi</th>\n",
       "      <th>media_scraping</th>\n",
       "      <th>content_len</th>\n",
       "    </tr>\n",
       "  </thead>\n",
       "  <tbody>\n",
       "    <tr>\n",
       "      <th>0</th>\n",
       "      <td>Saya sangat kecewa dengan para pelanggan spx e...</td>\n",
       "      <td>5</td>\n",
       "      <td>shopee-express</td>\n",
       "      <td>google-play-store</td>\n",
       "      <td>126</td>\n",
       "    </tr>\n",
       "    <tr>\n",
       "      <th>1</th>\n",
       "      <td>Bintang satu dulu tunggu barang sampai moga ku...</td>\n",
       "      <td>1</td>\n",
       "      <td>shopee-express</td>\n",
       "      <td>google-play-store</td>\n",
       "      <td>59</td>\n",
       "    </tr>\n",
       "    <tr>\n",
       "      <th>2</th>\n",
       "      <td>Keeren</td>\n",
       "      <td>5</td>\n",
       "      <td>shopee-express</td>\n",
       "      <td>google-play-store</td>\n",
       "      <td>6</td>\n",
       "    </tr>\n",
       "    <tr>\n",
       "      <th>3</th>\n",
       "      <td>bagus sekarang sudah lumayan ada peningkatan o...</td>\n",
       "      <td>5</td>\n",
       "      <td>shopee-express</td>\n",
       "      <td>google-play-store</td>\n",
       "      <td>50</td>\n",
       "    </tr>\n",
       "    <tr>\n",
       "      <th>4</th>\n",
       "      <td>🙏👍🙏👍🙏👍👍👍👍</td>\n",
       "      <td>5</td>\n",
       "      <td>shopee-express</td>\n",
       "      <td>google-play-store</td>\n",
       "      <td>9</td>\n",
       "    </tr>\n",
       "  </tbody>\n",
       "</table>\n",
       "</div>"
      ],
      "text/plain": [
       "                                             content  score jenis_ekspedisi  \\\n",
       "0  Saya sangat kecewa dengan para pelanggan spx e...      5  shopee-express   \n",
       "1  Bintang satu dulu tunggu barang sampai moga ku...      1  shopee-express   \n",
       "2                                             Keeren      5  shopee-express   \n",
       "3  bagus sekarang sudah lumayan ada peningkatan o...      5  shopee-express   \n",
       "4                                          🙏👍🙏👍🙏👍👍👍👍      5  shopee-express   \n",
       "\n",
       "      media_scraping  content_len  \n",
       "0  google-play-store          126  \n",
       "1  google-play-store           59  \n",
       "2  google-play-store            6  \n",
       "3  google-play-store           50  \n",
       "4  google-play-store            9  "
      ]
     },
     "execution_count": 45,
     "metadata": {},
     "output_type": "execute_result"
    }
   ],
   "source": [
    "df_final_play_store['content_len'] = df_final_play_store['content'].apply(len)\n",
    "df_final_play_store.head()"
   ]
  },
  {
   "cell_type": "code",
   "execution_count": 46,
   "metadata": {
    "execution": {
     "iopub.execute_input": "2023-10-05T15:15:45.539026Z",
     "iopub.status.busy": "2023-10-05T15:15:45.538633Z",
     "iopub.status.idle": "2023-10-05T15:15:45.547661Z",
     "shell.execute_reply": "2023-10-05T15:15:45.546381Z",
     "shell.execute_reply.started": "2023-10-05T15:15:45.538999Z"
    }
   },
   "outputs": [
    {
     "name": "stdout",
     "output_type": "stream",
     "text": [
      "Maximum length: 500\n",
      "Minimum length: 1\n",
      "Average length: 94.10899435218748\n"
     ]
    }
   ],
   "source": [
    "max_length = df_final_play_store['content_len'].max()\n",
    "min_length = df_final_play_store['content_len'].min()\n",
    "average_length = df_final_play_store['content_len'].mean()\n",
    "\n",
    "print(f\"Maximum length: {max_length}\")\n",
    "print(f\"Minimum length: {min_length}\")\n",
    "print(f\"Average length: {average_length}\")"
   ]
  },
  {
   "cell_type": "code",
   "execution_count": 48,
   "metadata": {
    "execution": {
     "iopub.execute_input": "2023-10-05T15:18:21.563828Z",
     "iopub.status.busy": "2023-10-05T15:18:21.563343Z",
     "iopub.status.idle": "2023-10-05T15:18:22.028818Z",
     "shell.execute_reply": "2023-10-05T15:18:22.028029Z",
     "shell.execute_reply.started": "2023-10-05T15:18:21.563789Z"
    }
   },
   "outputs": [
    {
     "data": {
      "text/plain": [
       "<Axes: xlabel='content_len', ylabel='Density'>"
      ]
     },
     "execution_count": 48,
     "metadata": {},
     "output_type": "execute_result"
    },
    {
     "data": {
      "image/png": "[encoded data removed]",
      "text/plain": [
       "<Figure size 640x480 with 1 Axes>"
      ]
     },
     "metadata": {},
     "output_type": "display_data"
    }
   ],
   "source": [
    "# distribution of content length\n",
    "sns.kdeplot(data= df_final_play_store, x='content_len')"
   ]
  },
  {
   "cell_type": "code",
   "execution_count": 33,
   "metadata": {
    "execution": {
     "iopub.execute_input": "2023-10-05T14:54:45.387623Z",
     "iopub.status.busy": "2023-10-05T14:54:45.387213Z",
     "iopub.status.idle": "2023-10-05T14:54:45.456278Z",
     "shell.execute_reply": "2023-10-05T14:54:45.455009Z",
     "shell.execute_reply.started": "2023-10-05T14:54:45.387591Z"
    }
   },
   "outputs": [],
   "source": [
    "# export csv file for further process\n",
    "df_final_play_store.to_csv('df_final_play_store.csv', index=False)"
   ]
  },
  {
   "cell_type": "markdown",
   "metadata": {},
   "source": [
    "# Data Preprocessing"
   ]
  },
  {
   "cell_type": "code",
   "execution_count": 3,
   "metadata": {
    "execution": {
     "iopub.execute_input": "2023-10-06T03:20:08.237829Z",
     "iopub.status.busy": "2023-10-06T03:20:08.237300Z",
     "iopub.status.idle": "2023-10-06T03:20:08.335642Z",
     "shell.execute_reply": "2023-10-06T03:20:08.334606Z",
     "shell.execute_reply.started": "2023-10-06T03:20:08.237797Z"
    }
   },
   "outputs": [
    {
     "data": {
      "text/html": [
       "<div>\n",
       "<style scoped>\n",
       "    .dataframe tbody tr th:only-of-type {\n",
       "        vertical-align: middle;\n",
       "    }\n",
       "\n",
       "    .dataframe tbody tr th {\n",
       "        vertical-align: top;\n",
       "    }\n",
       "\n",
       "    .dataframe thead th {\n",
       "        text-align: right;\n",
       "    }\n",
       "</style>\n",
       "<table border=\"1\" class=\"dataframe\">\n",
       "  <thead>\n",
       "    <tr style=\"text-align: right;\">\n",
       "      <th></th>\n",
       "      <th>content</th>\n",
       "      <th>score</th>\n",
       "      <th>jenis_ekspedisi</th>\n",
       "      <th>media_scraping</th>\n",
       "    </tr>\n",
       "  </thead>\n",
       "  <tbody>\n",
       "    <tr>\n",
       "      <th>0</th>\n",
       "      <td>Saya sangat kecewa dengan para pelanggan spx e...</td>\n",
       "      <td>5</td>\n",
       "      <td>shopee-express</td>\n",
       "      <td>google-play-store</td>\n",
       "    </tr>\n",
       "    <tr>\n",
       "      <th>1</th>\n",
       "      <td>Bintang satu dulu tunggu barang sampai moga ku...</td>\n",
       "      <td>1</td>\n",
       "      <td>shopee-express</td>\n",
       "      <td>google-play-store</td>\n",
       "    </tr>\n",
       "    <tr>\n",
       "      <th>2</th>\n",
       "      <td>Keeren</td>\n",
       "      <td>5</td>\n",
       "      <td>shopee-express</td>\n",
       "      <td>google-play-store</td>\n",
       "    </tr>\n",
       "    <tr>\n",
       "      <th>3</th>\n",
       "      <td>bagus sekarang sudah lumayan ada peningkatan o...</td>\n",
       "      <td>5</td>\n",
       "      <td>shopee-express</td>\n",
       "      <td>google-play-store</td>\n",
       "    </tr>\n",
       "    <tr>\n",
       "      <th>4</th>\n",
       "      <td>🙏👍🙏👍🙏👍👍👍👍</td>\n",
       "      <td>5</td>\n",
       "      <td>shopee-express</td>\n",
       "      <td>google-play-store</td>\n",
       "    </tr>\n",
       "  </tbody>\n",
       "</table>\n",
       "</div>"
      ],
      "text/plain": [
       "                                             content  score jenis_ekspedisi  \\\n",
       "0  Saya sangat kecewa dengan para pelanggan spx e...      5  shopee-express   \n",
       "1  Bintang satu dulu tunggu barang sampai moga ku...      1  shopee-express   \n",
       "2                                             Keeren      5  shopee-express   \n",
       "3  bagus sekarang sudah lumayan ada peningkatan o...      5  shopee-express   \n",
       "4                                          🙏👍🙏👍🙏👍👍👍👍      5  shopee-express   \n",
       "\n",
       "      media_scraping  \n",
       "0  google-play-store  \n",
       "1  google-play-store  \n",
       "2  google-play-store  \n",
       "3  google-play-store  \n",
       "4  google-play-store  "
      ]
     },
     "execution_count": 3,
     "metadata": {},
     "output_type": "execute_result"
    }
   ],
   "source": [
    "# read final csv\n",
    "df_final_play_store = pd.read_csv('/kaggle/input/df-final-play-store/df_final_play_store.csv')\n",
    "df_final_play_store.head()"
   ]
  },
  {
   "cell_type": "markdown",
   "metadata": {},
   "source": [
    "## Labeling sentiment using simple logic"
   ]
  },
  {
   "cell_type": "code",
   "execution_count": 8,
   "metadata": {
    "execution": {
     "iopub.execute_input": "2023-10-06T03:21:12.022215Z",
     "iopub.status.busy": "2023-10-06T03:21:12.020977Z",
     "iopub.status.idle": "2023-10-06T03:21:12.028010Z",
     "shell.execute_reply": "2023-10-06T03:21:12.026476Z",
     "shell.execute_reply.started": "2023-10-06T03:21:12.022171Z"
    }
   },
   "outputs": [],
   "source": [
    "# define correct map_sentimen function\n",
    "def map_sentimen(score):\n",
    "    if score == 1:\n",
    "        return 'negative'\n",
    "    elif score == 2:\n",
    "        return 'negative'\n",
    "    elif score == 3:\n",
    "        return 'neutral'\n",
    "    else:\n",
    "        return 'positive'"
   ]
  },
  {
   "cell_type": "code",
   "execution_count": 9,
   "metadata": {
    "execution": {
     "iopub.execute_input": "2023-10-06T03:21:15.400136Z",
     "iopub.status.busy": "2023-10-06T03:21:15.399725Z",
     "iopub.status.idle": "2023-10-06T03:21:15.418026Z",
     "shell.execute_reply": "2023-10-06T03:21:15.416644Z",
     "shell.execute_reply.started": "2023-10-06T03:21:15.400103Z"
    }
   },
   "outputs": [
    {
     "data": {
      "text/html": [
       "<div>\n",
       "<style scoped>\n",
       "    .dataframe tbody tr th:only-of-type {\n",
       "        vertical-align: middle;\n",
       "    }\n",
       "\n",
       "    .dataframe tbody tr th {\n",
       "        vertical-align: top;\n",
       "    }\n",
       "\n",
       "    .dataframe thead th {\n",
       "        text-align: right;\n",
       "    }\n",
       "</style>\n",
       "<table border=\"1\" class=\"dataframe\">\n",
       "  <thead>\n",
       "    <tr style=\"text-align: right;\">\n",
       "      <th></th>\n",
       "      <th>content</th>\n",
       "      <th>score</th>\n",
       "      <th>jenis_ekspedisi</th>\n",
       "      <th>media_scraping</th>\n",
       "      <th>kategori_sentimen_mapping</th>\n",
       "    </tr>\n",
       "  </thead>\n",
       "  <tbody>\n",
       "    <tr>\n",
       "      <th>0</th>\n",
       "      <td>Saya sangat kecewa dengan para pelanggan spx e...</td>\n",
       "      <td>5</td>\n",
       "      <td>shopee-express</td>\n",
       "      <td>google-play-store</td>\n",
       "      <td>positive</td>\n",
       "    </tr>\n",
       "    <tr>\n",
       "      <th>1</th>\n",
       "      <td>Bintang satu dulu tunggu barang sampai moga ku...</td>\n",
       "      <td>1</td>\n",
       "      <td>shopee-express</td>\n",
       "      <td>google-play-store</td>\n",
       "      <td>negative</td>\n",
       "    </tr>\n",
       "    <tr>\n",
       "      <th>2</th>\n",
       "      <td>Keeren</td>\n",
       "      <td>5</td>\n",
       "      <td>shopee-express</td>\n",
       "      <td>google-play-store</td>\n",
       "      <td>positive</td>\n",
       "    </tr>\n",
       "    <tr>\n",
       "      <th>3</th>\n",
       "      <td>bagus sekarang sudah lumayan ada peningkatan o...</td>\n",
       "      <td>5</td>\n",
       "      <td>shopee-express</td>\n",
       "      <td>google-play-store</td>\n",
       "      <td>positive</td>\n",
       "    </tr>\n",
       "    <tr>\n",
       "      <th>4</th>\n",
       "      <td>🙏👍🙏👍🙏👍👍👍👍</td>\n",
       "      <td>5</td>\n",
       "      <td>shopee-express</td>\n",
       "      <td>google-play-store</td>\n",
       "      <td>positive</td>\n",
       "    </tr>\n",
       "  </tbody>\n",
       "</table>\n",
       "</div>"
      ],
      "text/plain": [
       "                                             content  score jenis_ekspedisi  \\\n",
       "0  Saya sangat kecewa dengan para pelanggan spx e...      5  shopee-express   \n",
       "1  Bintang satu dulu tunggu barang sampai moga ku...      1  shopee-express   \n",
       "2                                             Keeren      5  shopee-express   \n",
       "3  bagus sekarang sudah lumayan ada peningkatan o...      5  shopee-express   \n",
       "4                                          🙏👍🙏👍🙏👍👍👍👍      5  shopee-express   \n",
       "\n",
       "      media_scraping kategori_sentimen_mapping  \n",
       "0  google-play-store                  positive  \n",
       "1  google-play-store                  negative  \n",
       "2  google-play-store                  positive  \n",
       "3  google-play-store                  positive  \n",
       "4  google-play-store                  positive  "
      ]
     },
     "execution_count": 9,
     "metadata": {},
     "output_type": "execute_result"
    }
   ],
   "source": [
    "# Apply the lambda function to create a new column 'Category'\n",
    "df_final_play_store['kategori_sentimen_mapping'] = df_final_play_store['score'].apply(map_sentimen)\n",
    "\n",
    "# Display the DataFrame\n",
    "df_final_play_store.head()"
   ]
  },
  {
   "cell_type": "code",
   "execution_count": 10,
   "metadata": {
    "execution": {
     "iopub.execute_input": "2023-10-06T03:21:19.796990Z",
     "iopub.status.busy": "2023-10-06T03:21:19.796612Z",
     "iopub.status.idle": "2023-10-06T03:21:19.806053Z",
     "shell.execute_reply": "2023-10-06T03:21:19.804880Z",
     "shell.execute_reply.started": "2023-10-06T03:21:19.796960Z"
    }
   },
   "outputs": [
    {
     "data": {
      "text/plain": [
       "kategori_sentimen_mapping\n",
       "negative    5859\n",
       "positive    5584\n",
       "neutral      420\n",
       "Name: count, dtype: int64"
      ]
     },
     "execution_count": 10,
     "metadata": {},
     "output_type": "execute_result"
    }
   ],
   "source": [
    "df_final_play_store['kategori_sentimen_mapping'].value_counts()"
   ]
  },
  {
   "cell_type": "markdown",
   "metadata": {},
   "source": [
    "## Labeling sentiment using INDOBERT + Doing Data Preprocessing"
   ]
  },
  {
   "cell_type": "markdown",
   "metadata": {},
   "source": [
    "### Preparing libraries"
   ]
  },
  {
   "cell_type": "code",
   "execution_count": 7,
   "metadata": {
    "execution": {
     "iopub.execute_input": "2023-10-06T03:20:36.479242Z",
     "iopub.status.busy": "2023-10-06T03:20:36.478860Z",
     "iopub.status.idle": "2023-10-06T03:20:52.828286Z",
     "shell.execute_reply": "2023-10-06T03:20:52.827199Z",
     "shell.execute_reply.started": "2023-10-06T03:20:36.479210Z"
    }
   },
   "outputs": [],
   "source": [
    "from transformers import AutoTokenizer, AutoModelForSequenceClassification, pipeline\n",
    "import emoji\n",
    "import re\n",
    "import html\n",
    "\n",
    "pretrained_id = \"mdhugol/indonesia-bert-sentiment-classification\"\n",
    "label_id = {'LABEL_0': 'positive', 'LABEL_1': 'neutral', 'LABEL_2': 'negative'}"
   ]
  },
  {
   "cell_type": "code",
   "execution_count": 11,
   "metadata": {
    "execution": {
     "iopub.execute_input": "2023-10-06T03:21:24.564916Z",
     "iopub.status.busy": "2023-10-06T03:21:24.564540Z",
     "iopub.status.idle": "2023-10-06T03:21:57.601170Z",
     "shell.execute_reply": "2023-10-06T03:21:57.599631Z",
     "shell.execute_reply.started": "2023-10-06T03:21:24.564888Z"
    }
   },
   "outputs": [],
   "source": [
    "!pip install sastrawi -q\n",
    "!pip install emoji -q\n",
    "!pip install transformers -q"
   ]
  },
  {
   "cell_type": "code",
   "execution_count": 68,
   "metadata": {
    "execution": {
     "iopub.execute_input": "2023-10-05T16:08:07.258496Z",
     "iopub.status.busy": "2023-10-05T16:08:07.258026Z",
     "iopub.status.idle": "2023-10-05T16:08:09.522094Z",
     "shell.execute_reply": "2023-10-05T16:08:09.520972Z",
     "shell.execute_reply.started": "2023-10-05T16:08:07.258462Z"
    }
   },
   "outputs": [
    {
     "name": "stdout",
     "output_type": "stream",
     "text": [
      "\u001b[31mERROR: Could not find a version that satisfies the requirement indonlu (from versions: none)\u001b[0m\u001b[31m\n",
      "\u001b[0m\u001b[31mERROR: No matching distribution found for indonlu\u001b[0m\u001b[31m\n",
      "\u001b[0m"
     ]
    }
   ],
   "source": [
    "!pip install indonlu"
   ]
  },
  {
   "cell_type": "code",
   "execution_count": 12,
   "metadata": {
    "execution": {
     "iopub.execute_input": "2023-10-06T03:24:24.558529Z",
     "iopub.status.busy": "2023-10-06T03:24:24.557328Z",
     "iopub.status.idle": "2023-10-06T03:24:25.417668Z",
     "shell.execute_reply": "2023-10-06T03:24:25.416465Z",
     "shell.execute_reply.started": "2023-10-06T03:24:24.558477Z"
    }
   },
   "outputs": [
    {
     "name": "stdout",
     "output_type": "stream",
     "text": [
      "[nltk_data] Downloading package punkt to /usr/share/nltk_data...\n",
      "[nltk_data]   Package punkt is already up-to-date!\n"
     ]
    }
   ],
   "source": [
    "# NLP\n",
    "import nltk\n",
    "nltk.download('punkt')\n",
    "from nltk.probability import FreqDist\n",
    "from nltk.tokenize import word_tokenize\n",
    "import emoji\n",
    "\n",
    "# Visualization\n",
    "from wordcloud import WordCloud\n",
    "\n",
    "#Model IndoBERT\n",
    "import random\n",
    "import torch\n",
    "import torch.nn.functional as F\n",
    "from torch import optim\n",
    "from tqdm import tqdm\n",
    "\n",
    "from transformers import BertForSequenceClassification, BertConfig, BertTokenizer\n",
    "#from indonlu.utils.data_utils import DocumentSentimentDataset, DocumentSentimentDataLoader\n",
    "#from indonlu.utils.forward_fn import forward_sequence_classification\n",
    "#from indonlu.utils.metrics import document_sentiment_metrics_fn"
   ]
  },
  {
   "cell_type": "markdown",
   "metadata": {},
   "source": [
    "### Preprocessing phase 1"
   ]
  },
  {
   "cell_type": "code",
   "execution_count": 13,
   "metadata": {
    "execution": {
     "iopub.execute_input": "2023-10-06T03:24:31.505518Z",
     "iopub.status.busy": "2023-10-06T03:24:31.504343Z",
     "iopub.status.idle": "2023-10-06T03:24:31.518354Z",
     "shell.execute_reply": "2023-10-06T03:24:31.517178Z",
     "shell.execute_reply.started": "2023-10-06T03:24:31.505469Z"
    }
   },
   "outputs": [],
   "source": [
    "character = ['.',',',';',':','-,','...','?','!','(',')','[',']','{','}','<','>','\"','/','\\'','#','-','@',\n",
    "             'a','b','c','d','e','f','g','h','i','j','k','l','m','n','o','p','q','r','s','t','u','v','w','x','y','z',\n",
    "             'A','B','C','D','E','F','G','H','I','J','K','L','M','N','O','P','Q','R','S','T','U','V','W','X','Y','Z']\n",
    "\n",
    "# delete redundant char\n",
    "def repeatcharClean(text):\n",
    "    for i in range(len(character)):\n",
    "        charac_long = 5\n",
    "        while charac_long > 2:\n",
    "            char = character[i]*charac_long \n",
    "            text = text.replace(char,character[i])\n",
    "            charac_long -= 1\n",
    "    return text"
   ]
  },
  {
   "cell_type": "code",
   "execution_count": 14,
   "metadata": {
    "execution": {
     "iopub.execute_input": "2023-10-06T03:24:39.049189Z",
     "iopub.status.busy": "2023-10-06T03:24:39.048806Z",
     "iopub.status.idle": "2023-10-06T03:24:39.056791Z",
     "shell.execute_reply": "2023-10-06T03:24:39.055191Z",
     "shell.execute_reply.started": "2023-10-06T03:24:39.049157Z"
    }
   },
   "outputs": [],
   "source": [
    "def clean_review(text):\n",
    "    # lowercase text\n",
    "    text = text.lower()\n",
    "    # change enter to space\n",
    "    text = re.sub(r'\\n', ' ', text)\n",
    "    # delete emoji\n",
    "    text = emoji.demojize(text)\n",
    "    text = re.sub(':[A-Za-z_-]+:', ' ', text) # delete emoji\n",
    "    # delete emoticon\n",
    "    text = re.sub(r\"([xX;:]'?[dDpPvVoO3)(])\", ' ', text)\n",
    "    # delete link\n",
    "    text = re.sub(r\"(https?:\\/\\/(?:www\\.|(?!www))[a-zA-Z0-9][a-zA-Z0-9-]+[a-zA-Z0-9]\\.[^\\s]{2,}|www\\.[a-zA-Z0-9][a-zA-Z0-9-]+[a-zA-Z0-9]\\.[^\\s]{2,}|https?:\\/\\/(?:www\\.|(?!www))[a-zA-Z0-9]+\\.[^\\s]{2,}|www\\.[a-zA-Z0-9]+\\.[^\\s]{2,})\", \"\", text)\n",
    "    # delete username\n",
    "    text = re.sub(r\"@[^\\s]+[\\s]?\", ' ', text)\n",
    "    # delete hashtag\n",
    "    text = re.sub(r'#(\\S+)', r'\\1', text)\n",
    "    # delete number and some symbol\n",
    "    text = re.sub('[^a-zA-Z,.?!]+',' ',text)\n",
    "    # delete redundant char\n",
    "    text = repeatcharClean(text)\n",
    "    # clear spasi\n",
    "    text = re.sub('[ ]+',' ',text)\n",
    "    return text"
   ]
  },
  {
   "cell_type": "code",
   "execution_count": 15,
   "metadata": {
    "execution": {
     "iopub.execute_input": "2023-10-06T03:24:52.144039Z",
     "iopub.status.busy": "2023-10-06T03:24:52.143339Z",
     "iopub.status.idle": "2023-10-06T03:24:55.708075Z",
     "shell.execute_reply": "2023-10-06T03:24:55.706952Z",
     "shell.execute_reply.started": "2023-10-06T03:24:52.144004Z"
    }
   },
   "outputs": [
    {
     "data": {
      "text/html": [
       "<div>\n",
       "<style scoped>\n",
       "    .dataframe tbody tr th:only-of-type {\n",
       "        vertical-align: middle;\n",
       "    }\n",
       "\n",
       "    .dataframe tbody tr th {\n",
       "        vertical-align: top;\n",
       "    }\n",
       "\n",
       "    .dataframe thead th {\n",
       "        text-align: right;\n",
       "    }\n",
       "</style>\n",
       "<table border=\"1\" class=\"dataframe\">\n",
       "  <thead>\n",
       "    <tr style=\"text-align: right;\">\n",
       "      <th></th>\n",
       "      <th>content</th>\n",
       "      <th>score</th>\n",
       "      <th>jenis_ekspedisi</th>\n",
       "      <th>media_scraping</th>\n",
       "      <th>kategori_sentimen_mapping</th>\n",
       "      <th>content_preprocessed</th>\n",
       "    </tr>\n",
       "  </thead>\n",
       "  <tbody>\n",
       "    <tr>\n",
       "      <th>0</th>\n",
       "      <td>Saya sangat kecewa dengan para pelanggan spx e...</td>\n",
       "      <td>5</td>\n",
       "      <td>shopee-express</td>\n",
       "      <td>google-play-store</td>\n",
       "      <td>positive</td>\n",
       "      <td>saya sangat kecewa dengan para pelanggan spx e...</td>\n",
       "    </tr>\n",
       "    <tr>\n",
       "      <th>1</th>\n",
       "      <td>Bintang satu dulu tunggu barang sampai moga ku...</td>\n",
       "      <td>1</td>\n",
       "      <td>shopee-express</td>\n",
       "      <td>google-play-store</td>\n",
       "      <td>negative</td>\n",
       "      <td>bintang satu dulu tunggu barang sampai moga ku...</td>\n",
       "    </tr>\n",
       "    <tr>\n",
       "      <th>2</th>\n",
       "      <td>Keeren</td>\n",
       "      <td>5</td>\n",
       "      <td>shopee-express</td>\n",
       "      <td>google-play-store</td>\n",
       "      <td>positive</td>\n",
       "      <td>keeren</td>\n",
       "    </tr>\n",
       "    <tr>\n",
       "      <th>3</th>\n",
       "      <td>bagus sekarang sudah lumayan ada peningkatan o...</td>\n",
       "      <td>5</td>\n",
       "      <td>shopee-express</td>\n",
       "      <td>google-play-store</td>\n",
       "      <td>positive</td>\n",
       "      <td>bagus sekarang sudah lumayan ada peningkatan ok</td>\n",
       "    </tr>\n",
       "    <tr>\n",
       "      <th>4</th>\n",
       "      <td>🙏👍🙏👍🙏👍👍👍👍</td>\n",
       "      <td>5</td>\n",
       "      <td>shopee-express</td>\n",
       "      <td>google-play-store</td>\n",
       "      <td>positive</td>\n",
       "      <td></td>\n",
       "    </tr>\n",
       "  </tbody>\n",
       "</table>\n",
       "</div>"
      ],
      "text/plain": [
       "                                             content  score jenis_ekspedisi  \\\n",
       "0  Saya sangat kecewa dengan para pelanggan spx e...      5  shopee-express   \n",
       "1  Bintang satu dulu tunggu barang sampai moga ku...      1  shopee-express   \n",
       "2                                             Keeren      5  shopee-express   \n",
       "3  bagus sekarang sudah lumayan ada peningkatan o...      5  shopee-express   \n",
       "4                                          🙏👍🙏👍🙏👍👍👍👍      5  shopee-express   \n",
       "\n",
       "      media_scraping kategori_sentimen_mapping  \\\n",
       "0  google-play-store                  positive   \n",
       "1  google-play-store                  negative   \n",
       "2  google-play-store                  positive   \n",
       "3  google-play-store                  positive   \n",
       "4  google-play-store                  positive   \n",
       "\n",
       "                                content_preprocessed  \n",
       "0  saya sangat kecewa dengan para pelanggan spx e...  \n",
       "1  bintang satu dulu tunggu barang sampai moga ku...  \n",
       "2                                             keeren  \n",
       "3    bagus sekarang sudah lumayan ada peningkatan ok  \n",
       "4                                                     "
      ]
     },
     "execution_count": 15,
     "metadata": {},
     "output_type": "execute_result"
    }
   ],
   "source": [
    "df_final_play_store['content_preprocessed'] = df_final_play_store['content'].apply(clean_review)\n",
    "df_final_play_store.head()"
   ]
  },
  {
   "cell_type": "code",
   "execution_count": 17,
   "metadata": {
    "execution": {
     "iopub.execute_input": "2023-10-06T03:25:25.492111Z",
     "iopub.status.busy": "2023-10-06T03:25:25.491530Z",
     "iopub.status.idle": "2023-10-06T03:25:25.521679Z",
     "shell.execute_reply": "2023-10-06T03:25:25.520742Z",
     "shell.execute_reply.started": "2023-10-06T03:25:25.492069Z"
    }
   },
   "outputs": [
    {
     "data": {
      "text/html": [
       "<div>\n",
       "<style scoped>\n",
       "    .dataframe tbody tr th:only-of-type {\n",
       "        vertical-align: middle;\n",
       "    }\n",
       "\n",
       "    .dataframe tbody tr th {\n",
       "        vertical-align: top;\n",
       "    }\n",
       "\n",
       "    .dataframe thead th {\n",
       "        text-align: right;\n",
       "    }\n",
       "</style>\n",
       "<table border=\"1\" class=\"dataframe\">\n",
       "  <thead>\n",
       "    <tr style=\"text-align: right;\">\n",
       "      <th></th>\n",
       "      <th>content</th>\n",
       "      <th>score</th>\n",
       "      <th>jenis_ekspedisi</th>\n",
       "      <th>media_scraping</th>\n",
       "      <th>kategori_sentimen_mapping</th>\n",
       "      <th>content_preprocessed</th>\n",
       "    </tr>\n",
       "  </thead>\n",
       "  <tbody>\n",
       "    <tr>\n",
       "      <th>0</th>\n",
       "      <td>Saya sangat kecewa dengan para pelanggan spx e...</td>\n",
       "      <td>5</td>\n",
       "      <td>shopee-express</td>\n",
       "      <td>google-play-store</td>\n",
       "      <td>positive</td>\n",
       "      <td>saya sangat kecewa dengan para pelanggan spx e...</td>\n",
       "    </tr>\n",
       "    <tr>\n",
       "      <th>1</th>\n",
       "      <td>Bintang satu dulu tunggu barang sampai moga ku...</td>\n",
       "      <td>1</td>\n",
       "      <td>shopee-express</td>\n",
       "      <td>google-play-store</td>\n",
       "      <td>negative</td>\n",
       "      <td>bintang satu dulu tunggu barang sampai moga ku...</td>\n",
       "    </tr>\n",
       "    <tr>\n",
       "      <th>2</th>\n",
       "      <td>Keeren</td>\n",
       "      <td>5</td>\n",
       "      <td>shopee-express</td>\n",
       "      <td>google-play-store</td>\n",
       "      <td>positive</td>\n",
       "      <td>keeren</td>\n",
       "    </tr>\n",
       "    <tr>\n",
       "      <th>3</th>\n",
       "      <td>bagus sekarang sudah lumayan ada peningkatan o...</td>\n",
       "      <td>5</td>\n",
       "      <td>shopee-express</td>\n",
       "      <td>google-play-store</td>\n",
       "      <td>positive</td>\n",
       "      <td>bagus sekarang sudah lumayan ada peningkatan ok</td>\n",
       "    </tr>\n",
       "    <tr>\n",
       "      <th>5</th>\n",
       "      <td>Sebaiknya di cantum kan nama dan no HP driver ...</td>\n",
       "      <td>2</td>\n",
       "      <td>shopee-express</td>\n",
       "      <td>google-play-store</td>\n",
       "      <td>negative</td>\n",
       "      <td>sebaiknya di cantum kan nama dan no hp driver ...</td>\n",
       "    </tr>\n",
       "  </tbody>\n",
       "</table>\n",
       "</div>"
      ],
      "text/plain": [
       "                                             content  score jenis_ekspedisi  \\\n",
       "0  Saya sangat kecewa dengan para pelanggan spx e...      5  shopee-express   \n",
       "1  Bintang satu dulu tunggu barang sampai moga ku...      1  shopee-express   \n",
       "2                                             Keeren      5  shopee-express   \n",
       "3  bagus sekarang sudah lumayan ada peningkatan o...      5  shopee-express   \n",
       "5  Sebaiknya di cantum kan nama dan no HP driver ...      2  shopee-express   \n",
       "\n",
       "      media_scraping kategori_sentimen_mapping  \\\n",
       "0  google-play-store                  positive   \n",
       "1  google-play-store                  negative   \n",
       "2  google-play-store                  positive   \n",
       "3  google-play-store                  positive   \n",
       "5  google-play-store                  negative   \n",
       "\n",
       "                                content_preprocessed  \n",
       "0  saya sangat kecewa dengan para pelanggan spx e...  \n",
       "1  bintang satu dulu tunggu barang sampai moga ku...  \n",
       "2                                             keeren  \n",
       "3    bagus sekarang sudah lumayan ada peningkatan ok  \n",
       "5  sebaiknya di cantum kan nama dan no hp driver ...  "
      ]
     },
     "execution_count": 17,
     "metadata": {},
     "output_type": "execute_result"
    }
   ],
   "source": [
    "# approach 2 >> succeed\n",
    "#remove null value\n",
    "df_final_play_store = df_final_play_store[df_final_play_store[\"content_preprocessed\"]!=\" \"]\n",
    "df_final_play_store.head()"
   ]
  },
  {
   "cell_type": "code",
   "execution_count": 18,
   "metadata": {
    "execution": {
     "iopub.execute_input": "2023-10-06T03:25:34.856487Z",
     "iopub.status.busy": "2023-10-06T03:25:34.856126Z",
     "iopub.status.idle": "2023-10-06T03:25:34.862506Z",
     "shell.execute_reply": "2023-10-06T03:25:34.861545Z",
     "shell.execute_reply.started": "2023-10-06T03:25:34.856460Z"
    }
   },
   "outputs": [
    {
     "data": {
      "text/plain": [
       "(11782, 6)"
      ]
     },
     "execution_count": 18,
     "metadata": {},
     "output_type": "execute_result"
    }
   ],
   "source": [
    "df_final_play_store.shape"
   ]
  },
  {
   "cell_type": "markdown",
   "metadata": {},
   "source": [
    "### preprocessing phase 2"
   ]
  },
  {
   "cell_type": "code",
   "execution_count": 38,
   "metadata": {
    "execution": {
     "iopub.execute_input": "2023-10-06T03:54:15.205188Z",
     "iopub.status.busy": "2023-10-06T03:54:15.204805Z",
     "iopub.status.idle": "2023-10-06T03:54:15.216489Z",
     "shell.execute_reply": "2023-10-06T03:54:15.215544Z",
     "shell.execute_reply.started": "2023-10-06T03:54:15.205152Z"
    }
   },
   "outputs": [],
   "source": [
    "from nltk.corpus import stopwords\n",
    "from Sastrawi.StopWordRemover.StopWordRemoverFactory import StopWordRemoverFactory\n",
    "\n",
    "# default stopwords\n",
    "default_stopwords = list(stopwords.words('indonesian'))\n",
    "# default_stopwords = StopWordRemoverFactory().get_stop_words()\n",
    "# default_stopwords = set(stopwords.words('indonesian'))\n",
    "\n",
    "# additional stopwords\n",
    "more_stopwords = [\"yg\", \"utk\", 'cuman', 'deh', 'Btw', 'btw', 'tapi', 'tp', 'gua', 'gue', 'gw', 'lo', 'lu', 'kalo', 'kl', 'trs', 'jd', 'nih', 'nich', 'ntar',\n",
    "                  \"nya\", '1g', 'gk', 'ecusli', 'dpt', 'dr', 'kpn', 'kok', 'kyk', 'donk', 'dong', 'yah', 'u', 'ya', 'ga', 'km', 'eh', 'sih',\n",
    "                  'en', 'bang', 'br', 'kyk', 'rp', 'jt', 'kan', 'gpp', ' ,', ', ',\n",
    "                  'sm', \"usah\", 'mas', 'sob', 'thx', 'ato', 'jg', 'g', 'kuk', 'mak', 'haha', 'ly' 'tp', 'haha', 'dg', 'dri', 'udh',\n",
    "                  'duh', 'ye', 'wkwkwk', 'syg', 'btw', 'nerjemahin',\n",
    "                  'gaes', 'guys', \"moga\", 'kmrn', 'nemu', \"yukkk\", 'wkwkw', 'klas', 'iw', 'ew', 'lho', 'loh', 'sbnry', 'org', 'gtu', 'bwt',\n",
    "                  'klrga', 'clau', 'lbh', 'cpet', 'ku', 'wke', 'mba', 'mas', 'sdh', 'kann', 'ol', 'spt', 'dim', 'bs', 'krn', 'jgn',\n",
    "                  'sapa', 'spt', 'sh', \"wakakaka\", 'sihhh', 'hehe', 'ini', 'dgn', 'la', \"kl\", 'ttg', 'mana', 'kmna', 'kmn', 'tdk',\n",
    "                  'tuh', 'dah', 'kek', 'ko', 'pls', 'bbrp', 'pd', 'bruh', 'bro', 'bre', 'ok', 'okay', 'okei', 'okok',\n",
    "                  'mah', 'dhhh', 'kpd', 'tuh', 'kzl', 'byar', 'si', 'sii',\n",
    "                  'cm', 'sy', 'hahahaha', 'weh', 'dlu', 'tuhh', 'tgl', 'aja',\n",
    "                  'yg', 'bgt', 'blm', 'dah', 'gak', 'po', 'klo', 'dah', 'deh', 'bgst']\n",
    "\n",
    "# combine all stopword\n",
    "list_stopwords = []\n",
    "list_stopwords = default_stopwords + more_stopwords\n",
    "\n",
    "def remove_stop_words(text):\n",
    "    # split the text into words\n",
    "    words = text.split()\n",
    "    # filter out words with less than 2 characters\n",
    "    words = [word for word in words if len(word) > 2]\n",
    "    tokens_without_stopword = [word for word in words if not word in list_stopwords]\n",
    "    # join the remaining words into a string\n",
    "    text = ' '.join(tokens_without_stopword)\n",
    "    return text"
   ]
  },
  {
   "cell_type": "code",
   "execution_count": 31,
   "metadata": {
    "execution": {
     "iopub.execute_input": "2023-10-06T03:42:43.021528Z",
     "iopub.status.busy": "2023-10-06T03:42:43.021116Z",
     "iopub.status.idle": "2023-10-06T03:42:44.954978Z",
     "shell.execute_reply": "2023-10-06T03:42:44.953999Z",
     "shell.execute_reply.started": "2023-10-06T03:42:43.021497Z"
    }
   },
   "outputs": [
    {
     "name": "stderr",
     "output_type": "stream",
     "text": [
      "/tmp/ipykernel_27/817307032.py:1: SettingWithCopyWarning: \n",
      "A value is trying to be set on a copy of a slice from a DataFrame.\n",
      "Try using .loc[row_indexer,col_indexer] = value instead\n",
      "\n",
      "See the caveats in the documentation: https://pandas.pydata.org/pandas-docs/stable/user_guide/indexing.html#returning-a-view-versus-a-copy\n",
      "  df_final_play_store['content_preprocessed'] = df_final_play_store['content_preprocessed'].apply(remove_stop_words)\n"
     ]
    },
    {
     "data": {
      "text/html": [
       "<div>\n",
       "<style scoped>\n",
       "    .dataframe tbody tr th:only-of-type {\n",
       "        vertical-align: middle;\n",
       "    }\n",
       "\n",
       "    .dataframe tbody tr th {\n",
       "        vertical-align: top;\n",
       "    }\n",
       "\n",
       "    .dataframe thead th {\n",
       "        text-align: right;\n",
       "    }\n",
       "</style>\n",
       "<table border=\"1\" class=\"dataframe\">\n",
       "  <thead>\n",
       "    <tr style=\"text-align: right;\">\n",
       "      <th></th>\n",
       "      <th>content</th>\n",
       "      <th>score</th>\n",
       "      <th>jenis_ekspedisi</th>\n",
       "      <th>media_scraping</th>\n",
       "      <th>kategori_sentimen_mapping</th>\n",
       "      <th>content_preprocessed</th>\n",
       "    </tr>\n",
       "  </thead>\n",
       "  <tbody>\n",
       "    <tr>\n",
       "      <th>0</th>\n",
       "      <td>Saya sangat kecewa dengan para pelanggan spx e...</td>\n",
       "      <td>5</td>\n",
       "      <td>shopee-express</td>\n",
       "      <td>google-play-store</td>\n",
       "      <td>positive</td>\n",
       "      <td>kecewa pelanggan spx ress complain aplikasi ap...</td>\n",
       "    </tr>\n",
       "    <tr>\n",
       "      <th>1</th>\n",
       "      <td>Bintang satu dulu tunggu barang sampai moga ku...</td>\n",
       "      <td>1</td>\n",
       "      <td>shopee-express</td>\n",
       "      <td>google-play-store</td>\n",
       "      <td>negative</td>\n",
       "      <td>bintang tunggu barang kurir lelet</td>\n",
       "    </tr>\n",
       "    <tr>\n",
       "      <th>2</th>\n",
       "      <td>Keeren</td>\n",
       "      <td>5</td>\n",
       "      <td>shopee-express</td>\n",
       "      <td>google-play-store</td>\n",
       "      <td>positive</td>\n",
       "      <td>keeren</td>\n",
       "    </tr>\n",
       "    <tr>\n",
       "      <th>3</th>\n",
       "      <td>bagus sekarang sudah lumayan ada peningkatan o...</td>\n",
       "      <td>5</td>\n",
       "      <td>shopee-express</td>\n",
       "      <td>google-play-store</td>\n",
       "      <td>positive</td>\n",
       "      <td>bagus lumayan peningkatan</td>\n",
       "    </tr>\n",
       "    <tr>\n",
       "      <th>5</th>\n",
       "      <td>Sebaiknya di cantum kan nama dan no HP driver ...</td>\n",
       "      <td>2</td>\n",
       "      <td>shopee-express</td>\n",
       "      <td>google-play-store</td>\n",
       "      <td>negative</td>\n",
       "      <td>cantum nama driver mengantar alamat, susah men...</td>\n",
       "    </tr>\n",
       "  </tbody>\n",
       "</table>\n",
       "</div>"
      ],
      "text/plain": [
       "                                             content  score jenis_ekspedisi  \\\n",
       "0  Saya sangat kecewa dengan para pelanggan spx e...      5  shopee-express   \n",
       "1  Bintang satu dulu tunggu barang sampai moga ku...      1  shopee-express   \n",
       "2                                             Keeren      5  shopee-express   \n",
       "3  bagus sekarang sudah lumayan ada peningkatan o...      5  shopee-express   \n",
       "5  Sebaiknya di cantum kan nama dan no HP driver ...      2  shopee-express   \n",
       "\n",
       "      media_scraping kategori_sentimen_mapping  \\\n",
       "0  google-play-store                  positive   \n",
       "1  google-play-store                  negative   \n",
       "2  google-play-store                  positive   \n",
       "3  google-play-store                  positive   \n",
       "5  google-play-store                  negative   \n",
       "\n",
       "                                content_preprocessed  \n",
       "0  kecewa pelanggan spx ress complain aplikasi ap...  \n",
       "1                  bintang tunggu barang kurir lelet  \n",
       "2                                             keeren  \n",
       "3                          bagus lumayan peningkatan  \n",
       "5  cantum nama driver mengantar alamat, susah men...  "
      ]
     },
     "execution_count": 31,
     "metadata": {},
     "output_type": "execute_result"
    }
   ],
   "source": [
    "df_final_play_store['content_preprocessed'] = df_final_play_store['content_preprocessed'].apply(remove_stop_words)\n",
    "df_final_play_store.head()"
   ]
  },
  {
   "cell_type": "code",
   "execution_count": 32,
   "metadata": {
    "execution": {
     "iopub.execute_input": "2023-10-06T03:48:17.921670Z",
     "iopub.status.busy": "2023-10-06T03:48:17.921132Z",
     "iopub.status.idle": "2023-10-06T03:48:18.186371Z",
     "shell.execute_reply": "2023-10-06T03:48:18.185467Z",
     "shell.execute_reply.started": "2023-10-06T03:48:17.921632Z"
    }
   },
   "outputs": [],
   "source": [
    "kamus_alay = pd.read_csv('/kaggle/input/kamus-alay-v1/kamus_alay.csv') \n",
    "\n",
    "normalize_word_dict = {}\n",
    "for index, row in kamus_alay.iterrows():\n",
    "    if row[0] not in normalize_word_dict:\n",
    "        normalize_word_dict[row[0]] = row[1]"
   ]
  },
  {
   "cell_type": "code",
   "execution_count": 33,
   "metadata": {
    "execution": {
     "iopub.execute_input": "2023-10-06T03:50:09.124390Z",
     "iopub.status.busy": "2023-10-06T03:50:09.124012Z",
     "iopub.status.idle": "2023-10-06T03:50:09.129738Z",
     "shell.execute_reply": "2023-10-06T03:50:09.128601Z",
     "shell.execute_reply.started": "2023-10-06T03:50:09.124358Z"
    }
   },
   "outputs": [],
   "source": [
    "def normalize_review(text):\n",
    "    # tokenize\n",
    "    list_text = word_tokenize(text)\n",
    "    # ubah bahasa alay\n",
    "    list_text = [normalize_word_dict[term] if term in normalize_word_dict else term for term in list_text]\n",
    "    # gabung kembali kalimat\n",
    "    text = \" \".join(list_text)\n",
    "    return text"
   ]
  },
  {
   "cell_type": "code",
   "execution_count": 34,
   "metadata": {
    "execution": {
     "iopub.execute_input": "2023-10-06T03:51:00.989102Z",
     "iopub.status.busy": "2023-10-06T03:51:00.988748Z",
     "iopub.status.idle": "2023-10-06T03:51:02.495245Z",
     "shell.execute_reply": "2023-10-06T03:51:02.494252Z",
     "shell.execute_reply.started": "2023-10-06T03:51:00.989073Z"
    }
   },
   "outputs": [
    {
     "name": "stderr",
     "output_type": "stream",
     "text": [
      "/tmp/ipykernel_27/1310646150.py:1: SettingWithCopyWarning: \n",
      "A value is trying to be set on a copy of a slice from a DataFrame.\n",
      "Try using .loc[row_indexer,col_indexer] = value instead\n",
      "\n",
      "See the caveats in the documentation: https://pandas.pydata.org/pandas-docs/stable/user_guide/indexing.html#returning-a-view-versus-a-copy\n",
      "  df_final_play_store['content_preprocessed_s3'] = df_final_play_store['content_preprocessed'].apply(normalize_review)\n"
     ]
    },
    {
     "data": {
      "text/html": [
       "<div>\n",
       "<style scoped>\n",
       "    .dataframe tbody tr th:only-of-type {\n",
       "        vertical-align: middle;\n",
       "    }\n",
       "\n",
       "    .dataframe tbody tr th {\n",
       "        vertical-align: top;\n",
       "    }\n",
       "\n",
       "    .dataframe thead th {\n",
       "        text-align: right;\n",
       "    }\n",
       "</style>\n",
       "<table border=\"1\" class=\"dataframe\">\n",
       "  <thead>\n",
       "    <tr style=\"text-align: right;\">\n",
       "      <th></th>\n",
       "      <th>content</th>\n",
       "      <th>score</th>\n",
       "      <th>jenis_ekspedisi</th>\n",
       "      <th>media_scraping</th>\n",
       "      <th>kategori_sentimen_mapping</th>\n",
       "      <th>content_preprocessed</th>\n",
       "      <th>content_preprocessed_s3</th>\n",
       "    </tr>\n",
       "  </thead>\n",
       "  <tbody>\n",
       "    <tr>\n",
       "      <th>0</th>\n",
       "      <td>Saya sangat kecewa dengan para pelanggan spx e...</td>\n",
       "      <td>5</td>\n",
       "      <td>shopee-express</td>\n",
       "      <td>google-play-store</td>\n",
       "      <td>positive</td>\n",
       "      <td>kecewa pelanggan spx ress complain aplikasi ap...</td>\n",
       "      <td>kecewa pelanggan spx ress complain aplikasi ap...</td>\n",
       "    </tr>\n",
       "    <tr>\n",
       "      <th>1</th>\n",
       "      <td>Bintang satu dulu tunggu barang sampai moga ku...</td>\n",
       "      <td>1</td>\n",
       "      <td>shopee-express</td>\n",
       "      <td>google-play-store</td>\n",
       "      <td>negative</td>\n",
       "      <td>bintang tunggu barang kurir lelet</td>\n",
       "      <td>bintang tunggu barang kurir lelet</td>\n",
       "    </tr>\n",
       "    <tr>\n",
       "      <th>2</th>\n",
       "      <td>Keeren</td>\n",
       "      <td>5</td>\n",
       "      <td>shopee-express</td>\n",
       "      <td>google-play-store</td>\n",
       "      <td>positive</td>\n",
       "      <td>keeren</td>\n",
       "      <td>keren</td>\n",
       "    </tr>\n",
       "    <tr>\n",
       "      <th>3</th>\n",
       "      <td>bagus sekarang sudah lumayan ada peningkatan o...</td>\n",
       "      <td>5</td>\n",
       "      <td>shopee-express</td>\n",
       "      <td>google-play-store</td>\n",
       "      <td>positive</td>\n",
       "      <td>bagus lumayan peningkatan</td>\n",
       "      <td>bagus lumayan peningkatan</td>\n",
       "    </tr>\n",
       "    <tr>\n",
       "      <th>5</th>\n",
       "      <td>Sebaiknya di cantum kan nama dan no HP driver ...</td>\n",
       "      <td>2</td>\n",
       "      <td>shopee-express</td>\n",
       "      <td>google-play-store</td>\n",
       "      <td>negative</td>\n",
       "      <td>cantum nama driver mengantar alamat, susah men...</td>\n",
       "      <td>cantum nama driver mengantar alamat , susah me...</td>\n",
       "    </tr>\n",
       "  </tbody>\n",
       "</table>\n",
       "</div>"
      ],
      "text/plain": [
       "                                             content  score jenis_ekspedisi  \\\n",
       "0  Saya sangat kecewa dengan para pelanggan spx e...      5  shopee-express   \n",
       "1  Bintang satu dulu tunggu barang sampai moga ku...      1  shopee-express   \n",
       "2                                             Keeren      5  shopee-express   \n",
       "3  bagus sekarang sudah lumayan ada peningkatan o...      5  shopee-express   \n",
       "5  Sebaiknya di cantum kan nama dan no HP driver ...      2  shopee-express   \n",
       "\n",
       "      media_scraping kategori_sentimen_mapping  \\\n",
       "0  google-play-store                  positive   \n",
       "1  google-play-store                  negative   \n",
       "2  google-play-store                  positive   \n",
       "3  google-play-store                  positive   \n",
       "5  google-play-store                  negative   \n",
       "\n",
       "                                content_preprocessed  \\\n",
       "0  kecewa pelanggan spx ress complain aplikasi ap...   \n",
       "1                  bintang tunggu barang kurir lelet   \n",
       "2                                             keeren   \n",
       "3                          bagus lumayan peningkatan   \n",
       "5  cantum nama driver mengantar alamat, susah men...   \n",
       "\n",
       "                             content_preprocessed_s3  \n",
       "0  kecewa pelanggan spx ress complain aplikasi ap...  \n",
       "1                  bintang tunggu barang kurir lelet  \n",
       "2                                              keren  \n",
       "3                          bagus lumayan peningkatan  \n",
       "5  cantum nama driver mengantar alamat , susah me...  "
      ]
     },
     "execution_count": 34,
     "metadata": {},
     "output_type": "execute_result"
    }
   ],
   "source": [
    "df_final_play_store['content_preprocessed_s3'] = df_final_play_store['content_preprocessed'].apply(normalize_review)\n",
    "df_final_play_store.head()"
   ]
  },
  {
   "cell_type": "code",
   "execution_count": 35,
   "metadata": {
    "execution": {
     "iopub.execute_input": "2023-10-06T03:51:33.407233Z",
     "iopub.status.busy": "2023-10-06T03:51:33.406883Z",
     "iopub.status.idle": "2023-10-06T03:51:33.418716Z",
     "shell.execute_reply": "2023-10-06T03:51:33.417728Z",
     "shell.execute_reply.started": "2023-10-06T03:51:33.407206Z"
    }
   },
   "outputs": [
    {
     "data": {
      "text/html": [
       "<div>\n",
       "<style scoped>\n",
       "    .dataframe tbody tr th:only-of-type {\n",
       "        vertical-align: middle;\n",
       "    }\n",
       "\n",
       "    .dataframe tbody tr th {\n",
       "        vertical-align: top;\n",
       "    }\n",
       "\n",
       "    .dataframe thead th {\n",
       "        text-align: right;\n",
       "    }\n",
       "</style>\n",
       "<table border=\"1\" class=\"dataframe\">\n",
       "  <thead>\n",
       "    <tr style=\"text-align: right;\">\n",
       "      <th></th>\n",
       "      <th>content</th>\n",
       "      <th>score</th>\n",
       "      <th>jenis_ekspedisi</th>\n",
       "      <th>media_scraping</th>\n",
       "      <th>kategori_sentimen_mapping</th>\n",
       "      <th>content_preprocessed</th>\n",
       "      <th>content_preprocessed_s3</th>\n",
       "    </tr>\n",
       "  </thead>\n",
       "  <tbody>\n",
       "    <tr>\n",
       "      <th>11858</th>\n",
       "      <td>EKSPEDISI SINTING, DARI JAKSEL KE TANGSEL 7 HA...</td>\n",
       "      <td>1</td>\n",
       "      <td>anteraja</td>\n",
       "      <td>google-play-store</td>\n",
       "      <td>negative</td>\n",
       "      <td>ekspedisi sinting, jaksel tangsel</td>\n",
       "      <td>ekspedisi sinting , jaksel tangsel</td>\n",
       "    </tr>\n",
       "    <tr>\n",
       "      <th>11859</th>\n",
       "      <td>TIDAK DI ANTAR</td>\n",
       "      <td>1</td>\n",
       "      <td>anteraja</td>\n",
       "      <td>google-play-store</td>\n",
       "      <td>negative</td>\n",
       "      <td></td>\n",
       "      <td></td>\n",
       "    </tr>\n",
       "    <tr>\n",
       "      <th>11860</th>\n",
       "      <td>Udah tinggal kirim ke alamat rumah yg dituju p...</td>\n",
       "      <td>1</td>\n",
       "      <td>anteraja</td>\n",
       "      <td>google-play-store</td>\n",
       "      <td>negative</td>\n",
       "      <td>udah tinggal kirim alamat rumah dituju pdahal ...</td>\n",
       "      <td>sudah tinggal kirim alamat rumah dituju padaha...</td>\n",
       "    </tr>\n",
       "    <tr>\n",
       "      <th>11861</th>\n",
       "      <td>pengiriman ga sesuai estimasi pengiriman lama</td>\n",
       "      <td>1</td>\n",
       "      <td>anteraja</td>\n",
       "      <td>google-play-store</td>\n",
       "      <td>negative</td>\n",
       "      <td>pengiriman sesuai estimasi pengiriman</td>\n",
       "      <td>pengiriman sesuai estimasi pengiriman</td>\n",
       "    </tr>\n",
       "    <tr>\n",
       "      <th>11862</th>\n",
       "      <td>Pengiriman lambat estimasi nya 3hr sampe nih s...</td>\n",
       "      <td>1</td>\n",
       "      <td>anteraja</td>\n",
       "      <td>google-play-store</td>\n",
       "      <td>negative</td>\n",
       "      <td>pengiriman lambat estimasi sampe sampe minggu ...</td>\n",
       "      <td>pengiriman lambat estimasi sampai sampai mingg...</td>\n",
       "    </tr>\n",
       "  </tbody>\n",
       "</table>\n",
       "</div>"
      ],
      "text/plain": [
       "                                                 content  score  \\\n",
       "11858  EKSPEDISI SINTING, DARI JAKSEL KE TANGSEL 7 HA...      1   \n",
       "11859                                     TIDAK DI ANTAR      1   \n",
       "11860  Udah tinggal kirim ke alamat rumah yg dituju p...      1   \n",
       "11861      pengiriman ga sesuai estimasi pengiriman lama      1   \n",
       "11862  Pengiriman lambat estimasi nya 3hr sampe nih s...      1   \n",
       "\n",
       "      jenis_ekspedisi     media_scraping kategori_sentimen_mapping  \\\n",
       "11858        anteraja  google-play-store                  negative   \n",
       "11859        anteraja  google-play-store                  negative   \n",
       "11860        anteraja  google-play-store                  negative   \n",
       "11861        anteraja  google-play-store                  negative   \n",
       "11862        anteraja  google-play-store                  negative   \n",
       "\n",
       "                                    content_preprocessed  \\\n",
       "11858                  ekspedisi sinting, jaksel tangsel   \n",
       "11859                                                      \n",
       "11860  udah tinggal kirim alamat rumah dituju pdahal ...   \n",
       "11861              pengiriman sesuai estimasi pengiriman   \n",
       "11862  pengiriman lambat estimasi sampe sampe minggu ...   \n",
       "\n",
       "                                 content_preprocessed_s3  \n",
       "11858                 ekspedisi sinting , jaksel tangsel  \n",
       "11859                                                     \n",
       "11860  sudah tinggal kirim alamat rumah dituju padaha...  \n",
       "11861              pengiriman sesuai estimasi pengiriman  \n",
       "11862  pengiriman lambat estimasi sampai sampai mingg...  "
      ]
     },
     "execution_count": 35,
     "metadata": {},
     "output_type": "execute_result"
    }
   ],
   "source": [
    "df_final_play_store.tail()"
   ]
  },
  {
   "cell_type": "markdown",
   "metadata": {},
   "source": [
    "### Preprocessing phase 3"
   ]
  },
  {
   "cell_type": "code",
   "execution_count": 40,
   "metadata": {
    "execution": {
     "iopub.execute_input": "2023-10-06T04:01:00.098496Z",
     "iopub.status.busy": "2023-10-06T04:01:00.098090Z",
     "iopub.status.idle": "2023-10-06T04:01:00.103528Z",
     "shell.execute_reply": "2023-10-06T04:01:00.102418Z",
     "shell.execute_reply.started": "2023-10-06T04:01:00.098465Z"
    }
   },
   "outputs": [],
   "source": [
    "def remove_punctuation(text):\n",
    "    # Define a regex pattern for punctuation\n",
    "    punctuation_pattern = re.compile(r'[^\\w\\s]')\n",
    "\n",
    "    # Use the sub() function to replace punctuation with an empty string\n",
    "    clean_text = punctuation_pattern.sub('', text)\n",
    "\n",
    "    return clean_text"
   ]
  },
  {
   "cell_type": "code",
   "execution_count": 41,
   "metadata": {
    "execution": {
     "iopub.execute_input": "2023-10-06T04:01:57.382386Z",
     "iopub.status.busy": "2023-10-06T04:01:57.382017Z",
     "iopub.status.idle": "2023-10-06T04:01:57.426198Z",
     "shell.execute_reply": "2023-10-06T04:01:57.425132Z",
     "shell.execute_reply.started": "2023-10-06T04:01:57.382357Z"
    }
   },
   "outputs": [
    {
     "data": {
      "text/html": [
       "<div>\n",
       "<style scoped>\n",
       "    .dataframe tbody tr th:only-of-type {\n",
       "        vertical-align: middle;\n",
       "    }\n",
       "\n",
       "    .dataframe tbody tr th {\n",
       "        vertical-align: top;\n",
       "    }\n",
       "\n",
       "    .dataframe thead th {\n",
       "        text-align: right;\n",
       "    }\n",
       "</style>\n",
       "<table border=\"1\" class=\"dataframe\">\n",
       "  <thead>\n",
       "    <tr style=\"text-align: right;\">\n",
       "      <th></th>\n",
       "      <th>content</th>\n",
       "      <th>score</th>\n",
       "      <th>jenis_ekspedisi</th>\n",
       "      <th>media_scraping</th>\n",
       "      <th>kategori_sentimen_mapping</th>\n",
       "      <th>content_preprocessed</th>\n",
       "      <th>content_preprocessed_s3</th>\n",
       "      <th>content_prepocess_tokenized</th>\n",
       "      <th>content_preprocessed_s4</th>\n",
       "    </tr>\n",
       "  </thead>\n",
       "  <tbody>\n",
       "    <tr>\n",
       "      <th>0</th>\n",
       "      <td>Saya sangat kecewa dengan para pelanggan spx e...</td>\n",
       "      <td>5</td>\n",
       "      <td>shopee-express</td>\n",
       "      <td>google-play-store</td>\n",
       "      <td>positive</td>\n",
       "      <td>kecewa pelanggan spx ress complain aplikasi ap...</td>\n",
       "      <td>kecewa pelanggan spx ress complain aplikasi ap...</td>\n",
       "      <td>[kecewa, pelanggan, spx, ress, complain, aplik...</td>\n",
       "      <td>kecewa pelanggan spx ress complain aplikasi ap...</td>\n",
       "    </tr>\n",
       "    <tr>\n",
       "      <th>1</th>\n",
       "      <td>Bintang satu dulu tunggu barang sampai moga ku...</td>\n",
       "      <td>1</td>\n",
       "      <td>shopee-express</td>\n",
       "      <td>google-play-store</td>\n",
       "      <td>negative</td>\n",
       "      <td>bintang tunggu barang kurir lelet</td>\n",
       "      <td>bintang tunggu barang kurir lelet</td>\n",
       "      <td>[bintang, tunggu, barang, kurir, lelet]</td>\n",
       "      <td>bintang tunggu barang kurir lelet</td>\n",
       "    </tr>\n",
       "    <tr>\n",
       "      <th>2</th>\n",
       "      <td>Keeren</td>\n",
       "      <td>5</td>\n",
       "      <td>shopee-express</td>\n",
       "      <td>google-play-store</td>\n",
       "      <td>positive</td>\n",
       "      <td>keeren</td>\n",
       "      <td>keren</td>\n",
       "      <td>[keren]</td>\n",
       "      <td>keren</td>\n",
       "    </tr>\n",
       "    <tr>\n",
       "      <th>3</th>\n",
       "      <td>bagus sekarang sudah lumayan ada peningkatan o...</td>\n",
       "      <td>5</td>\n",
       "      <td>shopee-express</td>\n",
       "      <td>google-play-store</td>\n",
       "      <td>positive</td>\n",
       "      <td>bagus lumayan peningkatan</td>\n",
       "      <td>bagus lumayan peningkatan</td>\n",
       "      <td>[bagus, lumayan, peningkatan]</td>\n",
       "      <td>bagus lumayan peningkatan</td>\n",
       "    </tr>\n",
       "    <tr>\n",
       "      <th>5</th>\n",
       "      <td>Sebaiknya di cantum kan nama dan no HP driver ...</td>\n",
       "      <td>2</td>\n",
       "      <td>shopee-express</td>\n",
       "      <td>google-play-store</td>\n",
       "      <td>negative</td>\n",
       "      <td>cantum nama driver mengantar alamat, susah men...</td>\n",
       "      <td>cantum nama driver mengantar alamat , susah me...</td>\n",
       "      <td>[cantum, nama, driver, mengantar, alamat, ,, s...</td>\n",
       "      <td>cantum nama driver mengantar alamat  susah men...</td>\n",
       "    </tr>\n",
       "  </tbody>\n",
       "</table>\n",
       "</div>"
      ],
      "text/plain": [
       "                                             content  score jenis_ekspedisi  \\\n",
       "0  Saya sangat kecewa dengan para pelanggan spx e...      5  shopee-express   \n",
       "1  Bintang satu dulu tunggu barang sampai moga ku...      1  shopee-express   \n",
       "2                                             Keeren      5  shopee-express   \n",
       "3  bagus sekarang sudah lumayan ada peningkatan o...      5  shopee-express   \n",
       "5  Sebaiknya di cantum kan nama dan no HP driver ...      2  shopee-express   \n",
       "\n",
       "      media_scraping kategori_sentimen_mapping  \\\n",
       "0  google-play-store                  positive   \n",
       "1  google-play-store                  negative   \n",
       "2  google-play-store                  positive   \n",
       "3  google-play-store                  positive   \n",
       "5  google-play-store                  negative   \n",
       "\n",
       "                                content_preprocessed  \\\n",
       "0  kecewa pelanggan spx ress complain aplikasi ap...   \n",
       "1                  bintang tunggu barang kurir lelet   \n",
       "2                                             keeren   \n",
       "3                          bagus lumayan peningkatan   \n",
       "5  cantum nama driver mengantar alamat, susah men...   \n",
       "\n",
       "                             content_preprocessed_s3  \\\n",
       "0  kecewa pelanggan spx ress complain aplikasi ap...   \n",
       "1                  bintang tunggu barang kurir lelet   \n",
       "2                                              keren   \n",
       "3                          bagus lumayan peningkatan   \n",
       "5  cantum nama driver mengantar alamat , susah me...   \n",
       "\n",
       "                         content_prepocess_tokenized  \\\n",
       "0  [kecewa, pelanggan, spx, ress, complain, aplik...   \n",
       "1            [bintang, tunggu, barang, kurir, lelet]   \n",
       "2                                            [keren]   \n",
       "3                      [bagus, lumayan, peningkatan]   \n",
       "5  [cantum, nama, driver, mengantar, alamat, ,, s...   \n",
       "\n",
       "                             content_preprocessed_s4  \n",
       "0  kecewa pelanggan spx ress complain aplikasi ap...  \n",
       "1                  bintang tunggu barang kurir lelet  \n",
       "2                                              keren  \n",
       "3                          bagus lumayan peningkatan  \n",
       "5  cantum nama driver mengantar alamat  susah men...  "
      ]
     },
     "execution_count": 41,
     "metadata": {},
     "output_type": "execute_result"
    }
   ],
   "source": [
    "df_final_play_store['content_preprocessed_s4'] = df_final_play_store['content_preprocessed_s3'].apply(remove_punctuation)\n",
    "df_final_play_store.head()"
   ]
  },
  {
   "cell_type": "code",
   "execution_count": 49,
   "metadata": {
    "execution": {
     "iopub.execute_input": "2023-10-06T04:08:21.871513Z",
     "iopub.status.busy": "2023-10-06T04:08:21.870879Z",
     "iopub.status.idle": "2023-10-06T04:08:21.911890Z",
     "shell.execute_reply": "2023-10-06T04:08:21.910836Z",
     "shell.execute_reply.started": "2023-10-06T04:08:21.871472Z"
    }
   },
   "outputs": [
    {
     "data": {
      "text/html": [
       "<div>\n",
       "<style scoped>\n",
       "    .dataframe tbody tr th:only-of-type {\n",
       "        vertical-align: middle;\n",
       "    }\n",
       "\n",
       "    .dataframe tbody tr th {\n",
       "        vertical-align: top;\n",
       "    }\n",
       "\n",
       "    .dataframe thead th {\n",
       "        text-align: right;\n",
       "    }\n",
       "</style>\n",
       "<table border=\"1\" class=\"dataframe\">\n",
       "  <thead>\n",
       "    <tr style=\"text-align: right;\">\n",
       "      <th></th>\n",
       "      <th>content</th>\n",
       "      <th>score</th>\n",
       "      <th>jenis_ekspedisi</th>\n",
       "      <th>media_scraping</th>\n",
       "      <th>kategori_sentimen_mapping</th>\n",
       "      <th>content_preprocessed</th>\n",
       "      <th>content_preprocessed_s3</th>\n",
       "      <th>content_prepocess_tokenized</th>\n",
       "      <th>content_preprocessed_s4</th>\n",
       "      <th>content_prepocess_tokenized_v2</th>\n",
       "    </tr>\n",
       "  </thead>\n",
       "  <tbody>\n",
       "    <tr>\n",
       "      <th>0</th>\n",
       "      <td>Saya sangat kecewa dengan para pelanggan spx e...</td>\n",
       "      <td>5</td>\n",
       "      <td>shopee-express</td>\n",
       "      <td>google-play-store</td>\n",
       "      <td>positive</td>\n",
       "      <td>kecewa pelanggan spx ress complain aplikasi ap...</td>\n",
       "      <td>kecewa pelanggan spx ress complain aplikasi ap...</td>\n",
       "      <td>[kecewa, pelanggan, spx, ress, complain, aplik...</td>\n",
       "      <td>kecewa pelanggan spx ress complain aplikasi ap...</td>\n",
       "      <td>[kecewa, pelanggan, spx, ress, complain, aplik...</td>\n",
       "    </tr>\n",
       "    <tr>\n",
       "      <th>1</th>\n",
       "      <td>Bintang satu dulu tunggu barang sampai moga ku...</td>\n",
       "      <td>1</td>\n",
       "      <td>shopee-express</td>\n",
       "      <td>google-play-store</td>\n",
       "      <td>negative</td>\n",
       "      <td>bintang tunggu barang kurir lelet</td>\n",
       "      <td>bintang tunggu barang kurir lelet</td>\n",
       "      <td>[bintang, tunggu, barang, kurir, lelet]</td>\n",
       "      <td>bintang tunggu barang kurir lelet</td>\n",
       "      <td>[bintang, tunggu, barang, kurir, lelet]</td>\n",
       "    </tr>\n",
       "    <tr>\n",
       "      <th>2</th>\n",
       "      <td>Keeren</td>\n",
       "      <td>5</td>\n",
       "      <td>shopee-express</td>\n",
       "      <td>google-play-store</td>\n",
       "      <td>positive</td>\n",
       "      <td>keeren</td>\n",
       "      <td>keren</td>\n",
       "      <td>[keren]</td>\n",
       "      <td>keren</td>\n",
       "      <td>[keren]</td>\n",
       "    </tr>\n",
       "    <tr>\n",
       "      <th>3</th>\n",
       "      <td>bagus sekarang sudah lumayan ada peningkatan o...</td>\n",
       "      <td>5</td>\n",
       "      <td>shopee-express</td>\n",
       "      <td>google-play-store</td>\n",
       "      <td>positive</td>\n",
       "      <td>bagus lumayan peningkatan</td>\n",
       "      <td>bagus lumayan peningkatan</td>\n",
       "      <td>[bagus, lumayan, peningkatan]</td>\n",
       "      <td>bagus lumayan peningkatan</td>\n",
       "      <td>[bagus, lumayan, peningkatan]</td>\n",
       "    </tr>\n",
       "    <tr>\n",
       "      <th>5</th>\n",
       "      <td>Sebaiknya di cantum kan nama dan no HP driver ...</td>\n",
       "      <td>2</td>\n",
       "      <td>shopee-express</td>\n",
       "      <td>google-play-store</td>\n",
       "      <td>negative</td>\n",
       "      <td>cantum nama driver mengantar alamat, susah men...</td>\n",
       "      <td>cantum nama driver mengantar alamat , susah me...</td>\n",
       "      <td>[cantum, nama, driver, mengantar, alamat, ,, s...</td>\n",
       "      <td>cantum nama driver mengantar alamat  susah men...</td>\n",
       "      <td>[cantum, nama, driver, mengantar, alamat, susa...</td>\n",
       "    </tr>\n",
       "  </tbody>\n",
       "</table>\n",
       "</div>"
      ],
      "text/plain": [
       "                                             content  score jenis_ekspedisi  \\\n",
       "0  Saya sangat kecewa dengan para pelanggan spx e...      5  shopee-express   \n",
       "1  Bintang satu dulu tunggu barang sampai moga ku...      1  shopee-express   \n",
       "2                                             Keeren      5  shopee-express   \n",
       "3  bagus sekarang sudah lumayan ada peningkatan o...      5  shopee-express   \n",
       "5  Sebaiknya di cantum kan nama dan no HP driver ...      2  shopee-express   \n",
       "\n",
       "      media_scraping kategori_sentimen_mapping  \\\n",
       "0  google-play-store                  positive   \n",
       "1  google-play-store                  negative   \n",
       "2  google-play-store                  positive   \n",
       "3  google-play-store                  positive   \n",
       "5  google-play-store                  negative   \n",
       "\n",
       "                                content_preprocessed  \\\n",
       "0  kecewa pelanggan spx ress complain aplikasi ap...   \n",
       "1                  bintang tunggu barang kurir lelet   \n",
       "2                                             keeren   \n",
       "3                          bagus lumayan peningkatan   \n",
       "5  cantum nama driver mengantar alamat, susah men...   \n",
       "\n",
       "                             content_preprocessed_s3  \\\n",
       "0  kecewa pelanggan spx ress complain aplikasi ap...   \n",
       "1                  bintang tunggu barang kurir lelet   \n",
       "2                                              keren   \n",
       "3                          bagus lumayan peningkatan   \n",
       "5  cantum nama driver mengantar alamat , susah me...   \n",
       "\n",
       "                         content_prepocess_tokenized  \\\n",
       "0  [kecewa, pelanggan, spx, ress, complain, aplik...   \n",
       "1            [bintang, tunggu, barang, kurir, lelet]   \n",
       "2                                            [keren]   \n",
       "3                      [bagus, lumayan, peningkatan]   \n",
       "5  [cantum, nama, driver, mengantar, alamat, ,, s...   \n",
       "\n",
       "                             content_preprocessed_s4  \\\n",
       "0  kecewa pelanggan spx ress complain aplikasi ap...   \n",
       "1                  bintang tunggu barang kurir lelet   \n",
       "2                                              keren   \n",
       "3                          bagus lumayan peningkatan   \n",
       "5  cantum nama driver mengantar alamat  susah men...   \n",
       "\n",
       "                      content_prepocess_tokenized_v2  \n",
       "0  [kecewa, pelanggan, spx, ress, complain, aplik...  \n",
       "1            [bintang, tunggu, barang, kurir, lelet]  \n",
       "2                                            [keren]  \n",
       "3                      [bagus, lumayan, peningkatan]  \n",
       "5  [cantum, nama, driver, mengantar, alamat, susa...  "
      ]
     },
     "execution_count": 49,
     "metadata": {},
     "output_type": "execute_result"
    }
   ],
   "source": [
    "# remove rows with ' ' value in content_preprocessed_s4\n",
    "df_final_play_store = df_final_play_store[(df_final_play_store[\"content_preprocessed_s4\"]!=\" \") & (df_final_play_store[\"content_preprocessed_s4\"]!=\"\")]\n",
    "df_final_play_store.head()"
   ]
  },
  {
   "cell_type": "code",
   "execution_count": 50,
   "metadata": {
    "execution": {
     "iopub.execute_input": "2023-10-06T04:08:40.289642Z",
     "iopub.status.busy": "2023-10-06T04:08:40.289133Z",
     "iopub.status.idle": "2023-10-06T04:08:40.306520Z",
     "shell.execute_reply": "2023-10-06T04:08:40.305472Z",
     "shell.execute_reply.started": "2023-10-06T04:08:40.289612Z"
    }
   },
   "outputs": [
    {
     "data": {
      "text/html": [
       "<div>\n",
       "<style scoped>\n",
       "    .dataframe tbody tr th:only-of-type {\n",
       "        vertical-align: middle;\n",
       "    }\n",
       "\n",
       "    .dataframe tbody tr th {\n",
       "        vertical-align: top;\n",
       "    }\n",
       "\n",
       "    .dataframe thead th {\n",
       "        text-align: right;\n",
       "    }\n",
       "</style>\n",
       "<table border=\"1\" class=\"dataframe\">\n",
       "  <thead>\n",
       "    <tr style=\"text-align: right;\">\n",
       "      <th></th>\n",
       "      <th>content</th>\n",
       "      <th>score</th>\n",
       "      <th>jenis_ekspedisi</th>\n",
       "      <th>media_scraping</th>\n",
       "      <th>kategori_sentimen_mapping</th>\n",
       "      <th>content_preprocessed</th>\n",
       "      <th>content_preprocessed_s3</th>\n",
       "      <th>content_prepocess_tokenized</th>\n",
       "      <th>content_preprocessed_s4</th>\n",
       "      <th>content_prepocess_tokenized_v2</th>\n",
       "    </tr>\n",
       "  </thead>\n",
       "  <tbody>\n",
       "    <tr>\n",
       "      <th>11857</th>\n",
       "      <td>Paket pick up tidak di ambil berhari hari, kal...</td>\n",
       "      <td>1</td>\n",
       "      <td>anteraja</td>\n",
       "      <td>google-play-store</td>\n",
       "      <td>negative</td>\n",
       "      <td>paket pick ambil berhari hari, sanggup pick ad...</td>\n",
       "      <td>paket pick ambil berhari hari , sanggup pick a...</td>\n",
       "      <td>[paket, pick, ambil, berhari, ,, sanggup, pick...</td>\n",
       "      <td>paket pick ambil berhari hari  sanggup pick ad...</td>\n",
       "      <td>[paket, pick, ambil, berhari, sanggup, pick, a...</td>\n",
       "    </tr>\n",
       "    <tr>\n",
       "      <th>11858</th>\n",
       "      <td>EKSPEDISI SINTING, DARI JAKSEL KE TANGSEL 7 HA...</td>\n",
       "      <td>1</td>\n",
       "      <td>anteraja</td>\n",
       "      <td>google-play-store</td>\n",
       "      <td>negative</td>\n",
       "      <td>ekspedisi sinting, jaksel tangsel</td>\n",
       "      <td>ekspedisi sinting , jaksel tangsel</td>\n",
       "      <td>[ekspedisi, sinting, ,, jaksel, tangsel]</td>\n",
       "      <td>ekspedisi sinting  jaksel tangsel</td>\n",
       "      <td>[ekspedisi, sinting, jaksel, tangsel]</td>\n",
       "    </tr>\n",
       "    <tr>\n",
       "      <th>11860</th>\n",
       "      <td>Udah tinggal kirim ke alamat rumah yg dituju p...</td>\n",
       "      <td>1</td>\n",
       "      <td>anteraja</td>\n",
       "      <td>google-play-store</td>\n",
       "      <td>negative</td>\n",
       "      <td>udah tinggal kirim alamat rumah dituju pdahal ...</td>\n",
       "      <td>sudah tinggal kirim alamat rumah dituju padaha...</td>\n",
       "      <td>[tinggal, kirim, alamat, rumah, dituju, ,, gil...</td>\n",
       "      <td>sudah tinggal kirim alamat rumah dituju padaha...</td>\n",
       "      <td>[tinggal, kirim, alamat, rumah, dituju, gilee,...</td>\n",
       "    </tr>\n",
       "    <tr>\n",
       "      <th>11861</th>\n",
       "      <td>pengiriman ga sesuai estimasi pengiriman lama</td>\n",
       "      <td>1</td>\n",
       "      <td>anteraja</td>\n",
       "      <td>google-play-store</td>\n",
       "      <td>negative</td>\n",
       "      <td>pengiriman sesuai estimasi pengiriman</td>\n",
       "      <td>pengiriman sesuai estimasi pengiriman</td>\n",
       "      <td>[pengiriman, sesuai, estimasi, pengiriman]</td>\n",
       "      <td>pengiriman sesuai estimasi pengiriman</td>\n",
       "      <td>[pengiriman, sesuai, estimasi, pengiriman]</td>\n",
       "    </tr>\n",
       "    <tr>\n",
       "      <th>11862</th>\n",
       "      <td>Pengiriman lambat estimasi nya 3hr sampe nih s...</td>\n",
       "      <td>1</td>\n",
       "      <td>anteraja</td>\n",
       "      <td>google-play-store</td>\n",
       "      <td>negative</td>\n",
       "      <td>pengiriman lambat estimasi sampe sampe minggu ...</td>\n",
       "      <td>pengiriman lambat estimasi sampai sampai mingg...</td>\n",
       "      <td>[pengiriman, lambat, estimasi, minggu, stuck, ...</td>\n",
       "      <td>pengiriman lambat estimasi sampai sampai mingg...</td>\n",
       "      <td>[pengiriman, lambat, estimasi, minggu, stuck, ...</td>\n",
       "    </tr>\n",
       "  </tbody>\n",
       "</table>\n",
       "</div>"
      ],
      "text/plain": [
       "                                                 content  score  \\\n",
       "11857  Paket pick up tidak di ambil berhari hari, kal...      1   \n",
       "11858  EKSPEDISI SINTING, DARI JAKSEL KE TANGSEL 7 HA...      1   \n",
       "11860  Udah tinggal kirim ke alamat rumah yg dituju p...      1   \n",
       "11861      pengiriman ga sesuai estimasi pengiriman lama      1   \n",
       "11862  Pengiriman lambat estimasi nya 3hr sampe nih s...      1   \n",
       "\n",
       "      jenis_ekspedisi     media_scraping kategori_sentimen_mapping  \\\n",
       "11857        anteraja  google-play-store                  negative   \n",
       "11858        anteraja  google-play-store                  negative   \n",
       "11860        anteraja  google-play-store                  negative   \n",
       "11861        anteraja  google-play-store                  negative   \n",
       "11862        anteraja  google-play-store                  negative   \n",
       "\n",
       "                                    content_preprocessed  \\\n",
       "11857  paket pick ambil berhari hari, sanggup pick ad...   \n",
       "11858                  ekspedisi sinting, jaksel tangsel   \n",
       "11860  udah tinggal kirim alamat rumah dituju pdahal ...   \n",
       "11861              pengiriman sesuai estimasi pengiriman   \n",
       "11862  pengiriman lambat estimasi sampe sampe minggu ...   \n",
       "\n",
       "                                 content_preprocessed_s3  \\\n",
       "11857  paket pick ambil berhari hari , sanggup pick a...   \n",
       "11858                 ekspedisi sinting , jaksel tangsel   \n",
       "11860  sudah tinggal kirim alamat rumah dituju padaha...   \n",
       "11861              pengiriman sesuai estimasi pengiriman   \n",
       "11862  pengiriman lambat estimasi sampai sampai mingg...   \n",
       "\n",
       "                             content_prepocess_tokenized  \\\n",
       "11857  [paket, pick, ambil, berhari, ,, sanggup, pick...   \n",
       "11858           [ekspedisi, sinting, ,, jaksel, tangsel]   \n",
       "11860  [tinggal, kirim, alamat, rumah, dituju, ,, gil...   \n",
       "11861         [pengiriman, sesuai, estimasi, pengiriman]   \n",
       "11862  [pengiriman, lambat, estimasi, minggu, stuck, ...   \n",
       "\n",
       "                                 content_preprocessed_s4  \\\n",
       "11857  paket pick ambil berhari hari  sanggup pick ad...   \n",
       "11858                  ekspedisi sinting  jaksel tangsel   \n",
       "11860  sudah tinggal kirim alamat rumah dituju padaha...   \n",
       "11861              pengiriman sesuai estimasi pengiriman   \n",
       "11862  pengiriman lambat estimasi sampai sampai mingg...   \n",
       "\n",
       "                          content_prepocess_tokenized_v2  \n",
       "11857  [paket, pick, ambil, berhari, sanggup, pick, a...  \n",
       "11858              [ekspedisi, sinting, jaksel, tangsel]  \n",
       "11860  [tinggal, kirim, alamat, rumah, dituju, gilee,...  \n",
       "11861         [pengiriman, sesuai, estimasi, pengiriman]  \n",
       "11862  [pengiriman, lambat, estimasi, minggu, stuck, ...  "
      ]
     },
     "execution_count": 50,
     "metadata": {},
     "output_type": "execute_result"
    }
   ],
   "source": [
    "df_final_play_store.tail()"
   ]
  },
  {
   "cell_type": "code",
   "execution_count": 51,
   "metadata": {
    "execution": {
     "iopub.execute_input": "2023-10-06T04:08:52.751566Z",
     "iopub.status.busy": "2023-10-06T04:08:52.751213Z",
     "iopub.status.idle": "2023-10-06T04:08:52.757379Z",
     "shell.execute_reply": "2023-10-06T04:08:52.756447Z",
     "shell.execute_reply.started": "2023-10-06T04:08:52.751538Z"
    }
   },
   "outputs": [
    {
     "data": {
      "text/plain": [
       "(11633, 10)"
      ]
     },
     "execution_count": 51,
     "metadata": {},
     "output_type": "execute_result"
    }
   ],
   "source": [
    "df_final_play_store.shape #previously: 11782"
   ]
  },
  {
   "cell_type": "markdown",
   "metadata": {},
   "source": [
    "### Tokenizer and Stemming"
   ]
  },
  {
   "cell_type": "code",
   "execution_count": 44,
   "metadata": {
    "execution": {
     "iopub.execute_input": "2023-10-06T04:03:58.675000Z",
     "iopub.status.busy": "2023-10-06T04:03:58.674636Z",
     "iopub.status.idle": "2023-10-06T04:03:58.679930Z",
     "shell.execute_reply": "2023-10-06T04:03:58.678933Z",
     "shell.execute_reply.started": "2023-10-06T04:03:58.674970Z"
    }
   },
   "outputs": [],
   "source": [
    "#word tokenizing\n",
    "def tokenize(sentence):\n",
    "    return [token for token in sentence.split() if token not in list_stopwords]"
   ]
  },
  {
   "cell_type": "code",
   "execution_count": 52,
   "metadata": {
    "execution": {
     "iopub.execute_input": "2023-10-06T04:09:24.332106Z",
     "iopub.status.busy": "2023-10-06T04:09:24.331747Z",
     "iopub.status.idle": "2023-10-06T04:09:25.810962Z",
     "shell.execute_reply": "2023-10-06T04:09:25.809934Z",
     "shell.execute_reply.started": "2023-10-06T04:09:24.332060Z"
    }
   },
   "outputs": [
    {
     "data": {
      "text/html": [
       "<div>\n",
       "<style scoped>\n",
       "    .dataframe tbody tr th:only-of-type {\n",
       "        vertical-align: middle;\n",
       "    }\n",
       "\n",
       "    .dataframe tbody tr th {\n",
       "        vertical-align: top;\n",
       "    }\n",
       "\n",
       "    .dataframe thead th {\n",
       "        text-align: right;\n",
       "    }\n",
       "</style>\n",
       "<table border=\"1\" class=\"dataframe\">\n",
       "  <thead>\n",
       "    <tr style=\"text-align: right;\">\n",
       "      <th></th>\n",
       "      <th>content</th>\n",
       "      <th>score</th>\n",
       "      <th>jenis_ekspedisi</th>\n",
       "      <th>media_scraping</th>\n",
       "      <th>kategori_sentimen_mapping</th>\n",
       "      <th>content_preprocessed</th>\n",
       "      <th>content_preprocessed_s3</th>\n",
       "      <th>content_prepocess_tokenized</th>\n",
       "      <th>content_preprocessed_s4</th>\n",
       "      <th>content_prepocess_tokenized_v2</th>\n",
       "    </tr>\n",
       "  </thead>\n",
       "  <tbody>\n",
       "    <tr>\n",
       "      <th>0</th>\n",
       "      <td>Saya sangat kecewa dengan para pelanggan spx e...</td>\n",
       "      <td>5</td>\n",
       "      <td>shopee-express</td>\n",
       "      <td>google-play-store</td>\n",
       "      <td>positive</td>\n",
       "      <td>kecewa pelanggan spx ress complain aplikasi ap...</td>\n",
       "      <td>kecewa pelanggan spx ress complain aplikasi ap...</td>\n",
       "      <td>[kecewa, pelanggan, spx, ress, complain, aplik...</td>\n",
       "      <td>kecewa pelanggan spx ress complain aplikasi ap...</td>\n",
       "      <td>[kecewa, pelanggan, spx, ress, complain, aplik...</td>\n",
       "    </tr>\n",
       "    <tr>\n",
       "      <th>1</th>\n",
       "      <td>Bintang satu dulu tunggu barang sampai moga ku...</td>\n",
       "      <td>1</td>\n",
       "      <td>shopee-express</td>\n",
       "      <td>google-play-store</td>\n",
       "      <td>negative</td>\n",
       "      <td>bintang tunggu barang kurir lelet</td>\n",
       "      <td>bintang tunggu barang kurir lelet</td>\n",
       "      <td>[bintang, tunggu, barang, kurir, lelet]</td>\n",
       "      <td>bintang tunggu barang kurir lelet</td>\n",
       "      <td>[bintang, tunggu, barang, kurir, lelet]</td>\n",
       "    </tr>\n",
       "    <tr>\n",
       "      <th>2</th>\n",
       "      <td>Keeren</td>\n",
       "      <td>5</td>\n",
       "      <td>shopee-express</td>\n",
       "      <td>google-play-store</td>\n",
       "      <td>positive</td>\n",
       "      <td>keeren</td>\n",
       "      <td>keren</td>\n",
       "      <td>[keren]</td>\n",
       "      <td>keren</td>\n",
       "      <td>[keren]</td>\n",
       "    </tr>\n",
       "    <tr>\n",
       "      <th>3</th>\n",
       "      <td>bagus sekarang sudah lumayan ada peningkatan o...</td>\n",
       "      <td>5</td>\n",
       "      <td>shopee-express</td>\n",
       "      <td>google-play-store</td>\n",
       "      <td>positive</td>\n",
       "      <td>bagus lumayan peningkatan</td>\n",
       "      <td>bagus lumayan peningkatan</td>\n",
       "      <td>[bagus, lumayan, peningkatan]</td>\n",
       "      <td>bagus lumayan peningkatan</td>\n",
       "      <td>[bagus, lumayan, peningkatan]</td>\n",
       "    </tr>\n",
       "    <tr>\n",
       "      <th>5</th>\n",
       "      <td>Sebaiknya di cantum kan nama dan no HP driver ...</td>\n",
       "      <td>2</td>\n",
       "      <td>shopee-express</td>\n",
       "      <td>google-play-store</td>\n",
       "      <td>negative</td>\n",
       "      <td>cantum nama driver mengantar alamat, susah men...</td>\n",
       "      <td>cantum nama driver mengantar alamat , susah me...</td>\n",
       "      <td>[cantum, nama, driver, mengantar, alamat, ,, s...</td>\n",
       "      <td>cantum nama driver mengantar alamat  susah men...</td>\n",
       "      <td>[cantum, nama, driver, mengantar, alamat, susa...</td>\n",
       "    </tr>\n",
       "  </tbody>\n",
       "</table>\n",
       "</div>"
      ],
      "text/plain": [
       "                                             content  score jenis_ekspedisi  \\\n",
       "0  Saya sangat kecewa dengan para pelanggan spx e...      5  shopee-express   \n",
       "1  Bintang satu dulu tunggu barang sampai moga ku...      1  shopee-express   \n",
       "2                                             Keeren      5  shopee-express   \n",
       "3  bagus sekarang sudah lumayan ada peningkatan o...      5  shopee-express   \n",
       "5  Sebaiknya di cantum kan nama dan no HP driver ...      2  shopee-express   \n",
       "\n",
       "      media_scraping kategori_sentimen_mapping  \\\n",
       "0  google-play-store                  positive   \n",
       "1  google-play-store                  negative   \n",
       "2  google-play-store                  positive   \n",
       "3  google-play-store                  positive   \n",
       "5  google-play-store                  negative   \n",
       "\n",
       "                                content_preprocessed  \\\n",
       "0  kecewa pelanggan spx ress complain aplikasi ap...   \n",
       "1                  bintang tunggu barang kurir lelet   \n",
       "2                                             keeren   \n",
       "3                          bagus lumayan peningkatan   \n",
       "5  cantum nama driver mengantar alamat, susah men...   \n",
       "\n",
       "                             content_preprocessed_s3  \\\n",
       "0  kecewa pelanggan spx ress complain aplikasi ap...   \n",
       "1                  bintang tunggu barang kurir lelet   \n",
       "2                                              keren   \n",
       "3                          bagus lumayan peningkatan   \n",
       "5  cantum nama driver mengantar alamat , susah me...   \n",
       "\n",
       "                         content_prepocess_tokenized  \\\n",
       "0  [kecewa, pelanggan, spx, ress, complain, aplik...   \n",
       "1            [bintang, tunggu, barang, kurir, lelet]   \n",
       "2                                            [keren]   \n",
       "3                      [bagus, lumayan, peningkatan]   \n",
       "5  [cantum, nama, driver, mengantar, alamat, ,, s...   \n",
       "\n",
       "                             content_preprocessed_s4  \\\n",
       "0  kecewa pelanggan spx ress complain aplikasi ap...   \n",
       "1                  bintang tunggu barang kurir lelet   \n",
       "2                                              keren   \n",
       "3                          bagus lumayan peningkatan   \n",
       "5  cantum nama driver mengantar alamat  susah men...   \n",
       "\n",
       "                      content_prepocess_tokenized_v2  \n",
       "0  [kecewa, pelanggan, spx, ress, complain, aplik...  \n",
       "1            [bintang, tunggu, barang, kurir, lelet]  \n",
       "2                                            [keren]  \n",
       "3                      [bagus, lumayan, peningkatan]  \n",
       "5  [cantum, nama, driver, mengantar, alamat, susa...  "
      ]
     },
     "execution_count": 52,
     "metadata": {},
     "output_type": "execute_result"
    }
   ],
   "source": [
    "# tokenizer\n",
    "df_final_play_store['content_prepocess_tokenized_v2'] = df_final_play_store['content_preprocessed_s4'].apply(tokenize)\n",
    "df_final_play_store.head()"
   ]
  },
  {
   "cell_type": "code",
   "execution_count": 53,
   "metadata": {
    "execution": {
     "iopub.execute_input": "2023-10-06T04:09:36.406328Z",
     "iopub.status.busy": "2023-10-06T04:09:36.405996Z",
     "iopub.status.idle": "2023-10-06T04:09:36.422017Z",
     "shell.execute_reply": "2023-10-06T04:09:36.420937Z",
     "shell.execute_reply.started": "2023-10-06T04:09:36.406301Z"
    }
   },
   "outputs": [
    {
     "data": {
      "text/html": [
       "<div>\n",
       "<style scoped>\n",
       "    .dataframe tbody tr th:only-of-type {\n",
       "        vertical-align: middle;\n",
       "    }\n",
       "\n",
       "    .dataframe tbody tr th {\n",
       "        vertical-align: top;\n",
       "    }\n",
       "\n",
       "    .dataframe thead th {\n",
       "        text-align: right;\n",
       "    }\n",
       "</style>\n",
       "<table border=\"1\" class=\"dataframe\">\n",
       "  <thead>\n",
       "    <tr style=\"text-align: right;\">\n",
       "      <th></th>\n",
       "      <th>content</th>\n",
       "      <th>score</th>\n",
       "      <th>jenis_ekspedisi</th>\n",
       "      <th>media_scraping</th>\n",
       "      <th>kategori_sentimen_mapping</th>\n",
       "      <th>content_preprocessed</th>\n",
       "      <th>content_preprocessed_s3</th>\n",
       "      <th>content_prepocess_tokenized</th>\n",
       "      <th>content_preprocessed_s4</th>\n",
       "      <th>content_prepocess_tokenized_v2</th>\n",
       "    </tr>\n",
       "  </thead>\n",
       "  <tbody>\n",
       "    <tr>\n",
       "      <th>11857</th>\n",
       "      <td>Paket pick up tidak di ambil berhari hari, kal...</td>\n",
       "      <td>1</td>\n",
       "      <td>anteraja</td>\n",
       "      <td>google-play-store</td>\n",
       "      <td>negative</td>\n",
       "      <td>paket pick ambil berhari hari, sanggup pick ad...</td>\n",
       "      <td>paket pick ambil berhari hari , sanggup pick a...</td>\n",
       "      <td>[paket, pick, ambil, berhari, ,, sanggup, pick...</td>\n",
       "      <td>paket pick ambil berhari hari  sanggup pick ad...</td>\n",
       "      <td>[paket, pick, ambil, berhari, sanggup, pick, a...</td>\n",
       "    </tr>\n",
       "    <tr>\n",
       "      <th>11858</th>\n",
       "      <td>EKSPEDISI SINTING, DARI JAKSEL KE TANGSEL 7 HA...</td>\n",
       "      <td>1</td>\n",
       "      <td>anteraja</td>\n",
       "      <td>google-play-store</td>\n",
       "      <td>negative</td>\n",
       "      <td>ekspedisi sinting, jaksel tangsel</td>\n",
       "      <td>ekspedisi sinting , jaksel tangsel</td>\n",
       "      <td>[ekspedisi, sinting, ,, jaksel, tangsel]</td>\n",
       "      <td>ekspedisi sinting  jaksel tangsel</td>\n",
       "      <td>[ekspedisi, sinting, jaksel, tangsel]</td>\n",
       "    </tr>\n",
       "    <tr>\n",
       "      <th>11860</th>\n",
       "      <td>Udah tinggal kirim ke alamat rumah yg dituju p...</td>\n",
       "      <td>1</td>\n",
       "      <td>anteraja</td>\n",
       "      <td>google-play-store</td>\n",
       "      <td>negative</td>\n",
       "      <td>udah tinggal kirim alamat rumah dituju pdahal ...</td>\n",
       "      <td>sudah tinggal kirim alamat rumah dituju padaha...</td>\n",
       "      <td>[tinggal, kirim, alamat, rumah, dituju, ,, gil...</td>\n",
       "      <td>sudah tinggal kirim alamat rumah dituju padaha...</td>\n",
       "      <td>[tinggal, kirim, alamat, rumah, dituju, gilee,...</td>\n",
       "    </tr>\n",
       "    <tr>\n",
       "      <th>11861</th>\n",
       "      <td>pengiriman ga sesuai estimasi pengiriman lama</td>\n",
       "      <td>1</td>\n",
       "      <td>anteraja</td>\n",
       "      <td>google-play-store</td>\n",
       "      <td>negative</td>\n",
       "      <td>pengiriman sesuai estimasi pengiriman</td>\n",
       "      <td>pengiriman sesuai estimasi pengiriman</td>\n",
       "      <td>[pengiriman, sesuai, estimasi, pengiriman]</td>\n",
       "      <td>pengiriman sesuai estimasi pengiriman</td>\n",
       "      <td>[pengiriman, sesuai, estimasi, pengiriman]</td>\n",
       "    </tr>\n",
       "    <tr>\n",
       "      <th>11862</th>\n",
       "      <td>Pengiriman lambat estimasi nya 3hr sampe nih s...</td>\n",
       "      <td>1</td>\n",
       "      <td>anteraja</td>\n",
       "      <td>google-play-store</td>\n",
       "      <td>negative</td>\n",
       "      <td>pengiriman lambat estimasi sampe sampe minggu ...</td>\n",
       "      <td>pengiriman lambat estimasi sampai sampai mingg...</td>\n",
       "      <td>[pengiriman, lambat, estimasi, minggu, stuck, ...</td>\n",
       "      <td>pengiriman lambat estimasi sampai sampai mingg...</td>\n",
       "      <td>[pengiriman, lambat, estimasi, minggu, stuck, ...</td>\n",
       "    </tr>\n",
       "  </tbody>\n",
       "</table>\n",
       "</div>"
      ],
      "text/plain": [
       "                                                 content  score  \\\n",
       "11857  Paket pick up tidak di ambil berhari hari, kal...      1   \n",
       "11858  EKSPEDISI SINTING, DARI JAKSEL KE TANGSEL 7 HA...      1   \n",
       "11860  Udah tinggal kirim ke alamat rumah yg dituju p...      1   \n",
       "11861      pengiriman ga sesuai estimasi pengiriman lama      1   \n",
       "11862  Pengiriman lambat estimasi nya 3hr sampe nih s...      1   \n",
       "\n",
       "      jenis_ekspedisi     media_scraping kategori_sentimen_mapping  \\\n",
       "11857        anteraja  google-play-store                  negative   \n",
       "11858        anteraja  google-play-store                  negative   \n",
       "11860        anteraja  google-play-store                  negative   \n",
       "11861        anteraja  google-play-store                  negative   \n",
       "11862        anteraja  google-play-store                  negative   \n",
       "\n",
       "                                    content_preprocessed  \\\n",
       "11857  paket pick ambil berhari hari, sanggup pick ad...   \n",
       "11858                  ekspedisi sinting, jaksel tangsel   \n",
       "11860  udah tinggal kirim alamat rumah dituju pdahal ...   \n",
       "11861              pengiriman sesuai estimasi pengiriman   \n",
       "11862  pengiriman lambat estimasi sampe sampe minggu ...   \n",
       "\n",
       "                                 content_preprocessed_s3  \\\n",
       "11857  paket pick ambil berhari hari , sanggup pick a...   \n",
       "11858                 ekspedisi sinting , jaksel tangsel   \n",
       "11860  sudah tinggal kirim alamat rumah dituju padaha...   \n",
       "11861              pengiriman sesuai estimasi pengiriman   \n",
       "11862  pengiriman lambat estimasi sampai sampai mingg...   \n",
       "\n",
       "                             content_prepocess_tokenized  \\\n",
       "11857  [paket, pick, ambil, berhari, ,, sanggup, pick...   \n",
       "11858           [ekspedisi, sinting, ,, jaksel, tangsel]   \n",
       "11860  [tinggal, kirim, alamat, rumah, dituju, ,, gil...   \n",
       "11861         [pengiriman, sesuai, estimasi, pengiriman]   \n",
       "11862  [pengiriman, lambat, estimasi, minggu, stuck, ...   \n",
       "\n",
       "                                 content_preprocessed_s4  \\\n",
       "11857  paket pick ambil berhari hari  sanggup pick ad...   \n",
       "11858                  ekspedisi sinting  jaksel tangsel   \n",
       "11860  sudah tinggal kirim alamat rumah dituju padaha...   \n",
       "11861              pengiriman sesuai estimasi pengiriman   \n",
       "11862  pengiriman lambat estimasi sampai sampai mingg...   \n",
       "\n",
       "                          content_prepocess_tokenized_v2  \n",
       "11857  [paket, pick, ambil, berhari, sanggup, pick, a...  \n",
       "11858              [ekspedisi, sinting, jaksel, tangsel]  \n",
       "11860  [tinggal, kirim, alamat, rumah, dituju, gilee,...  \n",
       "11861         [pengiriman, sesuai, estimasi, pengiriman]  \n",
       "11862  [pengiriman, lambat, estimasi, minggu, stuck, ...  "
      ]
     },
     "execution_count": 53,
     "metadata": {},
     "output_type": "execute_result"
    }
   ],
   "source": [
    "df_final_play_store.tail()"
   ]
  },
  {
   "cell_type": "code",
   "execution_count": 54,
   "metadata": {
    "execution": {
     "iopub.execute_input": "2023-10-06T04:11:57.550452Z",
     "iopub.status.busy": "2023-10-06T04:11:57.549279Z",
     "iopub.status.idle": "2023-10-06T04:11:57.577485Z",
     "shell.execute_reply": "2023-10-06T04:11:57.576594Z",
     "shell.execute_reply.started": "2023-10-06T04:11:57.550368Z"
    }
   },
   "outputs": [
    {
     "name": "stdout",
     "output_type": "stream",
     "text": [
      "<class 'pandas.core.frame.DataFrame'>\n",
      "Index: 11633 entries, 0 to 11862\n",
      "Data columns (total 10 columns):\n",
      " #   Column                          Non-Null Count  Dtype \n",
      "---  ------                          --------------  ----- \n",
      " 0   content                         11633 non-null  object\n",
      " 1   score                           11633 non-null  int64 \n",
      " 2   jenis_ekspedisi                 11633 non-null  object\n",
      " 3   media_scraping                  11633 non-null  object\n",
      " 4   kategori_sentimen_mapping       11633 non-null  object\n",
      " 5   content_preprocessed            11633 non-null  object\n",
      " 6   content_preprocessed_s3         11633 non-null  object\n",
      " 7   content_prepocess_tokenized     11633 non-null  object\n",
      " 8   content_preprocessed_s4         11633 non-null  object\n",
      " 9   content_prepocess_tokenized_v2  11633 non-null  object\n",
      "dtypes: int64(1), object(9)\n",
      "memory usage: 999.7+ KB\n"
     ]
    }
   ],
   "source": [
    "df_final_play_store.info()"
   ]
  },
  {
   "cell_type": "code",
   "execution_count": 55,
   "metadata": {
    "execution": {
     "iopub.execute_input": "2023-10-06T04:13:11.288500Z",
     "iopub.status.busy": "2023-10-06T04:13:11.288074Z",
     "iopub.status.idle": "2023-10-06T04:13:11.317840Z",
     "shell.execute_reply": "2023-10-06T04:13:11.316677Z",
     "shell.execute_reply.started": "2023-10-06T04:13:11.288469Z"
    }
   },
   "outputs": [
    {
     "name": "stdout",
     "output_type": "stream",
     "text": [
      "<class 'pandas.core.frame.DataFrame'>\n",
      "Index: 11633 entries, 0 to 11862\n",
      "Data columns (total 8 columns):\n",
      " #   Column                          Non-Null Count  Dtype \n",
      "---  ------                          --------------  ----- \n",
      " 0   content                         11633 non-null  object\n",
      " 1   score                           11633 non-null  int64 \n",
      " 2   jenis_ekspedisi                 11633 non-null  object\n",
      " 3   media_scraping                  11633 non-null  object\n",
      " 4   kategori_sentimen_mapping       11633 non-null  object\n",
      " 5   content_preprocessed_s3         11633 non-null  object\n",
      " 6   content_preprocessed_s4         11633 non-null  object\n",
      " 7   content_prepocess_tokenized_v2  11633 non-null  object\n",
      "dtypes: int64(1), object(7)\n",
      "memory usage: 817.9+ KB\n"
     ]
    }
   ],
   "source": [
    "# export csv\n",
    "df_cleaned_notyed_stemmed = df_final_play_store.copy()\n",
    "df_cleaned_notyed_stemmed = df_final_play_store.drop(columns=[\n",
    "    'content_preprocessed', 'content_preprocessed_s3', 'content_prepocess_tokenized'], axis=1)\n",
    "df_cleaned_notyed_stemmed.info()"
   ]
  },
  {
   "cell_type": "code",
   "execution_count": 77,
   "metadata": {
    "execution": {
     "iopub.execute_input": "2023-10-06T04:34:55.923865Z",
     "iopub.status.busy": "2023-10-06T04:34:55.923496Z",
     "iopub.status.idle": "2023-10-06T04:34:56.065428Z",
     "shell.execute_reply": "2023-10-06T04:34:56.064214Z",
     "shell.execute_reply.started": "2023-10-06T04:34:55.923837Z"
    }
   },
   "outputs": [],
   "source": [
    "df_cleaned_notyed_stemmed.to_csv('df_cleaned_notyed_stemmed.csv', index=False)"
   ]
  },
  {
   "cell_type": "code",
   "execution_count": 57,
   "metadata": {
    "execution": {
     "iopub.execute_input": "2023-10-06T04:15:02.891113Z",
     "iopub.status.busy": "2023-10-06T04:15:02.890748Z",
     "iopub.status.idle": "2023-10-06T04:15:02.905342Z",
     "shell.execute_reply": "2023-10-06T04:15:02.904312Z",
     "shell.execute_reply.started": "2023-10-06T04:15:02.891085Z"
    }
   },
   "outputs": [
    {
     "data": {
      "text/html": [
       "<div>\n",
       "<style scoped>\n",
       "    .dataframe tbody tr th:only-of-type {\n",
       "        vertical-align: middle;\n",
       "    }\n",
       "\n",
       "    .dataframe tbody tr th {\n",
       "        vertical-align: top;\n",
       "    }\n",
       "\n",
       "    .dataframe thead th {\n",
       "        text-align: right;\n",
       "    }\n",
       "</style>\n",
       "<table border=\"1\" class=\"dataframe\">\n",
       "  <thead>\n",
       "    <tr style=\"text-align: right;\">\n",
       "      <th></th>\n",
       "      <th>content</th>\n",
       "      <th>score</th>\n",
       "      <th>jenis_ekspedisi</th>\n",
       "      <th>media_scraping</th>\n",
       "      <th>kategori_sentimen_mapping</th>\n",
       "      <th>content_preprocessed_s3</th>\n",
       "      <th>content_preprocessed_s4</th>\n",
       "      <th>content_prepocess_tokenized_v2</th>\n",
       "    </tr>\n",
       "  </thead>\n",
       "  <tbody>\n",
       "    <tr>\n",
       "      <th>0</th>\n",
       "      <td>Saya sangat kecewa dengan para pelanggan spx e...</td>\n",
       "      <td>5</td>\n",
       "      <td>shopee-express</td>\n",
       "      <td>google-play-store</td>\n",
       "      <td>positive</td>\n",
       "      <td>kecewa pelanggan spx ress complain aplikasi ap...</td>\n",
       "      <td>kecewa pelanggan spx ress complain aplikasi ap...</td>\n",
       "      <td>[kecewa, pelanggan, spx, ress, complain, aplik...</td>\n",
       "    </tr>\n",
       "    <tr>\n",
       "      <th>1</th>\n",
       "      <td>Bintang satu dulu tunggu barang sampai moga ku...</td>\n",
       "      <td>1</td>\n",
       "      <td>shopee-express</td>\n",
       "      <td>google-play-store</td>\n",
       "      <td>negative</td>\n",
       "      <td>bintang tunggu barang kurir lelet</td>\n",
       "      <td>bintang tunggu barang kurir lelet</td>\n",
       "      <td>[bintang, tunggu, barang, kurir, lelet]</td>\n",
       "    </tr>\n",
       "    <tr>\n",
       "      <th>2</th>\n",
       "      <td>Keeren</td>\n",
       "      <td>5</td>\n",
       "      <td>shopee-express</td>\n",
       "      <td>google-play-store</td>\n",
       "      <td>positive</td>\n",
       "      <td>keren</td>\n",
       "      <td>keren</td>\n",
       "      <td>[keren]</td>\n",
       "    </tr>\n",
       "    <tr>\n",
       "      <th>3</th>\n",
       "      <td>bagus sekarang sudah lumayan ada peningkatan o...</td>\n",
       "      <td>5</td>\n",
       "      <td>shopee-express</td>\n",
       "      <td>google-play-store</td>\n",
       "      <td>positive</td>\n",
       "      <td>bagus lumayan peningkatan</td>\n",
       "      <td>bagus lumayan peningkatan</td>\n",
       "      <td>[bagus, lumayan, peningkatan]</td>\n",
       "    </tr>\n",
       "    <tr>\n",
       "      <th>5</th>\n",
       "      <td>Sebaiknya di cantum kan nama dan no HP driver ...</td>\n",
       "      <td>2</td>\n",
       "      <td>shopee-express</td>\n",
       "      <td>google-play-store</td>\n",
       "      <td>negative</td>\n",
       "      <td>cantum nama driver mengantar alamat , susah me...</td>\n",
       "      <td>cantum nama driver mengantar alamat  susah men...</td>\n",
       "      <td>[cantum, nama, driver, mengantar, alamat, susa...</td>\n",
       "    </tr>\n",
       "  </tbody>\n",
       "</table>\n",
       "</div>"
      ],
      "text/plain": [
       "                                             content  score jenis_ekspedisi  \\\n",
       "0  Saya sangat kecewa dengan para pelanggan spx e...      5  shopee-express   \n",
       "1  Bintang satu dulu tunggu barang sampai moga ku...      1  shopee-express   \n",
       "2                                             Keeren      5  shopee-express   \n",
       "3  bagus sekarang sudah lumayan ada peningkatan o...      5  shopee-express   \n",
       "5  Sebaiknya di cantum kan nama dan no HP driver ...      2  shopee-express   \n",
       "\n",
       "      media_scraping kategori_sentimen_mapping  \\\n",
       "0  google-play-store                  positive   \n",
       "1  google-play-store                  negative   \n",
       "2  google-play-store                  positive   \n",
       "3  google-play-store                  positive   \n",
       "5  google-play-store                  negative   \n",
       "\n",
       "                             content_preprocessed_s3  \\\n",
       "0  kecewa pelanggan spx ress complain aplikasi ap...   \n",
       "1                  bintang tunggu barang kurir lelet   \n",
       "2                                              keren   \n",
       "3                          bagus lumayan peningkatan   \n",
       "5  cantum nama driver mengantar alamat , susah me...   \n",
       "\n",
       "                             content_preprocessed_s4  \\\n",
       "0  kecewa pelanggan spx ress complain aplikasi ap...   \n",
       "1                  bintang tunggu barang kurir lelet   \n",
       "2                                              keren   \n",
       "3                          bagus lumayan peningkatan   \n",
       "5  cantum nama driver mengantar alamat  susah men...   \n",
       "\n",
       "                      content_prepocess_tokenized_v2  \n",
       "0  [kecewa, pelanggan, spx, ress, complain, aplik...  \n",
       "1            [bintang, tunggu, barang, kurir, lelet]  \n",
       "2                                            [keren]  \n",
       "3                      [bagus, lumayan, peningkatan]  \n",
       "5  [cantum, nama, driver, mengantar, alamat, susa...  "
      ]
     },
     "execution_count": 57,
     "metadata": {},
     "output_type": "execute_result"
    }
   ],
   "source": [
    "df_cleaned_notyed_stemmed.head()"
   ]
  },
  {
   "cell_type": "code",
   "execution_count": 58,
   "metadata": {
    "execution": {
     "iopub.execute_input": "2023-10-06T04:17:15.265161Z",
     "iopub.status.busy": "2023-10-06T04:17:15.264770Z",
     "iopub.status.idle": "2023-10-06T04:17:15.290854Z",
     "shell.execute_reply": "2023-10-06T04:17:15.289850Z",
     "shell.execute_reply.started": "2023-10-06T04:17:15.265128Z"
    }
   },
   "outputs": [
    {
     "data": {
      "text/html": [
       "<div>\n",
       "<style scoped>\n",
       "    .dataframe tbody tr th:only-of-type {\n",
       "        vertical-align: middle;\n",
       "    }\n",
       "\n",
       "    .dataframe tbody tr th {\n",
       "        vertical-align: top;\n",
       "    }\n",
       "\n",
       "    .dataframe thead th {\n",
       "        text-align: right;\n",
       "    }\n",
       "</style>\n",
       "<table border=\"1\" class=\"dataframe\">\n",
       "  <thead>\n",
       "    <tr style=\"text-align: right;\">\n",
       "      <th></th>\n",
       "      <th>content</th>\n",
       "      <th>score</th>\n",
       "      <th>jenis_ekspedisi</th>\n",
       "      <th>media_scraping</th>\n",
       "      <th>kategori_sentimen_mapping</th>\n",
       "      <th>content_preprocessed</th>\n",
       "      <th>content_preprocessed_s3</th>\n",
       "      <th>content_prepocess_tokenized</th>\n",
       "      <th>content_preprocessed_s4</th>\n",
       "      <th>content_prepocess_tokenized_v2</th>\n",
       "      <th>notyet_stemmed</th>\n",
       "    </tr>\n",
       "  </thead>\n",
       "  <tbody>\n",
       "    <tr>\n",
       "      <th>0</th>\n",
       "      <td>Saya sangat kecewa dengan para pelanggan spx e...</td>\n",
       "      <td>5</td>\n",
       "      <td>shopee-express</td>\n",
       "      <td>google-play-store</td>\n",
       "      <td>positive</td>\n",
       "      <td>kecewa pelanggan spx ress complain aplikasi ap...</td>\n",
       "      <td>kecewa pelanggan spx ress complain aplikasi ap...</td>\n",
       "      <td>[kecewa, pelanggan, spx, ress, complain, aplik...</td>\n",
       "      <td>kecewa pelanggan spx ress complain aplikasi ap...</td>\n",
       "      <td>[kecewa, pelanggan, spx, ress, complain, aplik...</td>\n",
       "      <td>kecewa pelanggan spx ress complain aplikasi ap...</td>\n",
       "    </tr>\n",
       "    <tr>\n",
       "      <th>1</th>\n",
       "      <td>Bintang satu dulu tunggu barang sampai moga ku...</td>\n",
       "      <td>1</td>\n",
       "      <td>shopee-express</td>\n",
       "      <td>google-play-store</td>\n",
       "      <td>negative</td>\n",
       "      <td>bintang tunggu barang kurir lelet</td>\n",
       "      <td>bintang tunggu barang kurir lelet</td>\n",
       "      <td>[bintang, tunggu, barang, kurir, lelet]</td>\n",
       "      <td>bintang tunggu barang kurir lelet</td>\n",
       "      <td>[bintang, tunggu, barang, kurir, lelet]</td>\n",
       "      <td>bintang tunggu barang kurir lelet</td>\n",
       "    </tr>\n",
       "    <tr>\n",
       "      <th>2</th>\n",
       "      <td>Keeren</td>\n",
       "      <td>5</td>\n",
       "      <td>shopee-express</td>\n",
       "      <td>google-play-store</td>\n",
       "      <td>positive</td>\n",
       "      <td>keeren</td>\n",
       "      <td>keren</td>\n",
       "      <td>[keren]</td>\n",
       "      <td>keren</td>\n",
       "      <td>[keren]</td>\n",
       "      <td>keren</td>\n",
       "    </tr>\n",
       "    <tr>\n",
       "      <th>3</th>\n",
       "      <td>bagus sekarang sudah lumayan ada peningkatan o...</td>\n",
       "      <td>5</td>\n",
       "      <td>shopee-express</td>\n",
       "      <td>google-play-store</td>\n",
       "      <td>positive</td>\n",
       "      <td>bagus lumayan peningkatan</td>\n",
       "      <td>bagus lumayan peningkatan</td>\n",
       "      <td>[bagus, lumayan, peningkatan]</td>\n",
       "      <td>bagus lumayan peningkatan</td>\n",
       "      <td>[bagus, lumayan, peningkatan]</td>\n",
       "      <td>bagus lumayan peningkatan</td>\n",
       "    </tr>\n",
       "    <tr>\n",
       "      <th>5</th>\n",
       "      <td>Sebaiknya di cantum kan nama dan no HP driver ...</td>\n",
       "      <td>2</td>\n",
       "      <td>shopee-express</td>\n",
       "      <td>google-play-store</td>\n",
       "      <td>negative</td>\n",
       "      <td>cantum nama driver mengantar alamat, susah men...</td>\n",
       "      <td>cantum nama driver mengantar alamat , susah me...</td>\n",
       "      <td>[cantum, nama, driver, mengantar, alamat, ,, s...</td>\n",
       "      <td>cantum nama driver mengantar alamat  susah men...</td>\n",
       "      <td>[cantum, nama, driver, mengantar, alamat, susa...</td>\n",
       "      <td>cantum nama driver mengantar alamat susah menc...</td>\n",
       "    </tr>\n",
       "  </tbody>\n",
       "</table>\n",
       "</div>"
      ],
      "text/plain": [
       "                                             content  score jenis_ekspedisi  \\\n",
       "0  Saya sangat kecewa dengan para pelanggan spx e...      5  shopee-express   \n",
       "1  Bintang satu dulu tunggu barang sampai moga ku...      1  shopee-express   \n",
       "2                                             Keeren      5  shopee-express   \n",
       "3  bagus sekarang sudah lumayan ada peningkatan o...      5  shopee-express   \n",
       "5  Sebaiknya di cantum kan nama dan no HP driver ...      2  shopee-express   \n",
       "\n",
       "      media_scraping kategori_sentimen_mapping  \\\n",
       "0  google-play-store                  positive   \n",
       "1  google-play-store                  negative   \n",
       "2  google-play-store                  positive   \n",
       "3  google-play-store                  positive   \n",
       "5  google-play-store                  negative   \n",
       "\n",
       "                                content_preprocessed  \\\n",
       "0  kecewa pelanggan spx ress complain aplikasi ap...   \n",
       "1                  bintang tunggu barang kurir lelet   \n",
       "2                                             keeren   \n",
       "3                          bagus lumayan peningkatan   \n",
       "5  cantum nama driver mengantar alamat, susah men...   \n",
       "\n",
       "                             content_preprocessed_s3  \\\n",
       "0  kecewa pelanggan spx ress complain aplikasi ap...   \n",
       "1                  bintang tunggu barang kurir lelet   \n",
       "2                                              keren   \n",
       "3                          bagus lumayan peningkatan   \n",
       "5  cantum nama driver mengantar alamat , susah me...   \n",
       "\n",
       "                         content_prepocess_tokenized  \\\n",
       "0  [kecewa, pelanggan, spx, ress, complain, aplik...   \n",
       "1            [bintang, tunggu, barang, kurir, lelet]   \n",
       "2                                            [keren]   \n",
       "3                      [bagus, lumayan, peningkatan]   \n",
       "5  [cantum, nama, driver, mengantar, alamat, ,, s...   \n",
       "\n",
       "                             content_preprocessed_s4  \\\n",
       "0  kecewa pelanggan spx ress complain aplikasi ap...   \n",
       "1                  bintang tunggu barang kurir lelet   \n",
       "2                                              keren   \n",
       "3                          bagus lumayan peningkatan   \n",
       "5  cantum nama driver mengantar alamat  susah men...   \n",
       "\n",
       "                      content_prepocess_tokenized_v2  \\\n",
       "0  [kecewa, pelanggan, spx, ress, complain, aplik...   \n",
       "1            [bintang, tunggu, barang, kurir, lelet]   \n",
       "2                                            [keren]   \n",
       "3                      [bagus, lumayan, peningkatan]   \n",
       "5  [cantum, nama, driver, mengantar, alamat, susa...   \n",
       "\n",
       "                                      notyet_stemmed  \n",
       "0  kecewa pelanggan spx ress complain aplikasi ap...  \n",
       "1                  bintang tunggu barang kurir lelet  \n",
       "2                                              keren  \n",
       "3                          bagus lumayan peningkatan  \n",
       "5  cantum nama driver mengantar alamat susah menc...  "
      ]
     },
     "execution_count": 58,
     "metadata": {},
     "output_type": "execute_result"
    }
   ],
   "source": [
    "# join the token for each reviews, rather than in the form of a single block of text.\n",
    "\n",
    "df_final_play_store['notyet_stemmed'] = df_final_play_store['content_prepocess_tokenized_v2'].str.join(' ')\n",
    "df_final_play_store.head()"
   ]
  },
  {
   "cell_type": "markdown",
   "metadata": {},
   "source": [
    "### curious data visualization"
   ]
  },
  {
   "cell_type": "code",
   "execution_count": 64,
   "metadata": {
    "execution": {
     "iopub.execute_input": "2023-10-06T04:19:17.777973Z",
     "iopub.status.busy": "2023-10-06T04:19:17.777599Z",
     "iopub.status.idle": "2023-10-06T04:19:19.176971Z",
     "shell.execute_reply": "2023-10-06T04:19:19.176105Z",
     "shell.execute_reply.started": "2023-10-06T04:19:17.777943Z"
    }
   },
   "outputs": [
    {
     "data": {
      "image/png": "[encoded data removed]",
      "text/plain": [
       "<Figure size 1500x1000 with 1 Axes>"
      ]
     },
     "metadata": {},
     "output_type": "display_data"
    }
   ],
   "source": [
    "# word cloud visualization for reciews\n",
    "all_pos_text = ' '.join(df_final_play_store['notyet_stemmed'].tolist())\n",
    "word_cloud_1 = WordCloud(max_words=100, random_state=100, background_color=\"white\").generate(all_pos_text)\n",
    "\n",
    "plt.figure(figsize=(15, 10))\n",
    "plt.imshow(word_cloud_1, interpolation='bilinear')\n",
    "plt.title('WordCloud of Frequently Used Words in the Reviews', fontsize=20)\n",
    "plt.axis(\"off\")\n",
    "plt.savefig('wordcloud_v2.png')\n",
    "plt.show()"
   ]
  },
  {
   "cell_type": "code",
   "execution_count": 67,
   "metadata": {
    "execution": {
     "iopub.execute_input": "2023-10-06T04:25:21.759665Z",
     "iopub.status.busy": "2023-10-06T04:25:21.759291Z",
     "iopub.status.idle": "2023-10-06T04:25:21.767615Z",
     "shell.execute_reply": "2023-10-06T04:25:21.766674Z",
     "shell.execute_reply.started": "2023-10-06T04:25:21.759636Z"
    }
   },
   "outputs": [
    {
     "data": {
      "text/plain": [
       "{'aplikasi': 1.0,\n",
       " 'paket': 0.9006928406466512,\n",
       " 'barang': 0.6651270207852193,\n",
       " 'kurir': 0.6304849884526559,\n",
       " 'pengiriman': 0.6143187066974596,\n",
       " 'tiki': 0.613548883756736,\n",
       " 'banget': 0.5042340261739799,\n",
       " 'kirim': 0.4541955350269438,\n",
       " 'cepat': 0.38645111624326406,\n",
       " 'pos': 0.34103156274056967,\n",
       " 'bagu': 0.3140877598152425,\n",
       " 'pos indonesia': 0.30331023864511164,\n",
       " 'mantap': 0.29869130100076985,\n",
       " 'ekspedisi': 0.2979214780600462,\n",
       " 'pakai': 0.2979214780600462,\n",
       " 'mudah': 0.28329484218629714,\n",
       " 'lambat': 0.2825250192455735,\n",
       " 'update': 0.27174749807544263,\n",
       " 'membantu': 0.25635103926096997,\n",
       " 'pelayanan': 0.25635103926096997,\n",
       " 'parah': 0.2548113933795227,\n",
       " 'tolong': 0.2340261739799846,\n",
       " 'kecewa': 0.2270977675134719,\n",
       " 'cod': 0.21862971516551194,\n",
       " 'kali': 0.21170130869899922,\n",
       " 'aplikasinya': 0.1901462663587375,\n",
       " 'edisi': 0.18937644341801385,\n",
       " 'pakai jasa': 0.1855273287143957,\n",
       " 'rumah': 0.18398768283294842,\n",
       " 'ribet': 0.18013856812933027,\n",
       " 'alamat': 0.17936874518860663,\n",
       " 'kurirnya': 0.1762894534257121,\n",
       " 'kota': 0.1739799846035412,\n",
       " 'buruk': 0.1724403387220939,\n",
       " 'jasa pengiriman': 0.16859122401847576,\n",
       " 'tau': 0.16551193225558122,\n",
       " 'langsung': 0.1624326404926867,\n",
       " 'kirim paket': 0.1601231716705158,\n",
       " 'masuk': 0.1585835257890685,\n",
       " 'cek resi': 0.15550423402617397,\n",
       " 'kiriman': 0.15319476520400307,\n",
       " 'minggu': 0.15319476520400307,\n",
       " 'jakarta': 0.15242494226327943,\n",
       " 'pick': 0.15088529638183218,\n",
       " 'anteraja': 0.15088529638183218,\n",
       " 'estimasi': 0.14934565050038492,\n",
       " 'puas': 0.14934565050038492,\n",
       " 'semoga': 0.1447267128560431,\n",
       " 'lelet': 0.14395688991531946,\n",
       " 'dikirim': 0.14087759815242495,\n",
       " 'pakai tiki': 0.14087759815242495,\n",
       " 'jne': 0.1401077752117013,\n",
       " 'orang': 0.13933795227097767,\n",
       " 'cek': 0.13702848344880678,\n",
       " 'keren': 0.13394919168591224,\n",
       " 'terima kasih': 0.1331793687451886,\n",
       " 'mengecewakan': 0.1308698999230177,\n",
       " 'coba': 0.12548113933795227,\n",
       " 'tujuan': 0.12317167051578137,\n",
       " 'aplikasi membantu': 0.12317167051578137,\n",
       " 'layanan': 0.12240184757505773,\n",
       " 'penerima': 0.12009237875288684,\n",
       " 'payah': 0.11778290993071594,\n",
       " 'cek ongkir': 0.1170130869899923,\n",
       " 'kantor pos': 0.1170130869899923,\n",
       " 'pickup': 0.11547344110854503,\n",
       " 'jam': 0.11316397228637413,\n",
       " 'susah': 0.11239414934565051,\n",
       " 'sesuai': 0.11085450346420324,\n",
       " 'kirim barang': 0.10854503464203233,\n",
       " 'pengiriman lambat': 0.10700538876058506,\n",
       " 'mending': 0.10623556581986143,\n",
       " 'pengirimannya': 0.10623556581986143,\n",
       " 'pas': 0.10546574287913779,\n",
       " 'pelanggan': 0.10238645111624327,\n",
       " 'suka': 0.10161662817551963,\n",
       " 'status': 0.10007698229407236,\n",
       " 'komplain': 0.10007698229407236,\n",
       " 'biar': 0.09930715935334873,\n",
       " 'kerja': 0.09853733641262509,\n",
       " 'ongkir': 0.09853733641262509,\n",
       " 'resi': 0.09776751347190146,\n",
       " 'jelek': 0.09776751347190146,\n",
       " 'bayar': 0.09776751347190146,\n",
       " 'posaja': 0.09776751347190146,\n",
       " 'paketnya': 0.09699769053117784,\n",
       " 'kaya': 0.09699769053117784,\n",
       " 'uang': 0.09699769053117784,\n",
       " 'bikin': 0.09545804464973057,\n",
       " 'ons': 0.09545804464973057,\n",
       " 'jasa kirim': 0.0939183987682833,\n",
       " 'eror': 0.09314857582755966,\n",
       " 'cargo': 0.09314857582755966,\n",
       " 'kayak': 0.09237875288683603,\n",
       " 'salah': 0.09160892994611239,\n",
       " 'mohon': 0.09160892994611239,\n",
       " 'bintang': 0.09083910700538876,\n",
       " 'shopee': 0.09083910700538876,\n",
       " 'hubungi': 0.09083910700538876,\n",
       " 'niat': 0.09083910700538876}"
      ]
     },
     "execution_count": 67,
     "metadata": {},
     "output_type": "execute_result"
    }
   ],
   "source": [
    "word_cloud_1.words_"
   ]
  },
  {
   "cell_type": "code",
   "execution_count": 68,
   "metadata": {
    "execution": {
     "iopub.execute_input": "2023-10-06T04:26:39.355465Z",
     "iopub.status.busy": "2023-10-06T04:26:39.355079Z",
     "iopub.status.idle": "2023-10-06T04:26:39.515677Z",
     "shell.execute_reply": "2023-10-06T04:26:39.514729Z",
     "shell.execute_reply.started": "2023-10-06T04:26:39.355434Z"
    }
   },
   "outputs": [],
   "source": [
    "# let's see the top 100 word after we preprocessed it\n",
    "# calculate frequency of the word in processed column\n",
    "freq_words_prc = df_final_play_store['notyet_stemmed'].str.split(expand=True).stack().value_counts()"
   ]
  },
  {
   "cell_type": "code",
   "execution_count": 76,
   "metadata": {
    "execution": {
     "iopub.execute_input": "2023-10-06T04:32:55.279893Z",
     "iopub.status.busy": "2023-10-06T04:32:55.279550Z",
     "iopub.status.idle": "2023-10-06T04:32:55.287265Z",
     "shell.execute_reply": "2023-10-06T04:32:55.286373Z",
     "shell.execute_reply.started": "2023-10-06T04:32:55.279864Z"
    }
   },
   "outputs": [
    {
     "data": {
      "text/plain": [
       "paket          1950\n",
       "aplikasi       1931\n",
       "pengiriman     1833\n",
       "pos            1575\n",
       "pakai          1561\n",
       "barang         1405\n",
       "tiki           1160\n",
       "kirim          1145\n",
       "kurir          1008\n",
       "banget          982\n",
       "membantu        881\n",
       "cepat           788\n",
       "jasa            764\n",
       "bagus           752\n",
       "cek             701\n",
       "mantap          652\n",
       "ekspedisi       616\n",
       "lambat          571\n",
       "mudah           564\n",
       "cod             561\n",
       "pelayanan       540\n",
       "indonesia       525\n",
       "tolong          445\n",
       "kasih           434\n",
       "buruk           433\n",
       "alamat          429\n",
       "update          413\n",
       "parah           411\n",
       "kecewa          398\n",
       "resi            389\n",
       "ongkir          371\n",
       "edisi           351\n",
       "kali            346\n",
       "aplikasinya     346\n",
       "kota            332\n",
       "kiriman         321\n",
       "semoga          311\n",
       "terima          307\n",
       "estimasi        305\n",
       "lelet           303\n",
       "online          303\n",
       "masuk           303\n",
       "tujuan          300\n",
       "kurirnya        297\n",
       "bintang         290\n",
       "jne             289\n",
       "mending         284\n",
       "dikirim         281\n",
       "keren           280\n",
       "kantor          277\n",
       "Name: count, dtype: int64"
      ]
     },
     "execution_count": 76,
     "metadata": {},
     "output_type": "execute_result"
    }
   ],
   "source": [
    "freq_words_prc[:50]"
   ]
  },
  {
   "cell_type": "code",
   "execution_count": 75,
   "metadata": {
    "execution": {
     "iopub.execute_input": "2023-10-06T04:32:45.306306Z",
     "iopub.status.busy": "2023-10-06T04:32:45.305952Z",
     "iopub.status.idle": "2023-10-06T04:32:45.310585Z",
     "shell.execute_reply": "2023-10-06T04:32:45.309537Z",
     "shell.execute_reply.started": "2023-10-06T04:32:45.306276Z"
    }
   },
   "outputs": [],
   "source": [
    "# visualize top 50 words in treemap\n",
    "#freq_words_prc_top50 = freq_words_prc[:50]\n",
    "\n",
    "#fig = px.treemap(freq_words_prc_top50, path=[freq_words_prc_top50.index], values=0)\n",
    "#fig.update_layout(title_text='Most Frequent 50 Words in the processed dataset', title_font=dict(size=20), uniformtext=dict(minsize=25, mode='show'))\n",
    "#fig.show()"
   ]
  },
  {
   "cell_type": "markdown",
   "metadata": {},
   "source": [
    "### shall we preprocess it again?"
   ]
  },
  {
   "cell_type": "code",
   "execution_count": null,
   "metadata": {},
   "outputs": [],
   "source": [
    "#cleanse data\n",
    "def cleanse(text):\n",
    "    text = unescape(text)\n",
    "    text = re.sub(r\"\\b\\d{1,3}\\b\", \".\", text)\n",
    "    text = re.sub(r\"\\b[a-zA-Z]\\b\", \".\", text)\n",
    "    text = re.sub(r\"tiki\", \"\", text)\n",
    "    text = re.sub(r\"jne\", \"\", text)\n",
    "    text = re.sub(r\"jnt\", \"\", text)\n",
    "    text = re.sub(r\"spx\", \"\", text)\n",
    "    text = re.sub(r\"ekspedisi\", \"\", text)\n",
    "    text = re.sub(r\"com\", \"\", text)\n",
    "    text = text.translate(str.maketrans(string.punctuation, ' '*len(string.punctuation)))\n",
    "    return ' '.join(text.split())"
   ]
  },
  {
   "cell_type": "markdown",
   "metadata": {},
   "source": [
    "### stemming"
   ]
  },
  {
   "cell_type": "code",
   "execution_count": 78,
   "metadata": {
    "execution": {
     "iopub.execute_input": "2023-10-06T04:35:21.654279Z",
     "iopub.status.busy": "2023-10-06T04:35:21.653924Z",
     "iopub.status.idle": "2023-10-06T04:35:21.675632Z",
     "shell.execute_reply": "2023-10-06T04:35:21.674703Z",
     "shell.execute_reply.started": "2023-10-06T04:35:21.654251Z"
    }
   },
   "outputs": [],
   "source": [
    "from Sastrawi.Stemmer.StemmerFactory import StemmerFactory\n",
    "\n",
    "def stemming(text):\n",
    "    factory = StemmerFactory()\n",
    "    stemmer = factory.create_stemmer()\n",
    "    text = stemmer.stem(text)\n",
    "    return text"
   ]
  },
  {
   "cell_type": "code",
   "execution_count": 79,
   "metadata": {
    "execution": {
     "iopub.execute_input": "2023-10-06T04:36:11.892985Z",
     "iopub.status.busy": "2023-10-06T04:36:11.892630Z",
     "iopub.status.idle": "2023-10-06T05:29:45.825523Z",
     "shell.execute_reply": "2023-10-06T05:29:45.824471Z",
     "shell.execute_reply.started": "2023-10-06T04:36:11.892957Z"
    }
   },
   "outputs": [
    {
     "data": {
      "text/html": [
       "<div>\n",
       "<style scoped>\n",
       "    .dataframe tbody tr th:only-of-type {\n",
       "        vertical-align: middle;\n",
       "    }\n",
       "\n",
       "    .dataframe tbody tr th {\n",
       "        vertical-align: top;\n",
       "    }\n",
       "\n",
       "    .dataframe thead th {\n",
       "        text-align: right;\n",
       "    }\n",
       "</style>\n",
       "<table border=\"1\" class=\"dataframe\">\n",
       "  <thead>\n",
       "    <tr style=\"text-align: right;\">\n",
       "      <th></th>\n",
       "      <th>content</th>\n",
       "      <th>score</th>\n",
       "      <th>jenis_ekspedisi</th>\n",
       "      <th>media_scraping</th>\n",
       "      <th>kategori_sentimen_mapping</th>\n",
       "      <th>content_preprocessed</th>\n",
       "      <th>content_preprocessed_s3</th>\n",
       "      <th>content_prepocess_tokenized</th>\n",
       "      <th>content_preprocessed_s4</th>\n",
       "      <th>content_prepocess_tokenized_v2</th>\n",
       "      <th>notyet_stemmed</th>\n",
       "      <th>content_prepocess_stemming</th>\n",
       "    </tr>\n",
       "  </thead>\n",
       "  <tbody>\n",
       "    <tr>\n",
       "      <th>0</th>\n",
       "      <td>Saya sangat kecewa dengan para pelanggan spx e...</td>\n",
       "      <td>5</td>\n",
       "      <td>shopee-express</td>\n",
       "      <td>google-play-store</td>\n",
       "      <td>positive</td>\n",
       "      <td>kecewa pelanggan spx ress complain aplikasi ap...</td>\n",
       "      <td>kecewa pelanggan spx ress complain aplikasi ap...</td>\n",
       "      <td>[kecewa, pelanggan, spx, ress, complain, aplik...</td>\n",
       "      <td>kecewa pelanggan spx ress complain aplikasi ap...</td>\n",
       "      <td>[kecewa, pelanggan, spx, ress, complain, aplik...</td>\n",
       "      <td>kecewa pelanggan spx ress complain aplikasi ap...</td>\n",
       "      <td>kecewa langgan spx ress complain aplikasi apli...</td>\n",
       "    </tr>\n",
       "    <tr>\n",
       "      <th>1</th>\n",
       "      <td>Bintang satu dulu tunggu barang sampai moga ku...</td>\n",
       "      <td>1</td>\n",
       "      <td>shopee-express</td>\n",
       "      <td>google-play-store</td>\n",
       "      <td>negative</td>\n",
       "      <td>bintang tunggu barang kurir lelet</td>\n",
       "      <td>bintang tunggu barang kurir lelet</td>\n",
       "      <td>[bintang, tunggu, barang, kurir, lelet]</td>\n",
       "      <td>bintang tunggu barang kurir lelet</td>\n",
       "      <td>[bintang, tunggu, barang, kurir, lelet]</td>\n",
       "      <td>bintang tunggu barang kurir lelet</td>\n",
       "      <td>bintang tunggu barang kurir lelet</td>\n",
       "    </tr>\n",
       "    <tr>\n",
       "      <th>2</th>\n",
       "      <td>Keeren</td>\n",
       "      <td>5</td>\n",
       "      <td>shopee-express</td>\n",
       "      <td>google-play-store</td>\n",
       "      <td>positive</td>\n",
       "      <td>keeren</td>\n",
       "      <td>keren</td>\n",
       "      <td>[keren]</td>\n",
       "      <td>keren</td>\n",
       "      <td>[keren]</td>\n",
       "      <td>keren</td>\n",
       "      <td>keren</td>\n",
       "    </tr>\n",
       "    <tr>\n",
       "      <th>3</th>\n",
       "      <td>bagus sekarang sudah lumayan ada peningkatan o...</td>\n",
       "      <td>5</td>\n",
       "      <td>shopee-express</td>\n",
       "      <td>google-play-store</td>\n",
       "      <td>positive</td>\n",
       "      <td>bagus lumayan peningkatan</td>\n",
       "      <td>bagus lumayan peningkatan</td>\n",
       "      <td>[bagus, lumayan, peningkatan]</td>\n",
       "      <td>bagus lumayan peningkatan</td>\n",
       "      <td>[bagus, lumayan, peningkatan]</td>\n",
       "      <td>bagus lumayan peningkatan</td>\n",
       "      <td>bagus lumayan tingkat</td>\n",
       "    </tr>\n",
       "    <tr>\n",
       "      <th>5</th>\n",
       "      <td>Sebaiknya di cantum kan nama dan no HP driver ...</td>\n",
       "      <td>2</td>\n",
       "      <td>shopee-express</td>\n",
       "      <td>google-play-store</td>\n",
       "      <td>negative</td>\n",
       "      <td>cantum nama driver mengantar alamat, susah men...</td>\n",
       "      <td>cantum nama driver mengantar alamat , susah me...</td>\n",
       "      <td>[cantum, nama, driver, mengantar, alamat, ,, s...</td>\n",
       "      <td>cantum nama driver mengantar alamat  susah men...</td>\n",
       "      <td>[cantum, nama, driver, mengantar, alamat, susa...</td>\n",
       "      <td>cantum nama driver mengantar alamat susah menc...</td>\n",
       "      <td>cantum nama driver antar alamat susah mencarit...</td>\n",
       "    </tr>\n",
       "  </tbody>\n",
       "</table>\n",
       "</div>"
      ],
      "text/plain": [
       "                                             content  score jenis_ekspedisi  \\\n",
       "0  Saya sangat kecewa dengan para pelanggan spx e...      5  shopee-express   \n",
       "1  Bintang satu dulu tunggu barang sampai moga ku...      1  shopee-express   \n",
       "2                                             Keeren      5  shopee-express   \n",
       "3  bagus sekarang sudah lumayan ada peningkatan o...      5  shopee-express   \n",
       "5  Sebaiknya di cantum kan nama dan no HP driver ...      2  shopee-express   \n",
       "\n",
       "      media_scraping kategori_sentimen_mapping  \\\n",
       "0  google-play-store                  positive   \n",
       "1  google-play-store                  negative   \n",
       "2  google-play-store                  positive   \n",
       "3  google-play-store                  positive   \n",
       "5  google-play-store                  negative   \n",
       "\n",
       "                                content_preprocessed  \\\n",
       "0  kecewa pelanggan spx ress complain aplikasi ap...   \n",
       "1                  bintang tunggu barang kurir lelet   \n",
       "2                                             keeren   \n",
       "3                          bagus lumayan peningkatan   \n",
       "5  cantum nama driver mengantar alamat, susah men...   \n",
       "\n",
       "                             content_preprocessed_s3  \\\n",
       "0  kecewa pelanggan spx ress complain aplikasi ap...   \n",
       "1                  bintang tunggu barang kurir lelet   \n",
       "2                                              keren   \n",
       "3                          bagus lumayan peningkatan   \n",
       "5  cantum nama driver mengantar alamat , susah me...   \n",
       "\n",
       "                         content_prepocess_tokenized  \\\n",
       "0  [kecewa, pelanggan, spx, ress, complain, aplik...   \n",
       "1            [bintang, tunggu, barang, kurir, lelet]   \n",
       "2                                            [keren]   \n",
       "3                      [bagus, lumayan, peningkatan]   \n",
       "5  [cantum, nama, driver, mengantar, alamat, ,, s...   \n",
       "\n",
       "                             content_preprocessed_s4  \\\n",
       "0  kecewa pelanggan spx ress complain aplikasi ap...   \n",
       "1                  bintang tunggu barang kurir lelet   \n",
       "2                                              keren   \n",
       "3                          bagus lumayan peningkatan   \n",
       "5  cantum nama driver mengantar alamat  susah men...   \n",
       "\n",
       "                      content_prepocess_tokenized_v2  \\\n",
       "0  [kecewa, pelanggan, spx, ress, complain, aplik...   \n",
       "1            [bintang, tunggu, barang, kurir, lelet]   \n",
       "2                                            [keren]   \n",
       "3                      [bagus, lumayan, peningkatan]   \n",
       "5  [cantum, nama, driver, mengantar, alamat, susa...   \n",
       "\n",
       "                                      notyet_stemmed  \\\n",
       "0  kecewa pelanggan spx ress complain aplikasi ap...   \n",
       "1                  bintang tunggu barang kurir lelet   \n",
       "2                                              keren   \n",
       "3                          bagus lumayan peningkatan   \n",
       "5  cantum nama driver mengantar alamat susah menc...   \n",
       "\n",
       "                          content_prepocess_stemming  \n",
       "0  kecewa langgan spx ress complain aplikasi apli...  \n",
       "1                  bintang tunggu barang kurir lelet  \n",
       "2                                              keren  \n",
       "3                              bagus lumayan tingkat  \n",
       "5  cantum nama driver antar alamat susah mencarit...  "
      ]
     },
     "execution_count": 79,
     "metadata": {},
     "output_type": "execute_result"
    }
   ],
   "source": [
    "# stemming\n",
    "df_final_play_store['content_prepocess_stemming'] = df_final_play_store['content_preprocessed_s4'].apply(stemming)\n",
    "df_final_play_store.head()"
   ]
  },
  {
   "cell_type": "code",
   "execution_count": 80,
   "metadata": {
    "execution": {
     "iopub.execute_input": "2023-10-06T05:35:44.377471Z",
     "iopub.status.busy": "2023-10-06T05:35:44.376862Z",
     "iopub.status.idle": "2023-10-06T05:35:44.415870Z",
     "shell.execute_reply": "2023-10-06T05:35:44.414186Z",
     "shell.execute_reply.started": "2023-10-06T05:35:44.377395Z"
    }
   },
   "outputs": [
    {
     "name": "stdout",
     "output_type": "stream",
     "text": [
      "<class 'pandas.core.frame.DataFrame'>\n",
      "Index: 11633 entries, 0 to 11862\n",
      "Data columns (total 12 columns):\n",
      " #   Column                          Non-Null Count  Dtype \n",
      "---  ------                          --------------  ----- \n",
      " 0   content                         11633 non-null  object\n",
      " 1   score                           11633 non-null  int64 \n",
      " 2   jenis_ekspedisi                 11633 non-null  object\n",
      " 3   media_scraping                  11633 non-null  object\n",
      " 4   kategori_sentimen_mapping       11633 non-null  object\n",
      " 5   content_preprocessed            11633 non-null  object\n",
      " 6   content_preprocessed_s3         11633 non-null  object\n",
      " 7   content_prepocess_tokenized     11633 non-null  object\n",
      " 8   content_preprocessed_s4         11633 non-null  object\n",
      " 9   content_prepocess_tokenized_v2  11633 non-null  object\n",
      " 10  notyet_stemmed                  11633 non-null  object\n",
      " 11  content_prepocess_stemming      11633 non-null  object\n",
      "dtypes: int64(1), object(11)\n",
      "memory usage: 1.4+ MB\n"
     ]
    }
   ],
   "source": [
    "df_final_play_store.info()"
   ]
  },
  {
   "cell_type": "code",
   "execution_count": 81,
   "metadata": {
    "execution": {
     "iopub.execute_input": "2023-10-06T05:37:38.268643Z",
     "iopub.status.busy": "2023-10-06T05:37:38.267491Z",
     "iopub.status.idle": "2023-10-06T05:37:38.509532Z",
     "shell.execute_reply": "2023-10-06T05:37:38.508585Z",
     "shell.execute_reply.started": "2023-10-06T05:37:38.268597Z"
    }
   },
   "outputs": [],
   "source": [
    "df = df_final_play_store.copy()\n",
    "df = df.drop(columns=['content_preprocessed',  'content_preprocessed_s3', 'content_prepocess_tokenized'], axis=1)\n",
    "df_final_play_store.to_csv('df_cleaned_stemmed.csv', index=False)"
   ]
  },
  {
   "cell_type": "code",
   "execution_count": 82,
   "metadata": {
    "execution": {
     "iopub.execute_input": "2023-10-06T05:37:57.646567Z",
     "iopub.status.busy": "2023-10-06T05:37:57.646185Z",
     "iopub.status.idle": "2023-10-06T05:38:04.139911Z",
     "shell.execute_reply": "2023-10-06T05:38:04.138964Z",
     "shell.execute_reply.started": "2023-10-06T05:37:57.646538Z"
    }
   },
   "outputs": [
    {
     "data": {
      "application/vnd.jupyter.widget-view+json": {
       "model_id": "e47fc1cfd35e4557a180402b73df53eb",
       "version_major": 2,
       "version_minor": 0
      },
      "text/plain": [
       "Downloading (…)okenizer_config.json:   0%|          | 0.00/2.00 [00:00<?, ?B/s]"
      ]
     },
     "metadata": {},
     "output_type": "display_data"
    },
    {
     "data": {
      "application/vnd.jupyter.widget-view+json": {
       "model_id": "5f38845290e84eefbc04eff559281507",
       "version_major": 2,
       "version_minor": 0
      },
      "text/plain": [
       "Downloading (…)lve/main/config.json:   0%|          | 0.00/1.17k [00:00<?, ?B/s]"
      ]
     },
     "metadata": {},
     "output_type": "display_data"
    },
    {
     "data": {
      "application/vnd.jupyter.widget-view+json": {
       "model_id": "88128ee80d9e45b6a6f50b54ed742ced",
       "version_major": 2,
       "version_minor": 0
      },
      "text/plain": [
       "Downloading (…)solve/main/vocab.txt:   0%|          | 0.00/229k [00:00<?, ?B/s]"
      ]
     },
     "metadata": {},
     "output_type": "display_data"
    },
    {
     "data": {
      "application/vnd.jupyter.widget-view+json": {
       "model_id": "4e33054948b74c28801168ebe621e04e",
       "version_major": 2,
       "version_minor": 0
      },
      "text/plain": [
       "Downloading (…)cial_tokens_map.json:   0%|          | 0.00/112 [00:00<?, ?B/s]"
      ]
     },
     "metadata": {},
     "output_type": "display_data"
    },
    {
     "data": {
      "application/vnd.jupyter.widget-view+json": {
       "model_id": "c82070d28446444fa70b0d2df1346ac6",
       "version_major": 2,
       "version_minor": 0
      },
      "text/plain": [
       "Downloading pytorch_model.bin:   0%|          | 0.00/498M [00:00<?, ?B/s]"
      ]
     },
     "metadata": {},
     "output_type": "display_data"
    }
   ],
   "source": [
    "tokenizer = AutoTokenizer.from_pretrained(pretrained_id)\n",
    "model = AutoModelForSequenceClassification.from_pretrained(pretrained_id)\n",
    "sentiment_analysis = pipeline(\"sentiment-analysis\", model=model, tokenizer=tokenizer)"
   ]
  },
  {
   "cell_type": "code",
   "execution_count": 83,
   "metadata": {
    "execution": {
     "iopub.execute_input": "2023-10-06T05:41:34.539017Z",
     "iopub.status.busy": "2023-10-06T05:41:34.538652Z",
     "iopub.status.idle": "2023-10-06T06:00:31.285053Z",
     "shell.execute_reply": "2023-10-06T06:00:31.284019Z",
     "shell.execute_reply.started": "2023-10-06T05:41:34.538990Z"
    }
   },
   "outputs": [
    {
     "data": {
      "text/html": [
       "<div>\n",
       "<style scoped>\n",
       "    .dataframe tbody tr th:only-of-type {\n",
       "        vertical-align: middle;\n",
       "    }\n",
       "\n",
       "    .dataframe tbody tr th {\n",
       "        vertical-align: top;\n",
       "    }\n",
       "\n",
       "    .dataframe thead th {\n",
       "        text-align: right;\n",
       "    }\n",
       "</style>\n",
       "<table border=\"1\" class=\"dataframe\">\n",
       "  <thead>\n",
       "    <tr style=\"text-align: right;\">\n",
       "      <th></th>\n",
       "      <th>Text</th>\n",
       "      <th>status</th>\n",
       "      <th>score</th>\n",
       "    </tr>\n",
       "  </thead>\n",
       "  <tbody>\n",
       "    <tr>\n",
       "      <th>0</th>\n",
       "      <td>kecewa langgan spx ress complain aplikasi apli...</td>\n",
       "      <td>negative</td>\n",
       "      <td>0.994005</td>\n",
       "    </tr>\n",
       "    <tr>\n",
       "      <th>1</th>\n",
       "      <td>bintang tunggu barang kurir lelet</td>\n",
       "      <td>negative</td>\n",
       "      <td>0.996217</td>\n",
       "    </tr>\n",
       "    <tr>\n",
       "      <th>2</th>\n",
       "      <td>keren</td>\n",
       "      <td>positive</td>\n",
       "      <td>0.997158</td>\n",
       "    </tr>\n",
       "    <tr>\n",
       "      <th>3</th>\n",
       "      <td>bagus lumayan tingkat</td>\n",
       "      <td>positive</td>\n",
       "      <td>0.991721</td>\n",
       "    </tr>\n",
       "    <tr>\n",
       "      <th>4</th>\n",
       "      <td>cantum nama driver antar alamat susah mencarit...</td>\n",
       "      <td>negative</td>\n",
       "      <td>0.668219</td>\n",
       "    </tr>\n",
       "    <tr>\n",
       "      <th>...</th>\n",
       "      <td>...</td>\n",
       "      <td>...</td>\n",
       "      <td>...</td>\n",
       "    </tr>\n",
       "    <tr>\n",
       "      <th>11628</th>\n",
       "      <td>paket pick ambil hari hari sanggup pick adakan...</td>\n",
       "      <td>neutral</td>\n",
       "      <td>0.994453</td>\n",
       "    </tr>\n",
       "    <tr>\n",
       "      <th>11629</th>\n",
       "      <td>ekspedisi sinting jaksel tangsel</td>\n",
       "      <td>neutral</td>\n",
       "      <td>0.913907</td>\n",
       "    </tr>\n",
       "    <tr>\n",
       "      <th>11630</th>\n",
       "      <td>sudah tinggal kirim alamat rumah tuju padahal ...</td>\n",
       "      <td>negative</td>\n",
       "      <td>0.996672</td>\n",
       "    </tr>\n",
       "    <tr>\n",
       "      <th>11631</th>\n",
       "      <td>kirim sesuai estimasi kirim</td>\n",
       "      <td>neutral</td>\n",
       "      <td>0.985968</td>\n",
       "    </tr>\n",
       "    <tr>\n",
       "      <th>11632</th>\n",
       "      <td>kirim lambat estimasi sampai sampai minggu stu...</td>\n",
       "      <td>negative</td>\n",
       "      <td>0.997053</td>\n",
       "    </tr>\n",
       "  </tbody>\n",
       "</table>\n",
       "<p>11633 rows × 3 columns</p>\n",
       "</div>"
      ],
      "text/plain": [
       "                                                    Text    status     score\n",
       "0      kecewa langgan spx ress complain aplikasi apli...  negative  0.994005\n",
       "1                      bintang tunggu barang kurir lelet  negative  0.996217\n",
       "2                                                  keren  positive  0.997158\n",
       "3                                  bagus lumayan tingkat  positive  0.991721\n",
       "4      cantum nama driver antar alamat susah mencarit...  negative  0.668219\n",
       "...                                                  ...       ...       ...\n",
       "11628  paket pick ambil hari hari sanggup pick adakan...   neutral  0.994453\n",
       "11629                   ekspedisi sinting jaksel tangsel   neutral  0.913907\n",
       "11630  sudah tinggal kirim alamat rumah tuju padahal ...  negative  0.996672\n",
       "11631                        kirim sesuai estimasi kirim   neutral  0.985968\n",
       "11632  kirim lambat estimasi sampai sampai minggu stu...  negative  0.997053\n",
       "\n",
       "[11633 rows x 3 columns]"
      ]
     },
     "execution_count": 83,
     "metadata": {},
     "output_type": "execute_result"
    }
   ],
   "source": [
    "bacaan = []\n",
    "label = []\n",
    "nilai = []\n",
    "\n",
    "for i in range(0,len(df_final_play_store['content_prepocess_stemming'])):\n",
    "    text = df_final_play_store['content_prepocess_stemming'].iloc[i]\n",
    "    result = sentiment_analysis(text)\n",
    "    status = label_id[result[0]['label']]\n",
    "    score = result[0]['score']\n",
    "    bacaan.append(text)\n",
    "    label.append(status)\n",
    "    nilai.append(score)\n",
    "    \n",
    "df_hasil = pd.DataFrame({'Text':bacaan,'status':label,'score':nilai})\n",
    "df_hasil"
   ]
  },
  {
   "cell_type": "code",
   "execution_count": 86,
   "metadata": {
    "execution": {
     "iopub.execute_input": "2023-10-06T06:02:51.643374Z",
     "iopub.status.busy": "2023-10-06T06:02:51.642861Z",
     "iopub.status.idle": "2023-10-06T06:02:51.655515Z",
     "shell.execute_reply": "2023-10-06T06:02:51.654459Z",
     "shell.execute_reply.started": "2023-10-06T06:02:51.643332Z"
    }
   },
   "outputs": [
    {
     "data": {
      "text/plain": [
       "status\n",
       "negative    4705\n",
       "positive    4520\n",
       "neutral     2408\n",
       "Name: count, dtype: int64"
      ]
     },
     "execution_count": 86,
     "metadata": {},
     "output_type": "execute_result"
    }
   ],
   "source": [
    "df_hasil.status.value_counts()"
   ]
  },
  {
   "cell_type": "code",
   "execution_count": null,
   "metadata": {},
   "outputs": [],
   "source": []
  },
  {
   "cell_type": "code",
   "execution_count": 84,
   "metadata": {
    "execution": {
     "iopub.execute_input": "2023-10-06T06:02:13.215914Z",
     "iopub.status.busy": "2023-10-06T06:02:13.215557Z",
     "iopub.status.idle": "2023-10-06T06:02:13.268956Z",
     "shell.execute_reply": "2023-10-06T06:02:13.267809Z",
     "shell.execute_reply.started": "2023-10-06T06:02:13.215889Z"
    }
   },
   "outputs": [],
   "source": [
    "df_hasil.to_csv('df_final_play_store_with_indobert_label.csv', index=False)"
   ]
  }
 ],
 "metadata": {
  "kernelspec": {
   "display_name": "Python 3 (ipykernel)",
   "language": "python",
   "name": "python3"
  },
  "language_info": {
   "codemirror_mode": {
    "name": "ipython",
    "version": 3
   },
   "file_extension": ".py",
   "mimetype": "text/x-python",
   "name": "python",
   "nbconvert_exporter": "python",
   "pygments_lexer": "ipython3",
   "version": "3.10.9"
  }
 },
 "nbformat": 4,
 "nbformat_minor": 4
}
