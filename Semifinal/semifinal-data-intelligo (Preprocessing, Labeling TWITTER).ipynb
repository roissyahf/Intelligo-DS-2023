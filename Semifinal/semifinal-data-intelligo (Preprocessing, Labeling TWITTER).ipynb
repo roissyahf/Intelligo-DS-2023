{
 "cells": [
  {
   "cell_type": "code",
   "execution_count": 1,
   "metadata": {},
   "outputs": [],
   "source": [
    "import pandas as pd"
   ]
  },
  {
   "cell_type": "code",
   "execution_count": 3,
   "metadata": {},
   "outputs": [
    {
     "data": {
      "text/html": [
       "<div>\n",
       "<style scoped>\n",
       "    .dataframe tbody tr th:only-of-type {\n",
       "        vertical-align: middle;\n",
       "    }\n",
       "\n",
       "    .dataframe tbody tr th {\n",
       "        vertical-align: top;\n",
       "    }\n",
       "\n",
       "    .dataframe thead th {\n",
       "        text-align: right;\n",
       "    }\n",
       "</style>\n",
       "<table border=\"1\" class=\"dataframe\">\n",
       "  <thead>\n",
       "    <tr style=\"text-align: right;\">\n",
       "      <th></th>\n",
       "      <th>Unnamed: 0</th>\n",
       "      <th>full_text</th>\n",
       "      <th>jenis_ekspedisi</th>\n",
       "      <th>media_scraping</th>\n",
       "      <th>Cleaned_full_text</th>\n",
       "      <th>Cleaned_stopwords_full_text</th>\n",
       "    </tr>\n",
       "  </thead>\n",
       "  <tbody>\n",
       "    <tr>\n",
       "      <th>0</th>\n",
       "      <td>0</td>\n",
       "      <td>\\n\\n\\n\\n\\n\\n\\nIkuti kami di Google Berita \\nAs...</td>\n",
       "      <td>anteraja</td>\n",
       "      <td>mediakonsumen.com</td>\n",
       "      <td>ikuti kami di google berita assalamualaikum pe...</td>\n",
       "      <td>ikuti google berita assalamualaikum perkenalka...</td>\n",
       "    </tr>\n",
       "    <tr>\n",
       "      <th>1</th>\n",
       "      <td>1</td>\n",
       "      <td>\\n\\n\\n\\n\\n\\n\\nIkuti kami di Google Berita \\nSa...</td>\n",
       "      <td>anteraja</td>\n",
       "      <td>mediakonsumen.com</td>\n",
       "      <td>ikuti kami di google berita saya mau sharing b...</td>\n",
       "      <td>ikuti google berita sharing buruknya tokopedia...</td>\n",
       "    </tr>\n",
       "    <tr>\n",
       "      <th>2</th>\n",
       "      <td>2</td>\n",
       "      <td>\\n\\n\\n\\n\\n\\n\\nIkuti kami di Google Berita \\nSa...</td>\n",
       "      <td>anteraja</td>\n",
       "      <td>mediakonsumen.com</td>\n",
       "      <td>ikuti kami di google berita saya seorang pelan...</td>\n",
       "      <td>ikuti google berita pelanggan setia tokopedia ...</td>\n",
       "    </tr>\n",
       "    <tr>\n",
       "      <th>3</th>\n",
       "      <td>3</td>\n",
       "      <td>\\n\\n\\n\\n\\n\\n\\nIkuti kami di Google Berita \\nSa...</td>\n",
       "      <td>anteraja</td>\n",
       "      <td>mediakonsumen.com</td>\n",
       "      <td>ikuti kami di google berita saya adalah penjua...</td>\n",
       "      <td>ikuti google berita penjual aktif tokopedia to...</td>\n",
       "    </tr>\n",
       "    <tr>\n",
       "      <th>4</th>\n",
       "      <td>4</td>\n",
       "      <td>\\n\\n\\n\\n\\n\\n\\nIkuti kami di Google Berita \\nDe...</td>\n",
       "      <td>anteraja</td>\n",
       "      <td>mediakonsumen.com</td>\n",
       "      <td>ikuti kami di google berita dengan hormat sehu...</td>\n",
       "      <td>ikuti google berita hormat sehubungan surat ir...</td>\n",
       "    </tr>\n",
       "  </tbody>\n",
       "</table>\n",
       "</div>"
      ],
      "text/plain": [
       "   Unnamed: 0                                          full_text  \\\n",
       "0           0  \\n\\n\\n\\n\\n\\n\\nIkuti kami di Google Berita \\nAs...   \n",
       "1           1  \\n\\n\\n\\n\\n\\n\\nIkuti kami di Google Berita \\nSa...   \n",
       "2           2  \\n\\n\\n\\n\\n\\n\\nIkuti kami di Google Berita \\nSa...   \n",
       "3           3  \\n\\n\\n\\n\\n\\n\\nIkuti kami di Google Berita \\nSa...   \n",
       "4           4  \\n\\n\\n\\n\\n\\n\\nIkuti kami di Google Berita \\nDe...   \n",
       "\n",
       "  jenis_ekspedisi     media_scraping  \\\n",
       "0        anteraja  mediakonsumen.com   \n",
       "1        anteraja  mediakonsumen.com   \n",
       "2        anteraja  mediakonsumen.com   \n",
       "3        anteraja  mediakonsumen.com   \n",
       "4        anteraja  mediakonsumen.com   \n",
       "\n",
       "                                   Cleaned_full_text  \\\n",
       "0  ikuti kami di google berita assalamualaikum pe...   \n",
       "1  ikuti kami di google berita saya mau sharing b...   \n",
       "2  ikuti kami di google berita saya seorang pelan...   \n",
       "3  ikuti kami di google berita saya adalah penjua...   \n",
       "4  ikuti kami di google berita dengan hormat sehu...   \n",
       "\n",
       "                         Cleaned_stopwords_full_text  \n",
       "0  ikuti google berita assalamualaikum perkenalka...  \n",
       "1  ikuti google berita sharing buruknya tokopedia...  \n",
       "2  ikuti google berita pelanggan setia tokopedia ...  \n",
       "3  ikuti google berita penjual aktif tokopedia to...  \n",
       "4  ikuti google berita hormat sehubungan surat ir...  "
      ]
     },
     "execution_count": 3,
     "metadata": {},
     "output_type": "execute_result"
    }
   ],
   "source": [
    "df_final = pd.read_csv('data_final_sblm_stem.csv')\n",
    "df_final.head()"
   ]
  },
  {
   "cell_type": "code",
   "execution_count": 8,
   "metadata": {},
   "outputs": [
    {
     "name": "stdout",
     "output_type": "stream",
     "text": [
      "<class 'pandas.core.frame.DataFrame'>\n",
      "RangeIndex: 4352 entries, 0 to 4351\n",
      "Data columns (total 6 columns):\n",
      " #   Column                       Non-Null Count  Dtype \n",
      "---  ------                       --------------  ----- \n",
      " 0   Unnamed: 0                   4352 non-null   int64 \n",
      " 1   full_text                    4352 non-null   object\n",
      " 2   jenis_ekspedisi              4352 non-null   object\n",
      " 3   media_scraping               4352 non-null   object\n",
      " 4   Cleaned_full_text            4352 non-null   object\n",
      " 5   Cleaned_stopwords_full_text  4352 non-null   object\n",
      "dtypes: int64(1), object(5)\n",
      "memory usage: 204.1+ KB\n"
     ]
    }
   ],
   "source": [
    "df_final.info()"
   ]
  },
  {
   "cell_type": "code",
   "execution_count": 6,
   "metadata": {},
   "outputs": [
    {
     "data": {
      "text/plain": [
       "jnt                 1266\n",
       "sicepat             1227\n",
       "jne                 1035\n",
       "anteraja             550\n",
       "shopee-express       115\n",
       "ninja Xpress          89\n",
       "pt-pos-indonesia      43\n",
       "tiki                  27\n",
       "Name: jenis_ekspedisi, dtype: int64"
      ]
     },
     "execution_count": 6,
     "metadata": {},
     "output_type": "execute_result"
    }
   ],
   "source": [
    "df_final.jenis_ekspedisi.value_counts()"
   ]
  },
  {
   "cell_type": "code",
   "execution_count": 7,
   "metadata": {},
   "outputs": [
    {
     "data": {
      "text/plain": [
       "twitter              2319\n",
       "mediakonsumen.com    2033\n",
       "Name: media_scraping, dtype: int64"
      ]
     },
     "execution_count": 7,
     "metadata": {},
     "output_type": "execute_result"
    }
   ],
   "source": [
    "df_final.media_scraping.value_counts()"
   ]
  },
  {
   "cell_type": "markdown",
   "metadata": {},
   "source": [
    "# next step"
   ]
  },
  {
   "cell_type": "code",
   "execution_count": 1,
   "metadata": {
    "execution": {
     "iopub.execute_input": "2023-10-05T09:33:14.549176Z",
     "iopub.status.busy": "2023-10-05T09:33:14.548846Z",
     "iopub.status.idle": "2023-10-05T09:33:30.803777Z",
     "shell.execute_reply": "2023-10-05T09:33:30.802637Z",
     "shell.execute_reply.started": "2023-10-05T09:33:14.549149Z"
    }
   },
   "outputs": [],
   "source": [
    "from transformers import AutoTokenizer, AutoModelForSequenceClassification,pipeline\n",
    "import emoji\n",
    "import re\n",
    "import html\n",
    "\n",
    "pretrained_id = \"mdhugol/indonesia-bert-sentiment-classification\"\n",
    "label_id = {'LABEL_0': 'positive', 'LABEL_1': 'neutral', 'LABEL_2': 'negative'}"
   ]
  },
  {
   "cell_type": "code",
   "execution_count": 2,
   "metadata": {
    "_cell_guid": "b1076dfc-b9ad-4769-8c92-a6c4dae69d19",
    "_uuid": "8f2839f25d086af736a60e9eeb907d3b93b6e0e5",
    "execution": {
     "iopub.execute_input": "2023-10-05T09:33:30.806042Z",
     "iopub.status.busy": "2023-10-05T09:33:30.805712Z",
     "iopub.status.idle": "2023-10-05T09:33:30.976048Z",
     "shell.execute_reply": "2023-10-05T09:33:30.974951Z",
     "shell.execute_reply.started": "2023-10-05T09:33:30.806015Z"
    }
   },
   "outputs": [],
   "source": [
    "md = pd.read_csv('/kaggle/input/dataset-final-inteligo/data_mediakonsumen.csv')\n",
    "tw = pd.read_csv('/kaggle/input/dataset-final-inteligo/data_twitter.csv')"
   ]
  },
  {
   "cell_type": "code",
   "execution_count": 3,
   "metadata": {
    "execution": {
     "iopub.execute_input": "2023-10-05T09:33:30.978017Z",
     "iopub.status.busy": "2023-10-05T09:33:30.977621Z",
     "iopub.status.idle": "2023-10-05T09:33:30.999329Z",
     "shell.execute_reply": "2023-10-05T09:33:30.998289Z",
     "shell.execute_reply.started": "2023-10-05T09:33:30.977984Z"
    }
   },
   "outputs": [],
   "source": [
    "md = md[['Content','Ekspedisi','media_scraping']]\n",
    "tw = tw[['full_text','jenis_ekspedisi']]\n",
    "tw['media_scraping'] = 'twitter'\n",
    "md.rename(columns={'Content':'full_text','Ekspedisi':'jenis_ekspedisi'},inplace=True)"
   ]
  },
  {
   "cell_type": "code",
   "execution_count": 4,
   "metadata": {
    "execution": {
     "iopub.execute_input": "2023-10-05T09:33:31.002907Z",
     "iopub.status.busy": "2023-10-05T09:33:31.002459Z",
     "iopub.status.idle": "2023-10-05T09:33:31.020122Z",
     "shell.execute_reply": "2023-10-05T09:33:31.019151Z",
     "shell.execute_reply.started": "2023-10-05T09:33:31.002869Z"
    }
   },
   "outputs": [
    {
     "data": {
      "text/html": [
       "<div>\n",
       "<style scoped>\n",
       "    .dataframe tbody tr th:only-of-type {\n",
       "        vertical-align: middle;\n",
       "    }\n",
       "\n",
       "    .dataframe tbody tr th {\n",
       "        vertical-align: top;\n",
       "    }\n",
       "\n",
       "    .dataframe thead th {\n",
       "        text-align: right;\n",
       "    }\n",
       "</style>\n",
       "<table border=\"1\" class=\"dataframe\">\n",
       "  <thead>\n",
       "    <tr style=\"text-align: right;\">\n",
       "      <th></th>\n",
       "      <th>full_text</th>\n",
       "      <th>jenis_ekspedisi</th>\n",
       "      <th>media_scraping</th>\n",
       "    </tr>\n",
       "  </thead>\n",
       "  <tbody>\n",
       "    <tr>\n",
       "      <th>0</th>\n",
       "      <td>\\n\\n\\n\\n\\n\\n\\nIkuti kami di Google Berita \\nAs...</td>\n",
       "      <td>anteraja</td>\n",
       "      <td>mediakonsumen.com</td>\n",
       "    </tr>\n",
       "    <tr>\n",
       "      <th>1</th>\n",
       "      <td>\\n\\n\\n\\n\\n\\n\\nIkuti kami di Google Berita \\nSa...</td>\n",
       "      <td>anteraja</td>\n",
       "      <td>mediakonsumen.com</td>\n",
       "    </tr>\n",
       "    <tr>\n",
       "      <th>2</th>\n",
       "      <td>\\n\\n\\n\\n\\n\\n\\nIkuti kami di Google Berita \\nSa...</td>\n",
       "      <td>anteraja</td>\n",
       "      <td>mediakonsumen.com</td>\n",
       "    </tr>\n",
       "    <tr>\n",
       "      <th>3</th>\n",
       "      <td>\\n\\n\\n\\n\\n\\n\\nIkuti kami di Google Berita \\nSa...</td>\n",
       "      <td>anteraja</td>\n",
       "      <td>mediakonsumen.com</td>\n",
       "    </tr>\n",
       "    <tr>\n",
       "      <th>4</th>\n",
       "      <td>\\n\\n\\n\\n\\n\\n\\nIkuti kami di Google Berita \\nDe...</td>\n",
       "      <td>anteraja</td>\n",
       "      <td>mediakonsumen.com</td>\n",
       "    </tr>\n",
       "    <tr>\n",
       "      <th>...</th>\n",
       "      <td>...</td>\n",
       "      <td>...</td>\n",
       "      <td>...</td>\n",
       "    </tr>\n",
       "    <tr>\n",
       "      <th>2314</th>\n",
       "      <td>Gak ngerti lagi sama @anteraja_id , same day k...</td>\n",
       "      <td>anteraja</td>\n",
       "      <td>twitter</td>\n",
       "    </tr>\n",
       "    <tr>\n",
       "      <th>2315</th>\n",
       "      <td>WTS : 🔴Anteraja edition (R) PC Shani PC Gracia...</td>\n",
       "      <td>anteraja</td>\n",
       "      <td>twitter</td>\n",
       "    </tr>\n",
       "    <tr>\n",
       "      <th>2316</th>\n",
       "      <td>@TokopediaCare Ga ada artinya masukan diterima...</td>\n",
       "      <td>anteraja</td>\n",
       "      <td>twitter</td>\n",
       "    </tr>\n",
       "    <tr>\n",
       "      <th>2317</th>\n",
       "      <td>Saya order barang online dg layanan kurir same...</td>\n",
       "      <td>anteraja</td>\n",
       "      <td>twitter</td>\n",
       "    </tr>\n",
       "    <tr>\n",
       "      <th>2318</th>\n",
       "      <td>@TokopediaCare Tlg dong buyer kl blanja lwt to...</td>\n",
       "      <td>anteraja</td>\n",
       "      <td>twitter</td>\n",
       "    </tr>\n",
       "  </tbody>\n",
       "</table>\n",
       "<p>4352 rows × 3 columns</p>\n",
       "</div>"
      ],
      "text/plain": [
       "                                              full_text jenis_ekspedisi  \\\n",
       "0     \\n\\n\\n\\n\\n\\n\\nIkuti kami di Google Berita \\nAs...        anteraja   \n",
       "1     \\n\\n\\n\\n\\n\\n\\nIkuti kami di Google Berita \\nSa...        anteraja   \n",
       "2     \\n\\n\\n\\n\\n\\n\\nIkuti kami di Google Berita \\nSa...        anteraja   \n",
       "3     \\n\\n\\n\\n\\n\\n\\nIkuti kami di Google Berita \\nSa...        anteraja   \n",
       "4     \\n\\n\\n\\n\\n\\n\\nIkuti kami di Google Berita \\nDe...        anteraja   \n",
       "...                                                 ...             ...   \n",
       "2314  Gak ngerti lagi sama @anteraja_id , same day k...        anteraja   \n",
       "2315  WTS : 🔴Anteraja edition (R) PC Shani PC Gracia...        anteraja   \n",
       "2316  @TokopediaCare Ga ada artinya masukan diterima...        anteraja   \n",
       "2317  Saya order barang online dg layanan kurir same...        anteraja   \n",
       "2318  @TokopediaCare Tlg dong buyer kl blanja lwt to...        anteraja   \n",
       "\n",
       "         media_scraping  \n",
       "0     mediakonsumen.com  \n",
       "1     mediakonsumen.com  \n",
       "2     mediakonsumen.com  \n",
       "3     mediakonsumen.com  \n",
       "4     mediakonsumen.com  \n",
       "...                 ...  \n",
       "2314            twitter  \n",
       "2315            twitter  \n",
       "2316            twitter  \n",
       "2317            twitter  \n",
       "2318            twitter  \n",
       "\n",
       "[4352 rows x 3 columns]"
      ]
     },
     "execution_count": 4,
     "metadata": {},
     "output_type": "execute_result"
    }
   ],
   "source": [
    "df_final = pd.concat([md,tw])\n",
    "df_final"
   ]
  },
  {
   "cell_type": "code",
   "execution_count": 5,
   "metadata": {
    "execution": {
     "iopub.execute_input": "2023-10-05T09:33:31.021503Z",
     "iopub.status.busy": "2023-10-05T09:33:31.021220Z",
     "iopub.status.idle": "2023-10-05T09:33:42.063595Z",
     "shell.execute_reply": "2023-10-05T09:33:42.062702Z",
     "shell.execute_reply.started": "2023-10-05T09:33:31.021479Z"
    }
   },
   "outputs": [
    {
     "name": "stdout",
     "output_type": "stream",
     "text": [
      "Collecting sastrawi\n",
      "  Downloading Sastrawi-1.0.1-py2.py3-none-any.whl (209 kB)\n",
      "\u001b[2K     \u001b[90m━━━━━━━━━━━━━━━━━━━━━━━━━━━━━━━━━━━━━━━\u001b[0m \u001b[32m209.7/209.7 kB\u001b[0m \u001b[31m8.5 MB/s\u001b[0m eta \u001b[36m0:00:00\u001b[0m\n",
      "\u001b[?25hInstalling collected packages: sastrawi\n",
      "Successfully installed sastrawi-1.0.1\n",
      "Note: you may need to restart the kernel to use updated packages.\n"
     ]
    }
   ],
   "source": [
    "pip install sastrawi"
   ]
  },
  {
   "cell_type": "code",
   "execution_count": 6,
   "metadata": {
    "execution": {
     "iopub.execute_input": "2023-10-05T09:33:42.065470Z",
     "iopub.status.busy": "2023-10-05T09:33:42.065187Z",
     "iopub.status.idle": "2023-10-05T09:33:42.435028Z",
     "shell.execute_reply": "2023-10-05T09:33:42.434275Z",
     "shell.execute_reply.started": "2023-10-05T09:33:42.065445Z"
    }
   },
   "outputs": [
    {
     "data": {
      "text/html": [
       "<div>\n",
       "<style scoped>\n",
       "    .dataframe tbody tr th:only-of-type {\n",
       "        vertical-align: middle;\n",
       "    }\n",
       "\n",
       "    .dataframe tbody tr th {\n",
       "        vertical-align: top;\n",
       "    }\n",
       "\n",
       "    .dataframe thead th {\n",
       "        text-align: right;\n",
       "    }\n",
       "</style>\n",
       "<table border=\"1\" class=\"dataframe\">\n",
       "  <thead>\n",
       "    <tr style=\"text-align: right;\">\n",
       "      <th></th>\n",
       "      <th>full_text</th>\n",
       "      <th>jenis_ekspedisi</th>\n",
       "      <th>media_scraping</th>\n",
       "      <th>Cleaned_full_text</th>\n",
       "    </tr>\n",
       "  </thead>\n",
       "  <tbody>\n",
       "    <tr>\n",
       "      <th>0</th>\n",
       "      <td>\\n\\n\\n\\n\\n\\n\\nIkuti kami di Google Berita \\nAs...</td>\n",
       "      <td>anteraja</td>\n",
       "      <td>mediakonsumen.com</td>\n",
       "      <td>ikuti kami di google berita assalamualaikum pe...</td>\n",
       "    </tr>\n",
       "    <tr>\n",
       "      <th>1</th>\n",
       "      <td>\\n\\n\\n\\n\\n\\n\\nIkuti kami di Google Berita \\nSa...</td>\n",
       "      <td>anteraja</td>\n",
       "      <td>mediakonsumen.com</td>\n",
       "      <td>ikuti kami di google berita saya mau sharing b...</td>\n",
       "    </tr>\n",
       "    <tr>\n",
       "      <th>2</th>\n",
       "      <td>\\n\\n\\n\\n\\n\\n\\nIkuti kami di Google Berita \\nSa...</td>\n",
       "      <td>anteraja</td>\n",
       "      <td>mediakonsumen.com</td>\n",
       "      <td>ikuti kami di google berita saya seorang pelan...</td>\n",
       "    </tr>\n",
       "    <tr>\n",
       "      <th>3</th>\n",
       "      <td>\\n\\n\\n\\n\\n\\n\\nIkuti kami di Google Berita \\nSa...</td>\n",
       "      <td>anteraja</td>\n",
       "      <td>mediakonsumen.com</td>\n",
       "      <td>ikuti kami di google berita saya adalah penjua...</td>\n",
       "    </tr>\n",
       "    <tr>\n",
       "      <th>4</th>\n",
       "      <td>\\n\\n\\n\\n\\n\\n\\nIkuti kami di Google Berita \\nDe...</td>\n",
       "      <td>anteraja</td>\n",
       "      <td>mediakonsumen.com</td>\n",
       "      <td>ikuti kami di google berita dengan hormat sehu...</td>\n",
       "    </tr>\n",
       "  </tbody>\n",
       "</table>\n",
       "</div>"
      ],
      "text/plain": [
       "                                           full_text jenis_ekspedisi  \\\n",
       "0  \\n\\n\\n\\n\\n\\n\\nIkuti kami di Google Berita \\nAs...        anteraja   \n",
       "1  \\n\\n\\n\\n\\n\\n\\nIkuti kami di Google Berita \\nSa...        anteraja   \n",
       "2  \\n\\n\\n\\n\\n\\n\\nIkuti kami di Google Berita \\nSa...        anteraja   \n",
       "3  \\n\\n\\n\\n\\n\\n\\nIkuti kami di Google Berita \\nSa...        anteraja   \n",
       "4  \\n\\n\\n\\n\\n\\n\\nIkuti kami di Google Berita \\nDe...        anteraja   \n",
       "\n",
       "      media_scraping                                  Cleaned_full_text  \n",
       "0  mediakonsumen.com  ikuti kami di google berita assalamualaikum pe...  \n",
       "1  mediakonsumen.com  ikuti kami di google berita saya mau sharing b...  \n",
       "2  mediakonsumen.com  ikuti kami di google berita saya seorang pelan...  \n",
       "3  mediakonsumen.com  ikuti kami di google berita saya adalah penjua...  \n",
       "4  mediakonsumen.com  ikuti kami di google berita dengan hormat sehu...  "
      ]
     },
     "execution_count": 6,
     "metadata": {},
     "output_type": "execute_result"
    }
   ],
   "source": [
    "import string\n",
    "\n",
    "def preprocess_tweet(tweet):\n",
    "    tweet = tweet.lower() #Merubah format teks menjadi format huruf kecil semua (lowercase).\n",
    "    # Remove HTML tags\n",
    "    tweet = re.sub(r'<.*?>', '', tweet)\n",
    "    # Remove URLs\n",
    "    tweet = re.sub(r'http\\S+', '', tweet)\n",
    "    # Remove www URLs\n",
    "    tweet = re.sub(r'www.\\S+', '', tweet)\n",
    "    # Menghapus username yang diawali dengan \"@\"\n",
    "    tweet = re.sub(r'@[\\w_]+', '', tweet)\n",
    "    # Menghapus retweet yang diawali dengan \"RT\" dan diikuti oleh \"@\"\n",
    "    tweet = re.sub(r'RT @[\\w_]+:', '', tweet)\n",
    "    \n",
    "    #Menghapus karakter angka.\n",
    "    tweet = re.sub('[^A-Za-z]+', ' ', str(tweet)) \n",
    "    tweet = tweet.translate(str.maketrans(\"\",\"\",string.punctuation))\n",
    "    tweet = tweet.strip()\n",
    "    return tweet\n",
    "df_final['Cleaned_full_text'] = df_final['full_text'].apply(preprocess_tweet)\n",
    "df_final.head()"
   ]
  },
  {
   "cell_type": "code",
   "execution_count": 7,
   "metadata": {
    "execution": {
     "iopub.execute_input": "2023-10-05T09:33:42.436802Z",
     "iopub.status.busy": "2023-10-05T09:33:42.435956Z",
     "iopub.status.idle": "2023-10-05T09:33:43.170778Z",
     "shell.execute_reply": "2023-10-05T09:33:43.169772Z",
     "shell.execute_reply.started": "2023-10-05T09:33:42.436773Z"
    }
   },
   "outputs": [
    {
     "data": {
      "text/html": [
       "<div>\n",
       "<style scoped>\n",
       "    .dataframe tbody tr th:only-of-type {\n",
       "        vertical-align: middle;\n",
       "    }\n",
       "\n",
       "    .dataframe tbody tr th {\n",
       "        vertical-align: top;\n",
       "    }\n",
       "\n",
       "    .dataframe thead th {\n",
       "        text-align: right;\n",
       "    }\n",
       "</style>\n",
       "<table border=\"1\" class=\"dataframe\">\n",
       "  <thead>\n",
       "    <tr style=\"text-align: right;\">\n",
       "      <th></th>\n",
       "      <th>full_text</th>\n",
       "      <th>jenis_ekspedisi</th>\n",
       "      <th>media_scraping</th>\n",
       "      <th>Cleaned_full_text</th>\n",
       "      <th>Cleaned_stopwords_full_text</th>\n",
       "    </tr>\n",
       "  </thead>\n",
       "  <tbody>\n",
       "    <tr>\n",
       "      <th>0</th>\n",
       "      <td>\\n\\n\\n\\n\\n\\n\\nIkuti kami di Google Berita \\nAs...</td>\n",
       "      <td>anteraja</td>\n",
       "      <td>mediakonsumen.com</td>\n",
       "      <td>ikuti kami di google berita assalamualaikum pe...</td>\n",
       "      <td>ikuti google berita assalamualaikum perkenalka...</td>\n",
       "    </tr>\n",
       "    <tr>\n",
       "      <th>1</th>\n",
       "      <td>\\n\\n\\n\\n\\n\\n\\nIkuti kami di Google Berita \\nSa...</td>\n",
       "      <td>anteraja</td>\n",
       "      <td>mediakonsumen.com</td>\n",
       "      <td>ikuti kami di google berita saya mau sharing b...</td>\n",
       "      <td>ikuti google berita sharing buruknya tokopedia...</td>\n",
       "    </tr>\n",
       "    <tr>\n",
       "      <th>2</th>\n",
       "      <td>\\n\\n\\n\\n\\n\\n\\nIkuti kami di Google Berita \\nSa...</td>\n",
       "      <td>anteraja</td>\n",
       "      <td>mediakonsumen.com</td>\n",
       "      <td>ikuti kami di google berita saya seorang pelan...</td>\n",
       "      <td>ikuti google berita pelanggan setia tokopedia ...</td>\n",
       "    </tr>\n",
       "    <tr>\n",
       "      <th>3</th>\n",
       "      <td>\\n\\n\\n\\n\\n\\n\\nIkuti kami di Google Berita \\nSa...</td>\n",
       "      <td>anteraja</td>\n",
       "      <td>mediakonsumen.com</td>\n",
       "      <td>ikuti kami di google berita saya adalah penjua...</td>\n",
       "      <td>ikuti google berita penjual aktif tokopedia to...</td>\n",
       "    </tr>\n",
       "    <tr>\n",
       "      <th>4</th>\n",
       "      <td>\\n\\n\\n\\n\\n\\n\\nIkuti kami di Google Berita \\nDe...</td>\n",
       "      <td>anteraja</td>\n",
       "      <td>mediakonsumen.com</td>\n",
       "      <td>ikuti kami di google berita dengan hormat sehu...</td>\n",
       "      <td>ikuti google berita hormat sehubungan surat ir...</td>\n",
       "    </tr>\n",
       "  </tbody>\n",
       "</table>\n",
       "</div>"
      ],
      "text/plain": [
       "                                           full_text jenis_ekspedisi  \\\n",
       "0  \\n\\n\\n\\n\\n\\n\\nIkuti kami di Google Berita \\nAs...        anteraja   \n",
       "1  \\n\\n\\n\\n\\n\\n\\nIkuti kami di Google Berita \\nSa...        anteraja   \n",
       "2  \\n\\n\\n\\n\\n\\n\\nIkuti kami di Google Berita \\nSa...        anteraja   \n",
       "3  \\n\\n\\n\\n\\n\\n\\nIkuti kami di Google Berita \\nSa...        anteraja   \n",
       "4  \\n\\n\\n\\n\\n\\n\\nIkuti kami di Google Berita \\nDe...        anteraja   \n",
       "\n",
       "      media_scraping                                  Cleaned_full_text  \\\n",
       "0  mediakonsumen.com  ikuti kami di google berita assalamualaikum pe...   \n",
       "1  mediakonsumen.com  ikuti kami di google berita saya mau sharing b...   \n",
       "2  mediakonsumen.com  ikuti kami di google berita saya seorang pelan...   \n",
       "3  mediakonsumen.com  ikuti kami di google berita saya adalah penjua...   \n",
       "4  mediakonsumen.com  ikuti kami di google berita dengan hormat sehu...   \n",
       "\n",
       "                         Cleaned_stopwords_full_text  \n",
       "0  ikuti google berita assalamualaikum perkenalka...  \n",
       "1  ikuti google berita sharing buruknya tokopedia...  \n",
       "2  ikuti google berita pelanggan setia tokopedia ...  \n",
       "3  ikuti google berita penjual aktif tokopedia to...  \n",
       "4  ikuti google berita hormat sehubungan surat ir...  "
      ]
     },
     "execution_count": 7,
     "metadata": {},
     "output_type": "execute_result"
    }
   ],
   "source": [
    "from nltk.corpus import stopwords\n",
    "from Sastrawi.StopWordRemover.StopWordRemoverFactory import StopWordRemoverFactory\n",
    "# get Indonesian stopword \n",
    "list_stopwords = set(stopwords.words('indonesian'))\n",
    "def remove_short_words(tweet):\n",
    "         # split the text into words\n",
    "        words = tweet.split()\n",
    "        # filter out words with less than 2 characters\n",
    "        words = [word for word in words if len(word) > 2]\n",
    "        tokens_without_stopword = [word for word in words if not word in list_stopwords]\n",
    "        # join the remaining words into a string\n",
    "        tweet = ' '.join(tokens_without_stopword)\n",
    "        return tweet\n",
    "df_final['Cleaned_stopwords_full_text'] = df_final['Cleaned_full_text'].apply(remove_short_words)\n",
    "df_final.head()"
   ]
  },
  {
   "cell_type": "code",
   "execution_count": null,
   "metadata": {
    "execution": {
     "iopub.execute_input": "2023-10-05T09:33:43.172200Z",
     "iopub.status.busy": "2023-10-05T09:33:43.171922Z"
    }
   },
   "outputs": [],
   "source": [
    "from Sastrawi.Stemmer.StemmerFactory import StemmerFactory\n",
    "def stemming(tweet):\n",
    "    factory = StemmerFactory()\n",
    "    stemmer = factory.create_stemmer()\n",
    "    tweet = stemmer.stem(tweet)\n",
    "    return tweet\n",
    "df_final['Cleaned_stopwords_stemming_full_text'] = df_final['Cleaned_stopwords_full_text'].apply(stemming)\n",
    "df_final.head()"
   ]
  },
  {
   "cell_type": "code",
   "execution_count": null,
   "metadata": {},
   "outputs": [],
   "source": [
    "tokenizer = AutoTokenizer.from_pretrained(pretrained_id)\n",
    "model = AutoModelForSequenceClassification.from_pretrained(pretrained_id)\n",
    "sentiment_analysis = pipeline(\"sentiment-analysis\", model=model, tokenizer=tokenizer)"
   ]
  },
  {
   "cell_type": "code",
   "execution_count": null,
   "metadata": {},
   "outputs": [],
   "source": [
    "bacaan = []\n",
    "label = []\n",
    "nilai = []\n",
    "for i in range(0,len(df_final['Cleaned Comment'])):\n",
    "    #text = preprocess_tweet()\n",
    "    text = df_final['Cleaned Comment'].iloc[i]\n",
    "    result = sentiment_analysis(text)\n",
    "    status = label_id[result[0]['label']]\n",
    "    score = result[0]['score']\n",
    "    bacaan.append(text)\n",
    "    label.append(status)\n",
    "    nilai.append(score)\n",
    "df_hasil = pd.DataFrame({'Text':bacaan,'status':label,'score':nilai})\n",
    "df_hasil"
   ]
  }
 ],
 "metadata": {
  "kernelspec": {
   "display_name": "Python 3 (ipykernel)",
   "language": "python",
   "name": "python3"
  },
  "language_info": {
   "codemirror_mode": {
    "name": "ipython",
    "version": 3
   },
   "file_extension": ".py",
   "mimetype": "text/x-python",
   "name": "python",
   "nbconvert_exporter": "python",
   "pygments_lexer": "ipython3",
   "version": "3.10.9"
  }
 },
 "nbformat": 4,
 "nbformat_minor": 4
}
